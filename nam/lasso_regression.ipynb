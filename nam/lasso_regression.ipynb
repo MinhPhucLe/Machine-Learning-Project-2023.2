{
 "cells": [
  {
   "cell_type": "code",
   "execution_count": 83,
   "id": "initial_id",
   "metadata": {
    "collapsed": true,
    "is_executing": true
   },
   "outputs": [],
   "source": [
    "import numpy as np\n",
    "import pandas as pd\n",
    "import seaborn as sns\n",
    "import matplotlib.pyplot as plt\n",
    "from sklearn.ensemble import RandomForestRegressor\n",
    "from sklearn.preprocessing import StandardScaler\n",
    "from sklearn.linear_model import LinearRegression\n",
    "from sklearn.pipeline import Pipeline\n",
    "from sklearn.model_selection import train_test_split, cross_val_score, GridSearchCV\n",
    "from sklearn.metrics import mean_absolute_error, mean_squared_error, r2_score\n",
    "from sklearn.linear_model import Ridge\n"
   ]
  },
  {
   "cell_type": "code",
   "execution_count": 84,
   "id": "98993b8e7c6bea17",
   "metadata": {
    "collapsed": false
   },
   "outputs": [
    {
     "name": "stdout",
     "output_type": "stream",
     "text": [
      "   bhk  area  status  price_in_USD  house_type  new  region_Agripada  \\\n",
      "0    2   650       1      314400.0           0    0             True   \n",
      "1    1   803       0      270000.0           0    0             True   \n",
      "2    1   684       0      204000.0           0    0             True   \n",
      "3    1   545       0      192000.0           0    0             True   \n",
      "4    2  1650       0      420000.0           0    0             True   \n",
      "\n",
      "   region_Airoli  region_Ambernath East  region_Ambernath West  ...  \\\n",
      "0          False                  False                  False  ...   \n",
      "1          False                  False                  False  ...   \n",
      "2          False                  False                  False  ...   \n",
      "3          False                  False                  False  ...   \n",
      "4          False                  False                  False  ...   \n",
      "\n",
      "   region_Vangani  region_Vasai  region_Vashi  region_Vikhroli  \\\n",
      "0           False         False         False            False   \n",
      "1           False         False         False            False   \n",
      "2           False         False         False            False   \n",
      "3           False         False         False            False   \n",
      "4           False         False         False            False   \n",
      "\n",
      "   region_Ville Parle East  region_Ville Parle West  region_Virar  \\\n",
      "0                    False                    False         False   \n",
      "1                    False                    False         False   \n",
      "2                    False                    False         False   \n",
      "3                    False                    False         False   \n",
      "4                    False                    False         False   \n",
      "\n",
      "   region_Virar West  region_Wadala  region_Worli  \n",
      "0              False          False         False  \n",
      "1              False          False         False  \n",
      "2              False          False         False  \n",
      "3              False          False         False  \n",
      "4              False          False         False  \n",
      "\n",
      "[5 rows x 115 columns]\n"
     ]
    }
   ],
   "source": [
    "dt = pd.read_csv('../data/nam_processed_data.csv')\n",
    "print(dt.head())"
   ]
  },
  {
   "cell_type": "code",
   "execution_count": 85,
   "id": "629fa9f936f88127",
   "metadata": {
    "collapsed": false
   },
   "outputs": [
    {
     "name": "stdout",
     "output_type": "stream",
     "text": [
      "(45343, 115)\n"
     ]
    }
   ],
   "source": [
    "print(dt.shape)"
   ]
  },
  {
   "cell_type": "code",
   "execution_count": 86,
   "id": "2e9eaecc64ff4255",
   "metadata": {
    "ExecuteTime": {
     "end_time": "2024-04-21T17:39:16.930444800Z",
     "start_time": "2024-04-21T17:39:16.882057100Z"
    },
    "collapsed": false
   },
   "outputs": [
    {
     "name": "stdout",
     "output_type": "stream",
     "text": [
      "   bhk  area  status  price_in_USD  house_type  new  region_Agripada  \\\n",
      "0    2   650       1      314400.0           0    0             True   \n",
      "1    1   803       0      270000.0           0    0             True   \n",
      "2    1   684       0      204000.0           0    0             True   \n",
      "3    1   545       0      192000.0           0    0             True   \n",
      "4    2  1650       0      420000.0           0    0             True   \n",
      "\n",
      "   region_Airoli  region_Ambernath East  region_Ambernath West  ...  \\\n",
      "0          False                  False                  False  ...   \n",
      "1          False                  False                  False  ...   \n",
      "2          False                  False                  False  ...   \n",
      "3          False                  False                  False  ...   \n",
      "4          False                  False                  False  ...   \n",
      "\n",
      "   region_Vangani  region_Vasai  region_Vashi  region_Vikhroli  \\\n",
      "0           False         False         False            False   \n",
      "1           False         False         False            False   \n",
      "2           False         False         False            False   \n",
      "3           False         False         False            False   \n",
      "4           False         False         False            False   \n",
      "\n",
      "   region_Ville Parle East  region_Ville Parle West  region_Virar  \\\n",
      "0                    False                    False         False   \n",
      "1                    False                    False         False   \n",
      "2                    False                    False         False   \n",
      "3                    False                    False         False   \n",
      "4                    False                    False         False   \n",
      "\n",
      "   region_Virar West  region_Wadala  region_Worli  \n",
      "0              False          False         False  \n",
      "1              False          False         False  \n",
      "2              False          False         False  \n",
      "3              False          False         False  \n",
      "4              False          False         False  \n",
      "\n",
      "[5 rows x 115 columns]\n"
     ]
    }
   ],
   "source": [
    "print(dt.head())"
   ]
  },
  {
   "cell_type": "code",
   "execution_count": 87,
   "id": "e1b00567805e51a2",
   "metadata": {
    "ExecuteTime": {
     "end_time": "2024-04-21T17:39:17.039035600Z",
     "start_time": "2024-04-21T17:39:16.905353200Z"
    },
    "collapsed": false
   },
   "outputs": [],
   "source": [
    "X = dt.drop(['price_in_USD'], axis = 'columns')\n",
    "Y = dt.price_in_USD\n"
   ]
  },
  {
   "cell_type": "code",
   "execution_count": 88,
   "id": "c1f07e0c",
   "metadata": {},
   "outputs": [
    {
     "name": "stdout",
     "output_type": "stream",
     "text": [
      "(45343,)\n"
     ]
    }
   ],
   "source": [
    "print(Y.shape)"
   ]
  },
  {
   "cell_type": "code",
   "execution_count": 95,
   "id": "93af4ccb",
   "metadata": {},
   "outputs": [
    {
     "name": "stdout",
     "output_type": "stream",
     "text": [
      "Best alpha: 157.20711269357932\n"
     ]
    }
   ],
   "source": [
    "from sklearn.linear_model import LassoCV, Lasso\n",
    "from sklearn.datasets import make_regression\n",
    "from sklearn.model_selection import train_test_split\n",
    "from sklearn.preprocessing import StandardScaler\n",
    "\n",
    "X_train, X_test, Y_train, Y_test = train_test_split(X, Y, test_size=0.2, random_state=10)\n",
    "X_k, X_val, Y_k, Y_val = train_test_split(X, Y, test_size=0.3, random_state=10)\n",
    "\n",
    "scaler = StandardScaler()\n",
    "X_train_scaled = scaler.fit_transform(X_train)\n",
    "X_test_scaled = scaler.transform(X_test)\n",
    "X_val = scaler.transform(X_val)\n",
    "\n",
    "reg_lasso_cv = LassoCV(cv=5, random_state=0).fit(X_train_scaled, Y_train)\n",
    "\n",
    "# In ra alpha tốt nhất\n",
    "print(f\"Best alpha: {reg_lasso_cv.alpha_}\")\n",
    "\n"
   ]
  },
  {
   "cell_type": "code",
   "execution_count": 90,
   "id": "f4b3bc4f",
   "metadata": {},
   "outputs": [
    {
     "name": "stdout",
     "output_type": "stream",
     "text": [
      "R-squared on the test set: 0.8677047703684972\n"
     ]
    }
   ],
   "source": [
    "# Khởi tạo mô hình Lasso với alpha tốt nhất\n",
    "reg_lasso = Lasso(alpha=reg_lasso_cv.alpha_)\n",
    "reg_lasso.fit(X_train_scaled, Y_train)\n",
    "\n",
    "# Đánh giá mô hình trên tập kiểm tra\n",
    "score = reg_lasso.score(X_test_scaled, Y_test)\n",
    "print(\"R-squared on the test set:\", score)\n"
   ]
  },
  {
   "cell_type": "code",
   "execution_count": 91,
   "id": "d55e24cb",
   "metadata": {},
   "outputs": [],
   "source": [
    "Y_pred = reg_lasso.predict(X_test_scaled)"
   ]
  },
  {
   "cell_type": "code",
   "execution_count": 92,
   "id": "5bd7e0fd",
   "metadata": {},
   "outputs": [
    {
     "data": {
      "text/html": [
       "<div>\n",
       "<style scoped>\n",
       "    .dataframe tbody tr th:only-of-type {\n",
       "        vertical-align: middle;\n",
       "    }\n",
       "\n",
       "    .dataframe tbody tr th {\n",
       "        vertical-align: top;\n",
       "    }\n",
       "\n",
       "    .dataframe thead th {\n",
       "        text-align: right;\n",
       "    }\n",
       "</style>\n",
       "<table border=\"1\" class=\"dataframe\">\n",
       "  <thead>\n",
       "    <tr style=\"text-align: right;\">\n",
       "      <th></th>\n",
       "      <th>actual value</th>\n",
       "      <th>predicted</th>\n",
       "      <th>difference</th>\n",
       "    </tr>\n",
       "  </thead>\n",
       "  <tbody>\n",
       "    <tr>\n",
       "      <th>24961</th>\n",
       "      <td>105912.0</td>\n",
       "      <td>175590.795900</td>\n",
       "      <td>-69678.795900</td>\n",
       "    </tr>\n",
       "    <tr>\n",
       "      <th>40922</th>\n",
       "      <td>75588.0</td>\n",
       "      <td>44745.817931</td>\n",
       "      <td>30842.182069</td>\n",
       "    </tr>\n",
       "    <tr>\n",
       "      <th>12323</th>\n",
       "      <td>40800.0</td>\n",
       "      <td>10368.204656</td>\n",
       "      <td>30431.795344</td>\n",
       "    </tr>\n",
       "    <tr>\n",
       "      <th>5755</th>\n",
       "      <td>442800.0</td>\n",
       "      <td>567406.082748</td>\n",
       "      <td>-124606.082748</td>\n",
       "    </tr>\n",
       "    <tr>\n",
       "      <th>15411</th>\n",
       "      <td>388800.0</td>\n",
       "      <td>542293.015056</td>\n",
       "      <td>-153493.015056</td>\n",
       "    </tr>\n",
       "    <tr>\n",
       "      <th>...</th>\n",
       "      <td>...</td>\n",
       "      <td>...</td>\n",
       "      <td>...</td>\n",
       "    </tr>\n",
       "    <tr>\n",
       "      <th>9629</th>\n",
       "      <td>264000.0</td>\n",
       "      <td>304132.602985</td>\n",
       "      <td>-40132.602985</td>\n",
       "    </tr>\n",
       "    <tr>\n",
       "      <th>7325</th>\n",
       "      <td>102000.0</td>\n",
       "      <td>98144.189397</td>\n",
       "      <td>3855.810603</td>\n",
       "    </tr>\n",
       "    <tr>\n",
       "      <th>1218</th>\n",
       "      <td>178800.0</td>\n",
       "      <td>135904.139247</td>\n",
       "      <td>42895.860753</td>\n",
       "    </tr>\n",
       "    <tr>\n",
       "      <th>31936</th>\n",
       "      <td>103200.0</td>\n",
       "      <td>130010.537704</td>\n",
       "      <td>-26810.537704</td>\n",
       "    </tr>\n",
       "    <tr>\n",
       "      <th>3093</th>\n",
       "      <td>420000.0</td>\n",
       "      <td>463876.419023</td>\n",
       "      <td>-43876.419023</td>\n",
       "    </tr>\n",
       "  </tbody>\n",
       "</table>\n",
       "<p>9069 rows × 3 columns</p>\n",
       "</div>"
      ],
      "text/plain": [
       "       actual value      predicted     difference\n",
       "24961      105912.0  175590.795900  -69678.795900\n",
       "40922       75588.0   44745.817931   30842.182069\n",
       "12323       40800.0   10368.204656   30431.795344\n",
       "5755       442800.0  567406.082748 -124606.082748\n",
       "15411      388800.0  542293.015056 -153493.015056\n",
       "...             ...            ...            ...\n",
       "9629       264000.0  304132.602985  -40132.602985\n",
       "7325       102000.0   98144.189397    3855.810603\n",
       "1218       178800.0  135904.139247   42895.860753\n",
       "31936      103200.0  130010.537704  -26810.537704\n",
       "3093       420000.0  463876.419023  -43876.419023\n",
       "\n",
       "[9069 rows x 3 columns]"
      ]
     },
     "execution_count": 92,
     "metadata": {},
     "output_type": "execute_result"
    }
   ],
   "source": [
    "pred_table = pd.DataFrame(data={\"actual value\":Y_test, \"predicted\":Y_pred})\n",
    "pred_table[\"difference\"] = pred_table[\"actual value\"] - pred_table[\"predicted\"]\n",
    "pred_table"
   ]
  },
  {
   "cell_type": "code",
   "execution_count": 93,
   "id": "e66d6764",
   "metadata": {},
   "outputs": [
    {
     "data": {
      "image/png": "[encoded data removed]",
      "text/plain": [
       "<Figure size 640x480 with 1 Axes>"
      ]
     },
     "metadata": {},
     "output_type": "display_data"
    }
   ],
   "source": [
    "# Scatter plot for Y_test (green)\n",
    "plt.scatter(Y_test, Y_test, c='green', marker='o', label='True Value', alpha=0.7)\n",
    "\n",
    "# Scatter plot for Y_pred (red)\n",
    "plt.scatter(Y_test, Y_pred, c='red', marker='x', label='Predicted Value', alpha=0.7)\n",
    "\n",
    "# Add labels and title\n",
    "plt.xlabel(\"True Value\", fontsize=12)\n",
    "plt.ylabel(\"Predicted Value\", fontsize=12)\n",
    "plt.title(\"True Value vs. Predicted Value: Lasso Regression\", fontsize=14)\n",
    "\n",
    "# Add legend\n",
    "plt.legend(fontsize=12)\n",
    "\n",
    "# Add a diagonal line (perfect prediction line)\n",
    "plt.plot([min(Y_test), max(Y_test)], [min(Y_test), max(Y_test)], linestyle='--', color='blue')\n",
    "\n",
    "# Grid for better readability\n",
    "plt.grid(alpha=0.4)\n",
    "\n",
    "# Show the plot\n",
    "plt.tight_layout()  # Adjust layout to prevent overlapping elements\n",
    "plt.show()\n"
   ]
  },
  {
   "cell_type": "code",
   "execution_count": 96,
   "id": "f3c5777e",
   "metadata": {},
   "outputs": [
    {
     "name": "stdout",
     "output_type": "stream",
     "text": [
      "R-squared on the validation set: 0.8655095050914492\n"
     ]
    }
   ],
   "source": [
    "score = reg_lasso.score(X_val, Y_val)\n",
    "print(\"R-squared on the validation set:\", score)"
   ]
  }
 ],
 "metadata": {
  "kernelspec": {
   "display_name": "Python 3",
   "language": "python",
   "name": "python3"
  },
  "language_info": {
   "codemirror_mode": {
    "name": "ipython",
    "version": 3
   },
   "file_extension": ".py",
   "mimetype": "text/x-python",
   "name": "python",
   "nbconvert_exporter": "python",
   "pygments_lexer": "ipython3",
   "version": "3.11.7"
  }
 },
 "nbformat": 4,
 "nbformat_minor": 5
}

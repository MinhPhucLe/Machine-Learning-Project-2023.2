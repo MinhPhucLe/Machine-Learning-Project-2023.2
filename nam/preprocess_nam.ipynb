{
 "cells": [
  {
   "cell_type": "code",
   "execution_count": 2,
   "id": "initial_id",
   "metadata": {
    "collapsed": true,
    "is_executing": true
   },
   "outputs": [],
   "source": [
    "import numpy as np\n",
    "import pandas as pd\n",
    "import seaborn as sns\n",
    "import matplotlib.pyplot as plt"
   ]
  },
  {
   "cell_type": "code",
   "execution_count": 3,
   "id": "d5c826b09510e826",
   "metadata": {
    "ExecuteTime": {
     "end_time": "2024-04-21T17:40:36.674875400Z",
     "start_time": "2024-04-21T17:40:36.572684900Z"
    },
    "collapsed": false
   },
   "outputs": [],
   "source": [
    "dt = pd.read_csv('../data/nam_processed_data.csv')"
   ]
  },
  {
   "cell_type": "code",
   "execution_count": 4,
   "id": "58c051ffed991ba2",
   "metadata": {
    "ExecuteTime": {
     "end_time": "2024-04-21T17:40:36.693322500Z",
     "start_time": "2024-04-21T17:40:36.685151600Z"
    },
    "collapsed": false
   },
   "outputs": [],
   "source": [
    "def preprocess(df: pd.DataFrame) -> pd.DataFrame:\n",
    "    for index in df.index:\n",
    "        price = df.loc[index, 'price']\n",
    "        price_unit = df.loc[index, 'price_unit']\n",
    "\n",
    "        # Process price\n",
    "        if price_unit == 'Cr':\n",
    "            df.loc[index, 'price_in_USD'] = (price * 10000000 * 0.012)\n",
    "        elif price_unit == 'L':\n",
    "            df.loc[index, 'price_in_USD'] = (price * 100000 * 0.012)\n",
    "\n",
    "        # Process type  ( Apartment: 0, Independent House: 1, Studio Apartment: 2, villa: 3 )\n",
    "        if df.loc[index, 'type'] == \"Apartment\":\n",
    "            df.loc[index, 'house_type'] = int(0)\n",
    "        elif df.loc[index, 'type'] == \"Independent House\":\n",
    "            df.loc[index, 'house_type'] = int(1)\n",
    "        elif df.loc[index, 'type'] == \"Studio Apartment\":\n",
    "            df.loc[index, 'house_type'] = int(2)\n",
    "        else:\n",
    "            df.loc[index, 'house_type'] = int(3)\n",
    "\n",
    "        # Process status ( Ready to move: 0, under Construction: 1 )\n",
    "        if df.loc[index, 'status'] == \"Ready to move\":\n",
    "            df.loc[index, 'status'] = 0\n",
    "        else:\n",
    "            df.loc[index, 'status'] = 1\n",
    "\n",
    "    # Set status to int\n",
    "    df['status'] = df['status'].astype(int)\n",
    "\n",
    "    # Set house type to int\n",
    "    df['house_type'] = df['house_type'].astype(int)\n",
    "\n",
    "    # Drop unnecessary columns\n",
    "    df.drop(['price_unit', 'price', 'locality', 'type'], axis = 1, inplace = True)\n",
    "\n",
    "    # Drop rows that have unknown value\n",
    "    df = df.replace(\"Unknown\", value = np.NaN)\n",
    "    df = df.dropna()\n",
    "\n",
    "    # df = pd.concat([df, dummies.drop('other', axis='columns')], axis='columns')\n",
    "\n",
    "    # print((type(df.loc[1, 'house_type'])))\n",
    "    # print(df.head(10)[['region']])\n",
    "    # print(list(df.columns))\n",
    "    # print(df.shape)\n",
    "    return df\n",
    "\n",
    "def remove_std_outliers(df) -> pd.DataFrame:\n",
    "    # Add column price per square feet to process data\n",
    "    df['price_per_sqft'] = df['price_in_USD'] / df['area']\n",
    "    result_df = pd.DataFrame()\n",
    "    for index, row in df.groupby('region'):\n",
    "        mn = np.mean(row['price_per_sqft'])\n",
    "        std = np.std(row['price_per_sqft'])\n",
    "        accpt_dt = row[(row['price_per_sqft'] > (mn - std)) & (row['price_per_sqft'] <= (mn + std))]\n",
    "        result_df = pd.concat([result_df, accpt_dt], ignore_index = True)\n",
    "    result_df = result_df.drop(['price_per_sqft'], axis = 1)\n",
    "    return result_df\n",
    "\n",
    "\n",
    "def process_region(df) -> pd.DataFrame:\n",
    "    df.region = df.region.apply(lambda x: x.strip())\n",
    "    region_stats = df['region'].value_counts(ascending=False)\n",
    "    region_stats_less_than_10 = region_stats[region_stats <= 10]\n",
    "    df['region'] = df['region'].apply(lambda x: 'other' if x in region_stats_less_than_10 else x)\n",
    "    return df\n",
    "\n",
    "\n",
    "def process_age(df) -> pd.DataFrame:\n",
    "    # Process new column ( if 1 then that house is new else it is resale)\n",
    "    df['new'] = df.age.apply(lambda x: 1 if x == \"New\" else 0)\n",
    "    df = df.drop(['age'], axis = 1)\n",
    "    idx = df[df['region'] == 'other'].index\n",
    "    df = df.drop(idx)\n",
    "    return df\n",
    "\n",
    "\n",
    "# Convert DataFrane to csv file\n",
    "def insert_data_nam(df):\n",
    "    df.to_csv('../data/nam_processed_data.csv', index = False)"
   ]
  },
  {
   "cell_type": "code",
   "execution_count": 5,
   "id": "31773cd85986db7",
   "metadata": {
    "ExecuteTime": {
     "end_time": "2024-04-21T17:40:36.712547700Z",
     "start_time": "2024-04-21T17:40:36.694320600Z"
    },
    "collapsed": false
   },
   "outputs": [],
   "source": [
    "def apply_one_hot_encoding(df):\n",
    "    # Applying one-hot encoding to the 'region' column\n",
    "    dummies = pd.get_dummies(df['region'], prefix='region')\n",
    "    # Concatenate the original DataFrame and the dummies DataFrame\n",
    "    df = pd.concat([df, dummies], axis=1)\n",
    "    # Optionally, drop the original 'region' column as it's now encoded\n",
    "    df.drop(['region'], axis=1, inplace=True)\n",
    "    return df\n"
   ]
  },
  {
   "cell_type": "code",
   "execution_count": 6,
   "id": "592e09c15f9c52c0",
   "metadata": {
    "ExecuteTime": {
     "end_time": "2024-04-21T17:41:45.610710800Z",
     "start_time": "2024-04-21T17:40:39.330040700Z"
    },
    "collapsed": false
   },
   "outputs": [
    {
     "name": "stdout",
     "output_type": "stream",
     "text": [
      "(45343, 7)\n",
      "<class 'pandas.core.frame.DataFrame'>\n",
      "RangeIndex: 45343 entries, 0 to 45342\n",
      "Data columns (total 7 columns):\n",
      " #   Column        Non-Null Count  Dtype  \n",
      "---  ------        --------------  -----  \n",
      " 0   bhk           45343 non-null  int64  \n",
      " 1   area          45343 non-null  int64  \n",
      " 2   region        45343 non-null  object \n",
      " 3   status        45343 non-null  int32  \n",
      " 4   price_in_USD  45343 non-null  float64\n",
      " 5   house_type    45343 non-null  int32  \n",
      " 6   new           45343 non-null  int64  \n",
      "dtypes: float64(1), int32(2), int64(3), object(1)\n",
      "memory usage: 2.1+ MB\n",
      "   bhk  area    region  status  price_in_USD  house_type  new\n",
      "0    2   650  Agripada       1      314400.0           0    0\n",
      "1    1   803  Agripada       0      270000.0           0    0\n",
      "2    1   684  Agripada       0      204000.0           0    0\n",
      "3    1   545  Agripada       0      192000.0           0    0\n",
      "4    2  1650  Agripada       0      420000.0           0    0\n"
     ]
    }
   ],
   "source": [
    "if __name__ == '__main__':\n",
    "    dt = preprocess(dt)\n",
    "    dt = process_region(dt)\n",
    "    dt = remove_std_outliers(dt)\n",
    "    dt = process_age(dt)\n",
    "    insert_data_nam(dt)\n",
    "    print(dt.shape)\n",
    "    dt.info()\n",
    "    print(dt.head())"
   ]
  },
  {
   "cell_type": "code",
   "execution_count": 7,
   "id": "5038e19e50ed1034",
   "metadata": {
    "ExecuteTime": {
     "end_time": "2024-04-21T17:39:16.920125Z",
     "start_time": "2024-04-21T17:39:16.839172600Z"
    },
    "collapsed": false
   },
   "outputs": [],
   "source": [
    "dt = apply_one_hot_encoding(dt)"
   ]
  },
  {
   "cell_type": "code",
   "execution_count": 8,
   "id": "2e9eaecc64ff4255",
   "metadata": {
    "ExecuteTime": {
     "end_time": "2024-04-21T17:39:16.930444800Z",
     "start_time": "2024-04-21T17:39:16.882057100Z"
    },
    "collapsed": false
   },
   "outputs": [
    {
     "name": "stdout",
     "output_type": "stream",
     "text": [
      "   bhk  area  status  price_in_USD  house_type  new  region_Agripada  \\\n",
      "0    2   650       1      314400.0           0    0             True   \n",
      "1    1   803       0      270000.0           0    0             True   \n",
      "2    1   684       0      204000.0           0    0             True   \n",
      "3    1   545       0      192000.0           0    0             True   \n",
      "4    2  1650       0      420000.0           0    0             True   \n",
      "\n",
      "   region_Airoli  region_Ambernath East  region_Ambernath West  ...  \\\n",
      "0          False                  False                  False  ...   \n",
      "1          False                  False                  False  ...   \n",
      "2          False                  False                  False  ...   \n",
      "3          False                  False                  False  ...   \n",
      "4          False                  False                  False  ...   \n",
      "\n",
      "   region_Vangani  region_Vasai  region_Vashi  region_Vikhroli  \\\n",
      "0           False         False         False            False   \n",
      "1           False         False         False            False   \n",
      "2           False         False         False            False   \n",
      "3           False         False         False            False   \n",
      "4           False         False         False            False   \n",
      "\n",
      "   region_Ville Parle East  region_Ville Parle West  region_Virar  \\\n",
      "0                    False                    False         False   \n",
      "1                    False                    False         False   \n",
      "2                    False                    False         False   \n",
      "3                    False                    False         False   \n",
      "4                    False                    False         False   \n",
      "\n",
      "   region_Virar West  region_Wadala  region_Worli  \n",
      "0              False          False         False  \n",
      "1              False          False         False  \n",
      "2              False          False         False  \n",
      "3              False          False         False  \n",
      "4              False          False         False  \n",
      "\n",
      "[5 rows x 115 columns]\n"
     ]
    }
   ],
   "source": [
    "print(dt.head())"
   ]
  }
 ],
 "metadata": {
  "kernelspec": {
   "display_name": "Python 3",
   "language": "python",
   "name": "python3"
  },
  "language_info": {
   "codemirror_mode": {
    "name": "ipython",
    "version": 3
   },
   "file_extension": ".py",
   "mimetype": "text/x-python",
   "name": "python",
   "nbconvert_exporter": "python",
   "pygments_lexer": "ipython3",
   "version": "3.11.7"
  }
 },
 "nbformat": 4,
 "nbformat_minor": 5
}

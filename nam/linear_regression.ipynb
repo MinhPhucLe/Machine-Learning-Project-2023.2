{
 "cells": [
  {
   "cell_type": "code",
   "execution_count": 4,
   "id": "initial_id",
   "metadata": {
    "collapsed": true,
    "is_executing": true
   },
   "outputs": [],
   "source": [
    "import numpy as np\n",
    "import pandas as pd\n",
    "import seaborn as sns\n",
    "import matplotlib.pyplot as plt\n"
   ]
  },
  {
   "cell_type": "code",
   "execution_count": 5,
   "id": "98993b8e7c6bea17",
   "metadata": {
    "collapsed": false
   },
   "outputs": [
    {
     "name": "stdout",
     "output_type": "stream",
     "text": [
      "   bhk       type                              locality  area  price  \\\n",
      "0    3  Apartment   Lak And Hanware The Residency Tower   685   2.50   \n",
      "1    2  Apartment     Radheya Sai Enclave Building No 2   640  52.51   \n",
      "2    2  Apartment                         Romell Serene   610   1.73   \n",
      "3    2  Apartment  Soundlines Codename Urban Rainforest   876  59.98   \n",
      "4    2  Apartment                         Origin Oriana   659  94.11   \n",
      "\n",
      "  price_unit          region              status  age  \n",
      "0         Cr    Andheri West       Ready to move  New  \n",
      "1          L    Naigaon East  Under Construction  New  \n",
      "2         Cr   Borivali West  Under Construction  New  \n",
      "3          L          Panvel  Under Construction  New  \n",
      "4          L  Mira Road East  Under Construction  New  \n"
     ]
    }
   ],
   "source": [
    "dt = pd.read_csv('../data/nam_processed_data.csv')\n",
    "print(dt.head())"
   ]
  },
  {
   "cell_type": "code",
   "execution_count": 10,
   "id": "f60e3e62",
   "metadata": {},
   "outputs": [],
   "source": [
    "# cnt=0\n",
    "# for column in dt.columns[:3]:\n",
    "#     value_counts = dt[column].value_counts()\n",
    "#     print(\"Column:\", column)\n",
    "#     for value, count in value_counts.items():\n",
    "#         if count < 10:\n",
    "#             cnt+=1\n",
    "#             print(f\"Value: {value}, Count: {count}\")\n",
    "            \n",
    "# print(\"cnt = \" + str(cnt))"
   ]
  },
  {
   "cell_type": "code",
   "execution_count": 11,
   "id": "41a0a3df",
   "metadata": {},
   "outputs": [],
   "source": [
    "# rows_to_delete = []\n",
    "# test=dt.copy()\n",
    "\n",
    "# for column in test.columns[:3]:\n",
    "#     value_counts = test[column].value_counts()\n",
    "#     for value, count in value_counts.items():\n",
    "#         if count < 10:\n",
    "#             # Find indices where this value occurs and add them to rows_to_delete\n",
    "#             rows_to_delete.extend(test.index[test[column] == value].tolist())\n",
    "\n",
    "# print(\"Number of rows to be deleted:\", len(rows_to_delete))\n",
    "# # Drop the rows with indices stored in rows_to_delete\n",
    "# test_cleaned = test.drop(index=rows_to_delete)\n",
    "\n",
    "# # Verify the new DataFrame\n",
    "# print(test_cleaned)"
   ]
  },
  {
   "cell_type": "code",
   "execution_count": 13,
   "id": "629fa9f936f88127",
   "metadata": {
    "collapsed": false
   },
   "outputs": [
    {
     "name": "stdout",
     "output_type": "stream",
     "text": [
      "(45343, 115)\n"
     ]
    }
   ],
   "source": [
    "print(dt.shape)"
   ]
  },
  {
   "cell_type": "code",
   "execution_count": 22,
   "id": "2e9eaecc64ff4255",
   "metadata": {
    "ExecuteTime": {
     "end_time": "2024-04-21T17:39:16.930444800Z",
     "start_time": "2024-04-21T17:39:16.882057100Z"
    },
    "collapsed": false
   },
   "outputs": [
    {
     "name": "stdout",
     "output_type": "stream",
     "text": [
      "   bhk  area  status  price_in_USD  house_type  new  region_Agripada  \\\n",
      "0    2   650       1      314400.0           0    0             True   \n",
      "1    1   803       0      270000.0           0    0             True   \n",
      "2    1   684       0      204000.0           0    0             True   \n",
      "3    1   545       0      192000.0           0    0             True   \n",
      "4    2  1650       0      420000.0           0    0             True   \n",
      "\n",
      "   region_Airoli  region_Ambernath East  region_Ambernath West  ...  \\\n",
      "0          False                  False                  False  ...   \n",
      "1          False                  False                  False  ...   \n",
      "2          False                  False                  False  ...   \n",
      "3          False                  False                  False  ...   \n",
      "4          False                  False                  False  ...   \n",
      "\n",
      "   region_Vangani  region_Vasai  region_Vashi  region_Vikhroli  \\\n",
      "0           False         False         False            False   \n",
      "1           False         False         False            False   \n",
      "2           False         False         False            False   \n",
      "3           False         False         False            False   \n",
      "4           False         False         False            False   \n",
      "\n",
      "   region_Ville Parle East  region_Ville Parle West  region_Virar  \\\n",
      "0                    False                    False         False   \n",
      "1                    False                    False         False   \n",
      "2                    False                    False         False   \n",
      "3                    False                    False         False   \n",
      "4                    False                    False         False   \n",
      "\n",
      "   region_Virar West  region_Wadala  region_Worli  \n",
      "0              False          False         False  \n",
      "1              False          False         False  \n",
      "2              False          False         False  \n",
      "3              False          False         False  \n",
      "4              False          False         False  \n",
      "\n",
      "[5 rows x 115 columns]\n"
     ]
    }
   ],
   "source": [
    "print(dt.head())"
   ]
  },
  {
   "cell_type": "code",
   "execution_count": 14,
   "id": "e1b00567805e51a2",
   "metadata": {
    "ExecuteTime": {
     "end_time": "2024-04-21T17:39:17.039035600Z",
     "start_time": "2024-04-21T17:39:16.905353200Z"
    },
    "collapsed": false
   },
   "outputs": [],
   "source": [
    "X = dt.drop(['price_in_USD'], axis = 1)\n",
    "Y = dt.price_in_USD\n"
   ]
  },
  {
   "cell_type": "code",
   "execution_count": 15,
   "id": "b017752d",
   "metadata": {},
   "outputs": [],
   "source": [
    "from sklearn.model_selection import train_test_split\n",
    "X_train, X_test, Y_train, Y_test = train_test_split(X , Y ,test_size = 0.2, random_state=10)"
   ]
  },
  {
   "cell_type": "code",
   "execution_count": 19,
   "id": "2ac4fcbf",
   "metadata": {},
   "outputs": [
    {
     "data": {
      "text/plain": [
       "0.8676008608004804"
      ]
     },
     "execution_count": 19,
     "metadata": {},
     "output_type": "execute_result"
    }
   ],
   "source": [
    "from sklearn.linear_model import LinearRegression\n",
    "model = LinearRegression()\n",
    "model.fit(X_train, Y_train)\n",
    "Y_pred = model.predict(X_test)\n",
    "model.score(X_test , Y_test)"
   ]
  },
  {
   "cell_type": "code",
   "execution_count": 20,
   "id": "5b84f932",
   "metadata": {},
   "outputs": [
    {
     "data": {
      "image/png": "[encoded data removed]",
      "text/plain": [
       "<Figure size 640x480 with 1 Axes>"
      ]
     },
     "metadata": {},
     "output_type": "display_data"
    }
   ],
   "source": [
    "# Plotting Scatter graph to show the prediction \n",
    "# results - 'ytrue' value vs 'y_pred' value\n",
    "plt.scatter(Y_test, Y_pred, c = 'green')\n",
    "plt.xlabel(\"Price\")\n",
    "plt.ylabel(\"Predicted value\")\n",
    "plt.title(\"True value vs predicted value : Linear Regression\")\n",
    "plt.show()\n"
   ]
  },
  {
   "cell_type": "code",
   "execution_count": 18,
   "id": "0450c0fb",
   "metadata": {},
   "outputs": [
    {
     "name": "stdout",
     "output_type": "stream",
     "text": [
      "[0.85138469 0.84923593 0.8596343  0.86575118 0.86205979]\n"
     ]
    }
   ],
   "source": [
    "from sklearn.linear_model import LinearRegression\n",
    "from sklearn.model_selection import ShuffleSplit\n",
    "from sklearn.model_selection import cross_val_score\n",
    "\n",
    "cv = ShuffleSplit(n_splits=5, test_size=0.2, random_state=0)\n",
    "print(cross_val_score(LinearRegression(), X, Y, cv=cv))"
   ]
  },
  {
   "cell_type": "code",
   "execution_count": 29,
   "id": "fff063a9",
   "metadata": {},
   "outputs": [
    {
     "name": "stdout",
     "output_type": "stream",
     "text": [
      "Mean Absolute Error (MAE): 42297.961640893176\n",
      "Mean Squared Error (MSE): 5516695647.040746\n"
     ]
    }
   ],
   "source": [
    "from sklearn.metrics import mean_absolute_error, mean_squared_error\n",
    "\n",
    "# Calculate Mean Absolute Error (MAE)\n",
    "mae = mean_absolute_error(Y_test, Y_pred)\n",
    "\n",
    "# Calculate Mean Squared Error (MSE)\n",
    "mse = mean_squared_error(Y_test, Y_pred)\n",
    "\n",
    "# Print MAE and MSE\n",
    "print(\"Mean Absolute Error (MAE):\", mae)\n",
    "print(\"Mean Squared Error (MSE):\", mse)\n"
   ]
  },
  {
   "cell_type": "code",
   "execution_count": 30,
   "id": "e79e2ee3",
   "metadata": {},
   "outputs": [
    {
     "data": {
      "text/html": [
       "<div>\n",
       "<style scoped>\n",
       "    .dataframe tbody tr th:only-of-type {\n",
       "        vertical-align: middle;\n",
       "    }\n",
       "\n",
       "    .dataframe tbody tr th {\n",
       "        vertical-align: top;\n",
       "    }\n",
       "\n",
       "    .dataframe thead th {\n",
       "        text-align: right;\n",
       "    }\n",
       "</style>\n",
       "<table border=\"1\" class=\"dataframe\">\n",
       "  <thead>\n",
       "    <tr style=\"text-align: right;\">\n",
       "      <th></th>\n",
       "      <th>actual value</th>\n",
       "      <th>predicted</th>\n",
       "      <th>difference</th>\n",
       "    </tr>\n",
       "  </thead>\n",
       "  <tbody>\n",
       "    <tr>\n",
       "      <th>24961</th>\n",
       "      <td>105912.0</td>\n",
       "      <td>175117.127082</td>\n",
       "      <td>-69205.127082</td>\n",
       "    </tr>\n",
       "    <tr>\n",
       "      <th>40922</th>\n",
       "      <td>75588.0</td>\n",
       "      <td>45172.836386</td>\n",
       "      <td>30415.163614</td>\n",
       "    </tr>\n",
       "    <tr>\n",
       "      <th>12323</th>\n",
       "      <td>40800.0</td>\n",
       "      <td>9790.115901</td>\n",
       "      <td>31009.884099</td>\n",
       "    </tr>\n",
       "    <tr>\n",
       "      <th>5755</th>\n",
       "      <td>442800.0</td>\n",
       "      <td>570487.690991</td>\n",
       "      <td>-127687.690991</td>\n",
       "    </tr>\n",
       "    <tr>\n",
       "      <th>15411</th>\n",
       "      <td>388800.0</td>\n",
       "      <td>543960.396843</td>\n",
       "      <td>-155160.396843</td>\n",
       "    </tr>\n",
       "    <tr>\n",
       "      <th>...</th>\n",
       "      <td>...</td>\n",
       "      <td>...</td>\n",
       "      <td>...</td>\n",
       "    </tr>\n",
       "    <tr>\n",
       "      <th>9629</th>\n",
       "      <td>264000.0</td>\n",
       "      <td>301295.090611</td>\n",
       "      <td>-37295.090611</td>\n",
       "    </tr>\n",
       "    <tr>\n",
       "      <th>7325</th>\n",
       "      <td>102000.0</td>\n",
       "      <td>100541.298421</td>\n",
       "      <td>1458.701579</td>\n",
       "    </tr>\n",
       "    <tr>\n",
       "      <th>1218</th>\n",
       "      <td>178800.0</td>\n",
       "      <td>136885.113681</td>\n",
       "      <td>41914.886319</td>\n",
       "    </tr>\n",
       "    <tr>\n",
       "      <th>31936</th>\n",
       "      <td>103200.0</td>\n",
       "      <td>129156.824794</td>\n",
       "      <td>-25956.824794</td>\n",
       "    </tr>\n",
       "    <tr>\n",
       "      <th>3093</th>\n",
       "      <td>420000.0</td>\n",
       "      <td>468895.109312</td>\n",
       "      <td>-48895.109312</td>\n",
       "    </tr>\n",
       "  </tbody>\n",
       "</table>\n",
       "<p>9069 rows × 3 columns</p>\n",
       "</div>"
      ],
      "text/plain": [
       "       actual value      predicted     difference\n",
       "24961      105912.0  175117.127082  -69205.127082\n",
       "40922       75588.0   45172.836386   30415.163614\n",
       "12323       40800.0    9790.115901   31009.884099\n",
       "5755       442800.0  570487.690991 -127687.690991\n",
       "15411      388800.0  543960.396843 -155160.396843\n",
       "...             ...            ...            ...\n",
       "9629       264000.0  301295.090611  -37295.090611\n",
       "7325       102000.0  100541.298421    1458.701579\n",
       "1218       178800.0  136885.113681   41914.886319\n",
       "31936      103200.0  129156.824794  -25956.824794\n",
       "3093       420000.0  468895.109312  -48895.109312\n",
       "\n",
       "[9069 rows x 3 columns]"
      ]
     },
     "execution_count": 30,
     "metadata": {},
     "output_type": "execute_result"
    }
   ],
   "source": [
    "pred_table = pd.DataFrame(data={\"actual value\":Y_test, \"predicted\":model.predict(X_test)})\n",
    "pred_table[\"difference\"] = pred_table[\"actual value\"] - pred_table[\"predicted\"]\n",
    "pred_table"
   ]
  }
 ],
 "metadata": {
  "kernelspec": {
   "display_name": "Python 3",
   "language": "python",
   "name": "python3"
  },
  "language_info": {
   "codemirror_mode": {
    "name": "ipython",
    "version": 3
   },
   "file_extension": ".py",
   "mimetype": "text/x-python",
   "name": "python",
   "nbconvert_exporter": "python",
   "pygments_lexer": "ipython3",
   "version": "3.11.7"
  }
 },
 "nbformat": 4,
 "nbformat_minor": 5
}

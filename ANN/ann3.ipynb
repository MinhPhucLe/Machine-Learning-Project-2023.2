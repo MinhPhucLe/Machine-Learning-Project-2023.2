{
 "metadata": {
  "kernelspec": {
   "language": "python",
   "display_name": "Python 3",
   "name": "python3"
  },
  "language_info": {
   "name": "python",
   "version": "3.10.13",
   "mimetype": "text/x-python",
   "codemirror_mode": {
    "name": "ipython",
    "version": 3
   },
   "pygments_lexer": "ipython3",
   "nbconvert_exporter": "python",
   "file_extension": ".py"
  },
  "kaggle": {
   "accelerator": "none",
   "dataSources": [
    {
     "sourceId": 4823919,
     "sourceType": "datasetVersion",
     "datasetId": 2794383
    }
   ],
   "dockerImageVersionId": 30698,
   "isInternetEnabled": false,
   "language": "python",
   "sourceType": "notebook",
   "isGpuEnabled": false
  }
 },
 "nbformat_minor": 4,
 "nbformat": 4,
 "cells": [
  {
   "cell_type": "code",
   "source": [
    "# import all libs and frameworks\n",
    "import pandas as pd\n",
    "import matplotlib.pyplot as plt\n",
    "import numpy as np"
   ],
   "metadata": {
    "execution": {
     "iopub.status.busy": "2024-05-30T21:32:46.108634Z",
     "iopub.execute_input": "2024-05-30T21:32:46.109070Z",
     "iopub.status.idle": "2024-05-30T21:32:47.167760Z",
     "shell.execute_reply.started": "2024-05-30T21:32:46.109035Z",
     "shell.execute_reply": "2024-05-30T21:32:47.166213Z"
    },
    "trusted": true,
    "ExecuteTime": {
     "end_time": "2024-05-30T21:44:57.020452Z",
     "start_time": "2024-05-30T21:44:57.016485Z"
    }
   },
   "execution_count": 63,
   "outputs": []
  },
  {
   "cell_type": "markdown",
   "source": [
    "# Import and preprocess data"
   ],
   "metadata": {}
  },
  {
   "cell_type": "code",
   "source": [
    "\n",
    "df = pd.read_csv(\"Mumbai_House_Price.csv\")\n",
    "df.head()"
   ],
   "metadata": {
    "execution": {
     "iopub.status.busy": "2024-05-30T21:32:47.169797Z",
     "iopub.execute_input": "2024-05-30T21:32:47.170330Z",
     "iopub.status.idle": "2024-05-30T21:32:47.430558Z",
     "shell.execute_reply.started": "2024-05-30T21:32:47.170297Z",
     "shell.execute_reply": "2024-05-30T21:32:47.429366Z"
    },
    "trusted": true,
    "ExecuteTime": {
     "end_time": "2024-05-30T21:44:57.146216Z",
     "start_time": "2024-05-30T21:44:57.056610Z"
    }
   },
   "execution_count": 64,
   "outputs": [
    {
     "data": {
      "text/plain": "   bhk       type                              locality  area  price  \\\n0    3  Apartment   Lak And Hanware The Residency Tower   685   2.50   \n1    2  Apartment     Radheya Sai Enclave Building No 2   640  52.51   \n2    2  Apartment                         Romell Serene   610   1.73   \n3    2  Apartment  Soundlines Codename Urban Rainforest   876  59.98   \n4    2  Apartment                         Origin Oriana   659  94.11   \n\n  price_unit          region              status  age  \n0         Cr    Andheri West       Ready to move  New  \n1          L    Naigaon East  Under Construction  New  \n2         Cr   Borivali West  Under Construction  New  \n3          L          Panvel  Under Construction  New  \n4          L  Mira Road East  Under Construction  New  ",
      "text/html": "<div>\n<style scoped>\n    .dataframe tbody tr th:only-of-type {\n        vertical-align: middle;\n    }\n\n    .dataframe tbody tr th {\n        vertical-align: top;\n    }\n\n    .dataframe thead th {\n        text-align: right;\n    }\n</style>\n<table border=\"1\" class=\"dataframe\">\n  <thead>\n    <tr style=\"text-align: right;\">\n      <th></th>\n      <th>bhk</th>\n      <th>type</th>\n      <th>locality</th>\n      <th>area</th>\n      <th>price</th>\n      <th>price_unit</th>\n      <th>region</th>\n      <th>status</th>\n      <th>age</th>\n    </tr>\n  </thead>\n  <tbody>\n    <tr>\n      <th>0</th>\n      <td>3</td>\n      <td>Apartment</td>\n      <td>Lak And Hanware The Residency Tower</td>\n      <td>685</td>\n      <td>2.50</td>\n      <td>Cr</td>\n      <td>Andheri West</td>\n      <td>Ready to move</td>\n      <td>New</td>\n    </tr>\n    <tr>\n      <th>1</th>\n      <td>2</td>\n      <td>Apartment</td>\n      <td>Radheya Sai Enclave Building No 2</td>\n      <td>640</td>\n      <td>52.51</td>\n      <td>L</td>\n      <td>Naigaon East</td>\n      <td>Under Construction</td>\n      <td>New</td>\n    </tr>\n    <tr>\n      <th>2</th>\n      <td>2</td>\n      <td>Apartment</td>\n      <td>Romell Serene</td>\n      <td>610</td>\n      <td>1.73</td>\n      <td>Cr</td>\n      <td>Borivali West</td>\n      <td>Under Construction</td>\n      <td>New</td>\n    </tr>\n    <tr>\n      <th>3</th>\n      <td>2</td>\n      <td>Apartment</td>\n      <td>Soundlines Codename Urban Rainforest</td>\n      <td>876</td>\n      <td>59.98</td>\n      <td>L</td>\n      <td>Panvel</td>\n      <td>Under Construction</td>\n      <td>New</td>\n    </tr>\n    <tr>\n      <th>4</th>\n      <td>2</td>\n      <td>Apartment</td>\n      <td>Origin Oriana</td>\n      <td>659</td>\n      <td>94.11</td>\n      <td>L</td>\n      <td>Mira Road East</td>\n      <td>Under Construction</td>\n      <td>New</td>\n    </tr>\n  </tbody>\n</table>\n</div>"
     },
     "execution_count": 64,
     "metadata": {},
     "output_type": "execute_result"
    }
   ]
  },
  {
   "cell_type": "code",
   "source": [
    "df.describe()"
   ],
   "metadata": {
    "execution": {
     "iopub.status.busy": "2024-05-30T21:32:47.438063Z",
     "iopub.execute_input": "2024-05-30T21:32:47.438508Z",
     "iopub.status.idle": "2024-05-30T21:32:47.472581Z",
     "shell.execute_reply.started": "2024-05-30T21:32:47.438468Z",
     "shell.execute_reply": "2024-05-30T21:32:47.471610Z"
    },
    "trusted": true,
    "ExecuteTime": {
     "end_time": "2024-05-30T21:44:57.161445Z",
     "start_time": "2024-05-30T21:44:57.147227Z"
    }
   },
   "execution_count": 65,
   "outputs": [
    {
     "data": {
      "text/plain": "                bhk          area        price\ncount  76038.000000  76038.000000  76038.00000\nmean       2.015111   1024.536850     29.38227\nstd        0.922754    670.276165     32.90345\nmin        1.000000    127.000000      1.00000\n25%        1.000000    640.000000      1.75000\n50%        2.000000    872.000000      5.50000\n75%        3.000000   1179.000000     59.00000\nmax       10.000000  16000.000000     99.99000",
      "text/html": "<div>\n<style scoped>\n    .dataframe tbody tr th:only-of-type {\n        vertical-align: middle;\n    }\n\n    .dataframe tbody tr th {\n        vertical-align: top;\n    }\n\n    .dataframe thead th {\n        text-align: right;\n    }\n</style>\n<table border=\"1\" class=\"dataframe\">\n  <thead>\n    <tr style=\"text-align: right;\">\n      <th></th>\n      <th>bhk</th>\n      <th>area</th>\n      <th>price</th>\n    </tr>\n  </thead>\n  <tbody>\n    <tr>\n      <th>count</th>\n      <td>76038.000000</td>\n      <td>76038.000000</td>\n      <td>76038.00000</td>\n    </tr>\n    <tr>\n      <th>mean</th>\n      <td>2.015111</td>\n      <td>1024.536850</td>\n      <td>29.38227</td>\n    </tr>\n    <tr>\n      <th>std</th>\n      <td>0.922754</td>\n      <td>670.276165</td>\n      <td>32.90345</td>\n    </tr>\n    <tr>\n      <th>min</th>\n      <td>1.000000</td>\n      <td>127.000000</td>\n      <td>1.00000</td>\n    </tr>\n    <tr>\n      <th>25%</th>\n      <td>1.000000</td>\n      <td>640.000000</td>\n      <td>1.75000</td>\n    </tr>\n    <tr>\n      <th>50%</th>\n      <td>2.000000</td>\n      <td>872.000000</td>\n      <td>5.50000</td>\n    </tr>\n    <tr>\n      <th>75%</th>\n      <td>3.000000</td>\n      <td>1179.000000</td>\n      <td>59.00000</td>\n    </tr>\n    <tr>\n      <th>max</th>\n      <td>10.000000</td>\n      <td>16000.000000</td>\n      <td>99.99000</td>\n    </tr>\n  </tbody>\n</table>\n</div>"
     },
     "execution_count": 65,
     "metadata": {},
     "output_type": "execute_result"
    }
   ]
  },
  {
   "cell_type": "code",
   "source": [
    "df['area'].min()"
   ],
   "metadata": {
    "execution": {
     "iopub.status.busy": "2024-05-30T21:32:47.473940Z",
     "iopub.execute_input": "2024-05-30T21:32:47.474266Z",
     "iopub.status.idle": "2024-05-30T21:32:47.481400Z",
     "shell.execute_reply.started": "2024-05-30T21:32:47.474236Z",
     "shell.execute_reply": "2024-05-30T21:32:47.480547Z"
    },
    "trusted": true,
    "ExecuteTime": {
     "end_time": "2024-05-30T21:44:57.166315Z",
     "start_time": "2024-05-30T21:44:57.162450Z"
    }
   },
   "execution_count": 66,
   "outputs": [
    {
     "data": {
      "text/plain": "127"
     },
     "execution_count": 66,
     "metadata": {},
     "output_type": "execute_result"
    }
   ]
  },
  {
   "cell_type": "code",
   "source": [
    "# Analyze all dataset\n",
    "df_use = df.drop(['locality'], axis=1)"
   ],
   "metadata": {
    "execution": {
     "iopub.status.busy": "2024-05-30T21:32:47.482651Z",
     "iopub.execute_input": "2024-05-30T21:32:47.483612Z",
     "iopub.status.idle": "2024-05-30T21:32:47.499556Z",
     "shell.execute_reply.started": "2024-05-30T21:32:47.483580Z",
     "shell.execute_reply": "2024-05-30T21:32:47.498290Z"
    },
    "trusted": true,
    "ExecuteTime": {
     "end_time": "2024-05-30T21:44:57.174266Z",
     "start_time": "2024-05-30T21:44:57.167320Z"
    }
   },
   "execution_count": 67,
   "outputs": []
  },
  {
   "cell_type": "code",
   "source": [
    "# Get all data dimension\n",
    "print(df_use.nunique())\n",
    "print()\n",
    "for col in df_use.columns:\n",
    "    print(f'{col}: {pd.unique(df_use[col])}')"
   ],
   "metadata": {
    "execution": {
     "iopub.status.busy": "2024-05-30T21:32:47.501300Z",
     "iopub.execute_input": "2024-05-30T21:32:47.502115Z",
     "iopub.status.idle": "2024-05-30T21:32:47.585215Z",
     "shell.execute_reply.started": "2024-05-30T21:32:47.502084Z",
     "shell.execute_reply": "2024-05-30T21:32:47.584115Z"
    },
    "trusted": true,
    "ExecuteTime": {
     "end_time": "2024-05-30T21:44:57.213138Z",
     "start_time": "2024-05-30T21:44:57.175278Z"
    }
   },
   "execution_count": 68,
   "outputs": [
    {
     "name": "stdout",
     "output_type": "stream",
     "text": [
      "bhk             10\n",
      "type             5\n",
      "area          2331\n",
      "price         4729\n",
      "price_unit       2\n",
      "region         228\n",
      "status           2\n",
      "age              3\n",
      "dtype: int64\n",
      "\n",
      "bhk: [ 3  2  5  1  4  6  9  8 10  7]\n",
      "type: ['Apartment' 'Villa' 'Studio Apartment' 'Independent House' 'Penthouse']\n",
      "area: [ 685  640  610 ... 1974 1634 3049]\n",
      "price: [ 2.5  52.51  1.73 ... 21.87 34.67  4.38]\n",
      "price_unit: ['Cr' 'L']\n",
      "region: ['Andheri West' 'Naigaon East' 'Borivali West' 'Panvel' 'Mira Road East'\n",
      " 'Parel' 'Boisar' 'Santacruz East' 'Badlapur East' 'Fort' 'Badlapur West'\n",
      " 'Khopoli' 'Chembur' 'Jogeshwari West' 'Vasai' 'Kalamboli' 'Powai'\n",
      " 'Ghansoli' 'Thane West' 'Vikhroli' 'Bhiwandi' 'Airoli' 'Ambernath West'\n",
      " 'Borivali East' 'Virar' 'Kharghar' 'Ulwe' 'Kamothe' 'Jogeshwari East'\n",
      " 'Mulund West' 'Palghar' 'Goregaon West' 'Taloja' 'Rasayani'\n",
      " 'Ghatkopar East' 'Ulhasnagar' 'Dombivali' 'Kewale' 'Nala Sopara'\n",
      " 'Goregaon East' 'Kandivali East' 'Kurla' 'Andheri East' 'Dahisar'\n",
      " 'Karanjade' 'Mahim' 'Vashi' 'Malad West' 'Girgaon' 'Dadar West'\n",
      " 'Bandra West' 'Kandivali West' 'Kalyan West' 'Neral' 'Kalyan East'\n",
      " 'Karjat' 'Ghatkopar West' 'Dronagiri' 'Mulund East' 'Navade' 'Ambivali'\n",
      " 'Agripada' 'Owale' 'Ville Parle East' 'Kalwa' 'Khar' 'Santacruz West'\n",
      " 'Nerul' 'Kanjurmarg' 'Vangani' 'Bhayandar East' 'Seawoods' 'Sewri'\n",
      " 'Ambernath East' 'Nilje Gaon' 'Prabhadevi' 'Matunga' 'Lower Parel'\n",
      " 'Titwala' 'Shil Phata' 'Koper Khairane' 'Napeansea Road' 'Bhandup West'\n",
      " 'Koproli' 'Anjurdive' 'Wadala' 'Sion' 'Taloje' 'Cuffe Parade'\n",
      " 'Bhandup East' 'Byculla' 'Tardeo' 'Vasai West' 'Vasai east' 'Malad East'\n",
      " 'Colaba' 'Thane East' 'Nalasopara East' 'Deonar' 'Nahur East' 'Sanpada'\n",
      " 'Sector 21 Kamothe' 'Saphale' 'Kasheli' 'Juinagar' 'Worli' 'Panch Pakhdi'\n",
      " 'Mazagaon' 'Hiranandani Estates' 'Belapur' 'Vichumbe' 'Bandra East'\n",
      " 'Sector 17 Ulwe' 'Sector 23 Ulwe' 'Nalasopara West' 'Mahalaxmi'\n",
      " 'Sector 20 Kamothe' 'Dadar East' 'Sector 19 Kamothe' 'Shahapur'\n",
      " 'Sector 30 Kharghar' 'Asangaon' 'Vikroli East' 'Mira Road'\n",
      " 'Kanjurmarg East' 'Rambaug' 'Sector-12 Kamothe' 'Juhu' 'Ville Parle West'\n",
      " 'Mazgaon' 'Virar East' 'Khar West' 'Sector 8 New panvel' 'Rabale'\n",
      " 'Bhayandar West' 'Sector 20 Ulwe' 'Sector 22 Kamothe' 'Sector 21 Nerul'\n",
      " 'Bandra Kurla Complex' 'Sector 14 Vashi' 'Mumbai Central' 'Virar West'\n",
      " 'Sector 11 Koparkhairane' 'Unnat Nagar' 'Diva' 'Palava' 'Dombivali East'\n",
      " 'Sector-14 Koparkhairane' 'Greater Khanda' 'Sector-35D Kharghar' 'Umroli'\n",
      " 'Sector-9 Ulwe' 'Govandi' 'vile parle west' 'MATUNGA WEST'\n",
      " 'Sector-3 Ulwe' 'kasaradavali thane west' 'Kurla East'\n",
      " 'Pestom Sagar Colony' 'Sector 12 Kharghar' 'Police Colony' 'Dahisar West'\n",
      " 'Marine Lines' 'Sector 19 Kharghar' 'Kalher' 'Hindu Colony'\n",
      " 'Dahisar East' 'Sector 9 Vashi' 'Khardi' 'Babulnath Road'\n",
      " 'Sector 21 Kharghar' 'Dharavi' 'Vasind' 'Tilak Nagar' 'Ashok nagar'\n",
      " 'Antop Hill' 'Peddar Road' 'Kamathipura' 'Usarghar Gaon' 'Ambarnath'\n",
      " 'Patlipada' 'Vevoor' 'Shelu' 'Kurla West' 'Goregaon' 'Naupada' 'Bhoiwada'\n",
      " 'Sector 7 Kharghar' 'Roadpali' 'Sector-9 Kamothe' 'Borivali' 'Badlapur'\n",
      " 'Khanda Colony' 'Dombivli (West)' 'GTB Nagar' 'Bandra' 'kandivali'\n",
      " 'Mahavir Nagar' 'Churchgate' 'Pali Hill' 'Manpada' 'Sector-50 Seawoods'\n",
      " 'Uttan' 'Gauripada' 'Gandhar Nagar' 'Mahim West' 'Warai' 'mumbai'\n",
      " 'Khatiwali' 'Chandivali' 'Mumbra' 'Chembur East' 'Malabar Hill' 'sector'\n",
      " 'Uran' 'Manjarli' 'Ghodbunder Road' 'Mulund' 'Sector 18 Kharghar'\n",
      " 'Palidevad' 'Juhu Scheme' 'Adaigaon' 'Versova' 'Sector-4 New Panvel'\n",
      " 'Pen' 'Sector 6 Kamothe' 'Maneklal Estate' 'L I C Colony']\n",
      "status: ['Ready to move' 'Under Construction']\n",
      "age: ['New' 'Resale' 'Unknown']\n"
     ]
    }
   ]
  },
  {
   "cell_type": "code",
   "source": [
    "# Reduce the dimension of region attribute\n",
    "stats = df_use['region'].value_counts(ascending=False)\n",
    "print(stats)\n",
    "print(stats.describe()) \n",
    "# => Over 50% of house place in less popular region \n",
    "# (less than 11 houses build in that location)\n",
    "# => Convert all of those region to 'Others'"
   ],
   "metadata": {
    "execution": {
     "iopub.status.busy": "2024-05-30T21:32:47.586683Z",
     "iopub.execute_input": "2024-05-30T21:32:47.587479Z",
     "iopub.status.idle": "2024-05-30T21:32:47.612572Z",
     "shell.execute_reply.started": "2024-05-30T21:32:47.587450Z",
     "shell.execute_reply": "2024-05-30T21:32:47.610969Z"
    },
    "trusted": true,
    "ExecuteTime": {
     "end_time": "2024-05-30T21:44:57.221238Z",
     "start_time": "2024-05-30T21:44:57.214147Z"
    }
   },
   "execution_count": 69,
   "outputs": [
    {
     "name": "stdout",
     "output_type": "stream",
     "text": [
      "region\n",
      "Thane West         14868\n",
      "Mira Road East      9902\n",
      "Dombivali           3041\n",
      "Kandivali East      2568\n",
      "Kharghar            2362\n",
      "                   ...  \n",
      "Police Colony          1\n",
      "GTB Nagar              1\n",
      "Bandra                 1\n",
      "Sector 14 Vashi        1\n",
      "Goregaon               1\n",
      "Name: count, Length: 228, dtype: int64\n",
      "count      228.000000\n",
      "mean       333.500000\n",
      "std       1251.273904\n",
      "min          1.000000\n",
      "25%          2.000000\n",
      "50%         11.000000\n",
      "75%        218.000000\n",
      "max      14868.000000\n",
      "Name: count, dtype: float64\n"
     ]
    }
   ]
  },
  {
   "cell_type": "code",
   "source": [
    "stats_to_change = stats[stats<=11]\n",
    "df_use1 = df_use\n",
    "def convert(region):\n",
    "    if region in stats_to_change:\n",
    "        return 'Others'\n",
    "    return region\n",
    "\n",
    "df_use1.region = df_use.region.apply(convert)"
   ],
   "metadata": {
    "execution": {
     "iopub.status.busy": "2024-05-30T21:32:47.614116Z",
     "iopub.execute_input": "2024-05-30T21:32:47.614452Z",
     "iopub.status.idle": "2024-05-30T21:32:47.889229Z",
     "shell.execute_reply.started": "2024-05-30T21:32:47.614426Z",
     "shell.execute_reply": "2024-05-30T21:32:47.887951Z"
    },
    "trusted": true,
    "ExecuteTime": {
     "end_time": "2024-05-30T21:44:57.310535Z",
     "start_time": "2024-05-30T21:44:57.221238Z"
    }
   },
   "execution_count": 70,
   "outputs": []
  },
  {
   "cell_type": "code",
   "source": [
    "# Normalize data\n",
    "max_values = {}\n",
    "numberic_cols = ['bhk', 'area', 'price']\n",
    "for col in numberic_cols:\n",
    "    max_v = df_use1[col].max()\n",
    "    max_values.update({col: max_v})\n",
    "    df_use1[col] = (df_use1[col] - df_use1[col].min()) / (df_use1[col].max() - df_use1[col].min())\n",
    "df_use1.head()"
   ],
   "metadata": {
    "execution": {
     "iopub.status.busy": "2024-05-30T21:32:47.894816Z",
     "iopub.execute_input": "2024-05-30T21:32:47.895159Z",
     "iopub.status.idle": "2024-05-30T21:32:47.919835Z",
     "shell.execute_reply.started": "2024-05-30T21:32:47.895132Z",
     "shell.execute_reply": "2024-05-30T21:32:47.918586Z"
    },
    "trusted": true,
    "ExecuteTime": {
     "end_time": "2024-05-30T21:44:57.321913Z",
     "start_time": "2024-05-30T21:44:57.311621Z"
    }
   },
   "execution_count": 71,
   "outputs": [
    {
     "data": {
      "text/plain": "        bhk       type      area     price price_unit          region  \\\n0  0.222222  Apartment  0.035154  0.015153         Cr    Andheri West   \n1  0.111111  Apartment  0.032319  0.520356          L    Naigaon East   \n2  0.111111  Apartment  0.030429  0.007374         Cr   Borivali West   \n3  0.111111  Apartment  0.047187  0.595818          L          Panvel   \n4  0.111111  Apartment  0.033516  0.940600          L  Mira Road East   \n\n               status  age  \n0       Ready to move  New  \n1  Under Construction  New  \n2  Under Construction  New  \n3  Under Construction  New  \n4  Under Construction  New  ",
      "text/html": "<div>\n<style scoped>\n    .dataframe tbody tr th:only-of-type {\n        vertical-align: middle;\n    }\n\n    .dataframe tbody tr th {\n        vertical-align: top;\n    }\n\n    .dataframe thead th {\n        text-align: right;\n    }\n</style>\n<table border=\"1\" class=\"dataframe\">\n  <thead>\n    <tr style=\"text-align: right;\">\n      <th></th>\n      <th>bhk</th>\n      <th>type</th>\n      <th>area</th>\n      <th>price</th>\n      <th>price_unit</th>\n      <th>region</th>\n      <th>status</th>\n      <th>age</th>\n    </tr>\n  </thead>\n  <tbody>\n    <tr>\n      <th>0</th>\n      <td>0.222222</td>\n      <td>Apartment</td>\n      <td>0.035154</td>\n      <td>0.015153</td>\n      <td>Cr</td>\n      <td>Andheri West</td>\n      <td>Ready to move</td>\n      <td>New</td>\n    </tr>\n    <tr>\n      <th>1</th>\n      <td>0.111111</td>\n      <td>Apartment</td>\n      <td>0.032319</td>\n      <td>0.520356</td>\n      <td>L</td>\n      <td>Naigaon East</td>\n      <td>Under Construction</td>\n      <td>New</td>\n    </tr>\n    <tr>\n      <th>2</th>\n      <td>0.111111</td>\n      <td>Apartment</td>\n      <td>0.030429</td>\n      <td>0.007374</td>\n      <td>Cr</td>\n      <td>Borivali West</td>\n      <td>Under Construction</td>\n      <td>New</td>\n    </tr>\n    <tr>\n      <th>3</th>\n      <td>0.111111</td>\n      <td>Apartment</td>\n      <td>0.047187</td>\n      <td>0.595818</td>\n      <td>L</td>\n      <td>Panvel</td>\n      <td>Under Construction</td>\n      <td>New</td>\n    </tr>\n    <tr>\n      <th>4</th>\n      <td>0.111111</td>\n      <td>Apartment</td>\n      <td>0.033516</td>\n      <td>0.940600</td>\n      <td>L</td>\n      <td>Mira Road East</td>\n      <td>Under Construction</td>\n      <td>New</td>\n    </tr>\n  </tbody>\n</table>\n</div>"
     },
     "execution_count": 71,
     "metadata": {},
     "output_type": "execute_result"
    }
   ]
  },
  {
   "cell_type": "code",
   "source": [
    "# Get all data dimension\n",
    "print(df_use1.nunique())\n",
    "print()\n",
    "for col in df_use1.columns:\n",
    "    print(f'{col}: {pd.unique(df_use1[col])}')"
   ],
   "metadata": {
    "execution": {
     "iopub.status.busy": "2024-05-30T21:32:47.921412Z",
     "iopub.execute_input": "2024-05-30T21:32:47.922769Z",
     "iopub.status.idle": "2024-05-30T21:32:48.009467Z",
     "shell.execute_reply.started": "2024-05-30T21:32:47.922727Z",
     "shell.execute_reply": "2024-05-30T21:32:48.008228Z"
    },
    "trusted": true,
    "ExecuteTime": {
     "end_time": "2024-05-30T21:44:57.363545Z",
     "start_time": "2024-05-30T21:44:57.322919Z"
    }
   },
   "execution_count": 72,
   "outputs": [
    {
     "name": "stdout",
     "output_type": "stream",
     "text": [
      "bhk             10\n",
      "type             5\n",
      "area          2331\n",
      "price         4729\n",
      "price_unit       2\n",
      "region         115\n",
      "status           2\n",
      "age              3\n",
      "dtype: int64\n",
      "\n",
      "bhk: [0.22222222 0.11111111 0.44444444 0.         0.33333333 0.55555556\n",
      " 0.88888889 0.77777778 1.         0.66666667]\n",
      "type: ['Apartment' 'Villa' 'Studio Apartment' 'Independent House' 'Penthouse']\n",
      "area: [0.03515404 0.03231903 0.03042903 ... 0.11636112 0.09494109 0.18408618]\n",
      "price: [0.01515305 0.52035559 0.00737448 ... 0.21082938 0.34013537 0.03414486]\n",
      "price_unit: ['Cr' 'L']\n",
      "region: ['Andheri West' 'Naigaon East' 'Borivali West' 'Panvel' 'Mira Road East'\n",
      " 'Parel' 'Boisar' 'Santacruz East' 'Badlapur East' 'Others'\n",
      " 'Badlapur West' 'Khopoli' 'Chembur' 'Jogeshwari West' 'Vasai' 'Kalamboli'\n",
      " 'Powai' 'Ghansoli' 'Thane West' 'Vikhroli' 'Bhiwandi' 'Airoli'\n",
      " 'Ambernath West' 'Borivali East' 'Virar' 'Kharghar' 'Ulwe' 'Kamothe'\n",
      " 'Jogeshwari East' 'Mulund West' 'Palghar' 'Goregaon West' 'Taloja'\n",
      " 'Rasayani' 'Ghatkopar East' 'Ulhasnagar' 'Dombivali' 'Nala Sopara'\n",
      " 'Goregaon East' 'Kandivali East' 'Kurla' 'Andheri East' 'Dahisar'\n",
      " 'Karanjade' 'Mahim' 'Vashi' 'Malad West' 'Girgaon' 'Dadar West'\n",
      " 'Bandra West' 'Kandivali West' 'Kalyan West' 'Neral' 'Kalyan East'\n",
      " 'Karjat' 'Ghatkopar West' 'Dronagiri' 'Mulund East' 'Agripada'\n",
      " 'Ville Parle East' 'Kalwa' 'Khar' 'Santacruz West' 'Nerul' 'Kanjurmarg'\n",
      " 'Vangani' 'Bhayandar East' 'Seawoods' 'Sewri' 'Ambernath East'\n",
      " 'Nilje Gaon' 'Prabhadevi' 'Matunga' 'Lower Parel' 'Titwala' 'Shil Phata'\n",
      " 'Koper Khairane' 'Napeansea Road' 'Bhandup West' 'Anjurdive' 'Wadala'\n",
      " 'Sion' 'Taloje' 'Bhandup East' 'Byculla' 'Tardeo' 'Malad East' 'Colaba'\n",
      " 'Thane East' 'Nalasopara East' 'Deonar' 'Nahur East' 'Sanpada'\n",
      " 'Sector 21 Kamothe' 'Saphale' 'Kasheli' 'Juinagar' 'Worli' 'Mazagaon'\n",
      " 'Belapur' 'Bandra East' 'Mahalaxmi' 'Dadar East' 'Juhu'\n",
      " 'Ville Parle West' 'Mazgaon' 'Bhayandar West' 'Bandra Kurla Complex'\n",
      " 'Virar West' 'Diva' 'Dombivali East' 'Umroli' 'Marine Lines' 'Ambarnath'\n",
      " 'Patlipada']\n",
      "status: ['Ready to move' 'Under Construction']\n",
      "age: ['New' 'Resale' 'Unknown']\n"
     ]
    }
   ]
  },
  {
   "cell_type": "code",
   "source": [
    "df_use2 = pd.get_dummies(df_use1, columns=['type', 'price_unit', 'region', 'status', 'age'], dtype = float)"
   ],
   "metadata": {
    "execution": {
     "iopub.status.busy": "2024-05-30T21:32:48.011083Z",
     "iopub.execute_input": "2024-05-30T21:32:48.012404Z",
     "iopub.status.idle": "2024-05-30T21:32:48.205925Z",
     "shell.execute_reply.started": "2024-05-30T21:32:48.012361Z",
     "shell.execute_reply": "2024-05-30T21:32:48.204966Z"
    },
    "trusted": true,
    "ExecuteTime": {
     "end_time": "2024-05-30T21:44:57.461452Z",
     "start_time": "2024-05-30T21:44:57.364553Z"
    }
   },
   "execution_count": 73,
   "outputs": []
  },
  {
   "cell_type": "code",
   "source": [
    "# Get all data dimension\n",
    "df_use2.head()"
   ],
   "metadata": {
    "execution": {
     "iopub.status.busy": "2024-05-30T21:32:48.207330Z",
     "iopub.execute_input": "2024-05-30T21:32:48.208426Z",
     "iopub.status.idle": "2024-05-30T21:32:48.250884Z",
     "shell.execute_reply.started": "2024-05-30T21:32:48.208377Z",
     "shell.execute_reply": "2024-05-30T21:32:48.249374Z"
    },
    "trusted": true,
    "ExecuteTime": {
     "end_time": "2024-05-30T21:44:57.476476Z",
     "start_time": "2024-05-30T21:44:57.462459Z"
    }
   },
   "execution_count": 74,
   "outputs": [
    {
     "data": {
      "text/plain": "        bhk      area     price  type_Apartment  type_Independent House  \\\n0  0.222222  0.035154  0.015153             1.0                     0.0   \n1  0.111111  0.032319  0.520356             1.0                     0.0   \n2  0.111111  0.030429  0.007374             1.0                     0.0   \n3  0.111111  0.047187  0.595818             1.0                     0.0   \n4  0.111111  0.033516  0.940600             1.0                     0.0   \n\n   type_Penthouse  type_Studio Apartment  type_Villa  price_unit_Cr  \\\n0             0.0                    0.0         0.0            1.0   \n1             0.0                    0.0         0.0            0.0   \n2             0.0                    0.0         0.0            1.0   \n3             0.0                    0.0         0.0            0.0   \n4             0.0                    0.0         0.0            0.0   \n\n   price_unit_L  ...  region_Ville Parle West  region_Virar  \\\n0           0.0  ...                      0.0           0.0   \n1           1.0  ...                      0.0           0.0   \n2           0.0  ...                      0.0           0.0   \n3           1.0  ...                      0.0           0.0   \n4           1.0  ...                      0.0           0.0   \n\n   region_Virar West  region_Wadala  region_Worli  status_Ready to move  \\\n0                0.0            0.0           0.0                   1.0   \n1                0.0            0.0           0.0                   0.0   \n2                0.0            0.0           0.0                   0.0   \n3                0.0            0.0           0.0                   0.0   \n4                0.0            0.0           0.0                   0.0   \n\n   status_Under Construction  age_New  age_Resale  age_Unknown  \n0                        0.0      1.0         0.0          0.0  \n1                        1.0      1.0         0.0          0.0  \n2                        1.0      1.0         0.0          0.0  \n3                        1.0      1.0         0.0          0.0  \n4                        1.0      1.0         0.0          0.0  \n\n[5 rows x 130 columns]",
      "text/html": "<div>\n<style scoped>\n    .dataframe tbody tr th:only-of-type {\n        vertical-align: middle;\n    }\n\n    .dataframe tbody tr th {\n        vertical-align: top;\n    }\n\n    .dataframe thead th {\n        text-align: right;\n    }\n</style>\n<table border=\"1\" class=\"dataframe\">\n  <thead>\n    <tr style=\"text-align: right;\">\n      <th></th>\n      <th>bhk</th>\n      <th>area</th>\n      <th>price</th>\n      <th>type_Apartment</th>\n      <th>type_Independent House</th>\n      <th>type_Penthouse</th>\n      <th>type_Studio Apartment</th>\n      <th>type_Villa</th>\n      <th>price_unit_Cr</th>\n      <th>price_unit_L</th>\n      <th>...</th>\n      <th>region_Ville Parle West</th>\n      <th>region_Virar</th>\n      <th>region_Virar West</th>\n      <th>region_Wadala</th>\n      <th>region_Worli</th>\n      <th>status_Ready to move</th>\n      <th>status_Under Construction</th>\n      <th>age_New</th>\n      <th>age_Resale</th>\n      <th>age_Unknown</th>\n    </tr>\n  </thead>\n  <tbody>\n    <tr>\n      <th>0</th>\n      <td>0.222222</td>\n      <td>0.035154</td>\n      <td>0.015153</td>\n      <td>1.0</td>\n      <td>0.0</td>\n      <td>0.0</td>\n      <td>0.0</td>\n      <td>0.0</td>\n      <td>1.0</td>\n      <td>0.0</td>\n      <td>...</td>\n      <td>0.0</td>\n      <td>0.0</td>\n      <td>0.0</td>\n      <td>0.0</td>\n      <td>0.0</td>\n      <td>1.0</td>\n      <td>0.0</td>\n      <td>1.0</td>\n      <td>0.0</td>\n      <td>0.0</td>\n    </tr>\n    <tr>\n      <th>1</th>\n      <td>0.111111</td>\n      <td>0.032319</td>\n      <td>0.520356</td>\n      <td>1.0</td>\n      <td>0.0</td>\n      <td>0.0</td>\n      <td>0.0</td>\n      <td>0.0</td>\n      <td>0.0</td>\n      <td>1.0</td>\n      <td>...</td>\n      <td>0.0</td>\n      <td>0.0</td>\n      <td>0.0</td>\n      <td>0.0</td>\n      <td>0.0</td>\n      <td>0.0</td>\n      <td>1.0</td>\n      <td>1.0</td>\n      <td>0.0</td>\n      <td>0.0</td>\n    </tr>\n    <tr>\n      <th>2</th>\n      <td>0.111111</td>\n      <td>0.030429</td>\n      <td>0.007374</td>\n      <td>1.0</td>\n      <td>0.0</td>\n      <td>0.0</td>\n      <td>0.0</td>\n      <td>0.0</td>\n      <td>1.0</td>\n      <td>0.0</td>\n      <td>...</td>\n      <td>0.0</td>\n      <td>0.0</td>\n      <td>0.0</td>\n      <td>0.0</td>\n      <td>0.0</td>\n      <td>0.0</td>\n      <td>1.0</td>\n      <td>1.0</td>\n      <td>0.0</td>\n      <td>0.0</td>\n    </tr>\n    <tr>\n      <th>3</th>\n      <td>0.111111</td>\n      <td>0.047187</td>\n      <td>0.595818</td>\n      <td>1.0</td>\n      <td>0.0</td>\n      <td>0.0</td>\n      <td>0.0</td>\n      <td>0.0</td>\n      <td>0.0</td>\n      <td>1.0</td>\n      <td>...</td>\n      <td>0.0</td>\n      <td>0.0</td>\n      <td>0.0</td>\n      <td>0.0</td>\n      <td>0.0</td>\n      <td>0.0</td>\n      <td>1.0</td>\n      <td>1.0</td>\n      <td>0.0</td>\n      <td>0.0</td>\n    </tr>\n    <tr>\n      <th>4</th>\n      <td>0.111111</td>\n      <td>0.033516</td>\n      <td>0.940600</td>\n      <td>1.0</td>\n      <td>0.0</td>\n      <td>0.0</td>\n      <td>0.0</td>\n      <td>0.0</td>\n      <td>0.0</td>\n      <td>1.0</td>\n      <td>...</td>\n      <td>0.0</td>\n      <td>0.0</td>\n      <td>0.0</td>\n      <td>0.0</td>\n      <td>0.0</td>\n      <td>0.0</td>\n      <td>1.0</td>\n      <td>1.0</td>\n      <td>0.0</td>\n      <td>0.0</td>\n    </tr>\n  </tbody>\n</table>\n<p>5 rows × 130 columns</p>\n</div>"
     },
     "execution_count": 74,
     "metadata": {},
     "output_type": "execute_result"
    }
   ]
  },
  {
   "cell_type": "code",
   "source": [
    "print(max_values)\n",
    "df_use2.describe()"
   ],
   "metadata": {
    "execution": {
     "iopub.status.busy": "2024-05-30T21:32:48.253067Z",
     "iopub.execute_input": "2024-05-30T21:32:48.253504Z",
     "iopub.status.idle": "2024-05-30T21:32:48.990117Z",
     "shell.execute_reply.started": "2024-05-30T21:32:48.253474Z",
     "shell.execute_reply": "2024-05-30T21:32:48.988858Z"
    },
    "trusted": true,
    "ExecuteTime": {
     "end_time": "2024-05-30T21:44:57.791888Z",
     "start_time": "2024-05-30T21:44:57.476476Z"
    }
   },
   "execution_count": 75,
   "outputs": [
    {
     "name": "stdout",
     "output_type": "stream",
     "text": [
      "{'bhk': 10, 'area': 16000, 'price': 99.99}\n"
     ]
    },
    {
     "data": {
      "text/plain": "                bhk          area         price  type_Apartment  \\\ncount  76038.000000  76038.000000  76038.000000    76038.000000   \nmean       0.112790      0.056545      0.286719        0.984429   \nstd        0.102528      0.042227      0.332392        0.123810   \nmin        0.000000      0.000000      0.000000        0.000000   \n25%        0.000000      0.032319      0.007577        1.000000   \n50%        0.111111      0.046935      0.045459        1.000000   \n75%        0.222222      0.066276      0.585918        1.000000   \nmax        1.000000      1.000000      1.000000        1.000000   \n\n       type_Independent House  type_Penthouse  type_Studio Apartment  \\\ncount             76038.00000    76038.000000           76038.000000   \nmean                  0.00096        0.000039               0.011599   \nstd                   0.03097        0.006281               0.107075   \nmin                   0.00000        0.000000               0.000000   \n25%                   0.00000        0.000000               0.000000   \n50%                   0.00000        0.000000               0.000000   \n75%                   0.00000        0.000000               0.000000   \nmax                   1.00000        1.000000               1.000000   \n\n         type_Villa  price_unit_Cr  price_unit_L  ...  \\\ncount  76038.000000   76038.000000  76038.000000  ...   \nmean       0.002972       0.538954      0.461046  ...   \nstd        0.054437       0.498484      0.498484  ...   \nmin        0.000000       0.000000      0.000000  ...   \n25%        0.000000       0.000000      0.000000  ...   \n50%        0.000000       1.000000      0.000000  ...   \n75%        0.000000       1.000000      1.000000  ...   \nmax        1.000000       1.000000      1.000000  ...   \n\n       region_Ville Parle West  region_Virar  region_Virar West  \\\ncount             76038.000000  76038.000000       76038.000000   \nmean                  0.001078      0.020477           0.000250   \nstd                   0.032822      0.141625           0.015806   \nmin                   0.000000      0.000000           0.000000   \n25%                   0.000000      0.000000           0.000000   \n50%                   0.000000      0.000000           0.000000   \n75%                   0.000000      0.000000           0.000000   \nmax                   1.000000      1.000000           1.000000   \n\n       region_Wadala  region_Worli  status_Ready to move  \\\ncount   76038.000000   76038.00000          76038.000000   \nmean        0.011481       0.00288              0.591573   \nstd         0.106534       0.05359              0.491546   \nmin         0.000000       0.00000              0.000000   \n25%         0.000000       0.00000              0.000000   \n50%         0.000000       0.00000              1.000000   \n75%         0.000000       0.00000              1.000000   \nmax         1.000000       1.00000              1.000000   \n\n       status_Under Construction       age_New    age_Resale   age_Unknown  \ncount               76038.000000  76038.000000  76038.000000  76038.000000  \nmean                    0.408427      0.500697      0.307175      0.192128  \nstd                     0.491546      0.500003      0.461326      0.393975  \nmin                     0.000000      0.000000      0.000000      0.000000  \n25%                     0.000000      0.000000      0.000000      0.000000  \n50%                     0.000000      1.000000      0.000000      0.000000  \n75%                     1.000000      1.000000      1.000000      0.000000  \nmax                     1.000000      1.000000      1.000000      1.000000  \n\n[8 rows x 130 columns]",
      "text/html": "<div>\n<style scoped>\n    .dataframe tbody tr th:only-of-type {\n        vertical-align: middle;\n    }\n\n    .dataframe tbody tr th {\n        vertical-align: top;\n    }\n\n    .dataframe thead th {\n        text-align: right;\n    }\n</style>\n<table border=\"1\" class=\"dataframe\">\n  <thead>\n    <tr style=\"text-align: right;\">\n      <th></th>\n      <th>bhk</th>\n      <th>area</th>\n      <th>price</th>\n      <th>type_Apartment</th>\n      <th>type_Independent House</th>\n      <th>type_Penthouse</th>\n      <th>type_Studio Apartment</th>\n      <th>type_Villa</th>\n      <th>price_unit_Cr</th>\n      <th>price_unit_L</th>\n      <th>...</th>\n      <th>region_Ville Parle West</th>\n      <th>region_Virar</th>\n      <th>region_Virar West</th>\n      <th>region_Wadala</th>\n      <th>region_Worli</th>\n      <th>status_Ready to move</th>\n      <th>status_Under Construction</th>\n      <th>age_New</th>\n      <th>age_Resale</th>\n      <th>age_Unknown</th>\n    </tr>\n  </thead>\n  <tbody>\n    <tr>\n      <th>count</th>\n      <td>76038.000000</td>\n      <td>76038.000000</td>\n      <td>76038.000000</td>\n      <td>76038.000000</td>\n      <td>76038.00000</td>\n      <td>76038.000000</td>\n      <td>76038.000000</td>\n      <td>76038.000000</td>\n      <td>76038.000000</td>\n      <td>76038.000000</td>\n      <td>...</td>\n      <td>76038.000000</td>\n      <td>76038.000000</td>\n      <td>76038.000000</td>\n      <td>76038.000000</td>\n      <td>76038.00000</td>\n      <td>76038.000000</td>\n      <td>76038.000000</td>\n      <td>76038.000000</td>\n      <td>76038.000000</td>\n      <td>76038.000000</td>\n    </tr>\n    <tr>\n      <th>mean</th>\n      <td>0.112790</td>\n      <td>0.056545</td>\n      <td>0.286719</td>\n      <td>0.984429</td>\n      <td>0.00096</td>\n      <td>0.000039</td>\n      <td>0.011599</td>\n      <td>0.002972</td>\n      <td>0.538954</td>\n      <td>0.461046</td>\n      <td>...</td>\n      <td>0.001078</td>\n      <td>0.020477</td>\n      <td>0.000250</td>\n      <td>0.011481</td>\n      <td>0.00288</td>\n      <td>0.591573</td>\n      <td>0.408427</td>\n      <td>0.500697</td>\n      <td>0.307175</td>\n      <td>0.192128</td>\n    </tr>\n    <tr>\n      <th>std</th>\n      <td>0.102528</td>\n      <td>0.042227</td>\n      <td>0.332392</td>\n      <td>0.123810</td>\n      <td>0.03097</td>\n      <td>0.006281</td>\n      <td>0.107075</td>\n      <td>0.054437</td>\n      <td>0.498484</td>\n      <td>0.498484</td>\n      <td>...</td>\n      <td>0.032822</td>\n      <td>0.141625</td>\n      <td>0.015806</td>\n      <td>0.106534</td>\n      <td>0.05359</td>\n      <td>0.491546</td>\n      <td>0.491546</td>\n      <td>0.500003</td>\n      <td>0.461326</td>\n      <td>0.393975</td>\n    </tr>\n    <tr>\n      <th>min</th>\n      <td>0.000000</td>\n      <td>0.000000</td>\n      <td>0.000000</td>\n      <td>0.000000</td>\n      <td>0.00000</td>\n      <td>0.000000</td>\n      <td>0.000000</td>\n      <td>0.000000</td>\n      <td>0.000000</td>\n      <td>0.000000</td>\n      <td>...</td>\n      <td>0.000000</td>\n      <td>0.000000</td>\n      <td>0.000000</td>\n      <td>0.000000</td>\n      <td>0.00000</td>\n      <td>0.000000</td>\n      <td>0.000000</td>\n      <td>0.000000</td>\n      <td>0.000000</td>\n      <td>0.000000</td>\n    </tr>\n    <tr>\n      <th>25%</th>\n      <td>0.000000</td>\n      <td>0.032319</td>\n      <td>0.007577</td>\n      <td>1.000000</td>\n      <td>0.00000</td>\n      <td>0.000000</td>\n      <td>0.000000</td>\n      <td>0.000000</td>\n      <td>0.000000</td>\n      <td>0.000000</td>\n      <td>...</td>\n      <td>0.000000</td>\n      <td>0.000000</td>\n      <td>0.000000</td>\n      <td>0.000000</td>\n      <td>0.00000</td>\n      <td>0.000000</td>\n      <td>0.000000</td>\n      <td>0.000000</td>\n      <td>0.000000</td>\n      <td>0.000000</td>\n    </tr>\n    <tr>\n      <th>50%</th>\n      <td>0.111111</td>\n      <td>0.046935</td>\n      <td>0.045459</td>\n      <td>1.000000</td>\n      <td>0.00000</td>\n      <td>0.000000</td>\n      <td>0.000000</td>\n      <td>0.000000</td>\n      <td>1.000000</td>\n      <td>0.000000</td>\n      <td>...</td>\n      <td>0.000000</td>\n      <td>0.000000</td>\n      <td>0.000000</td>\n      <td>0.000000</td>\n      <td>0.00000</td>\n      <td>1.000000</td>\n      <td>0.000000</td>\n      <td>1.000000</td>\n      <td>0.000000</td>\n      <td>0.000000</td>\n    </tr>\n    <tr>\n      <th>75%</th>\n      <td>0.222222</td>\n      <td>0.066276</td>\n      <td>0.585918</td>\n      <td>1.000000</td>\n      <td>0.00000</td>\n      <td>0.000000</td>\n      <td>0.000000</td>\n      <td>0.000000</td>\n      <td>1.000000</td>\n      <td>1.000000</td>\n      <td>...</td>\n      <td>0.000000</td>\n      <td>0.000000</td>\n      <td>0.000000</td>\n      <td>0.000000</td>\n      <td>0.00000</td>\n      <td>1.000000</td>\n      <td>1.000000</td>\n      <td>1.000000</td>\n      <td>1.000000</td>\n      <td>0.000000</td>\n    </tr>\n    <tr>\n      <th>max</th>\n      <td>1.000000</td>\n      <td>1.000000</td>\n      <td>1.000000</td>\n      <td>1.000000</td>\n      <td>1.00000</td>\n      <td>1.000000</td>\n      <td>1.000000</td>\n      <td>1.000000</td>\n      <td>1.000000</td>\n      <td>1.000000</td>\n      <td>...</td>\n      <td>1.000000</td>\n      <td>1.000000</td>\n      <td>1.000000</td>\n      <td>1.000000</td>\n      <td>1.00000</td>\n      <td>1.000000</td>\n      <td>1.000000</td>\n      <td>1.000000</td>\n      <td>1.000000</td>\n      <td>1.000000</td>\n    </tr>\n  </tbody>\n</table>\n<p>8 rows × 130 columns</p>\n</div>"
     },
     "execution_count": 75,
     "metadata": {},
     "output_type": "execute_result"
    }
   ]
  },
  {
   "cell_type": "code",
   "source": [
    "# Convert dataframe to nparray\n",
    "train_y = df_use2['price'].to_numpy()\n",
    "train_x = df_use2.drop(['price'], axis=1).to_numpy()\n",
    "\n",
    "print(train_x.shape)\n",
    "print(train_y.shape)"
   ],
   "metadata": {
    "execution": {
     "iopub.status.busy": "2024-05-30T21:32:48.991795Z",
     "iopub.execute_input": "2024-05-30T21:32:48.992716Z",
     "iopub.status.idle": "2024-05-30T21:32:49.056943Z",
     "shell.execute_reply.started": "2024-05-30T21:32:48.992677Z",
     "shell.execute_reply": "2024-05-30T21:32:49.055793Z"
    },
    "trusted": true,
    "ExecuteTime": {
     "end_time": "2024-05-30T21:44:57.843267Z",
     "start_time": "2024-05-30T21:44:57.792895Z"
    }
   },
   "execution_count": 76,
   "outputs": [
    {
     "name": "stdout",
     "output_type": "stream",
     "text": [
      "(76038, 129)\n",
      "(76038,)\n"
     ]
    }
   ]
  },
  {
   "cell_type": "markdown",
   "source": [
    "# Build model and training"
   ],
   "metadata": {}
  },
  {
   "cell_type": "code",
   "source": [
    "import tensorflow as tf\n",
    "import keras\n",
    "from keras import layers, optimizers"
   ],
   "metadata": {
    "execution": {
     "iopub.status.busy": "2024-05-30T21:32:49.058436Z",
     "iopub.execute_input": "2024-05-30T21:32:49.058805Z",
     "iopub.status.idle": "2024-05-30T21:33:03.217574Z",
     "shell.execute_reply.started": "2024-05-30T21:32:49.058775Z",
     "shell.execute_reply": "2024-05-30T21:33:03.216491Z"
    },
    "trusted": true,
    "ExecuteTime": {
     "end_time": "2024-05-30T21:44:57.848276Z",
     "start_time": "2024-05-30T21:44:57.845274Z"
    }
   },
   "execution_count": 77,
   "outputs": []
  },
  {
   "cell_type": "code",
   "source": [
    "def custom_dense(unit=128, activation='relu', bias=True, batch_norm=True):\n",
    "    def _custom_dense(input):\n",
    "        x = layers.Dense(unit, activation, bias)(input)\n",
    "        if batch_norm:\n",
    "            x = layers.BatchNormalization()(x)\n",
    "        return x\n",
    "    return _custom_dense\n",
    "\n",
    "def simple_ANN(att_dims):\n",
    "    input = keras.Input(shape= (att_dims, ), name='ANN_input')\n",
    "    x = custom_dense(256, batch_norm=True)(input)\n",
    "    x = custom_dense(128, batch_norm=True)(x)\n",
    "    x = custom_dense(64, batch_norm=True)(x)\n",
    "    x = custom_dense(32, batch_norm=True)(x)\n",
    "    x = layers.Dropout(0.3)(x)\n",
    "    output = custom_dense(1, 'sigmoid', batch_norm=False)(x)\n",
    "    model = keras.Model(input, output, name='Simple_ANN')\n",
    "    model.summary()\n",
    "    return model"
   ],
   "metadata": {
    "execution": {
     "iopub.status.busy": "2024-05-30T21:33:03.219155Z",
     "iopub.execute_input": "2024-05-30T21:33:03.219861Z",
     "iopub.status.idle": "2024-05-30T21:33:03.233034Z",
     "shell.execute_reply.started": "2024-05-30T21:33:03.219832Z",
     "shell.execute_reply": "2024-05-30T21:33:03.231431Z"
    },
    "trusted": true,
    "ExecuteTime": {
     "end_time": "2024-05-30T21:44:57.854631Z",
     "start_time": "2024-05-30T21:44:57.849524Z"
    }
   },
   "execution_count": 78,
   "outputs": []
  },
  {
   "cell_type": "code",
   "source": [
    "dim = train_x.shape[1]\n",
    "model = simple_ANN(dim)\n",
    "# Compile model\n",
    "model.compile(\n",
    "        loss=keras.losses.MeanAbsoluteError(),\n",
    "        optimizer=keras.optimizers.Adam(0.005),\n",
    "        metrics=[keras.metrics.R2Score()],\n",
    ")"
   ],
   "metadata": {
    "execution": {
     "iopub.status.busy": "2024-05-30T21:33:03.234594Z",
     "iopub.execute_input": "2024-05-30T21:33:03.235695Z",
     "iopub.status.idle": "2024-05-30T21:33:03.492445Z",
     "shell.execute_reply.started": "2024-05-30T21:33:03.235666Z",
     "shell.execute_reply": "2024-05-30T21:33:03.491057Z"
    },
    "trusted": true,
    "ExecuteTime": {
     "end_time": "2024-05-30T21:44:57.989100Z",
     "start_time": "2024-05-30T21:44:57.855739Z"
    }
   },
   "execution_count": 79,
   "outputs": [
    {
     "name": "stdout",
     "output_type": "stream",
     "text": [
      "Model: \"Simple_ANN\"\n",
      "_________________________________________________________________\n",
      " Layer (type)                Output Shape              Param #   \n",
      "=================================================================\n",
      " ANN_input (InputLayer)      [(None, 129)]             0         \n",
      "                                                                 \n",
      " dense_10 (Dense)            (None, 256)               33280     \n",
      "                                                                 \n",
      " batch_normalization_8 (Bat  (None, 256)               1024      \n",
      " chNormalization)                                                \n",
      "                                                                 \n",
      " dense_11 (Dense)            (None, 128)               32896     \n",
      "                                                                 \n",
      " batch_normalization_9 (Bat  (None, 128)               512       \n",
      " chNormalization)                                                \n",
      "                                                                 \n",
      " dense_12 (Dense)            (None, 64)                8256      \n",
      "                                                                 \n",
      " batch_normalization_10 (Ba  (None, 64)                256       \n",
      " tchNormalization)                                               \n",
      "                                                                 \n",
      " dense_13 (Dense)            (None, 32)                2080      \n",
      "                                                                 \n",
      " batch_normalization_11 (Ba  (None, 32)                128       \n",
      " tchNormalization)                                               \n",
      "                                                                 \n",
      " dropout_2 (Dropout)         (None, 32)                0         \n",
      "                                                                 \n",
      " dense_14 (Dense)            (None, 1)                 33        \n",
      "                                                                 \n",
      "=================================================================\n",
      "Total params: 78465 (306.50 KB)\n",
      "Trainable params: 77505 (302.75 KB)\n",
      "Non-trainable params: 960 (3.75 KB)\n",
      "_________________________________________________________________\n"
     ]
    }
   ]
  },
  {
   "cell_type": "code",
   "source": [
    "# Input data piepline\n",
    "train_size = int(train_x.shape[0] * 0.8)\n",
    "\n",
    "train_data = train_x[:train_size]\n",
    "train_label = train_y[:train_size]\n",
    "test_data = train_x[train_size:]\n",
    "test_label = train_y[train_size:]\n",
    "\n",
    "print(train_data.shape)\n",
    "print(test_data.shape)"
   ],
   "metadata": {
    "execution": {
     "iopub.status.busy": "2024-05-30T21:33:03.494227Z",
     "iopub.execute_input": "2024-05-30T21:33:03.494568Z",
     "iopub.status.idle": "2024-05-30T21:33:03.502454Z",
     "shell.execute_reply.started": "2024-05-30T21:33:03.494540Z",
     "shell.execute_reply": "2024-05-30T21:33:03.501028Z"
    },
    "trusted": true,
    "ExecuteTime": {
     "end_time": "2024-05-30T21:44:57.998611Z",
     "start_time": "2024-05-30T21:44:57.990107Z"
    }
   },
   "execution_count": 80,
   "outputs": [
    {
     "name": "stdout",
     "output_type": "stream",
     "text": [
      "(60830, 129)\n",
      "(15208, 129)\n"
     ]
    }
   ]
  },
  {
   "cell_type": "code",
   "source": [
    "EPOCHS = 50\n",
    "BATCH_SIZE = 256\n",
    "\n",
    "# Train model \n",
    "history = model.fit(train_data, train_label, BATCH_SIZE, EPOCHS, validation_split=0.2, shuffle=True)"
   ],
   "metadata": {
    "execution": {
     "iopub.status.busy": "2024-05-30T21:33:03.504473Z",
     "iopub.execute_input": "2024-05-30T21:33:03.504900Z",
     "iopub.status.idle": "2024-05-30T21:34:59.308603Z",
     "shell.execute_reply.started": "2024-05-30T21:33:03.504870Z",
     "shell.execute_reply": "2024-05-30T21:34:59.307273Z"
    },
    "trusted": true,
    "ExecuteTime": {
     "end_time": "2024-05-30T21:45:33.959356Z",
     "start_time": "2024-05-30T21:44:57.999618Z"
    }
   },
   "execution_count": 81,
   "outputs": [
    {
     "name": "stdout",
     "output_type": "stream",
     "text": [
      "Epoch 1/50\n",
      "191/191 [==============================] - 2s 4ms/step - loss: 0.0860 - r2_score: 0.8071 - val_loss: 0.0935 - val_r2_score: 0.8440\n",
      "Epoch 2/50\n",
      "191/191 [==============================] - 1s 4ms/step - loss: 0.0523 - r2_score: 0.9279 - val_loss: 0.0562 - val_r2_score: 0.9131\n",
      "Epoch 3/50\n",
      "191/191 [==============================] - 1s 3ms/step - loss: 0.0462 - r2_score: 0.9462 - val_loss: 0.0528 - val_r2_score: 0.9169\n",
      "Epoch 4/50\n",
      "191/191 [==============================] - 1s 4ms/step - loss: 0.0448 - r2_score: 0.9490 - val_loss: 0.0442 - val_r2_score: 0.9346\n",
      "Epoch 5/50\n",
      "191/191 [==============================] - 1s 4ms/step - loss: 0.0445 - r2_score: 0.9490 - val_loss: 0.0417 - val_r2_score: 0.9431\n",
      "Epoch 6/50\n",
      "191/191 [==============================] - 1s 3ms/step - loss: 0.0437 - r2_score: 0.9515 - val_loss: 0.0429 - val_r2_score: 0.9392\n",
      "Epoch 7/50\n",
      "191/191 [==============================] - 1s 3ms/step - loss: 0.0429 - r2_score: 0.9527 - val_loss: 0.0399 - val_r2_score: 0.9467\n",
      "Epoch 8/50\n",
      "191/191 [==============================] - 1s 4ms/step - loss: 0.0425 - r2_score: 0.9533 - val_loss: 0.0440 - val_r2_score: 0.9388\n",
      "Epoch 9/50\n",
      "191/191 [==============================] - 1s 4ms/step - loss: 0.0423 - r2_score: 0.9539 - val_loss: 0.0418 - val_r2_score: 0.9444\n",
      "Epoch 10/50\n",
      "191/191 [==============================] - 1s 4ms/step - loss: 0.0421 - r2_score: 0.9540 - val_loss: 0.0428 - val_r2_score: 0.9436\n",
      "Epoch 11/50\n",
      "191/191 [==============================] - 1s 4ms/step - loss: 0.0420 - r2_score: 0.9545 - val_loss: 0.0424 - val_r2_score: 0.9407\n",
      "Epoch 12/50\n",
      "191/191 [==============================] - 1s 4ms/step - loss: 0.0418 - r2_score: 0.9548 - val_loss: 0.0417 - val_r2_score: 0.9432\n",
      "Epoch 13/50\n",
      "191/191 [==============================] - 1s 4ms/step - loss: 0.0417 - r2_score: 0.9550 - val_loss: 0.0409 - val_r2_score: 0.9433\n",
      "Epoch 14/50\n",
      "191/191 [==============================] - 1s 4ms/step - loss: 0.0416 - r2_score: 0.9549 - val_loss: 0.0424 - val_r2_score: 0.9412\n",
      "Epoch 15/50\n",
      "191/191 [==============================] - 1s 4ms/step - loss: 0.0412 - r2_score: 0.9558 - val_loss: 0.0519 - val_r2_score: 0.9189\n",
      "Epoch 16/50\n",
      "191/191 [==============================] - 1s 4ms/step - loss: 0.0413 - r2_score: 0.9555 - val_loss: 0.0398 - val_r2_score: 0.9476\n",
      "Epoch 17/50\n",
      "191/191 [==============================] - 1s 3ms/step - loss: 0.0406 - r2_score: 0.9565 - val_loss: 0.0449 - val_r2_score: 0.9353\n",
      "Epoch 18/50\n",
      "191/191 [==============================] - 1s 4ms/step - loss: 0.0405 - r2_score: 0.9569 - val_loss: 0.0397 - val_r2_score: 0.9478\n",
      "Epoch 19/50\n",
      "191/191 [==============================] - 1s 4ms/step - loss: 0.0412 - r2_score: 0.9558 - val_loss: 0.0447 - val_r2_score: 0.9321\n",
      "Epoch 20/50\n",
      "191/191 [==============================] - 1s 4ms/step - loss: 0.0405 - r2_score: 0.9569 - val_loss: 0.0418 - val_r2_score: 0.9427\n",
      "Epoch 21/50\n",
      "191/191 [==============================] - 1s 4ms/step - loss: 0.0401 - r2_score: 0.9577 - val_loss: 0.0402 - val_r2_score: 0.9480\n",
      "Epoch 22/50\n",
      "191/191 [==============================] - 1s 3ms/step - loss: 0.0401 - r2_score: 0.9576 - val_loss: 0.0407 - val_r2_score: 0.9439\n",
      "Epoch 23/50\n",
      "191/191 [==============================] - 1s 4ms/step - loss: 0.0399 - r2_score: 0.9578 - val_loss: 0.0404 - val_r2_score: 0.9454\n",
      "Epoch 24/50\n",
      "191/191 [==============================] - 1s 4ms/step - loss: 0.0402 - r2_score: 0.9573 - val_loss: 0.0409 - val_r2_score: 0.9434\n",
      "Epoch 25/50\n",
      "191/191 [==============================] - 1s 3ms/step - loss: 0.0400 - r2_score: 0.9577 - val_loss: 0.0425 - val_r2_score: 0.9393\n",
      "Epoch 26/50\n",
      "191/191 [==============================] - 1s 4ms/step - loss: 0.0397 - r2_score: 0.9584 - val_loss: 0.0396 - val_r2_score: 0.9471\n",
      "Epoch 27/50\n",
      "191/191 [==============================] - 1s 4ms/step - loss: 0.0399 - r2_score: 0.9582 - val_loss: 0.0409 - val_r2_score: 0.9449\n",
      "Epoch 28/50\n",
      "191/191 [==============================] - 1s 4ms/step - loss: 0.0393 - r2_score: 0.9588 - val_loss: 0.0403 - val_r2_score: 0.9455\n",
      "Epoch 29/50\n",
      "191/191 [==============================] - 1s 4ms/step - loss: 0.0393 - r2_score: 0.9589 - val_loss: 0.0393 - val_r2_score: 0.9479\n",
      "Epoch 30/50\n",
      "191/191 [==============================] - 1s 4ms/step - loss: 0.0399 - r2_score: 0.9579 - val_loss: 0.0412 - val_r2_score: 0.9431\n",
      "Epoch 31/50\n",
      "191/191 [==============================] - 1s 4ms/step - loss: 0.0391 - r2_score: 0.9592 - val_loss: 0.0407 - val_r2_score: 0.9471\n",
      "Epoch 32/50\n",
      "191/191 [==============================] - 1s 4ms/step - loss: 0.0397 - r2_score: 0.9581 - val_loss: 0.0396 - val_r2_score: 0.9469\n",
      "Epoch 33/50\n",
      "191/191 [==============================] - 1s 4ms/step - loss: 0.0395 - r2_score: 0.9583 - val_loss: 0.0414 - val_r2_score: 0.9452\n",
      "Epoch 34/50\n",
      "191/191 [==============================] - 1s 4ms/step - loss: 0.0395 - r2_score: 0.9588 - val_loss: 0.0422 - val_r2_score: 0.9432\n",
      "Epoch 35/50\n",
      "191/191 [==============================] - 1s 4ms/step - loss: 0.0391 - r2_score: 0.9591 - val_loss: 0.0408 - val_r2_score: 0.9452\n",
      "Epoch 36/50\n",
      "191/191 [==============================] - 1s 4ms/step - loss: 0.0388 - r2_score: 0.9596 - val_loss: 0.0388 - val_r2_score: 0.9498\n",
      "Epoch 37/50\n",
      "191/191 [==============================] - 1s 4ms/step - loss: 0.0391 - r2_score: 0.9591 - val_loss: 0.0401 - val_r2_score: 0.9461\n",
      "Epoch 38/50\n",
      "191/191 [==============================] - 1s 4ms/step - loss: 0.0389 - r2_score: 0.9597 - val_loss: 0.0407 - val_r2_score: 0.9453\n",
      "Epoch 39/50\n",
      "191/191 [==============================] - 1s 4ms/step - loss: 0.0386 - r2_score: 0.9600 - val_loss: 0.0417 - val_r2_score: 0.9400\n",
      "Epoch 40/50\n",
      "191/191 [==============================] - 1s 4ms/step - loss: 0.0390 - r2_score: 0.9594 - val_loss: 0.0424 - val_r2_score: 0.9406\n",
      "Epoch 41/50\n",
      "191/191 [==============================] - 1s 4ms/step - loss: 0.0387 - r2_score: 0.9600 - val_loss: 0.0398 - val_r2_score: 0.9467\n",
      "Epoch 42/50\n",
      "191/191 [==============================] - 1s 4ms/step - loss: 0.0386 - r2_score: 0.9603 - val_loss: 0.0404 - val_r2_score: 0.9441\n",
      "Epoch 43/50\n",
      "191/191 [==============================] - 1s 4ms/step - loss: 0.0384 - r2_score: 0.9603 - val_loss: 0.0440 - val_r2_score: 0.9349\n",
      "Epoch 44/50\n",
      "191/191 [==============================] - 1s 4ms/step - loss: 0.0383 - r2_score: 0.9606 - val_loss: 0.0391 - val_r2_score: 0.9470\n",
      "Epoch 45/50\n",
      "191/191 [==============================] - 1s 4ms/step - loss: 0.0384 - r2_score: 0.9606 - val_loss: 0.0403 - val_r2_score: 0.9468\n",
      "Epoch 46/50\n",
      "191/191 [==============================] - 1s 4ms/step - loss: 0.0388 - r2_score: 0.9599 - val_loss: 0.0409 - val_r2_score: 0.9429\n",
      "Epoch 47/50\n",
      "191/191 [==============================] - 1s 4ms/step - loss: 0.0382 - r2_score: 0.9610 - val_loss: 0.0428 - val_r2_score: 0.9406\n",
      "Epoch 48/50\n",
      "191/191 [==============================] - 1s 4ms/step - loss: 0.0380 - r2_score: 0.9607 - val_loss: 0.0392 - val_r2_score: 0.9463\n",
      "Epoch 49/50\n",
      "191/191 [==============================] - 1s 4ms/step - loss: 0.0381 - r2_score: 0.9610 - val_loss: 0.0413 - val_r2_score: 0.9429\n",
      "Epoch 50/50\n",
      "191/191 [==============================] - 1s 4ms/step - loss: 0.0382 - r2_score: 0.9608 - val_loss: 0.0393 - val_r2_score: 0.9481\n"
     ]
    }
   ]
  },
  {
   "cell_type": "code",
   "source": [
    "pd.DataFrame(history.history).plot(figsize=(8,5))\n",
    "plt.show()"
   ],
   "metadata": {
    "execution": {
     "iopub.status.busy": "2024-05-30T21:34:59.314084Z",
     "iopub.execute_input": "2024-05-30T21:34:59.314467Z",
     "iopub.status.idle": "2024-05-30T21:34:59.618353Z",
     "shell.execute_reply.started": "2024-05-30T21:34:59.314439Z",
     "shell.execute_reply": "2024-05-30T21:34:59.616981Z"
    },
    "trusted": true,
    "ExecuteTime": {
     "end_time": "2024-05-30T21:45:34.082547Z",
     "start_time": "2024-05-30T21:45:33.960361Z"
    }
   },
   "execution_count": 82,
   "outputs": [
    {
     "data": {
      "text/plain": "<Figure size 800x500 with 1 Axes>",
      "image/png": "[encoded data removed]"
     },
     "metadata": {},
     "output_type": "display_data"
    }
   ]
  },
  {
   "cell_type": "code",
   "source": [
    "plt.plot(history.history['loss'])\n",
    "plt.plot(history.history['val_loss'])\n",
    "plt.title('model loss')\n",
    "plt.ylabel('loss')\n",
    "plt.xlabel('epoch')\n",
    "plt.legend(['train', 'val'], loc='upper left')\n",
    "plt.show()"
   ],
   "metadata": {
    "execution": {
     "iopub.status.busy": "2024-05-30T21:34:59.619804Z",
     "iopub.execute_input": "2024-05-30T21:34:59.620142Z",
     "iopub.status.idle": "2024-05-30T21:34:59.867777Z",
     "shell.execute_reply.started": "2024-05-30T21:34:59.620114Z",
     "shell.execute_reply": "2024-05-30T21:34:59.866905Z"
    },
    "trusted": true,
    "ExecuteTime": {
     "end_time": "2024-05-30T21:45:34.207439Z",
     "start_time": "2024-05-30T21:45:34.083554Z"
    }
   },
   "execution_count": 83,
   "outputs": [
    {
     "data": {
      "text/plain": "<Figure size 640x480 with 1 Axes>",
      "image/png": "[encoded data removed]"
     },
     "metadata": {},
     "output_type": "display_data"
    }
   ]
  },
  {
   "cell_type": "code",
   "source": [
    "# Evaluate result\n",
    "model.evaluate(test_data, test_label)"
   ],
   "metadata": {
    "execution": {
     "iopub.status.busy": "2024-05-30T21:34:59.868950Z",
     "iopub.execute_input": "2024-05-30T21:34:59.870079Z",
     "iopub.status.idle": "2024-05-30T21:35:00.754661Z",
     "shell.execute_reply.started": "2024-05-30T21:34:59.870046Z",
     "shell.execute_reply": "2024-05-30T21:35:00.753254Z"
    },
    "trusted": true,
    "ExecuteTime": {
     "end_time": "2024-05-30T21:45:34.638563Z",
     "start_time": "2024-05-30T21:45:34.208446Z"
    }
   },
   "execution_count": 84,
   "outputs": [
    {
     "name": "stdout",
     "output_type": "stream",
     "text": [
      "476/476 [==============================] - 0s 782us/step - loss: 0.0349 - r2_score: 0.9271\n"
     ]
    },
    {
     "data": {
      "text/plain": "[0.03492638096213341, 0.9270883202552795]"
     },
     "execution_count": 84,
     "metadata": {},
     "output_type": "execute_result"
    }
   ]
  },
  {
   "cell_type": "code",
   "source": [
    "EPOCHS = 100\n",
    "BATCH_SIZE = 256\n",
    "\n",
    "# Train model \n",
    "history = model.fit(train_data, train_label, BATCH_SIZE, EPOCHS, validation_split=0.25, initial_epoch=50)"
   ],
   "metadata": {
    "execution": {
     "iopub.status.busy": "2024-05-30T21:35:02.517276Z",
     "iopub.execute_input": "2024-05-30T21:35:02.518041Z",
     "iopub.status.idle": "2024-05-30T21:36:49.379064Z",
     "shell.execute_reply.started": "2024-05-30T21:35:02.518008Z",
     "shell.execute_reply": "2024-05-30T21:36:49.378155Z"
    },
    "trusted": true,
    "ExecuteTime": {
     "end_time": "2024-05-30T21:46:07.883054Z",
     "start_time": "2024-05-30T21:45:34.638563Z"
    }
   },
   "execution_count": 85,
   "outputs": [
    {
     "name": "stdout",
     "output_type": "stream",
     "text": [
      "Epoch 51/100\n",
      "179/179 [==============================] - 1s 4ms/step - loss: 0.0379 - r2_score: 0.9608 - val_loss: 0.0379 - val_r2_score: 0.9525\n",
      "Epoch 52/100\n",
      "179/179 [==============================] - 1s 4ms/step - loss: 0.0382 - r2_score: 0.9606 - val_loss: 0.0422 - val_r2_score: 0.9445\n",
      "Epoch 53/100\n",
      "179/179 [==============================] - 1s 4ms/step - loss: 0.0375 - r2_score: 0.9613 - val_loss: 0.0394 - val_r2_score: 0.9501\n",
      "Epoch 54/100\n",
      "179/179 [==============================] - 1s 4ms/step - loss: 0.0378 - r2_score: 0.9613 - val_loss: 0.0413 - val_r2_score: 0.9458\n",
      "Epoch 55/100\n",
      "179/179 [==============================] - 1s 4ms/step - loss: 0.0375 - r2_score: 0.9616 - val_loss: 0.0388 - val_r2_score: 0.9497\n",
      "Epoch 56/100\n",
      "179/179 [==============================] - 1s 4ms/step - loss: 0.0377 - r2_score: 0.9616 - val_loss: 0.0404 - val_r2_score: 0.9479\n",
      "Epoch 57/100\n",
      "179/179 [==============================] - 1s 4ms/step - loss: 0.0375 - r2_score: 0.9616 - val_loss: 0.0413 - val_r2_score: 0.9444\n",
      "Epoch 58/100\n",
      "179/179 [==============================] - 1s 4ms/step - loss: 0.0375 - r2_score: 0.9613 - val_loss: 0.0410 - val_r2_score: 0.9455\n",
      "Epoch 59/100\n",
      "179/179 [==============================] - 1s 4ms/step - loss: 0.0376 - r2_score: 0.9614 - val_loss: 0.0416 - val_r2_score: 0.9457\n",
      "Epoch 60/100\n",
      "179/179 [==============================] - 1s 4ms/step - loss: 0.0376 - r2_score: 0.9615 - val_loss: 0.0415 - val_r2_score: 0.9445\n",
      "Epoch 61/100\n",
      "179/179 [==============================] - 1s 4ms/step - loss: 0.0374 - r2_score: 0.9617 - val_loss: 0.0403 - val_r2_score: 0.9486\n",
      "Epoch 62/100\n",
      "179/179 [==============================] - 1s 4ms/step - loss: 0.0373 - r2_score: 0.9619 - val_loss: 0.0420 - val_r2_score: 0.9419\n",
      "Epoch 63/100\n",
      "179/179 [==============================] - 1s 4ms/step - loss: 0.0372 - r2_score: 0.9621 - val_loss: 0.0397 - val_r2_score: 0.9485\n",
      "Epoch 64/100\n",
      "179/179 [==============================] - 1s 4ms/step - loss: 0.0374 - r2_score: 0.9618 - val_loss: 0.0399 - val_r2_score: 0.9472\n",
      "Epoch 65/100\n",
      "179/179 [==============================] - 1s 4ms/step - loss: 0.0373 - r2_score: 0.9619 - val_loss: 0.0417 - val_r2_score: 0.9463\n",
      "Epoch 66/100\n",
      "179/179 [==============================] - 1s 4ms/step - loss: 0.0373 - r2_score: 0.9617 - val_loss: 0.0419 - val_r2_score: 0.9423\n",
      "Epoch 67/100\n",
      "179/179 [==============================] - 1s 4ms/step - loss: 0.0371 - r2_score: 0.9622 - val_loss: 0.0441 - val_r2_score: 0.9408\n",
      "Epoch 68/100\n",
      "179/179 [==============================] - 1s 4ms/step - loss: 0.0371 - r2_score: 0.9620 - val_loss: 0.0412 - val_r2_score: 0.9453\n",
      "Epoch 69/100\n",
      "179/179 [==============================] - 1s 4ms/step - loss: 0.0371 - r2_score: 0.9625 - val_loss: 0.0390 - val_r2_score: 0.9496\n",
      "Epoch 70/100\n",
      "179/179 [==============================] - 1s 4ms/step - loss: 0.0369 - r2_score: 0.9625 - val_loss: 0.0391 - val_r2_score: 0.9497\n",
      "Epoch 71/100\n",
      "179/179 [==============================] - 1s 4ms/step - loss: 0.0370 - r2_score: 0.9624 - val_loss: 0.0387 - val_r2_score: 0.9497\n",
      "Epoch 72/100\n",
      "179/179 [==============================] - 1s 4ms/step - loss: 0.0372 - r2_score: 0.9620 - val_loss: 0.0397 - val_r2_score: 0.9487\n",
      "Epoch 73/100\n",
      "179/179 [==============================] - 1s 4ms/step - loss: 0.0368 - r2_score: 0.9626 - val_loss: 0.0401 - val_r2_score: 0.9482\n",
      "Epoch 74/100\n",
      "179/179 [==============================] - 1s 4ms/step - loss: 0.0369 - r2_score: 0.9624 - val_loss: 0.0445 - val_r2_score: 0.9416\n",
      "Epoch 75/100\n",
      "179/179 [==============================] - 1s 4ms/step - loss: 0.0368 - r2_score: 0.9629 - val_loss: 0.0413 - val_r2_score: 0.9449\n",
      "Epoch 76/100\n",
      "179/179 [==============================] - 1s 4ms/step - loss: 0.0368 - r2_score: 0.9626 - val_loss: 0.0391 - val_r2_score: 0.9509\n",
      "Epoch 77/100\n",
      "179/179 [==============================] - 1s 4ms/step - loss: 0.0368 - r2_score: 0.9627 - val_loss: 0.0417 - val_r2_score: 0.9453\n",
      "Epoch 78/100\n",
      "179/179 [==============================] - 1s 3ms/step - loss: 0.0368 - r2_score: 0.9629 - val_loss: 0.0392 - val_r2_score: 0.9495\n",
      "Epoch 79/100\n",
      "179/179 [==============================] - 1s 3ms/step - loss: 0.0365 - r2_score: 0.9632 - val_loss: 0.0392 - val_r2_score: 0.9472\n",
      "Epoch 80/100\n",
      "179/179 [==============================] - 1s 4ms/step - loss: 0.0370 - r2_score: 0.9625 - val_loss: 0.0400 - val_r2_score: 0.9473\n",
      "Epoch 81/100\n",
      "179/179 [==============================] - 1s 4ms/step - loss: 0.0367 - r2_score: 0.9629 - val_loss: 0.0398 - val_r2_score: 0.9478\n",
      "Epoch 82/100\n",
      "179/179 [==============================] - 1s 4ms/step - loss: 0.0364 - r2_score: 0.9633 - val_loss: 0.0423 - val_r2_score: 0.9418\n",
      "Epoch 83/100\n",
      "179/179 [==============================] - 1s 4ms/step - loss: 0.0368 - r2_score: 0.9625 - val_loss: 0.0428 - val_r2_score: 0.9423\n",
      "Epoch 84/100\n",
      "179/179 [==============================] - 1s 4ms/step - loss: 0.0365 - r2_score: 0.9633 - val_loss: 0.0394 - val_r2_score: 0.9494\n",
      "Epoch 85/100\n",
      "179/179 [==============================] - 1s 3ms/step - loss: 0.0365 - r2_score: 0.9630 - val_loss: 0.0401 - val_r2_score: 0.9465\n",
      "Epoch 86/100\n",
      "179/179 [==============================] - 1s 3ms/step - loss: 0.0364 - r2_score: 0.9632 - val_loss: 0.0404 - val_r2_score: 0.9465\n",
      "Epoch 87/100\n",
      "179/179 [==============================] - 1s 3ms/step - loss: 0.0366 - r2_score: 0.9631 - val_loss: 0.0449 - val_r2_score: 0.9360\n",
      "Epoch 88/100\n",
      "179/179 [==============================] - 1s 4ms/step - loss: 0.0364 - r2_score: 0.9632 - val_loss: 0.0397 - val_r2_score: 0.9478\n",
      "Epoch 89/100\n",
      "179/179 [==============================] - 1s 4ms/step - loss: 0.0364 - r2_score: 0.9633 - val_loss: 0.0394 - val_r2_score: 0.9492\n",
      "Epoch 90/100\n",
      "179/179 [==============================] - 1s 4ms/step - loss: 0.0367 - r2_score: 0.9627 - val_loss: 0.0426 - val_r2_score: 0.9433\n",
      "Epoch 91/100\n",
      "179/179 [==============================] - 1s 4ms/step - loss: 0.0364 - r2_score: 0.9633 - val_loss: 0.0394 - val_r2_score: 0.9481\n",
      "Epoch 92/100\n",
      "179/179 [==============================] - 1s 4ms/step - loss: 0.0365 - r2_score: 0.9633 - val_loss: 0.0409 - val_r2_score: 0.9456\n",
      "Epoch 93/100\n",
      "179/179 [==============================] - 1s 4ms/step - loss: 0.0364 - r2_score: 0.9635 - val_loss: 0.0407 - val_r2_score: 0.9484\n",
      "Epoch 94/100\n",
      "179/179 [==============================] - 1s 4ms/step - loss: 0.0362 - r2_score: 0.9634 - val_loss: 0.0434 - val_r2_score: 0.9414\n",
      "Epoch 95/100\n",
      "179/179 [==============================] - 1s 4ms/step - loss: 0.0360 - r2_score: 0.9638 - val_loss: 0.0410 - val_r2_score: 0.9473\n",
      "Epoch 96/100\n",
      "179/179 [==============================] - 1s 4ms/step - loss: 0.0362 - r2_score: 0.9635 - val_loss: 0.0409 - val_r2_score: 0.9466\n",
      "Epoch 97/100\n",
      "179/179 [==============================] - 1s 4ms/step - loss: 0.0363 - r2_score: 0.9636 - val_loss: 0.0407 - val_r2_score: 0.9465\n",
      "Epoch 98/100\n",
      "179/179 [==============================] - 1s 4ms/step - loss: 0.0364 - r2_score: 0.9633 - val_loss: 0.0401 - val_r2_score: 0.9464\n",
      "Epoch 99/100\n",
      "179/179 [==============================] - 1s 4ms/step - loss: 0.0362 - r2_score: 0.9635 - val_loss: 0.0402 - val_r2_score: 0.9477\n",
      "Epoch 100/100\n",
      "179/179 [==============================] - 1s 4ms/step - loss: 0.0361 - r2_score: 0.9638 - val_loss: 0.0408 - val_r2_score: 0.9462\n"
     ]
    }
   ]
  },
  {
   "cell_type": "code",
   "source": [
    "# 2nd 50 epochs\n",
    "from sklearn import metrics\n",
    "mae = metrics.r2_score(test_label, model.predict(test_data))\n",
    "print(mae)"
   ],
   "metadata": {
    "execution": {
     "iopub.status.busy": "2024-05-30T21:36:49.381158Z",
     "iopub.execute_input": "2024-05-30T21:36:49.382400Z",
     "iopub.status.idle": "2024-05-30T21:36:50.290941Z",
     "shell.execute_reply.started": "2024-05-30T21:36:49.382362Z",
     "shell.execute_reply": "2024-05-30T21:36:50.289649Z"
    },
    "trusted": true,
    "ExecuteTime": {
     "end_time": "2024-05-30T21:46:08.448162Z",
     "start_time": "2024-05-30T21:46:07.884058Z"
    }
   },
   "execution_count": 86,
   "outputs": [
    {
     "name": "stdout",
     "output_type": "stream",
     "text": [
      "476/476 [==============================] - 0s 705us/step\n",
      "0.9206492835642387\n"
     ]
    }
   ]
  }
 ]
}

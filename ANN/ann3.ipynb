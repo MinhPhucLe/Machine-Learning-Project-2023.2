{
 "metadata": {
  "kernelspec": {
   "language": "python",
   "display_name": "Python 3",
   "name": "python3"
  },
  "language_info": {
   "name": "python",
   "version": "3.10.13",
   "mimetype": "text/x-python",
   "codemirror_mode": {
    "name": "ipython",
    "version": 3
   },
   "pygments_lexer": "ipython3",
   "nbconvert_exporter": "python",
   "file_extension": ".py"
  },
  "kaggle": {
   "accelerator": "none",
   "dataSources": [
    {
     "sourceId": 4823919,
     "sourceType": "datasetVersion",
     "datasetId": 2794383
    }
   ],
   "dockerImageVersionId": 30698,
   "isInternetEnabled": false,
   "language": "python",
   "sourceType": "notebook",
   "isGpuEnabled": false
  }
 },
 "nbformat_minor": 4,
 "nbformat": 4,
 "cells": [
  {
   "cell_type": "code",
   "source": [
    "# import all libs and frameworks\n",
    "import pandas as pd\n",
    "import matplotlib.pyplot as plt\n",
    "import numpy as np\n",
    "import seaborn as sns"
   ],
   "metadata": {
    "execution": {
     "iopub.status.busy": "2024-05-30T21:32:46.108634Z",
     "iopub.execute_input": "2024-05-30T21:32:46.109070Z",
     "iopub.status.idle": "2024-05-30T21:32:47.167760Z",
     "shell.execute_reply.started": "2024-05-30T21:32:46.109035Z",
     "shell.execute_reply": "2024-05-30T21:32:47.166213Z"
    },
    "trusted": true,
    "ExecuteTime": {
     "end_time": "2024-05-31T04:57:22.986849Z",
     "start_time": "2024-05-31T04:57:22.983908Z"
    }
   },
   "execution_count": 60,
   "outputs": []
  },
  {
   "cell_type": "markdown",
   "source": [
    "# Import and preprocess data"
   ],
   "metadata": {}
  },
  {
   "cell_type": "code",
   "source": [
    "\n",
    "df = pd.read_csv(\"Mumbai_House_Price.csv\")\n",
    "df.head()\n"
   ],
   "metadata": {
    "execution": {
     "iopub.status.busy": "2024-05-30T21:32:47.169797Z",
     "iopub.execute_input": "2024-05-30T21:32:47.170330Z",
     "iopub.status.idle": "2024-05-30T21:32:47.430558Z",
     "shell.execute_reply.started": "2024-05-30T21:32:47.170297Z",
     "shell.execute_reply": "2024-05-30T21:32:47.429366Z"
    },
    "trusted": true,
    "ExecuteTime": {
     "end_time": "2024-05-31T04:57:23.072685Z",
     "start_time": "2024-05-31T04:57:22.987945Z"
    }
   },
   "execution_count": 61,
   "outputs": [
    {
     "data": {
      "text/plain": "   bhk       type                              locality  area  price  \\\n0    3  Apartment   Lak And Hanware The Residency Tower   685   2.50   \n1    2  Apartment     Radheya Sai Enclave Building No 2   640  52.51   \n2    2  Apartment                         Romell Serene   610   1.73   \n3    2  Apartment  Soundlines Codename Urban Rainforest   876  59.98   \n4    2  Apartment                         Origin Oriana   659  94.11   \n\n  price_unit          region              status  age  \n0         Cr    Andheri West       Ready to move  New  \n1          L    Naigaon East  Under Construction  New  \n2         Cr   Borivali West  Under Construction  New  \n3          L          Panvel  Under Construction  New  \n4          L  Mira Road East  Under Construction  New  ",
      "text/html": "<div>\n<style scoped>\n    .dataframe tbody tr th:only-of-type {\n        vertical-align: middle;\n    }\n\n    .dataframe tbody tr th {\n        vertical-align: top;\n    }\n\n    .dataframe thead th {\n        text-align: right;\n    }\n</style>\n<table border=\"1\" class=\"dataframe\">\n  <thead>\n    <tr style=\"text-align: right;\">\n      <th></th>\n      <th>bhk</th>\n      <th>type</th>\n      <th>locality</th>\n      <th>area</th>\n      <th>price</th>\n      <th>price_unit</th>\n      <th>region</th>\n      <th>status</th>\n      <th>age</th>\n    </tr>\n  </thead>\n  <tbody>\n    <tr>\n      <th>0</th>\n      <td>3</td>\n      <td>Apartment</td>\n      <td>Lak And Hanware The Residency Tower</td>\n      <td>685</td>\n      <td>2.50</td>\n      <td>Cr</td>\n      <td>Andheri West</td>\n      <td>Ready to move</td>\n      <td>New</td>\n    </tr>\n    <tr>\n      <th>1</th>\n      <td>2</td>\n      <td>Apartment</td>\n      <td>Radheya Sai Enclave Building No 2</td>\n      <td>640</td>\n      <td>52.51</td>\n      <td>L</td>\n      <td>Naigaon East</td>\n      <td>Under Construction</td>\n      <td>New</td>\n    </tr>\n    <tr>\n      <th>2</th>\n      <td>2</td>\n      <td>Apartment</td>\n      <td>Romell Serene</td>\n      <td>610</td>\n      <td>1.73</td>\n      <td>Cr</td>\n      <td>Borivali West</td>\n      <td>Under Construction</td>\n      <td>New</td>\n    </tr>\n    <tr>\n      <th>3</th>\n      <td>2</td>\n      <td>Apartment</td>\n      <td>Soundlines Codename Urban Rainforest</td>\n      <td>876</td>\n      <td>59.98</td>\n      <td>L</td>\n      <td>Panvel</td>\n      <td>Under Construction</td>\n      <td>New</td>\n    </tr>\n    <tr>\n      <th>4</th>\n      <td>2</td>\n      <td>Apartment</td>\n      <td>Origin Oriana</td>\n      <td>659</td>\n      <td>94.11</td>\n      <td>L</td>\n      <td>Mira Road East</td>\n      <td>Under Construction</td>\n      <td>New</td>\n    </tr>\n  </tbody>\n</table>\n</div>"
     },
     "execution_count": 61,
     "metadata": {},
     "output_type": "execute_result"
    }
   ]
  },
  {
   "cell_type": "code",
   "outputs": [
    {
     "name": "stderr",
     "output_type": "stream",
     "text": [
      "C:\\Users\\phand\\AppData\\Local\\Temp\\ipykernel_25940\\3155724510.py:1: UserWarning: \n",
      "\n",
      "`distplot` is a deprecated function and will be removed in seaborn v0.14.0.\n",
      "\n",
      "Please adapt your code to use either `displot` (a figure-level function with\n",
      "similar flexibility) or `histplot` (an axes-level function for histograms).\n",
      "\n",
      "For a guide to updating your code to use the new functions, please see\n",
      "https://gist.github.com/mwaskom/de44147ed2974457ad6372750bbe5751\n",
      "\n",
      "  sns.distplot(df['area'])\n"
     ]
    },
    {
     "data": {
      "text/plain": "<Axes: xlabel='area', ylabel='Density'>"
     },
     "execution_count": 62,
     "metadata": {},
     "output_type": "execute_result"
    },
    {
     "data": {
      "text/plain": "<Figure size 640x480 with 1 Axes>",
      "image/png": "[encoded data removed]"
     },
     "metadata": {},
     "output_type": "display_data"
    }
   ],
   "source": [
    "sns.distplot(df['area'])"
   ],
   "metadata": {
    "collapsed": false,
    "ExecuteTime": {
     "end_time": "2024-05-31T04:57:23.441402Z",
     "start_time": "2024-05-31T04:57:23.072685Z"
    }
   },
   "execution_count": 62
  },
  {
   "cell_type": "code",
   "outputs": [],
   "source": [],
   "metadata": {
    "collapsed": false,
    "ExecuteTime": {
     "end_time": "2024-05-31T04:57:23.444136Z",
     "start_time": "2024-05-31T04:57:23.442410Z"
    }
   },
   "execution_count": 62
  },
  {
   "cell_type": "code",
   "outputs": [
    {
     "name": "stderr",
     "output_type": "stream",
     "text": [
      "C:\\Users\\phand\\AppData\\Local\\Temp\\ipykernel_25940\\937952067.py:1: UserWarning: \n",
      "\n",
      "`distplot` is a deprecated function and will be removed in seaborn v0.14.0.\n",
      "\n",
      "Please adapt your code to use either `displot` (a figure-level function with\n",
      "similar flexibility) or `histplot` (an axes-level function for histograms).\n",
      "\n",
      "For a guide to updating your code to use the new functions, please see\n",
      "https://gist.github.com/mwaskom/de44147ed2974457ad6372750bbe5751\n",
      "\n",
      "  sns.distplot(df['bhk'])\n"
     ]
    },
    {
     "data": {
      "text/plain": "<Axes: xlabel='bhk', ylabel='Density'>"
     },
     "execution_count": 63,
     "metadata": {},
     "output_type": "execute_result"
    },
    {
     "data": {
      "text/plain": "<Figure size 640x480 with 1 Axes>",
      "image/png": "[encoded data removed]"
     },
     "metadata": {},
     "output_type": "display_data"
    }
   ],
   "source": [
    "sns.distplot(df['bhk'])"
   ],
   "metadata": {
    "collapsed": false,
    "ExecuteTime": {
     "end_time": "2024-05-31T04:57:23.930753Z",
     "start_time": "2024-05-31T04:57:23.445248Z"
    }
   },
   "execution_count": 63
  },
  {
   "cell_type": "code",
   "source": [
    "df.describe()"
   ],
   "metadata": {
    "execution": {
     "iopub.status.busy": "2024-05-30T21:32:47.438063Z",
     "iopub.execute_input": "2024-05-30T21:32:47.438508Z",
     "iopub.status.idle": "2024-05-30T21:32:47.472581Z",
     "shell.execute_reply.started": "2024-05-30T21:32:47.438468Z",
     "shell.execute_reply": "2024-05-30T21:32:47.471610Z"
    },
    "trusted": true,
    "ExecuteTime": {
     "end_time": "2024-05-31T04:57:23.945849Z",
     "start_time": "2024-05-31T04:57:23.931760Z"
    }
   },
   "execution_count": 64,
   "outputs": [
    {
     "data": {
      "text/plain": "                bhk          area        price\ncount  76038.000000  76038.000000  76038.00000\nmean       2.015111   1024.536850     29.38227\nstd        0.922754    670.276165     32.90345\nmin        1.000000    127.000000      1.00000\n25%        1.000000    640.000000      1.75000\n50%        2.000000    872.000000      5.50000\n75%        3.000000   1179.000000     59.00000\nmax       10.000000  16000.000000     99.99000",
      "text/html": "<div>\n<style scoped>\n    .dataframe tbody tr th:only-of-type {\n        vertical-align: middle;\n    }\n\n    .dataframe tbody tr th {\n        vertical-align: top;\n    }\n\n    .dataframe thead th {\n        text-align: right;\n    }\n</style>\n<table border=\"1\" class=\"dataframe\">\n  <thead>\n    <tr style=\"text-align: right;\">\n      <th></th>\n      <th>bhk</th>\n      <th>area</th>\n      <th>price</th>\n    </tr>\n  </thead>\n  <tbody>\n    <tr>\n      <th>count</th>\n      <td>76038.000000</td>\n      <td>76038.000000</td>\n      <td>76038.00000</td>\n    </tr>\n    <tr>\n      <th>mean</th>\n      <td>2.015111</td>\n      <td>1024.536850</td>\n      <td>29.38227</td>\n    </tr>\n    <tr>\n      <th>std</th>\n      <td>0.922754</td>\n      <td>670.276165</td>\n      <td>32.90345</td>\n    </tr>\n    <tr>\n      <th>min</th>\n      <td>1.000000</td>\n      <td>127.000000</td>\n      <td>1.00000</td>\n    </tr>\n    <tr>\n      <th>25%</th>\n      <td>1.000000</td>\n      <td>640.000000</td>\n      <td>1.75000</td>\n    </tr>\n    <tr>\n      <th>50%</th>\n      <td>2.000000</td>\n      <td>872.000000</td>\n      <td>5.50000</td>\n    </tr>\n    <tr>\n      <th>75%</th>\n      <td>3.000000</td>\n      <td>1179.000000</td>\n      <td>59.00000</td>\n    </tr>\n    <tr>\n      <th>max</th>\n      <td>10.000000</td>\n      <td>16000.000000</td>\n      <td>99.99000</td>\n    </tr>\n  </tbody>\n</table>\n</div>"
     },
     "execution_count": 64,
     "metadata": {},
     "output_type": "execute_result"
    }
   ]
  },
  {
   "cell_type": "code",
   "source": [
    "df['area'].min()"
   ],
   "metadata": {
    "execution": {
     "iopub.status.busy": "2024-05-30T21:32:47.473940Z",
     "iopub.execute_input": "2024-05-30T21:32:47.474266Z",
     "iopub.status.idle": "2024-05-30T21:32:47.481400Z",
     "shell.execute_reply.started": "2024-05-30T21:32:47.474236Z",
     "shell.execute_reply": "2024-05-30T21:32:47.480547Z"
    },
    "trusted": true,
    "ExecuteTime": {
     "end_time": "2024-05-31T04:57:23.950095Z",
     "start_time": "2024-05-31T04:57:23.945849Z"
    }
   },
   "execution_count": 65,
   "outputs": [
    {
     "data": {
      "text/plain": "127"
     },
     "execution_count": 65,
     "metadata": {},
     "output_type": "execute_result"
    }
   ]
  },
  {
   "cell_type": "code",
   "source": [
    "# Analyze all dataset\n",
    "df_use = df.drop(['locality'], axis=1)"
   ],
   "metadata": {
    "execution": {
     "iopub.status.busy": "2024-05-30T21:32:47.482651Z",
     "iopub.execute_input": "2024-05-30T21:32:47.483612Z",
     "iopub.status.idle": "2024-05-30T21:32:47.499556Z",
     "shell.execute_reply.started": "2024-05-30T21:32:47.483580Z",
     "shell.execute_reply": "2024-05-30T21:32:47.498290Z"
    },
    "trusted": true,
    "ExecuteTime": {
     "end_time": "2024-05-31T04:57:23.959207Z",
     "start_time": "2024-05-31T04:57:23.951105Z"
    }
   },
   "execution_count": 66,
   "outputs": []
  },
  {
   "cell_type": "code",
   "source": [
    "# Get all data dimension\n",
    "print(df_use.nunique())\n",
    "print()\n",
    "for col in df_use.columns:\n",
    "    print(f'{col}: {pd.unique(df_use[col])}')"
   ],
   "metadata": {
    "execution": {
     "iopub.status.busy": "2024-05-30T21:32:47.501300Z",
     "iopub.execute_input": "2024-05-30T21:32:47.502115Z",
     "iopub.status.idle": "2024-05-30T21:32:47.585215Z",
     "shell.execute_reply.started": "2024-05-30T21:32:47.502084Z",
     "shell.execute_reply": "2024-05-30T21:32:47.584115Z"
    },
    "trusted": true,
    "ExecuteTime": {
     "end_time": "2024-05-31T04:57:23.999384Z",
     "start_time": "2024-05-31T04:57:23.960256Z"
    }
   },
   "execution_count": 67,
   "outputs": [
    {
     "name": "stdout",
     "output_type": "stream",
     "text": [
      "bhk             10\n",
      "type             5\n",
      "area          2331\n",
      "price         4729\n",
      "price_unit       2\n",
      "region         228\n",
      "status           2\n",
      "age              3\n",
      "dtype: int64\n",
      "\n",
      "bhk: [ 3  2  5  1  4  6  9  8 10  7]\n",
      "type: ['Apartment' 'Villa' 'Studio Apartment' 'Independent House' 'Penthouse']\n",
      "area: [ 685  640  610 ... 1974 1634 3049]\n",
      "price: [ 2.5  52.51  1.73 ... 21.87 34.67  4.38]\n",
      "price_unit: ['Cr' 'L']\n",
      "region: ['Andheri West' 'Naigaon East' 'Borivali West' 'Panvel' 'Mira Road East'\n",
      " 'Parel' 'Boisar' 'Santacruz East' 'Badlapur East' 'Fort' 'Badlapur West'\n",
      " 'Khopoli' 'Chembur' 'Jogeshwari West' 'Vasai' 'Kalamboli' 'Powai'\n",
      " 'Ghansoli' 'Thane West' 'Vikhroli' 'Bhiwandi' 'Airoli' 'Ambernath West'\n",
      " 'Borivali East' 'Virar' 'Kharghar' 'Ulwe' 'Kamothe' 'Jogeshwari East'\n",
      " 'Mulund West' 'Palghar' 'Goregaon West' 'Taloja' 'Rasayani'\n",
      " 'Ghatkopar East' 'Ulhasnagar' 'Dombivali' 'Kewale' 'Nala Sopara'\n",
      " 'Goregaon East' 'Kandivali East' 'Kurla' 'Andheri East' 'Dahisar'\n",
      " 'Karanjade' 'Mahim' 'Vashi' 'Malad West' 'Girgaon' 'Dadar West'\n",
      " 'Bandra West' 'Kandivali West' 'Kalyan West' 'Neral' 'Kalyan East'\n",
      " 'Karjat' 'Ghatkopar West' 'Dronagiri' 'Mulund East' 'Navade' 'Ambivali'\n",
      " 'Agripada' 'Owale' 'Ville Parle East' 'Kalwa' 'Khar' 'Santacruz West'\n",
      " 'Nerul' 'Kanjurmarg' 'Vangani' 'Bhayandar East' 'Seawoods' 'Sewri'\n",
      " 'Ambernath East' 'Nilje Gaon' 'Prabhadevi' 'Matunga' 'Lower Parel'\n",
      " 'Titwala' 'Shil Phata' 'Koper Khairane' 'Napeansea Road' 'Bhandup West'\n",
      " 'Koproli' 'Anjurdive' 'Wadala' 'Sion' 'Taloje' 'Cuffe Parade'\n",
      " 'Bhandup East' 'Byculla' 'Tardeo' 'Vasai West' 'Vasai east' 'Malad East'\n",
      " 'Colaba' 'Thane East' 'Nalasopara East' 'Deonar' 'Nahur East' 'Sanpada'\n",
      " 'Sector 21 Kamothe' 'Saphale' 'Kasheli' 'Juinagar' 'Worli' 'Panch Pakhdi'\n",
      " 'Mazagaon' 'Hiranandani Estates' 'Belapur' 'Vichumbe' 'Bandra East'\n",
      " 'Sector 17 Ulwe' 'Sector 23 Ulwe' 'Nalasopara West' 'Mahalaxmi'\n",
      " 'Sector 20 Kamothe' 'Dadar East' 'Sector 19 Kamothe' 'Shahapur'\n",
      " 'Sector 30 Kharghar' 'Asangaon' 'Vikroli East' 'Mira Road'\n",
      " 'Kanjurmarg East' 'Rambaug' 'Sector-12 Kamothe' 'Juhu' 'Ville Parle West'\n",
      " 'Mazgaon' 'Virar East' 'Khar West' 'Sector 8 New panvel' 'Rabale'\n",
      " 'Bhayandar West' 'Sector 20 Ulwe' 'Sector 22 Kamothe' 'Sector 21 Nerul'\n",
      " 'Bandra Kurla Complex' 'Sector 14 Vashi' 'Mumbai Central' 'Virar West'\n",
      " 'Sector 11 Koparkhairane' 'Unnat Nagar' 'Diva' 'Palava' 'Dombivali East'\n",
      " 'Sector-14 Koparkhairane' 'Greater Khanda' 'Sector-35D Kharghar' 'Umroli'\n",
      " 'Sector-9 Ulwe' 'Govandi' 'vile parle west' 'MATUNGA WEST'\n",
      " 'Sector-3 Ulwe' 'kasaradavali thane west' 'Kurla East'\n",
      " 'Pestom Sagar Colony' 'Sector 12 Kharghar' 'Police Colony' 'Dahisar West'\n",
      " 'Marine Lines' 'Sector 19 Kharghar' 'Kalher' 'Hindu Colony'\n",
      " 'Dahisar East' 'Sector 9 Vashi' 'Khardi' 'Babulnath Road'\n",
      " 'Sector 21 Kharghar' 'Dharavi' 'Vasind' 'Tilak Nagar' 'Ashok nagar'\n",
      " 'Antop Hill' 'Peddar Road' 'Kamathipura' 'Usarghar Gaon' 'Ambarnath'\n",
      " 'Patlipada' 'Vevoor' 'Shelu' 'Kurla West' 'Goregaon' 'Naupada' 'Bhoiwada'\n",
      " 'Sector 7 Kharghar' 'Roadpali' 'Sector-9 Kamothe' 'Borivali' 'Badlapur'\n",
      " 'Khanda Colony' 'Dombivli (West)' 'GTB Nagar' 'Bandra' 'kandivali'\n",
      " 'Mahavir Nagar' 'Churchgate' 'Pali Hill' 'Manpada' 'Sector-50 Seawoods'\n",
      " 'Uttan' 'Gauripada' 'Gandhar Nagar' 'Mahim West' 'Warai' 'mumbai'\n",
      " 'Khatiwali' 'Chandivali' 'Mumbra' 'Chembur East' 'Malabar Hill' 'sector'\n",
      " 'Uran' 'Manjarli' 'Ghodbunder Road' 'Mulund' 'Sector 18 Kharghar'\n",
      " 'Palidevad' 'Juhu Scheme' 'Adaigaon' 'Versova' 'Sector-4 New Panvel'\n",
      " 'Pen' 'Sector 6 Kamothe' 'Maneklal Estate' 'L I C Colony']\n",
      "status: ['Ready to move' 'Under Construction']\n",
      "age: ['New' 'Resale' 'Unknown']\n"
     ]
    }
   ]
  },
  {
   "cell_type": "code",
   "source": [
    "# Reduce the dimension of region attribute\n",
    "stats = df_use['region'].value_counts(ascending=False)\n",
    "print(stats)\n",
    "print(stats.describe()) \n",
    "# => Over 50% of house place in less popular region \n",
    "# (less than 11 houses build in that location)\n",
    "# => Convert all of those region to 'Others'"
   ],
   "metadata": {
    "execution": {
     "iopub.status.busy": "2024-05-30T21:32:47.586683Z",
     "iopub.execute_input": "2024-05-30T21:32:47.587479Z",
     "iopub.status.idle": "2024-05-30T21:32:47.612572Z",
     "shell.execute_reply.started": "2024-05-30T21:32:47.587450Z",
     "shell.execute_reply": "2024-05-30T21:32:47.610969Z"
    },
    "trusted": true,
    "ExecuteTime": {
     "end_time": "2024-05-31T04:57:24.007618Z",
     "start_time": "2024-05-31T04:57:24.000390Z"
    }
   },
   "execution_count": 68,
   "outputs": [
    {
     "name": "stdout",
     "output_type": "stream",
     "text": [
      "region\n",
      "Thane West         14868\n",
      "Mira Road East      9902\n",
      "Dombivali           3041\n",
      "Kandivali East      2568\n",
      "Kharghar            2362\n",
      "                   ...  \n",
      "Police Colony          1\n",
      "GTB Nagar              1\n",
      "Bandra                 1\n",
      "Sector 14 Vashi        1\n",
      "Goregaon               1\n",
      "Name: count, Length: 228, dtype: int64\n",
      "count      228.000000\n",
      "mean       333.500000\n",
      "std       1251.273904\n",
      "min          1.000000\n",
      "25%          2.000000\n",
      "50%         11.000000\n",
      "75%        218.000000\n",
      "max      14868.000000\n",
      "Name: count, dtype: float64\n"
     ]
    }
   ]
  },
  {
   "cell_type": "code",
   "source": [
    "stats_to_change = stats[stats<=11]\n",
    "df_use1 = df_use\n",
    "def convert(region):\n",
    "    if region in stats_to_change:\n",
    "        return 'Others'\n",
    "    return region\n",
    "\n",
    "df_use1.region = df_use.region.apply(convert)"
   ],
   "metadata": {
    "execution": {
     "iopub.status.busy": "2024-05-30T21:32:47.614116Z",
     "iopub.execute_input": "2024-05-30T21:32:47.614452Z",
     "iopub.status.idle": "2024-05-30T21:32:47.889229Z",
     "shell.execute_reply.started": "2024-05-30T21:32:47.614426Z",
     "shell.execute_reply": "2024-05-30T21:32:47.887951Z"
    },
    "trusted": true,
    "ExecuteTime": {
     "end_time": "2024-05-31T04:57:24.098566Z",
     "start_time": "2024-05-31T04:57:24.008624Z"
    }
   },
   "execution_count": 69,
   "outputs": []
  },
  {
   "cell_type": "code",
   "outputs": [],
   "source": [
    "#IQR for price_per_sqft\n",
    "q1 = df_use1['area'].quantile(0.25)\n",
    "q3 = df_use1['area'].quantile(0.75)\n",
    "iqr = q3-q1\n",
    "q1, q3, iqr\n",
    "\n",
    "upperlimit = q3+(1.5*iqr)\n",
    "lowerlimit = q1-(1.5)*iqr\n",
    "lowerlimit, upperlimit\n",
    "\n",
    "df_use1 = df_use1.loc[(df['area']<upperlimit)&(df['area']>lowerlimit)] \n"
   ],
   "metadata": {
    "collapsed": false,
    "ExecuteTime": {
     "end_time": "2024-05-31T04:57:24.110029Z",
     "start_time": "2024-05-31T04:57:24.099576Z"
    }
   },
   "execution_count": 70
  },
  {
   "cell_type": "code",
   "source": [
    "# Normalize data\n",
    "max_values = {}\n",
    "numberic_cols = ['bhk', 'area', 'price']\n",
    "for col in numberic_cols:\n",
    "    max_v = df_use1[col].max()\n",
    "    max_values.update({col: max_v})\n",
    "    df_use1[col] = (df_use1[col] - df_use1[col].min()) / (df_use1[col].max() - df_use1[col].min())\n",
    "df_use1.head()"
   ],
   "metadata": {
    "execution": {
     "iopub.status.busy": "2024-05-30T21:32:47.894816Z",
     "iopub.execute_input": "2024-05-30T21:32:47.895159Z",
     "iopub.status.idle": "2024-05-30T21:32:47.919835Z",
     "shell.execute_reply.started": "2024-05-30T21:32:47.895132Z",
     "shell.execute_reply": "2024-05-30T21:32:47.918586Z"
    },
    "trusted": true,
    "ExecuteTime": {
     "end_time": "2024-05-31T04:57:24.121679Z",
     "start_time": "2024-05-31T04:57:24.111044Z"
    }
   },
   "execution_count": 71,
   "outputs": [
    {
     "name": "stderr",
     "output_type": "stream",
     "text": [
      "C:\\Users\\phand\\AppData\\Local\\Temp\\ipykernel_25940\\3394993654.py:7: SettingWithCopyWarning: \n",
      "A value is trying to be set on a copy of a slice from a DataFrame.\n",
      "Try using .loc[row_indexer,col_indexer] = value instead\n",
      "\n",
      "See the caveats in the documentation: https://pandas.pydata.org/pandas-docs/stable/user_guide/indexing.html#returning-a-view-versus-a-copy\n",
      "  df_use1[col] = (df_use1[col] - df_use1[col].min()) / (df_use1[col].max() - df_use1[col].min())\n",
      "C:\\Users\\phand\\AppData\\Local\\Temp\\ipykernel_25940\\3394993654.py:7: SettingWithCopyWarning: \n",
      "A value is trying to be set on a copy of a slice from a DataFrame.\n",
      "Try using .loc[row_indexer,col_indexer] = value instead\n",
      "\n",
      "See the caveats in the documentation: https://pandas.pydata.org/pandas-docs/stable/user_guide/indexing.html#returning-a-view-versus-a-copy\n",
      "  df_use1[col] = (df_use1[col] - df_use1[col].min()) / (df_use1[col].max() - df_use1[col].min())\n"
     ]
    },
    {
     "data": {
      "text/plain": "    bhk       type      area     price price_unit          region  \\\n0  0.50  Apartment  0.300000  0.015153         Cr    Andheri West   \n1  0.25  Apartment  0.275806  0.520356          L    Naigaon East   \n2  0.25  Apartment  0.259677  0.007374         Cr   Borivali West   \n3  0.25  Apartment  0.402688  0.595818          L          Panvel   \n4  0.25  Apartment  0.286022  0.940600          L  Mira Road East   \n\n               status  age  \n0       Ready to move  New  \n1  Under Construction  New  \n2  Under Construction  New  \n3  Under Construction  New  \n4  Under Construction  New  ",
      "text/html": "<div>\n<style scoped>\n    .dataframe tbody tr th:only-of-type {\n        vertical-align: middle;\n    }\n\n    .dataframe tbody tr th {\n        vertical-align: top;\n    }\n\n    .dataframe thead th {\n        text-align: right;\n    }\n</style>\n<table border=\"1\" class=\"dataframe\">\n  <thead>\n    <tr style=\"text-align: right;\">\n      <th></th>\n      <th>bhk</th>\n      <th>type</th>\n      <th>area</th>\n      <th>price</th>\n      <th>price_unit</th>\n      <th>region</th>\n      <th>status</th>\n      <th>age</th>\n    </tr>\n  </thead>\n  <tbody>\n    <tr>\n      <th>0</th>\n      <td>0.50</td>\n      <td>Apartment</td>\n      <td>0.300000</td>\n      <td>0.015153</td>\n      <td>Cr</td>\n      <td>Andheri West</td>\n      <td>Ready to move</td>\n      <td>New</td>\n    </tr>\n    <tr>\n      <th>1</th>\n      <td>0.25</td>\n      <td>Apartment</td>\n      <td>0.275806</td>\n      <td>0.520356</td>\n      <td>L</td>\n      <td>Naigaon East</td>\n      <td>Under Construction</td>\n      <td>New</td>\n    </tr>\n    <tr>\n      <th>2</th>\n      <td>0.25</td>\n      <td>Apartment</td>\n      <td>0.259677</td>\n      <td>0.007374</td>\n      <td>Cr</td>\n      <td>Borivali West</td>\n      <td>Under Construction</td>\n      <td>New</td>\n    </tr>\n    <tr>\n      <th>3</th>\n      <td>0.25</td>\n      <td>Apartment</td>\n      <td>0.402688</td>\n      <td>0.595818</td>\n      <td>L</td>\n      <td>Panvel</td>\n      <td>Under Construction</td>\n      <td>New</td>\n    </tr>\n    <tr>\n      <th>4</th>\n      <td>0.25</td>\n      <td>Apartment</td>\n      <td>0.286022</td>\n      <td>0.940600</td>\n      <td>L</td>\n      <td>Mira Road East</td>\n      <td>Under Construction</td>\n      <td>New</td>\n    </tr>\n  </tbody>\n</table>\n</div>"
     },
     "execution_count": 71,
     "metadata": {},
     "output_type": "execute_result"
    }
   ]
  },
  {
   "cell_type": "code",
   "source": [
    "# Get all data dimension\n",
    "print(df_use1.nunique())\n",
    "print()\n",
    "for col in df_use1.columns:\n",
    "    print(f'{col}: {pd.unique(df_use1[col])}')"
   ],
   "metadata": {
    "execution": {
     "iopub.status.busy": "2024-05-30T21:32:47.921412Z",
     "iopub.execute_input": "2024-05-30T21:32:47.922769Z",
     "iopub.status.idle": "2024-05-30T21:32:48.009467Z",
     "shell.execute_reply.started": "2024-05-30T21:32:47.922727Z",
     "shell.execute_reply": "2024-05-30T21:32:48.008228Z"
    },
    "trusted": true,
    "ExecuteTime": {
     "end_time": "2024-05-31T04:57:24.159989Z",
     "start_time": "2024-05-31T04:57:24.122688Z"
    }
   },
   "execution_count": 72,
   "outputs": [
    {
     "name": "stdout",
     "output_type": "stream",
     "text": [
      "bhk              5\n",
      "type             5\n",
      "area          1705\n",
      "price         4595\n",
      "price_unit       2\n",
      "region         115\n",
      "status           2\n",
      "age              3\n",
      "dtype: int64\n",
      "\n",
      "bhk: [0.5  0.25 0.   0.75 1.  ]\n",
      "type: ['Apartment' 'Studio Apartment' 'Independent House' 'Villa' 'Penthouse']\n",
      "area: [0.3        0.27580645 0.25967742 ... 0.06989247 0.99301075 0.81021505]\n",
      "price: [0.01515305 0.52035559 0.00737448 ... 0.21082938 0.34013537 0.03414486]\n",
      "price_unit: ['Cr' 'L']\n",
      "region: ['Andheri West' 'Naigaon East' 'Borivali West' 'Panvel' 'Mira Road East'\n",
      " 'Parel' 'Santacruz East' 'Badlapur East' 'Others' 'Badlapur West'\n",
      " 'Khopoli' 'Chembur' 'Jogeshwari West' 'Vasai' 'Kalamboli' 'Powai'\n",
      " 'Ghansoli' 'Thane West' 'Vikhroli' 'Bhiwandi' 'Airoli' 'Ambernath West'\n",
      " 'Borivali East' 'Virar' 'Kharghar' 'Ulwe' 'Kamothe' 'Jogeshwari East'\n",
      " 'Mulund West' 'Palghar' 'Goregaon West' 'Taloja' 'Rasayani'\n",
      " 'Ghatkopar East' 'Ulhasnagar' 'Dombivali' 'Nala Sopara' 'Goregaon East'\n",
      " 'Boisar' 'Kandivali East' 'Kurla' 'Andheri East' 'Dahisar' 'Karanjade'\n",
      " 'Mahim' 'Vashi' 'Malad West' 'Girgaon' 'Dadar West' 'Bandra West'\n",
      " 'Kalyan West' 'Neral' 'Kalyan East' 'Karjat' 'Ghatkopar West' 'Dronagiri'\n",
      " 'Mulund East' 'Agripada' 'Ville Parle East' 'Kalwa' 'Khar' 'Nerul'\n",
      " 'Kanjurmarg' 'Vangani' 'Santacruz West' 'Bhayandar East' 'Seawoods'\n",
      " 'Kandivali West' 'Sewri' 'Ambernath East' 'Nilje Gaon' 'Prabhadevi'\n",
      " 'Matunga' 'Titwala' 'Shil Phata' 'Koper Khairane' 'Bhandup West'\n",
      " 'Anjurdive' 'Wadala' 'Sion' 'Taloje' 'Bhandup East' 'Byculla'\n",
      " 'Lower Parel' 'Tardeo' 'Malad East' 'Colaba' 'Thane East'\n",
      " 'Nalasopara East' 'Nahur East' 'Sanpada' 'Sector 21 Kamothe' 'Saphale'\n",
      " 'Kasheli' 'Juinagar' 'Worli' 'Deonar' 'Mazagaon' 'Belapur' 'Bandra East'\n",
      " 'Dadar East' 'Mahalaxmi' 'Mazgaon' 'Bhayandar West' 'Juhu'\n",
      " 'Ville Parle West' 'Bandra Kurla Complex' 'Virar West' 'Napeansea Road'\n",
      " 'Diva' 'Dombivali East' 'Umroli' 'Marine Lines' 'Ambarnath' 'Patlipada']\n",
      "status: ['Ready to move' 'Under Construction']\n",
      "age: ['New' 'Resale' 'Unknown']\n"
     ]
    }
   ]
  },
  {
   "cell_type": "code",
   "source": [
    "df_use2 = pd.get_dummies(df_use1, columns=['type', 'price_unit', 'region', 'status', 'age'], dtype = float)"
   ],
   "metadata": {
    "execution": {
     "iopub.status.busy": "2024-05-30T21:32:48.011083Z",
     "iopub.execute_input": "2024-05-30T21:32:48.012404Z",
     "iopub.status.idle": "2024-05-30T21:32:48.205925Z",
     "shell.execute_reply.started": "2024-05-30T21:32:48.012361Z",
     "shell.execute_reply": "2024-05-30T21:32:48.204966Z"
    },
    "trusted": true,
    "ExecuteTime": {
     "end_time": "2024-05-31T04:57:24.250978Z",
     "start_time": "2024-05-31T04:57:24.159989Z"
    }
   },
   "execution_count": 73,
   "outputs": []
  },
  {
   "cell_type": "code",
   "source": [
    "print(max_values)\n",
    "df_use2.describe()"
   ],
   "metadata": {
    "execution": {
     "iopub.status.busy": "2024-05-30T21:32:48.253067Z",
     "iopub.execute_input": "2024-05-30T21:32:48.253504Z",
     "iopub.status.idle": "2024-05-30T21:32:48.990117Z",
     "shell.execute_reply.started": "2024-05-30T21:32:48.253474Z",
     "shell.execute_reply": "2024-05-30T21:32:48.988858Z"
    },
    "trusted": true,
    "ExecuteTime": {
     "end_time": "2024-05-31T04:57:24.557838Z",
     "start_time": "2024-05-31T04:57:24.251984Z"
    }
   },
   "execution_count": 74,
   "outputs": [
    {
     "name": "stdout",
     "output_type": "stream",
     "text": [
      "{'bhk': 5, 'area': 1987, 'price': 99.99}\n"
     ]
    },
    {
     "data": {
      "text/plain": "                bhk          area         price  type_Apartment  \\\ncount  71059.000000  71059.000000  71059.000000    71059.000000   \nmean       0.220707      0.412864      0.302863        0.986195   \nstd        0.193166      0.195066      0.337528        0.116683   \nmin        0.000000      0.000000      0.000000        0.000000   \n25%        0.000000      0.268280      0.007374        1.000000   \n50%        0.250000      0.372581      0.058087        1.000000   \n75%        0.250000      0.523118      0.603697        1.000000   \nmax        1.000000      1.000000      1.000000        1.000000   \n\n       type_Independent House  type_Penthouse  type_Studio Apartment  \\\ncount            71059.000000    71059.000000           71059.000000   \nmean                 0.000563        0.000014               0.012384   \nstd                  0.023719        0.003751               0.110593   \nmin                  0.000000        0.000000               0.000000   \n25%                  0.000000        0.000000               0.000000   \n50%                  0.000000        0.000000               0.000000   \n75%                  0.000000        0.000000               0.000000   \nmax                  1.000000        1.000000               1.000000   \n\n         type_Villa  price_unit_Cr  price_unit_L  ...  \\\ncount  71059.000000   71059.000000  71059.000000  ...   \nmean       0.000844       0.506846      0.493154  ...   \nstd        0.029046       0.499957      0.499957  ...   \nmin        0.000000       0.000000      0.000000  ...   \n25%        0.000000       0.000000      0.000000  ...   \n50%        0.000000       1.000000      0.000000  ...   \n75%        0.000000       1.000000      1.000000  ...   \nmax        1.000000       1.000000      1.000000  ...   \n\n       region_Ville Parle West  region_Virar  region_Virar West  \\\ncount             71059.000000  71059.000000       71059.000000   \nmean                  0.001112      0.021855           0.000267   \nstd                   0.033325      0.146211           0.016350   \nmin                   0.000000      0.000000           0.000000   \n25%                   0.000000      0.000000           0.000000   \n50%                   0.000000      0.000000           0.000000   \n75%                   0.000000      0.000000           0.000000   \nmax                   1.000000      1.000000           1.000000   \n\n       region_Wadala  region_Worli  status_Ready to move  \\\ncount   71059.000000  71059.000000          71059.000000   \nmean        0.010470      0.001506              0.573397   \nstd         0.101787      0.038776              0.494587   \nmin         0.000000      0.000000              0.000000   \n25%         0.000000      0.000000              0.000000   \n50%         0.000000      0.000000              1.000000   \n75%         0.000000      0.000000              1.000000   \nmax         1.000000      1.000000              1.000000   \n\n       status_Under Construction       age_New    age_Resale   age_Unknown  \ncount               71059.000000  71059.000000  71059.000000  71059.000000  \nmean                    0.426603      0.521468      0.312712      0.165820  \nstd                     0.494587      0.499542      0.463601      0.371922  \nmin                     0.000000      0.000000      0.000000      0.000000  \n25%                     0.000000      0.000000      0.000000      0.000000  \n50%                     0.000000      1.000000      0.000000      0.000000  \n75%                     1.000000      1.000000      1.000000      0.000000  \nmax                     1.000000      1.000000      1.000000      1.000000  \n\n[8 rows x 130 columns]",
      "text/html": "<div>\n<style scoped>\n    .dataframe tbody tr th:only-of-type {\n        vertical-align: middle;\n    }\n\n    .dataframe tbody tr th {\n        vertical-align: top;\n    }\n\n    .dataframe thead th {\n        text-align: right;\n    }\n</style>\n<table border=\"1\" class=\"dataframe\">\n  <thead>\n    <tr style=\"text-align: right;\">\n      <th></th>\n      <th>bhk</th>\n      <th>area</th>\n      <th>price</th>\n      <th>type_Apartment</th>\n      <th>type_Independent House</th>\n      <th>type_Penthouse</th>\n      <th>type_Studio Apartment</th>\n      <th>type_Villa</th>\n      <th>price_unit_Cr</th>\n      <th>price_unit_L</th>\n      <th>...</th>\n      <th>region_Ville Parle West</th>\n      <th>region_Virar</th>\n      <th>region_Virar West</th>\n      <th>region_Wadala</th>\n      <th>region_Worli</th>\n      <th>status_Ready to move</th>\n      <th>status_Under Construction</th>\n      <th>age_New</th>\n      <th>age_Resale</th>\n      <th>age_Unknown</th>\n    </tr>\n  </thead>\n  <tbody>\n    <tr>\n      <th>count</th>\n      <td>71059.000000</td>\n      <td>71059.000000</td>\n      <td>71059.000000</td>\n      <td>71059.000000</td>\n      <td>71059.000000</td>\n      <td>71059.000000</td>\n      <td>71059.000000</td>\n      <td>71059.000000</td>\n      <td>71059.000000</td>\n      <td>71059.000000</td>\n      <td>...</td>\n      <td>71059.000000</td>\n      <td>71059.000000</td>\n      <td>71059.000000</td>\n      <td>71059.000000</td>\n      <td>71059.000000</td>\n      <td>71059.000000</td>\n      <td>71059.000000</td>\n      <td>71059.000000</td>\n      <td>71059.000000</td>\n      <td>71059.000000</td>\n    </tr>\n    <tr>\n      <th>mean</th>\n      <td>0.220707</td>\n      <td>0.412864</td>\n      <td>0.302863</td>\n      <td>0.986195</td>\n      <td>0.000563</td>\n      <td>0.000014</td>\n      <td>0.012384</td>\n      <td>0.000844</td>\n      <td>0.506846</td>\n      <td>0.493154</td>\n      <td>...</td>\n      <td>0.001112</td>\n      <td>0.021855</td>\n      <td>0.000267</td>\n      <td>0.010470</td>\n      <td>0.001506</td>\n      <td>0.573397</td>\n      <td>0.426603</td>\n      <td>0.521468</td>\n      <td>0.312712</td>\n      <td>0.165820</td>\n    </tr>\n    <tr>\n      <th>std</th>\n      <td>0.193166</td>\n      <td>0.195066</td>\n      <td>0.337528</td>\n      <td>0.116683</td>\n      <td>0.023719</td>\n      <td>0.003751</td>\n      <td>0.110593</td>\n      <td>0.029046</td>\n      <td>0.499957</td>\n      <td>0.499957</td>\n      <td>...</td>\n      <td>0.033325</td>\n      <td>0.146211</td>\n      <td>0.016350</td>\n      <td>0.101787</td>\n      <td>0.038776</td>\n      <td>0.494587</td>\n      <td>0.494587</td>\n      <td>0.499542</td>\n      <td>0.463601</td>\n      <td>0.371922</td>\n    </tr>\n    <tr>\n      <th>min</th>\n      <td>0.000000</td>\n      <td>0.000000</td>\n      <td>0.000000</td>\n      <td>0.000000</td>\n      <td>0.000000</td>\n      <td>0.000000</td>\n      <td>0.000000</td>\n      <td>0.000000</td>\n      <td>0.000000</td>\n      <td>0.000000</td>\n      <td>...</td>\n      <td>0.000000</td>\n      <td>0.000000</td>\n      <td>0.000000</td>\n      <td>0.000000</td>\n      <td>0.000000</td>\n      <td>0.000000</td>\n      <td>0.000000</td>\n      <td>0.000000</td>\n      <td>0.000000</td>\n      <td>0.000000</td>\n    </tr>\n    <tr>\n      <th>25%</th>\n      <td>0.000000</td>\n      <td>0.268280</td>\n      <td>0.007374</td>\n      <td>1.000000</td>\n      <td>0.000000</td>\n      <td>0.000000</td>\n      <td>0.000000</td>\n      <td>0.000000</td>\n      <td>0.000000</td>\n      <td>0.000000</td>\n      <td>...</td>\n      <td>0.000000</td>\n      <td>0.000000</td>\n      <td>0.000000</td>\n      <td>0.000000</td>\n      <td>0.000000</td>\n      <td>0.000000</td>\n      <td>0.000000</td>\n      <td>0.000000</td>\n      <td>0.000000</td>\n      <td>0.000000</td>\n    </tr>\n    <tr>\n      <th>50%</th>\n      <td>0.250000</td>\n      <td>0.372581</td>\n      <td>0.058087</td>\n      <td>1.000000</td>\n      <td>0.000000</td>\n      <td>0.000000</td>\n      <td>0.000000</td>\n      <td>0.000000</td>\n      <td>1.000000</td>\n      <td>0.000000</td>\n      <td>...</td>\n      <td>0.000000</td>\n      <td>0.000000</td>\n      <td>0.000000</td>\n      <td>0.000000</td>\n      <td>0.000000</td>\n      <td>1.000000</td>\n      <td>0.000000</td>\n      <td>1.000000</td>\n      <td>0.000000</td>\n      <td>0.000000</td>\n    </tr>\n    <tr>\n      <th>75%</th>\n      <td>0.250000</td>\n      <td>0.523118</td>\n      <td>0.603697</td>\n      <td>1.000000</td>\n      <td>0.000000</td>\n      <td>0.000000</td>\n      <td>0.000000</td>\n      <td>0.000000</td>\n      <td>1.000000</td>\n      <td>1.000000</td>\n      <td>...</td>\n      <td>0.000000</td>\n      <td>0.000000</td>\n      <td>0.000000</td>\n      <td>0.000000</td>\n      <td>0.000000</td>\n      <td>1.000000</td>\n      <td>1.000000</td>\n      <td>1.000000</td>\n      <td>1.000000</td>\n      <td>0.000000</td>\n    </tr>\n    <tr>\n      <th>max</th>\n      <td>1.000000</td>\n      <td>1.000000</td>\n      <td>1.000000</td>\n      <td>1.000000</td>\n      <td>1.000000</td>\n      <td>1.000000</td>\n      <td>1.000000</td>\n      <td>1.000000</td>\n      <td>1.000000</td>\n      <td>1.000000</td>\n      <td>...</td>\n      <td>1.000000</td>\n      <td>1.000000</td>\n      <td>1.000000</td>\n      <td>1.000000</td>\n      <td>1.000000</td>\n      <td>1.000000</td>\n      <td>1.000000</td>\n      <td>1.000000</td>\n      <td>1.000000</td>\n      <td>1.000000</td>\n    </tr>\n  </tbody>\n</table>\n<p>8 rows × 130 columns</p>\n</div>"
     },
     "execution_count": 74,
     "metadata": {},
     "output_type": "execute_result"
    }
   ]
  },
  {
   "cell_type": "code",
   "source": [
    "# Convert dataframe to nparray\n",
    "train_y = df_use2['price'].to_numpy()\n",
    "train_x = df_use2.drop(['price'], axis=1).to_numpy()\n",
    "\n",
    "print(train_x.shape)\n",
    "print(train_y.shape)"
   ],
   "metadata": {
    "execution": {
     "iopub.status.busy": "2024-05-30T21:32:48.991795Z",
     "iopub.execute_input": "2024-05-30T21:32:48.992716Z",
     "iopub.status.idle": "2024-05-30T21:32:49.056943Z",
     "shell.execute_reply.started": "2024-05-30T21:32:48.992677Z",
     "shell.execute_reply": "2024-05-30T21:32:49.055793Z"
    },
    "trusted": true,
    "ExecuteTime": {
     "end_time": "2024-05-31T04:57:24.599706Z",
     "start_time": "2024-05-31T04:57:24.557899Z"
    }
   },
   "execution_count": 75,
   "outputs": [
    {
     "name": "stdout",
     "output_type": "stream",
     "text": [
      "(71059, 129)\n",
      "(71059,)\n"
     ]
    }
   ]
  },
  {
   "cell_type": "markdown",
   "source": [
    "# Build model and training"
   ],
   "metadata": {}
  },
  {
   "cell_type": "code",
   "source": [
    "import tensorflow as tf\n",
    "import keras\n",
    "from keras import layers, optimizers"
   ],
   "metadata": {
    "execution": {
     "iopub.status.busy": "2024-05-30T21:32:49.058436Z",
     "iopub.execute_input": "2024-05-30T21:32:49.058805Z",
     "iopub.status.idle": "2024-05-30T21:33:03.217574Z",
     "shell.execute_reply.started": "2024-05-30T21:32:49.058775Z",
     "shell.execute_reply": "2024-05-30T21:33:03.216491Z"
    },
    "trusted": true,
    "ExecuteTime": {
     "end_time": "2024-05-31T04:57:24.603628Z",
     "start_time": "2024-05-31T04:57:24.600710Z"
    }
   },
   "execution_count": 76,
   "outputs": []
  },
  {
   "cell_type": "code",
   "source": [
    "def custom_dense(unit=128, activation='relu', bias=True, batch_norm=True):\n",
    "    def _custom_dense(input):\n",
    "        x = layers.Dense(unit, activation, bias)(input)\n",
    "        if batch_norm:\n",
    "            x = layers.BatchNormalization()(x)\n",
    "        return x\n",
    "    return _custom_dense\n",
    "\n",
    "def simple_ANN(att_dims):\n",
    "    input = keras.Input(shape= (att_dims, ), name='ANN_input')\n",
    "    x = custom_dense(256, batch_norm=True)(input)\n",
    "    x = custom_dense(128, batch_norm=True)(x)\n",
    "    x = custom_dense(64, batch_norm=True)(x)\n",
    "    x = custom_dense(32, batch_norm=True)(x)\n",
    "    x = layers.Dropout(0.3)(x)\n",
    "    output = custom_dense(1, 'sigmoid', batch_norm=False)(x)\n",
    "    model = keras.Model(input, output, name='Simple_ANN')\n",
    "    model.summary()\n",
    "    return model"
   ],
   "metadata": {
    "execution": {
     "iopub.status.busy": "2024-05-30T21:33:03.219155Z",
     "iopub.execute_input": "2024-05-30T21:33:03.219861Z",
     "iopub.status.idle": "2024-05-30T21:33:03.233034Z",
     "shell.execute_reply.started": "2024-05-30T21:33:03.219832Z",
     "shell.execute_reply": "2024-05-30T21:33:03.231431Z"
    },
    "trusted": true,
    "ExecuteTime": {
     "end_time": "2024-05-31T04:57:24.609979Z",
     "start_time": "2024-05-31T04:57:24.604633Z"
    }
   },
   "execution_count": 77,
   "outputs": []
  },
  {
   "cell_type": "code",
   "source": [
    "dim = train_x.shape[1]\n",
    "model = simple_ANN(dim)\n",
    "# Compile model\n",
    "model.compile(\n",
    "        loss=keras.losses.MeanAbsoluteError(),\n",
    "        optimizer=keras.optimizers.Adam(0.005),\n",
    "        metrics=[keras.metrics.R2Score()],\n",
    ")"
   ],
   "metadata": {
    "execution": {
     "iopub.status.busy": "2024-05-30T21:33:03.234594Z",
     "iopub.execute_input": "2024-05-30T21:33:03.235695Z",
     "iopub.status.idle": "2024-05-30T21:33:03.492445Z",
     "shell.execute_reply.started": "2024-05-30T21:33:03.235666Z",
     "shell.execute_reply": "2024-05-30T21:33:03.491057Z"
    },
    "trusted": true,
    "ExecuteTime": {
     "end_time": "2024-05-31T04:57:24.744640Z",
     "start_time": "2024-05-31T04:57:24.611030Z"
    }
   },
   "execution_count": 78,
   "outputs": [
    {
     "name": "stdout",
     "output_type": "stream",
     "text": [
      "Model: \"Simple_ANN\"\n",
      "_________________________________________________________________\n",
      " Layer (type)                Output Shape              Param #   \n",
      "=================================================================\n",
      " ANN_input (InputLayer)      [(None, 129)]             0         \n",
      "                                                                 \n",
      " dense_5 (Dense)             (None, 256)               33280     \n",
      "                                                                 \n",
      " batch_normalization_4 (Bat  (None, 256)               1024      \n",
      " chNormalization)                                                \n",
      "                                                                 \n",
      " dense_6 (Dense)             (None, 128)               32896     \n",
      "                                                                 \n",
      " batch_normalization_5 (Bat  (None, 128)               512       \n",
      " chNormalization)                                                \n",
      "                                                                 \n",
      " dense_7 (Dense)             (None, 64)                8256      \n",
      "                                                                 \n",
      " batch_normalization_6 (Bat  (None, 64)                256       \n",
      " chNormalization)                                                \n",
      "                                                                 \n",
      " dense_8 (Dense)             (None, 32)                2080      \n",
      "                                                                 \n",
      " batch_normalization_7 (Bat  (None, 32)                128       \n",
      " chNormalization)                                                \n",
      "                                                                 \n",
      " dropout_1 (Dropout)         (None, 32)                0         \n",
      "                                                                 \n",
      " dense_9 (Dense)             (None, 1)                 33        \n",
      "                                                                 \n",
      "=================================================================\n",
      "Total params: 78465 (306.50 KB)\n",
      "Trainable params: 77505 (302.75 KB)\n",
      "Non-trainable params: 960 (3.75 KB)\n",
      "_________________________________________________________________\n"
     ]
    }
   ]
  },
  {
   "cell_type": "code",
   "source": [
    "# Input data piepline\n",
    "train_size = int(train_x.shape[0] * 0.8)\n",
    "\n",
    "train_data = train_x[:train_size]\n",
    "train_label = train_y[:train_size]\n",
    "test_data = train_x[train_size:]\n",
    "test_label = train_y[train_size:]\n",
    "\n",
    "print(train_data.shape)\n",
    "print(test_data.shape)"
   ],
   "metadata": {
    "execution": {
     "iopub.status.busy": "2024-05-30T21:33:03.494227Z",
     "iopub.execute_input": "2024-05-30T21:33:03.494568Z",
     "iopub.status.idle": "2024-05-30T21:33:03.502454Z",
     "shell.execute_reply.started": "2024-05-30T21:33:03.494540Z",
     "shell.execute_reply": "2024-05-30T21:33:03.501028Z"
    },
    "trusted": true,
    "ExecuteTime": {
     "end_time": "2024-05-31T04:57:24.757621Z",
     "start_time": "2024-05-31T04:57:24.745646Z"
    }
   },
   "execution_count": 79,
   "outputs": [
    {
     "name": "stdout",
     "output_type": "stream",
     "text": [
      "(56847, 129)\n",
      "(14212, 129)\n"
     ]
    }
   ]
  },
  {
   "cell_type": "code",
   "source": [
    "EPOCHS = 50\n",
    "BATCH_SIZE = 256\n",
    "\n",
    "# Train model \n",
    "history = model.fit(train_data, train_label, BATCH_SIZE, EPOCHS, validation_split=0.2, shuffle=True)"
   ],
   "metadata": {
    "execution": {
     "iopub.status.busy": "2024-05-30T21:33:03.504473Z",
     "iopub.execute_input": "2024-05-30T21:33:03.504900Z",
     "iopub.status.idle": "2024-05-30T21:34:59.308603Z",
     "shell.execute_reply.started": "2024-05-30T21:33:03.504870Z",
     "shell.execute_reply": "2024-05-30T21:34:59.307273Z"
    },
    "trusted": true,
    "ExecuteTime": {
     "end_time": "2024-05-31T04:58:01.999697Z",
     "start_time": "2024-05-31T04:57:24.758754Z"
    }
   },
   "execution_count": 80,
   "outputs": [
    {
     "name": "stdout",
     "output_type": "stream",
     "text": [
      "Epoch 1/50\n",
      "178/178 [==============================] - 2s 5ms/step - loss: 0.0839 - r2_score: 0.8243 - val_loss: 0.1224 - val_r2_score: 0.7649\n",
      "Epoch 2/50\n",
      "178/178 [==============================] - 1s 4ms/step - loss: 0.0493 - r2_score: 0.9404 - val_loss: 0.0703 - val_r2_score: 0.8982\n",
      "Epoch 3/50\n",
      "178/178 [==============================] - 1s 4ms/step - loss: 0.0460 - r2_score: 0.9474 - val_loss: 0.0497 - val_r2_score: 0.9306\n",
      "Epoch 4/50\n",
      "178/178 [==============================] - 1s 4ms/step - loss: 0.0438 - r2_score: 0.9511 - val_loss: 0.0469 - val_r2_score: 0.9323\n",
      "Epoch 5/50\n",
      "178/178 [==============================] - 1s 4ms/step - loss: 0.0449 - r2_score: 0.9497 - val_loss: 0.0451 - val_r2_score: 0.9364\n",
      "Epoch 6/50\n",
      "178/178 [==============================] - 1s 4ms/step - loss: 0.0430 - r2_score: 0.9530 - val_loss: 0.0440 - val_r2_score: 0.9388\n",
      "Epoch 7/50\n",
      "178/178 [==============================] - 1s 4ms/step - loss: 0.0431 - r2_score: 0.9530 - val_loss: 0.0494 - val_r2_score: 0.9298\n",
      "Epoch 8/50\n",
      "178/178 [==============================] - 1s 4ms/step - loss: 0.0428 - r2_score: 0.9533 - val_loss: 0.0430 - val_r2_score: 0.9405\n",
      "Epoch 9/50\n",
      "178/178 [==============================] - 1s 4ms/step - loss: 0.0428 - r2_score: 0.9534 - val_loss: 0.0448 - val_r2_score: 0.9348\n",
      "Epoch 10/50\n",
      "178/178 [==============================] - 1s 4ms/step - loss: 0.0413 - r2_score: 0.9561 - val_loss: 0.0459 - val_r2_score: 0.9377\n",
      "Epoch 11/50\n",
      "178/178 [==============================] - 1s 4ms/step - loss: 0.0413 - r2_score: 0.9561 - val_loss: 0.0493 - val_r2_score: 0.9307\n",
      "Epoch 12/50\n",
      "178/178 [==============================] - 1s 4ms/step - loss: 0.0414 - r2_score: 0.9558 - val_loss: 0.0438 - val_r2_score: 0.9390\n",
      "Epoch 13/50\n",
      "178/178 [==============================] - 1s 4ms/step - loss: 0.0409 - r2_score: 0.9568 - val_loss: 0.0441 - val_r2_score: 0.9392\n",
      "Epoch 14/50\n",
      "178/178 [==============================] - 1s 4ms/step - loss: 0.0404 - r2_score: 0.9576 - val_loss: 0.0456 - val_r2_score: 0.9397\n",
      "Epoch 15/50\n",
      "178/178 [==============================] - 1s 4ms/step - loss: 0.0404 - r2_score: 0.9579 - val_loss: 0.0450 - val_r2_score: 0.9361\n",
      "Epoch 16/50\n",
      "178/178 [==============================] - 1s 4ms/step - loss: 0.0401 - r2_score: 0.9579 - val_loss: 0.0442 - val_r2_score: 0.9381\n",
      "Epoch 17/50\n",
      "178/178 [==============================] - 1s 4ms/step - loss: 0.0400 - r2_score: 0.9584 - val_loss: 0.0430 - val_r2_score: 0.9424\n",
      "Epoch 18/50\n",
      "178/178 [==============================] - 1s 4ms/step - loss: 0.0403 - r2_score: 0.9580 - val_loss: 0.0434 - val_r2_score: 0.9394\n",
      "Epoch 19/50\n",
      "178/178 [==============================] - 1s 4ms/step - loss: 0.0397 - r2_score: 0.9589 - val_loss: 0.0454 - val_r2_score: 0.9385\n",
      "Epoch 20/50\n",
      "178/178 [==============================] - 1s 4ms/step - loss: 0.0398 - r2_score: 0.9586 - val_loss: 0.0421 - val_r2_score: 0.9438\n",
      "Epoch 21/50\n",
      "178/178 [==============================] - 1s 4ms/step - loss: 0.0396 - r2_score: 0.9591 - val_loss: 0.0436 - val_r2_score: 0.9409\n",
      "Epoch 22/50\n",
      "178/178 [==============================] - 1s 4ms/step - loss: 0.0393 - r2_score: 0.9594 - val_loss: 0.0422 - val_r2_score: 0.9447\n",
      "Epoch 23/50\n",
      "178/178 [==============================] - 1s 4ms/step - loss: 0.0392 - r2_score: 0.9596 - val_loss: 0.0456 - val_r2_score: 0.9378\n",
      "Epoch 24/50\n",
      "178/178 [==============================] - 1s 4ms/step - loss: 0.0395 - r2_score: 0.9591 - val_loss: 0.0464 - val_r2_score: 0.9330\n",
      "Epoch 25/50\n",
      "178/178 [==============================] - 1s 4ms/step - loss: 0.0391 - r2_score: 0.9598 - val_loss: 0.0436 - val_r2_score: 0.9428\n",
      "Epoch 26/50\n",
      "178/178 [==============================] - 1s 4ms/step - loss: 0.0393 - r2_score: 0.9598 - val_loss: 0.0453 - val_r2_score: 0.9352\n",
      "Epoch 27/50\n",
      "178/178 [==============================] - 1s 4ms/step - loss: 0.0388 - r2_score: 0.9603 - val_loss: 0.0418 - val_r2_score: 0.9423\n",
      "Epoch 28/50\n",
      "178/178 [==============================] - 1s 4ms/step - loss: 0.0388 - r2_score: 0.9601 - val_loss: 0.0443 - val_r2_score: 0.9394\n",
      "Epoch 29/50\n",
      "178/178 [==============================] - 1s 4ms/step - loss: 0.0390 - r2_score: 0.9598 - val_loss: 0.0470 - val_r2_score: 0.9339\n",
      "Epoch 30/50\n",
      "178/178 [==============================] - 1s 4ms/step - loss: 0.0385 - r2_score: 0.9609 - val_loss: 0.0432 - val_r2_score: 0.9414\n",
      "Epoch 31/50\n",
      "178/178 [==============================] - 1s 4ms/step - loss: 0.0387 - r2_score: 0.9605 - val_loss: 0.0419 - val_r2_score: 0.9420\n",
      "Epoch 32/50\n",
      "178/178 [==============================] - 1s 4ms/step - loss: 0.0385 - r2_score: 0.9610 - val_loss: 0.0434 - val_r2_score: 0.9404\n",
      "Epoch 33/50\n",
      "178/178 [==============================] - 1s 4ms/step - loss: 0.0380 - r2_score: 0.9615 - val_loss: 0.0415 - val_r2_score: 0.9444\n",
      "Epoch 34/50\n",
      "178/178 [==============================] - 1s 4ms/step - loss: 0.0381 - r2_score: 0.9616 - val_loss: 0.0446 - val_r2_score: 0.9373\n",
      "Epoch 35/50\n",
      "178/178 [==============================] - 1s 4ms/step - loss: 0.0382 - r2_score: 0.9612 - val_loss: 0.0414 - val_r2_score: 0.9433\n",
      "Epoch 36/50\n",
      "178/178 [==============================] - 1s 4ms/step - loss: 0.0382 - r2_score: 0.9614 - val_loss: 0.0427 - val_r2_score: 0.9425\n",
      "Epoch 37/50\n",
      "178/178 [==============================] - 1s 4ms/step - loss: 0.0382 - r2_score: 0.9616 - val_loss: 0.0445 - val_r2_score: 0.9404\n",
      "Epoch 38/50\n",
      "178/178 [==============================] - 1s 4ms/step - loss: 0.0379 - r2_score: 0.9620 - val_loss: 0.0462 - val_r2_score: 0.9366\n",
      "Epoch 39/50\n",
      "178/178 [==============================] - 1s 4ms/step - loss: 0.0377 - r2_score: 0.9622 - val_loss: 0.0437 - val_r2_score: 0.9413\n",
      "Epoch 40/50\n",
      "178/178 [==============================] - 1s 4ms/step - loss: 0.0380 - r2_score: 0.9618 - val_loss: 0.0450 - val_r2_score: 0.9372\n",
      "Epoch 41/50\n",
      "178/178 [==============================] - 1s 4ms/step - loss: 0.0377 - r2_score: 0.9622 - val_loss: 0.0444 - val_r2_score: 0.9401\n",
      "Epoch 42/50\n",
      "178/178 [==============================] - 1s 4ms/step - loss: 0.0378 - r2_score: 0.9621 - val_loss: 0.0442 - val_r2_score: 0.9418\n",
      "Epoch 43/50\n",
      "178/178 [==============================] - 1s 4ms/step - loss: 0.0378 - r2_score: 0.9621 - val_loss: 0.0446 - val_r2_score: 0.9400\n",
      "Epoch 44/50\n",
      "178/178 [==============================] - 1s 4ms/step - loss: 0.0379 - r2_score: 0.9621 - val_loss: 0.0431 - val_r2_score: 0.9394\n",
      "Epoch 45/50\n",
      "178/178 [==============================] - 1s 4ms/step - loss: 0.0376 - r2_score: 0.9624 - val_loss: 0.0462 - val_r2_score: 0.9339\n",
      "Epoch 46/50\n",
      "178/178 [==============================] - 1s 4ms/step - loss: 0.0380 - r2_score: 0.9619 - val_loss: 0.0437 - val_r2_score: 0.9381\n",
      "Epoch 47/50\n",
      "178/178 [==============================] - 1s 4ms/step - loss: 0.0373 - r2_score: 0.9626 - val_loss: 0.0416 - val_r2_score: 0.9429\n",
      "Epoch 48/50\n",
      "178/178 [==============================] - 1s 4ms/step - loss: 0.0372 - r2_score: 0.9629 - val_loss: 0.0444 - val_r2_score: 0.9383\n",
      "Epoch 49/50\n",
      "178/178 [==============================] - 1s 4ms/step - loss: 0.0372 - r2_score: 0.9631 - val_loss: 0.0430 - val_r2_score: 0.9416\n",
      "Epoch 50/50\n",
      "178/178 [==============================] - 1s 4ms/step - loss: 0.0375 - r2_score: 0.9625 - val_loss: 0.0448 - val_r2_score: 0.9362\n"
     ]
    }
   ]
  },
  {
   "cell_type": "code",
   "source": [
    "pd.DataFrame(history.history).plot(figsize=(8,5))\n",
    "plt.show()"
   ],
   "metadata": {
    "execution": {
     "iopub.status.busy": "2024-05-30T21:34:59.314084Z",
     "iopub.execute_input": "2024-05-30T21:34:59.314467Z",
     "iopub.status.idle": "2024-05-30T21:34:59.618353Z",
     "shell.execute_reply.started": "2024-05-30T21:34:59.314439Z",
     "shell.execute_reply": "2024-05-30T21:34:59.616981Z"
    },
    "trusted": true,
    "ExecuteTime": {
     "end_time": "2024-05-31T04:58:02.126457Z",
     "start_time": "2024-05-31T04:58:02.000704Z"
    }
   },
   "execution_count": 81,
   "outputs": [
    {
     "data": {
      "text/plain": "<Figure size 800x500 with 1 Axes>",
      "image/png": "[encoded data removed]"
     },
     "metadata": {},
     "output_type": "display_data"
    }
   ]
  },
  {
   "cell_type": "code",
   "source": [
    "plt.plot(history.history['loss'])\n",
    "plt.plot(history.history['val_loss'])\n",
    "plt.title('model loss')\n",
    "plt.ylabel('loss')\n",
    "plt.xlabel('epoch')\n",
    "plt.legend(['train', 'val'], loc='upper left')\n",
    "plt.show()"
   ],
   "metadata": {
    "execution": {
     "iopub.status.busy": "2024-05-30T21:34:59.619804Z",
     "iopub.execute_input": "2024-05-30T21:34:59.620142Z",
     "iopub.status.idle": "2024-05-30T21:34:59.867777Z",
     "shell.execute_reply.started": "2024-05-30T21:34:59.620114Z",
     "shell.execute_reply": "2024-05-30T21:34:59.866905Z"
    },
    "trusted": true,
    "ExecuteTime": {
     "end_time": "2024-05-31T04:58:02.251299Z",
     "start_time": "2024-05-31T04:58:02.127465Z"
    }
   },
   "execution_count": 82,
   "outputs": [
    {
     "data": {
      "text/plain": "<Figure size 640x480 with 1 Axes>",
      "image/png": "[encoded data removed]"
     },
     "metadata": {},
     "output_type": "display_data"
    }
   ]
  },
  {
   "cell_type": "code",
   "source": [
    "# Evaluate result\n",
    "model.evaluate(test_data, test_label)"
   ],
   "metadata": {
    "execution": {
     "iopub.status.busy": "2024-05-30T21:34:59.868950Z",
     "iopub.execute_input": "2024-05-30T21:34:59.870079Z",
     "iopub.status.idle": "2024-05-30T21:35:00.754661Z",
     "shell.execute_reply.started": "2024-05-30T21:34:59.870046Z",
     "shell.execute_reply": "2024-05-30T21:35:00.753254Z"
    },
    "trusted": true,
    "ExecuteTime": {
     "end_time": "2024-05-31T04:58:02.702475Z",
     "start_time": "2024-05-31T04:58:02.252307Z"
    }
   },
   "execution_count": 83,
   "outputs": [
    {
     "name": "stdout",
     "output_type": "stream",
     "text": [
      "445/445 [==============================] - 0s 865us/step - loss: 0.0424 - r2_score: 0.9139\n"
     ]
    },
    {
     "data": {
      "text/plain": "[0.04238199442625046, 0.9138898849487305]"
     },
     "execution_count": 83,
     "metadata": {},
     "output_type": "execute_result"
    }
   ]
  }
 ]
}

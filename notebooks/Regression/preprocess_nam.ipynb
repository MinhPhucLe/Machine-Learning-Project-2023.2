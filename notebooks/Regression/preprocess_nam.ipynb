{
 "cells": [
  {
   "cell_type": "code",
   "execution_count": 2,
   "id": "initial_id",
   "metadata": {
    "collapsed": true,
    "is_executing": true
   },
   "source": [
    "import numpy as np\n",
    "import pandas as pd\n",
    "import seaborn as sns\n",
    "import matplotlib.pyplot as plt"
   ],
   "outputs": []
  },
  {
   "cell_type": "code",
   "execution_count": 3,
   "id": "d5c826b09510e826",
   "metadata": {
    "ExecuteTime": {
     "end_time": "2024-04-21T17:40:36.674875400Z",
     "start_time": "2024-04-21T17:40:36.572684900Z"
    },
    "collapsed": false
   },
   "source": [
    "dt = pd.read_csv('../data/nam_processed_data.csv')"
   ],
   "outputs": []
  },
  {
   "cell_type": "code",
   "execution_count": 4,
   "id": "58c051ffed991ba2",
   "metadata": {
    "ExecuteTime": {
     "end_time": "2024-04-21T17:40:36.693322500Z",
     "start_time": "2024-04-21T17:40:36.685151600Z"
    },
    "collapsed": false
   },
   "source": [
    "def preprocess(df: pd.DataFrame) -> pd.DataFrame:\n",
    "    for index in df.index:\n",
    "        price = df.loc[index, 'price']\n",
    "        price_unit = df.loc[index, 'price_unit']\n",
    "\n",
    "        # Process price\n",
    "        if price_unit == 'Cr':\n",
    "            df.loc[index, 'price_in_USD'] = (price * 10000000 * 0.012)\n",
    "        elif price_unit == 'L':\n",
    "            df.loc[index, 'price_in_USD'] = (price * 100000 * 0.012)\n",
    "\n",
    "        # Process type  ( Apartment: 0, Independent House: 1, Studio Apartment: 2, villa: 3 )\n",
    "        if df.loc[index, 'type'] == \"Apartment\":\n",
    "            df.loc[index, 'house_type'] = int(0)\n",
    "        elif df.loc[index, 'type'] == \"Independent House\":\n",
    "            df.loc[index, 'house_type'] = int(1)\n",
    "        elif df.loc[index, 'type'] == \"Studio Apartment\":\n",
    "            df.loc[index, 'house_type'] = int(2)\n",
    "        else:\n",
    "            df.loc[index, 'house_type'] = int(3)\n",
    "\n",
    "        # Process status ( Ready to move: 0, under Construction: 1 )\n",
    "        if df.loc[index, 'status'] == \"Ready to move\":\n",
    "            df.loc[index, 'status'] = 0\n",
    "        else:\n",
    "            df.loc[index, 'status'] = 1\n",
    "\n",
    "    # Set status to int\n",
    "    df['status'] = df['status'].astype(int)\n",
    "\n",
    "    # Set house type to int\n",
    "    df['house_type'] = df['house_type'].astype(int)\n",
    "\n",
    "    # Drop unnecessary columns\n",
    "    df.drop(['price_unit', 'price', 'locality', 'type'], axis = 1, inplace = True)\n",
    "\n",
    "    # Drop rows that have unknown value\n",
    "    df = df.replace(\"Unknown\", value = np.NaN)\n",
    "    df = df.dropna()\n",
    "\n",
    "    # df = pd.concat([df, dummies.drop('other', axis='columns')], axis='columns')\n",
    "\n",
    "    # print((type(df.loc[1, 'house_type'])))\n",
    "    # print(df.head(10)[['region']])\n",
    "    # print(list(df.columns))\n",
    "    # print(df.shape)\n",
    "    return df\n",
    "\n",
    "def remove_std_outliers(df) -> pd.DataFrame:\n",
    "    # Add column price per square feet to process data\n",
    "    df['price_per_sqft'] = df['price_in_USD'] / df['area']\n",
    "    result_df = pd.DataFrame()\n",
    "    for index, row in df.groupby('region'):\n",
    "        mn = np.mean(row['price_per_sqft'])\n",
    "        std = np.std(row['price_per_sqft'])\n",
    "        accpt_dt = row[(row['price_per_sqft'] > (mn - std)) & (row['price_per_sqft'] <= (mn + std))]\n",
    "        result_df = pd.concat([result_df, accpt_dt], ignore_index = True)\n",
    "    result_df = result_df.drop(['price_per_sqft'], axis = 1)\n",
    "    return result_df\n",
    "\n",
    "\n",
    "def process_region(df) -> pd.DataFrame:\n",
    "    df.region = df.region.apply(lambda x: x.strip())\n",
    "    region_stats = df['region'].value_counts(ascending=False)\n",
    "    region_stats_less_than_10 = region_stats[region_stats <= 10]\n",
    "    df['region'] = df['region'].apply(lambda x: 'other' if x in region_stats_less_than_10 else x)\n",
    "    return df\n",
    "\n",
    "\n",
    "def process_age(df) -> pd.DataFrame:\n",
    "    # Process new column ( if 1 then that house is new else it is resale)\n",
    "    df['new'] = df.age.apply(lambda x: 1 if x == \"New\" else 0)\n",
    "    df = df.drop(['age'], axis = 1)\n",
    "    idx = df[df['region'] == 'other'].index\n",
    "    df = df.drop(idx)\n",
    "    return df\n",
    "\n",
    "\n",
    "# Convert DataFrane to csv file\n",
    "def insert_data_nam(df):\n",
    "    df.to_csv('../data/nam_processed_data.csv', index = False)"
   ],
   "outputs": []
  },
  {
   "cell_type": "code",
   "execution_count": 5,
   "id": "31773cd85986db7",
   "metadata": {
    "ExecuteTime": {
     "end_time": "2024-04-21T17:40:36.712547700Z",
     "start_time": "2024-04-21T17:40:36.694320600Z"
    },
    "collapsed": false
   },
   "source": [
    "def apply_one_hot_encoding(df):\n",
    "    # Applying one-hot encoding to the 'region' column\n",
    "    dummies = pd.get_dummies(df['region'], prefix='region')\n",
    "    # Concatenate the original DataFrame and the dummies DataFrame\n",
    "    df = pd.concat([df, dummies], axis=1)\n",
    "    # Optionally, drop the original 'region' column as it's now encoded\n",
    "    df.drop(['region'], axis=1, inplace=True)\n",
    "    return df\n"
   ],
   "outputs": []
  },
  {
   "cell_type": "code",
   "execution_count": 6,
   "id": "592e09c15f9c52c0",
   "metadata": {
    "ExecuteTime": {
     "end_time": "2024-04-21T17:41:45.610710800Z",
     "start_time": "2024-04-21T17:40:39.330040700Z"
    },
    "collapsed": false
   },
   "source": [
    "if __name__ == '__main__':\n",
    "    dt = preprocess(dt)\n",
    "    dt = process_region(dt)\n",
    "    dt = remove_std_outliers(dt)\n",
    "    dt = process_age(dt)\n",
    "    insert_data_nam(dt)\n",
    "    print(dt.shape)\n",
    "    dt.info()\n",
    "    print(dt.head())"
   ],
   "outputs": []
  },
  {
   "cell_type": "code",
   "execution_count": 7,
   "id": "5038e19e50ed1034",
   "metadata": {
    "ExecuteTime": {
     "end_time": "2024-04-21T17:39:16.920125Z",
     "start_time": "2024-04-21T17:39:16.839172600Z"
    },
    "collapsed": false
   },
   "source": [
    "dt = apply_one_hot_encoding(dt)"
   ],
   "outputs": []
  },
  {
   "cell_type": "code",
   "execution_count": 8,
   "id": "2e9eaecc64ff4255",
   "metadata": {
    "ExecuteTime": {
     "end_time": "2024-04-21T17:39:16.930444800Z",
     "start_time": "2024-04-21T17:39:16.882057100Z"
    },
    "collapsed": false
   },
   "source": [
    "print(dt.head())"
   ],
   "outputs": []
  }
 ],
 "metadata": {
  "kernelspec": {
   "display_name": "Python 3",
   "language": "python",
   "name": "python3"
  },
  "language_info": {
   "codemirror_mode": {
    "name": "ipython",
    "version": 3
   },
   "file_extension": ".py",
   "mimetype": "text/x-python",
   "name": "python",
   "nbconvert_exporter": "python",
   "pygments_lexer": "ipython3",
   "version": "3.11.7"
  }
 },
 "nbformat": 4,
 "nbformat_minor": 5
}

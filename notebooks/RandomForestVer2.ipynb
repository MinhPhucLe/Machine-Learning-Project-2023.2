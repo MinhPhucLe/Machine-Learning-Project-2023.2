{
 "cells": [
  {
   "cell_type": "code",
   "id": "initial_id",
   "metadata": {
    "collapsed": true,
    "ExecuteTime": {
     "end_time": "2024-04-15T08:27:51.745201Z",
     "start_time": "2024-04-15T08:27:51.738433Z"
    }
   },
   "source": [
    "import pandas as pd \n",
    "import matplotlib.pyplot as plt\n",
    "from sklearn.ensemble import RandomForestRegressor\n",
    "import time\n",
    "import pickle\n",
    "import numpy as np"
   ],
   "outputs": [],
   "execution_count": 41
  },
  {
   "metadata": {
    "ExecuteTime": {
     "end_time": "2024-04-15T08:27:51.821046Z",
     "start_time": "2024-04-15T08:27:51.776480Z"
    }
   },
   "cell_type": "code",
   "source": [
    "data = pd.read_csv('../data/processed_data.csv')\n",
    "# Process type  ( Apartment: 0, Independent House: 1, Studio Apartment: 2, villa: 3 )\n",
    "# Process status ( Ready to move: 0, under Construction: 1 )\n",
    "for column in data:\n",
    "    if column in [\"bhk\",\"status\",\"house_type\",\"new\"]:\n",
    "        print(\"Column Name: \", column)\n",
    "        print(data[column].unique())\n",
    "        print(data[column].value_counts())"
   ],
   "id": "526a313c6a4b1c9f",
   "outputs": [
    {
     "name": "stdout",
     "output_type": "stream",
     "text": [
      "Column Name:  bhk\n",
      "[ 2  1  3  4  8  5  6  9 10  7]\n",
      "bhk\n",
      "2     20154\n",
      "1     16596\n",
      "3      7278\n",
      "4      1103\n",
      "5       162\n",
      "6        39\n",
      "7         5\n",
      "8         2\n",
      "9         2\n",
      "10        2\n",
      "Name: count, dtype: int64\n",
      "Column Name:  status\n",
      "[1 0]\n",
      "status\n",
      "0    26914\n",
      "1    18429\n",
      "Name: count, dtype: int64\n",
      "Column Name:  house_type\n",
      "[0 2 1 3]\n",
      "house_type\n",
      "0    44591\n",
      "2      597\n",
      "3      110\n",
      "1       45\n",
      "Name: count, dtype: int64\n",
      "Column Name:  new\n",
      "[0 1]\n",
      "new\n",
      "1    27143\n",
      "0    18200\n",
      "Name: count, dtype: int64\n"
     ]
    }
   ],
   "execution_count": 42
  },
  {
   "metadata": {
    "ExecuteTime": {
     "end_time": "2024-04-15T08:27:51.836645Z",
     "start_time": "2024-04-15T08:27:51.823463Z"
    }
   },
   "cell_type": "code",
   "source": [
    "def preprocessing(data:pd.DataFrame) -> pd.DataFrame:\n",
    "    data.drop([\"status\",\"new\",\"house_type\"], axis = 1, inplace = True)\n",
    "    data = data.dropna()\n",
    "    return data\n"
   ],
   "id": "9d3162b45feb327c",
   "outputs": [],
   "execution_count": 43
  },
  {
   "metadata": {
    "ExecuteTime": {
     "end_time": "2024-04-15T08:27:51.852275Z",
     "start_time": "2024-04-15T08:27:51.838149Z"
    }
   },
   "cell_type": "code",
   "source": [
    "processed_data = preprocessing(data)\n",
    "for column in processed_data:\n",
    "    print(column)"
   ],
   "id": "9b662e6d9124aa47",
   "outputs": [
    {
     "name": "stdout",
     "output_type": "stream",
     "text": [
      "bhk\n",
      "area\n",
      "region\n",
      "price_in_USD\n"
     ]
    }
   ],
   "execution_count": 44
  },
  {
   "metadata": {
    "ExecuteTime": {
     "end_time": "2024-04-15T08:27:51.867996Z",
     "start_time": "2024-04-15T08:27:51.855279Z"
    }
   },
   "cell_type": "code",
   "source": [
    "from sklearn.preprocessing import LabelEncoder\n",
    "le = LabelEncoder()\n",
    "X = processed_data.drop(labels=\"price_in_USD\",axis=1)\n",
    "for column in X:\n",
    "    if column in [\"locality\",\"region\", \"status\", \"age\",\"type\"]:\n",
    "        X[column] = le.fit_transform(X[column])\n",
    "\n",
    "Y = processed_data[\"price_in_USD\"]\n",
    "print(X.shape)\n",
    "print(Y.shape)"
   ],
   "id": "6b59e0a7cc7b628",
   "outputs": [
    {
     "name": "stdout",
     "output_type": "stream",
     "text": [
      "(45343, 3)\n",
      "(45343,)\n"
     ]
    }
   ],
   "execution_count": 45
  },
  {
   "metadata": {
    "ExecuteTime": {
     "end_time": "2024-04-15T08:27:51.883590Z",
     "start_time": "2024-04-15T08:27:51.869503Z"
    }
   },
   "cell_type": "code",
   "source": [
    "from sklearn.model_selection import train_test_split\n",
    "X_hold, X_test, Y_hold, Y_test = train_test_split(X,Y,test_size=0.05,random_state=0)\n",
    "X_train, X_val, Y_train,Y_val = train_test_split(X_hold,Y_hold,test_size=0.05,random_state=0)"
   ],
   "id": "1abba800f23eda6",
   "outputs": [],
   "execution_count": 46
  },
  {
   "metadata": {
    "ExecuteTime": {
     "end_time": "2024-04-15T08:27:51.898680Z",
     "start_time": "2024-04-15T08:27:51.891146Z"
    }
   },
   "cell_type": "code",
   "source": [
    "# from sklearn.model_selection import validation_curve\n",
    "# \n",
    "# parameter_range = np.arange(1, 25, 1)\n",
    "# \n",
    "# # Calculate accuracy on training and test set using the\n",
    "# # gamma parameter with 5-fold cross validation\n",
    "# train_score, val_score = validation_curve(RandomForestRegressor(n_estimators=10, random_state=42), X_hold, Y_hold,\n",
    "#                                           param_name=\"max_depth\",\n",
    "#                                           param_range=parameter_range,\n",
    "#                                           cv=4, scoring=\"r2\")\n",
    "# mean_train_score = np.mean(train_score, axis=1)\n",
    "# std_train_score = np.std(train_score, axis=1)\n",
    "# \n",
    "# mean_val_score = np.mean(val_score, axis=1)\n",
    "# std_val_score = np.std(val_score, axis=1)\n",
    "# \n",
    "# plt.plot(parameter_range, mean_train_score,\n",
    "#          label=\"Training Score\", color='b')\n",
    "# plt.plot(parameter_range, mean_val_score,\n",
    "#          label=\"Cross Validation Score\", color='g')\n",
    "# # Creating the plot\n",
    "# plt.title(\"Validation Curve with Random Forest Regressor\")\n",
    "# plt.xlabel(\"Max depth\")\n",
    "# plt.ylabel(\"R2 Score\")\n",
    "# plt.tight_layout()\n",
    "# plt.legend(loc='best')\n",
    "# plt.show()"
   ],
   "id": "3c5011ca7d4dd0b3",
   "outputs": [],
   "execution_count": 47
  },
  {
   "metadata": {
    "ExecuteTime": {
     "end_time": "2024-04-15T08:27:51.913501Z",
     "start_time": "2024-04-15T08:27:51.908271Z"
    }
   },
   "cell_type": "code",
   "source": [
    "# from sklearn.model_selection import validation_curve\n",
    "# \n",
    "# parameter_range = [\"squared_error\",\"absolute_error\",\"friedman_mse\", \"poisson\"]\n",
    "# \n",
    "# # Calculate accuracy on training and test set using the\n",
    "# # gamma parameter with 5-fold cross validation\n",
    "# train_score, val_score = validation_curve(RandomForestRegressor(n_estimators=10, max_depth=16, random_state=42), X_hold, Y_hold,\n",
    "#                                           param_name=\"criterion\",\n",
    "#                                           param_range=parameter_range,\n",
    "#                                           cv=4, scoring=\"r2\")\n",
    "# mean_train_score = np.mean(train_score, axis=1)\n",
    "# std_train_score = np.std(train_score, axis=1)\n",
    "# \n",
    "# mean_val_score = np.mean(val_score, axis=1)\n",
    "# std_val_score = np.std(val_score, axis=1)\n",
    "# \n",
    "# plt.plot(parameter_range, mean_train_score,\n",
    "#          label=\"Training Score\", color='b')\n",
    "# plt.plot(parameter_range, mean_val_score,\n",
    "#          label=\"Cross Validation Score\", color='g')\n",
    "# # Creating the plot\n",
    "# plt.title(\"Validation Curve with Random Forest Regressor\")\n",
    "# plt.xlabel(\"Criterion\")\n",
    "# plt.ylabel(\"R2 Score\")\n",
    "# plt.tight_layout()\n",
    "# plt.legend(loc='best')\n",
    "# plt.show()"
   ],
   "id": "81ee10670fa990f6",
   "outputs": [],
   "execution_count": 48
  },
  {
   "metadata": {
    "ExecuteTime": {
     "end_time": "2024-04-15T08:44:07.571019Z",
     "start_time": "2024-04-15T08:42:53.500146Z"
    }
   },
   "cell_type": "code",
   "source": [
    "# from sklearn.model_selection import validation_curve\n",
    "# \n",
    "# parameter_range = np.arange(700 , 800, 2)\n",
    "# \n",
    "# # Calculate accuracy on training and test set using the\n",
    "# # gamma parameter with 5-fold cross validation\n",
    "# train_score, val_score = validation_curve(RandomForestRegressor(n_estimators=10, max_depth=16, random_state=42), X_hold, Y_hold,\n",
    "#                                           param_name=\"max_leaf_nodes\",\n",
    "#                                           param_range=parameter_range,\n",
    "#                                           cv=4, scoring=\"r2\")\n",
    "# mean_train_score = np.mean(train_score, axis=1)\n",
    "# std_train_score = np.std(train_score, axis=1)\n",
    "# \n",
    "# mean_val_score = np.mean(val_score, axis=1)\n",
    "# std_val_score = np.std(val_score, axis=1)\n",
    "# \n",
    "# plt.plot(parameter_range, mean_train_score,\n",
    "#          label=\"Training Score\", color='b')\n",
    "# plt.plot(parameter_range, mean_val_score,\n",
    "#          label=\"Cross Validation Score\", color='g')\n",
    "# # Creating the plot\n",
    "# plt.title(\"Validation Curve with Random Forest Regressor\")\n",
    "# plt.xlabel(\"Max leaf nodes\")\n",
    "# plt.ylabel(\"R2 Score\")\n",
    "# plt.tight_layout()\n",
    "# plt.legend(loc='best')\n",
    "# plt.show()"
   ],
   "id": "d0fd7addab05982c",
   "outputs": [
    {
     "data": {
      "text/plain": [
       "<Figure size 640x480 with 1 Axes>"
      ],
      "image/png": "[encoded data removed]"
     },
     "metadata": {},
     "output_type": "display_data"
    }
   ],
   "execution_count": 62
  },
  {
   "metadata": {
    "ExecuteTime": {
     "end_time": "2024-04-15T08:28:02.979851Z",
     "start_time": "2024-04-15T08:28:02.965529Z"
    }
   },
   "cell_type": "code",
   "source": [
    "# from sklearn.model_selection import learning_curve\n",
    "# \n",
    "# # Calculate accuracy on training and test set using the\n",
    "# # gamma parameter with 5-fold cross validation\n",
    "# train_sizes, train_score, val_score = learning_curve(RandomForestRegressor(n_estimators=10,max_depth=16, random_state=42), X_hold, Y_hold,\n",
    "#                                           cv=4, train_sizes=np.linspace(0.1, 1.0, 10),scoring=\"r2\")\n",
    "# \n",
    "# train_score_mean = np.mean(train_score, axis=1)\n",
    "# train_score_std = np.std(train_score, axis=1)\n",
    "# \n",
    "# val_score_mean = np.mean(val_score, axis=1)\n",
    "# val_score_std = np.std(val_score, axis=1)\n",
    "# \n",
    "# plt.plot(train_sizes, train_score_mean,\n",
    "#          label=\"Training Score\", color='b')\n",
    "# plt.plot(train_sizes, val_score_mean,\n",
    "#          label=\"Cross Validation Score\", color='g')\n",
    "# # Creating the plot\n",
    "# plt.title(\"Learning Curve with Random Forest Regressor\")\n",
    "# plt.xlabel(\"Training examples\")\n",
    "# plt.ylabel(\"R2 Score\")\n",
    "# plt.tight_layout()\n",
    "# plt.legend(loc='best')\n",
    "# plt.show()"
   ],
   "id": "71cc1f21e61c48f",
   "outputs": [],
   "execution_count": 50
  },
  {
   "metadata": {
    "ExecuteTime": {
     "end_time": "2024-04-15T08:28:03.516076Z",
     "start_time": "2024-04-15T08:28:02.981358Z"
    }
   },
   "cell_type": "code",
   "source": [
    "start = time.time()\n",
    "# Create the model\n",
    "model = RandomForestRegressor(n_estimators=10, max_depth=16 , random_state=42)\n",
    "print(\"Start training...\")\n",
    "model.fit(X_train, Y_train)\n",
    "end = time.time()\n",
    "print(\"Time execution : \", end - start)\n",
    "pickle.dump(model, open('../models/RandomForest2', 'wb'))"
   ],
   "id": "ee94eacfc512905e",
   "outputs": [
    {
     "name": "stdout",
     "output_type": "stream",
     "text": [
      "Start training...\n",
      "Time execution :  0.5221168994903564\n"
     ]
    }
   ],
   "execution_count": 51
  },
  {
   "metadata": {
    "ExecuteTime": {
     "end_time": "2024-04-15T08:28:03.547594Z",
     "start_time": "2024-04-15T08:28:03.518882Z"
    }
   },
   "cell_type": "code",
   "source": "loaded_model = pickle.load(open('../models/RandomForest2', 'rb'))",
   "id": "c2b992b582280c7a",
   "outputs": [],
   "execution_count": 52
  },
  {
   "metadata": {
    "ExecuteTime": {
     "end_time": "2024-04-15T08:28:03.730370Z",
     "start_time": "2024-04-15T08:28:03.548763Z"
    }
   },
   "cell_type": "code",
   "source": [
    "feature_names = [f\"{column}\" for column in X_train]\n",
    "importances = loaded_model.feature_importances_\n",
    "forest_importances = pd.Series(importances, index=feature_names)\n",
    "std = np.std([tree.feature_importances_ for tree in loaded_model.estimators_], axis=0)\n",
    "fig, ax = plt.subplots()\n",
    "forest_importances.plot.bar(yerr=std, ax=ax)\n",
    "ax.set_title(\"Feature importances using MDI\")\n",
    "ax.set_ylabel(\"Mean decrease in impurity\")\n",
    "fig.tight_layout()"
   ],
   "id": "338c8f13cbfc5364",
   "outputs": [
    {
     "data": {
      "text/plain": [
       "<Figure size 640x480 with 1 Axes>"
      ],
      "image/png": "[encoded data removed]"
     },
     "metadata": {},
     "output_type": "display_data"
    }
   ],
   "execution_count": 53
  },
  {
   "metadata": {
    "ExecuteTime": {
     "end_time": "2024-04-15T08:28:03.760541Z",
     "start_time": "2024-04-15T08:28:03.731374Z"
    }
   },
   "cell_type": "code",
   "source": [
    "#Make the predictions \n",
    "pred_table = pd.DataFrame(data={\"actual value\":Y_test, \"predicted\":loaded_model.predict(X_test)})\n",
    "pred_table[\"difference\"] = pred_table[\"actual value\"] - pred_table[\"predicted\"]\n",
    "pred_table"
   ],
   "id": "58a09c965b647884",
   "outputs": [
    {
     "data": {
      "text/plain": [
       "       actual value      predicted    difference\n",
       "17052       32400.0   34608.895820  -2208.895820\n",
       "7961        28560.0   35863.591703  -7303.591703\n",
       "39704      306000.0  323285.454545 -17285.454545\n",
       "13523      156000.0  170099.469642 -14099.469642\n",
       "11833      111600.0  114190.370162  -2590.370162\n",
       "...             ...            ...           ...\n",
       "14713      138000.0  127233.438631  10766.561369\n",
       "4904       300000.0  279192.601397  20807.398603\n",
       "39029       99144.0  100976.630043  -1832.630043\n",
       "24779      115200.0  117523.475702  -2323.475702\n",
       "44001       37056.0   36777.808235    278.191765\n",
       "\n",
       "[2268 rows x 3 columns]"
      ],
      "text/html": [
       "<div>\n",
       "<style scoped>\n",
       "    .dataframe tbody tr th:only-of-type {\n",
       "        vertical-align: middle;\n",
       "    }\n",
       "\n",
       "    .dataframe tbody tr th {\n",
       "        vertical-align: top;\n",
       "    }\n",
       "\n",
       "    .dataframe thead th {\n",
       "        text-align: right;\n",
       "    }\n",
       "</style>\n",
       "<table border=\"1\" class=\"dataframe\">\n",
       "  <thead>\n",
       "    <tr style=\"text-align: right;\">\n",
       "      <th></th>\n",
       "      <th>actual value</th>\n",
       "      <th>predicted</th>\n",
       "      <th>difference</th>\n",
       "    </tr>\n",
       "  </thead>\n",
       "  <tbody>\n",
       "    <tr>\n",
       "      <th>17052</th>\n",
       "      <td>32400.0</td>\n",
       "      <td>34608.895820</td>\n",
       "      <td>-2208.895820</td>\n",
       "    </tr>\n",
       "    <tr>\n",
       "      <th>7961</th>\n",
       "      <td>28560.0</td>\n",
       "      <td>35863.591703</td>\n",
       "      <td>-7303.591703</td>\n",
       "    </tr>\n",
       "    <tr>\n",
       "      <th>39704</th>\n",
       "      <td>306000.0</td>\n",
       "      <td>323285.454545</td>\n",
       "      <td>-17285.454545</td>\n",
       "    </tr>\n",
       "    <tr>\n",
       "      <th>13523</th>\n",
       "      <td>156000.0</td>\n",
       "      <td>170099.469642</td>\n",
       "      <td>-14099.469642</td>\n",
       "    </tr>\n",
       "    <tr>\n",
       "      <th>11833</th>\n",
       "      <td>111600.0</td>\n",
       "      <td>114190.370162</td>\n",
       "      <td>-2590.370162</td>\n",
       "    </tr>\n",
       "    <tr>\n",
       "      <th>...</th>\n",
       "      <td>...</td>\n",
       "      <td>...</td>\n",
       "      <td>...</td>\n",
       "    </tr>\n",
       "    <tr>\n",
       "      <th>14713</th>\n",
       "      <td>138000.0</td>\n",
       "      <td>127233.438631</td>\n",
       "      <td>10766.561369</td>\n",
       "    </tr>\n",
       "    <tr>\n",
       "      <th>4904</th>\n",
       "      <td>300000.0</td>\n",
       "      <td>279192.601397</td>\n",
       "      <td>20807.398603</td>\n",
       "    </tr>\n",
       "    <tr>\n",
       "      <th>39029</th>\n",
       "      <td>99144.0</td>\n",
       "      <td>100976.630043</td>\n",
       "      <td>-1832.630043</td>\n",
       "    </tr>\n",
       "    <tr>\n",
       "      <th>24779</th>\n",
       "      <td>115200.0</td>\n",
       "      <td>117523.475702</td>\n",
       "      <td>-2323.475702</td>\n",
       "    </tr>\n",
       "    <tr>\n",
       "      <th>44001</th>\n",
       "      <td>37056.0</td>\n",
       "      <td>36777.808235</td>\n",
       "      <td>278.191765</td>\n",
       "    </tr>\n",
       "  </tbody>\n",
       "</table>\n",
       "<p>2268 rows × 3 columns</p>\n",
       "</div>"
      ]
     },
     "execution_count": 54,
     "metadata": {},
     "output_type": "execute_result"
    }
   ],
   "execution_count": 54
  },
  {
   "metadata": {
    "ExecuteTime": {
     "end_time": "2024-04-15T08:28:03.837455Z",
     "start_time": "2024-04-15T08:28:03.761544Z"
    }
   },
   "cell_type": "code",
   "source": [
    "from sklearn.metrics import r2_score\n",
    "#Test the model\n",
    "pred_train = loaded_model.predict(X_train)\n",
    "pred_val = loaded_model.predict(X_val)\n",
    "pred_test = loaded_model.predict(X_test)\n",
    "train_accuracy = r2_score(pred_train, Y_train)\n",
    "val_accuracy = r2_score(pred_val, Y_val)\n",
    "test_accuracy = r2_score(pred_test, Y_test)\n",
    "print('Training accuracy: ',train_accuracy)\n",
    "print('Validation accuracy: ', val_accuracy)\n",
    "print('Test accuracy: ',test_accuracy)"
   ],
   "id": "25641b90fbbfcb23",
   "outputs": [
    {
     "name": "stdout",
     "output_type": "stream",
     "text": [
      "Training accuracy:  0.975482041163716\n",
      "Validation accuracy:  0.9044165383197788\n",
      "Test accuracy:  0.8941784861481998\n"
     ]
    }
   ],
   "execution_count": 55
  },
  {
   "metadata": {
    "ExecuteTime": {
     "end_time": "2024-04-15T08:28:03.852787Z",
     "start_time": "2024-04-15T08:28:03.838575Z"
    }
   },
   "cell_type": "code",
   "source": [
    "from sklearn.metrics import mean_squared_error\n",
    "mse_train = mean_squared_error(Y_train, pred_train)\n",
    "mse_val = mean_squared_error(Y_val, pred_val)\n",
    "mse_test = mean_squared_error(Y_test, pred_test)\n",
    "print('Training mean squared error: ', mse_train)\n",
    "print('Validation mean squared error: ', mse_val)\n",
    "print('Test mean squared error: ', mse_test)"
   ],
   "id": "d84dec3e2610031b",
   "outputs": [
    {
     "name": "stdout",
     "output_type": "stream",
     "text": [
      "Training mean squared error:  1000902448.712182\n",
      "Validation mean squared error:  3238531963.0677376\n",
      "Test mean squared error:  3213131293.961096\n"
     ]
    }
   ],
   "execution_count": 56
  },
  {
   "metadata": {
    "ExecuteTime": {
     "end_time": "2024-04-15T08:28:03.868213Z",
     "start_time": "2024-04-15T08:28:03.854246Z"
    }
   },
   "cell_type": "code",
   "source": [
    "from sklearn.metrics import mean_absolute_error\n",
    "mae_train = mean_absolute_error(Y_train, pred_train)\n",
    "mae_val = mean_absolute_error(Y_val, pred_val)\n",
    "mae_test = mean_absolute_error(Y_test, pred_test)\n",
    "print('Training mean absolute error: ', mae_train)\n",
    "print('Validation mean absolute error: ', mae_val)\n",
    "print('Test mean absolute error: ', mae_test)"
   ],
   "id": "2a6ce0e7e7c49d63",
   "outputs": [
    {
     "name": "stdout",
     "output_type": "stream",
     "text": [
      "Training mean absolute error:  15904.015925779897\n",
      "Validation mean absolute error:  21184.640733491447\n",
      "Test mean absolute error:  20415.940870541566\n"
     ]
    }
   ],
   "execution_count": 57
  },
  {
   "metadata": {
    "ExecuteTime": {
     "end_time": "2024-04-15T08:28:03.883417Z",
     "start_time": "2024-04-15T08:28:03.870221Z"
    }
   },
   "cell_type": "code",
   "source": "",
   "id": "5b070bdfb3e7dae5",
   "outputs": [],
   "execution_count": 57
  }
 ],
 "metadata": {
  "kernelspec": {
   "display_name": "Python 3",
   "language": "python",
   "name": "python3"
  },
  "language_info": {
   "codemirror_mode": {
    "name": "ipython",
    "version": 2
   },
   "file_extension": ".py",
   "mimetype": "text/x-python",
   "name": "python",
   "nbconvert_exporter": "python",
   "pygments_lexer": "ipython2",
   "version": "2.7.6"
  }
 },
 "nbformat": 4,
 "nbformat_minor": 5
}

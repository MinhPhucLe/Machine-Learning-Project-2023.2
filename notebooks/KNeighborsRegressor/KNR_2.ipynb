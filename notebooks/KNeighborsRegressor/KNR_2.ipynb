{
 "cells": [
  {
   "cell_type": "code",
   "id": "initial_id",
   "metadata": {
    "collapsed": true,
    "ExecuteTime": {
     "end_time": "2024-05-29T15:12:51.945677Z",
     "start_time": "2024-05-29T15:12:51.941647Z"
    }
   },
   "source": [
    "import pandas as pd \n",
    "import matplotlib.pyplot as plt\n",
    "from sklearn.neighbors import KNeighborsRegressor\n",
    "import time\n",
    "import pickle\n",
    "import numpy as np"
   ],
   "outputs": [],
   "execution_count": 9
  },
  {
   "metadata": {
    "ExecuteTime": {
     "end_time": "2024-05-29T15:12:51.990362Z",
     "start_time": "2024-05-29T15:12:51.987367Z"
    }
   },
   "cell_type": "code",
   "source": [
    "model_file = \"../../models/KNR_2\"\n",
    "data_file = \"../../data/processed_data_2.csv\""
   ],
   "id": "d60bd2f5f5c80ed9",
   "outputs": [],
   "execution_count": 10
  },
  {
   "metadata": {
    "ExecuteTime": {
     "end_time": "2024-05-29T15:12:52.388692Z",
     "start_time": "2024-05-29T15:12:52.014912Z"
    }
   },
   "cell_type": "code",
   "source": [
    "data = pd.read_csv(data_file)\n",
    "# Process type  ( Apartment: 0, Independent House: 1, Studio Apartment: 2, villa: 3 )\n",
    "# Process status ( Ready to move: 0, under Construction: 1 )\n",
    "for column in data:\n",
    "    if column in [\"bhk\",\"status\",\"house_type\",\"new\"]:\n",
    "        # Get the value counts for the column\n",
    "        value_counts = data[column].value_counts()\n",
    "        # Find the values that occur fewer than 10 times\n",
    "        to_drop = value_counts[value_counts < 10].index\n",
    "        # Drop rows where the column's value is in the to_drop list\n",
    "        data = data[~data[column].isin(to_drop)]\n",
    "for column in data:\n",
    "    if column in [\"bhk\",\"status\",\"house_type\",\"new\"]:\n",
    "        print(\"Column Name: \", column)\n",
    "        print(data[column].unique())\n",
    "        print(data[column].value_counts())"
   ],
   "id": "526a313c6a4b1c9f",
   "outputs": [
    {
     "name": "stdout",
     "output_type": "stream",
     "text": [
      "Column Name:  bhk\n",
      "[2 1 3 4 5 6]\n",
      "bhk\n",
      "2    20154\n",
      "1    16596\n",
      "3     7278\n",
      "4     1103\n",
      "5      162\n",
      "6       39\n",
      "Name: count, dtype: int64\n",
      "Column Name:  status\n",
      "[1 0]\n",
      "status\n",
      "0    26904\n",
      "1    18428\n",
      "Name: count, dtype: int64\n",
      "Column Name:  house_type\n",
      "[0 2 1 3]\n",
      "house_type\n",
      "0    44580\n",
      "2      597\n",
      "3      110\n",
      "1       45\n",
      "Name: count, dtype: int64\n",
      "Column Name:  new\n",
      "[0 1]\n",
      "new\n",
      "1    27140\n",
      "0    18192\n",
      "Name: count, dtype: int64\n"
     ]
    }
   ],
   "execution_count": 11
  },
  {
   "metadata": {
    "ExecuteTime": {
     "end_time": "2024-05-29T15:12:52.397274Z",
     "start_time": "2024-05-29T15:12:52.390713Z"
    }
   },
   "cell_type": "code",
   "source": [
    "def preprocessing(data:pd.DataFrame) -> pd.DataFrame:\n",
    "    # data.drop([\"status\",\"new\",\"house_type\"], axis = 1, inplace = True)\n",
    "    data = data.dropna()\n",
    "    return data\n"
   ],
   "id": "9d3162b45feb327c",
   "outputs": [],
   "execution_count": 12
  },
  {
   "metadata": {
    "ExecuteTime": {
     "end_time": "2024-05-29T15:12:52.417165Z",
     "start_time": "2024-05-29T15:12:52.398847Z"
    }
   },
   "cell_type": "code",
   "source": [
    "processed_data = preprocessing(data)\n",
    "for column in processed_data:\n",
    "    print(column)"
   ],
   "id": "9b662e6d9124aa47",
   "outputs": [
    {
     "name": "stdout",
     "output_type": "stream",
     "text": [
      "bhk\n",
      "area\n",
      "status\n",
      "price_in_USD\n",
      "house_type\n",
      "new\n",
      "region_Agripada\n",
      "region_Airoli\n",
      "region_Ambernath East\n",
      "region_Ambernath West\n",
      "region_Andheri East\n",
      "region_Andheri West\n",
      "region_Anjurdive\n",
      "region_Badlapur East\n",
      "region_Badlapur West\n",
      "region_Bandra East\n",
      "region_Bandra Kurla Complex\n",
      "region_Bandra West\n",
      "region_Belapur\n",
      "region_Bhandup East\n",
      "region_Bhandup West\n",
      "region_Bhayandar East\n",
      "region_Bhayandar West\n",
      "region_Bhiwandi\n",
      "region_Boisar\n",
      "region_Borivali East\n",
      "region_Borivali West\n",
      "region_Byculla\n",
      "region_Chembur\n",
      "region_Colaba\n",
      "region_Dadar East\n",
      "region_Dadar West\n",
      "region_Dahisar\n",
      "region_Deonar\n",
      "region_Diva\n",
      "region_Dombivali\n",
      "region_Dronagiri\n",
      "region_Ghansoli\n",
      "region_Ghatkopar East\n",
      "region_Ghatkopar West\n",
      "region_Girgaon\n",
      "region_Goregaon East\n",
      "region_Goregaon West\n",
      "region_Jogeshwari East\n",
      "region_Jogeshwari West\n",
      "region_Juhu\n",
      "region_Juinagar\n",
      "region_Kalamboli\n",
      "region_Kalwa\n",
      "region_Kalyan East\n",
      "region_Kalyan West\n",
      "region_Kamothe\n",
      "region_Kandivali East\n",
      "region_Kandivali West\n",
      "region_Kanjurmarg\n",
      "region_Karanjade\n",
      "region_Karjat\n",
      "region_Kasheli\n",
      "region_Khar\n",
      "region_Kharghar\n",
      "region_Khopoli\n",
      "region_Koper Khairane\n",
      "region_Kurla\n",
      "region_Lower Parel\n",
      "region_Mahalaxmi\n",
      "region_Mahim\n",
      "region_Malad East\n",
      "region_Malad West\n",
      "region_Marine Lines\n",
      "region_Matunga\n",
      "region_Mazagaon\n",
      "region_Mazgaon\n",
      "region_Mira Road East\n",
      "region_Mulund East\n",
      "region_Mulund West\n",
      "region_Nahur East\n",
      "region_Naigaon East\n",
      "region_Nala Sopara\n",
      "region_Nalasopara East\n",
      "region_Napeansea Road\n",
      "region_Neral\n",
      "region_Nerul\n",
      "region_Nilje Gaon\n",
      "region_Palghar\n",
      "region_Panvel\n",
      "region_Parel\n",
      "region_Powai\n",
      "region_Prabhadevi\n",
      "region_Rasayani\n",
      "region_Sanpada\n",
      "region_Santacruz East\n",
      "region_Santacruz West\n",
      "region_Seawoods\n",
      "region_Sector 21 Kamothe\n",
      "region_Sewri\n",
      "region_Shil Phata\n",
      "region_Sion\n",
      "region_Taloja\n",
      "region_Taloje\n",
      "region_Tardeo\n",
      "region_Thane East\n",
      "region_Thane West\n",
      "region_Titwala\n",
      "region_Ulwe\n",
      "region_Umroli\n",
      "region_Vangani\n",
      "region_Vasai\n",
      "region_Vashi\n",
      "region_Vikhroli\n",
      "region_Ville Parle East\n",
      "region_Ville Parle West\n",
      "region_Virar\n",
      "region_Virar West\n",
      "region_Wadala\n",
      "region_Worli\n"
     ]
    }
   ],
   "execution_count": 13
  },
  {
   "metadata": {
    "ExecuteTime": {
     "end_time": "2024-05-29T15:12:52.438338Z",
     "start_time": "2024-05-29T15:12:52.419566Z"
    }
   },
   "cell_type": "code",
   "source": [
    "from sklearn.preprocessing import LabelEncoder\n",
    "le = LabelEncoder()\n",
    "X = processed_data.drop(labels=\"price_in_USD\",axis=1)\n",
    "for column in X:\n",
    "    if column in [\"locality\",\"region\", \"status\", \"age\",\"type\"]:\n",
    "        X[column] = le.fit_transform(X[column])\n",
    "\n",
    "Y = processed_data[\"price_in_USD\"]\n",
    "print(X.shape)\n",
    "print(Y.shape)"
   ],
   "id": "6b59e0a7cc7b628",
   "outputs": [
    {
     "name": "stdout",
     "output_type": "stream",
     "text": [
      "(45332, 114)\n",
      "(45332,)\n"
     ]
    }
   ],
   "execution_count": 14
  },
  {
   "metadata": {
    "ExecuteTime": {
     "end_time": "2024-05-29T15:12:52.492042Z",
     "start_time": "2024-05-29T15:12:52.440626Z"
    }
   },
   "cell_type": "code",
   "source": [
    "from sklearn.model_selection import train_test_split\n",
    "X_hold, X_test, Y_hold, Y_test = train_test_split(X,Y,test_size=0.1,random_state=0)\n",
    "X_train, X_val, Y_train,Y_val = train_test_split(X_hold,Y_hold,test_size=0.1,random_state=0)"
   ],
   "id": "1abba800f23eda6",
   "outputs": [],
   "execution_count": 15
  },
  {
   "metadata": {
    "ExecuteTime": {
     "end_time": "2024-05-29T15:12:52.497794Z",
     "start_time": "2024-05-29T15:12:52.494054Z"
    }
   },
   "cell_type": "code",
   "source": [
    "# from sklearn.model_selection import validation_curve\n",
    "# \n",
    "# parameter_range = np.arange(1, 20, 1)\n",
    "# \n",
    "# # Calculate accuracy on training and test set using the\n",
    "# # gamma parameter with 5-fold cross validation\n",
    "# train_score, val_score = validation_curve(KNeighborsRegressor(), X_hold, Y_hold,\n",
    "#                                           param_name=\"n_neighbors\", param_range=parameter_range ,\n",
    "#                                           cv=4, scoring=\"r2\")\n",
    "# mean_train_score = np.mean(train_score, axis=1)\n",
    "# std_train_score = np.std(train_score, axis=1)\n",
    "# \n",
    "# mean_val_score = np.mean(val_score, axis=1)\n",
    "# std_val_score = np.std(val_score, axis=1)\n",
    "# \n",
    "# plt.plot(parameter_range, mean_train_score,\n",
    "#          label=\"Training Score\", color='b')\n",
    "# plt.plot(parameter_range, mean_val_score,\n",
    "#          label=\"Cross Validation Score\", color='g')\n",
    "# # Creating the plot\n",
    "# plt.title(\"Validation Curve with K Neighbors Regressor\")\n",
    "# plt.xlabel(\"Neighbors\")\n",
    "# plt.ylabel(\"R2 Score\")\n",
    "# plt.tight_layout()\n",
    "# plt.legend(loc='best')\n",
    "# plt.show()"
   ],
   "id": "82cfaf09be28b418",
   "outputs": [],
   "execution_count": 16
  },
  {
   "metadata": {
    "ExecuteTime": {
     "end_time": "2024-05-29T15:13:41.606901Z",
     "start_time": "2024-05-29T15:13:41.550962Z"
    }
   },
   "cell_type": "code",
   "source": [
    "start = time.time()\n",
    "# Create the model\n",
    "model = KNeighborsRegressor(n_neighbors=20, weights='distance')\n",
    "print(\"Start training...\")\n",
    "model.fit(X_train, Y_train)\n",
    "end = time.time()\n",
    "print(\"Time execution : \", end - start)\n",
    "pickle.dump(model, open(model_file, 'wb'))"
   ],
   "id": "ee94eacfc512905e",
   "outputs": [
    {
     "name": "stdout",
     "output_type": "stream",
     "text": [
      "Start training...\n",
      "Time execution :  0.028338193893432617\n"
     ]
    }
   ],
   "execution_count": 23
  },
  {
   "metadata": {
    "ExecuteTime": {
     "end_time": "2024-05-29T15:13:41.812315Z",
     "start_time": "2024-05-29T15:13:41.792232Z"
    }
   },
   "cell_type": "code",
   "source": "loaded_model = pickle.load(open(model_file, 'rb'))",
   "id": "c2b992b582280c7a",
   "outputs": [],
   "execution_count": 24
  },
  {
   "metadata": {
    "ExecuteTime": {
     "end_time": "2024-05-29T15:13:47.090225Z",
     "start_time": "2024-05-29T15:13:41.945235Z"
    }
   },
   "cell_type": "code",
   "source": [
    "#Make the predictions \n",
    "pred_table = pd.DataFrame(data={\"actual value\":Y_test, \"predicted\":loaded_model.predict(X_test)})\n",
    "pred_table[\"difference\"] = pred_table[\"actual value\"] - pred_table[\"predicted\"]\n",
    "pred_table"
   ],
   "id": "58a09c965b647884",
   "outputs": [
    {
     "data": {
      "text/plain": [
       "       actual value      predicted     difference\n",
       "14948       92400.0   92400.000000       0.000000\n",
       "19778      120000.0  120000.000000       0.000000\n",
       "27087       45600.0   45600.000000       0.000000\n",
       "14980      114000.0  116000.000000   -2000.000000\n",
       "32008      226800.0  684632.081889 -457832.081889\n",
       "...             ...            ...            ...\n",
       "19053      165600.0  156000.000000    9600.000000\n",
       "28963      150000.0  132000.000000   18000.000000\n",
       "41577       43200.0   55075.000000  -11875.000000\n",
       "5062       132000.0  144000.000000  -12000.000000\n",
       "18843       58800.0   58800.000000       0.000000\n",
       "\n",
       "[9067 rows x 3 columns]"
      ],
      "text/html": [
       "<div>\n",
       "<style scoped>\n",
       "    .dataframe tbody tr th:only-of-type {\n",
       "        vertical-align: middle;\n",
       "    }\n",
       "\n",
       "    .dataframe tbody tr th {\n",
       "        vertical-align: top;\n",
       "    }\n",
       "\n",
       "    .dataframe thead th {\n",
       "        text-align: right;\n",
       "    }\n",
       "</style>\n",
       "<table border=\"1\" class=\"dataframe\">\n",
       "  <thead>\n",
       "    <tr style=\"text-align: right;\">\n",
       "      <th></th>\n",
       "      <th>actual value</th>\n",
       "      <th>predicted</th>\n",
       "      <th>difference</th>\n",
       "    </tr>\n",
       "  </thead>\n",
       "  <tbody>\n",
       "    <tr>\n",
       "      <th>14948</th>\n",
       "      <td>92400.0</td>\n",
       "      <td>92400.000000</td>\n",
       "      <td>0.000000</td>\n",
       "    </tr>\n",
       "    <tr>\n",
       "      <th>19778</th>\n",
       "      <td>120000.0</td>\n",
       "      <td>120000.000000</td>\n",
       "      <td>0.000000</td>\n",
       "    </tr>\n",
       "    <tr>\n",
       "      <th>27087</th>\n",
       "      <td>45600.0</td>\n",
       "      <td>45600.000000</td>\n",
       "      <td>0.000000</td>\n",
       "    </tr>\n",
       "    <tr>\n",
       "      <th>14980</th>\n",
       "      <td>114000.0</td>\n",
       "      <td>116000.000000</td>\n",
       "      <td>-2000.000000</td>\n",
       "    </tr>\n",
       "    <tr>\n",
       "      <th>32008</th>\n",
       "      <td>226800.0</td>\n",
       "      <td>684632.081889</td>\n",
       "      <td>-457832.081889</td>\n",
       "    </tr>\n",
       "    <tr>\n",
       "      <th>...</th>\n",
       "      <td>...</td>\n",
       "      <td>...</td>\n",
       "      <td>...</td>\n",
       "    </tr>\n",
       "    <tr>\n",
       "      <th>19053</th>\n",
       "      <td>165600.0</td>\n",
       "      <td>156000.000000</td>\n",
       "      <td>9600.000000</td>\n",
       "    </tr>\n",
       "    <tr>\n",
       "      <th>28963</th>\n",
       "      <td>150000.0</td>\n",
       "      <td>132000.000000</td>\n",
       "      <td>18000.000000</td>\n",
       "    </tr>\n",
       "    <tr>\n",
       "      <th>41577</th>\n",
       "      <td>43200.0</td>\n",
       "      <td>55075.000000</td>\n",
       "      <td>-11875.000000</td>\n",
       "    </tr>\n",
       "    <tr>\n",
       "      <th>5062</th>\n",
       "      <td>132000.0</td>\n",
       "      <td>144000.000000</td>\n",
       "      <td>-12000.000000</td>\n",
       "    </tr>\n",
       "    <tr>\n",
       "      <th>18843</th>\n",
       "      <td>58800.0</td>\n",
       "      <td>58800.000000</td>\n",
       "      <td>0.000000</td>\n",
       "    </tr>\n",
       "  </tbody>\n",
       "</table>\n",
       "<p>9067 rows × 3 columns</p>\n",
       "</div>"
      ]
     },
     "execution_count": 25,
     "metadata": {},
     "output_type": "execute_result"
    }
   ],
   "execution_count": 25
  },
  {
   "metadata": {
    "ExecuteTime": {
     "end_time": "2024-05-29T15:14:11.547914Z",
     "start_time": "2024-05-29T15:13:47.092277Z"
    }
   },
   "cell_type": "code",
   "source": [
    "from sklearn.metrics import r2_score\n",
    "#Test the model\n",
    "pred_train = loaded_model.predict(X_train)\n",
    "pred_val = loaded_model.predict(X_val)\n",
    "pred_test = loaded_model.predict(X_test)\n",
    "train_accuracy = r2_score(pred_train, Y_train)\n",
    "val_accuracy = r2_score(pred_val, Y_val)\n",
    "test_accuracy = r2_score(pred_test, Y_test)\n",
    "print('Training accuracy: ',train_accuracy)\n",
    "print('Validation accuracy: ', val_accuracy)\n",
    "print('Test accuracy: ',test_accuracy)"
   ],
   "id": "25641b90fbbfcb23",
   "outputs": [
    {
     "name": "stdout",
     "output_type": "stream",
     "text": [
      "Training accuracy:  0.9953146443579614\n",
      "Validation accuracy:  0.7790583812470407\n",
      "Test accuracy:  0.7347853732503922\n"
     ]
    }
   ],
   "execution_count": 26
  },
  {
   "metadata": {
    "ExecuteTime": {
     "end_time": "2024-05-29T15:14:11.556312Z",
     "start_time": "2024-05-29T15:14:11.549366Z"
    }
   },
   "cell_type": "code",
   "source": [
    "from sklearn.metrics import mean_squared_error\n",
    "mse_train = mean_squared_error(Y_train, pred_train)\n",
    "mse_val = mean_squared_error(Y_val, pred_val)\n",
    "mse_test = mean_squared_error(Y_test, pred_test)\n",
    "print('Training mean squared error: ', mse_train)\n",
    "print('Validation mean squared error: ', mse_val)\n",
    "print('Test mean squared error: ', mse_test)"
   ],
   "id": "d84dec3e2610031b",
   "outputs": [
    {
     "name": "stdout",
     "output_type": "stream",
     "text": [
      "Training mean squared error:  189667039.77541795\n",
      "Validation mean squared error:  7857111420.257113\n",
      "Test mean squared error:  9554414744.68697\n"
     ]
    }
   ],
   "execution_count": 27
  },
  {
   "metadata": {
    "ExecuteTime": {
     "end_time": "2024-05-29T15:14:11.571809Z",
     "start_time": "2024-05-29T15:14:11.557754Z"
    }
   },
   "cell_type": "code",
   "source": [
    "from sklearn.metrics import mean_absolute_error\n",
    "mae_train = mean_absolute_error(Y_train, pred_train)\n",
    "mae_val = mean_absolute_error(Y_val, pred_val)\n",
    "mae_test = mean_absolute_error(Y_test, pred_test)\n",
    "print('Training mean absolute error: ', mae_train)\n",
    "print('Validation mean absolute error: ', mae_val)\n",
    "print('Test mean absolute error: ', mae_test)"
   ],
   "id": "2a6ce0e7e7c49d63",
   "outputs": [
    {
     "name": "stdout",
     "output_type": "stream",
     "text": [
      "Training mean absolute error:  5716.13947708507\n",
      "Validation mean absolute error:  35149.05633079118\n",
      "Test mean absolute error:  36393.57648801467\n"
     ]
    }
   ],
   "execution_count": 28
  },
  {
   "metadata": {
    "ExecuteTime": {
     "end_time": "2024-05-29T15:13:24.956809Z",
     "start_time": "2024-05-29T15:13:24.953314Z"
    }
   },
   "cell_type": "code",
   "source": "",
   "id": "5b070bdfb3e7dae5",
   "outputs": [],
   "execution_count": 22
  }
 ],
 "metadata": {
  "kernelspec": {
   "display_name": "Python 3",
   "language": "python",
   "name": "python3"
  },
  "language_info": {
   "codemirror_mode": {
    "name": "ipython",
    "version": 2
   },
   "file_extension": ".py",
   "mimetype": "text/x-python",
   "name": "python",
   "nbconvert_exporter": "python",
   "pygments_lexer": "ipython2",
   "version": "2.7.6"
  }
 },
 "nbformat": 4,
 "nbformat_minor": 5
}

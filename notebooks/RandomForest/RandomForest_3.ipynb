{
 "cells": [
  {
   "cell_type": "code",
   "id": "initial_id",
   "metadata": {
    "collapsed": true,
    "ExecuteTime": {
     "end_time": "2024-05-31T08:52:16.131399Z",
     "start_time": "2024-05-31T08:52:15.839103Z"
    }
   },
   "source": [
    "import pandas as pd \n",
    "import matplotlib.pyplot as plt\n",
    "from sklearn.ensemble import RandomForestRegressor\n",
    "import time\n",
    "import pickle\n",
    "import numpy as np"
   ],
   "outputs": [],
   "execution_count": 1
  },
  {
   "metadata": {
    "ExecuteTime": {
     "end_time": "2024-05-31T08:52:16.136916Z",
     "start_time": "2024-05-31T08:52:16.132747Z"
    }
   },
   "cell_type": "code",
   "source": [
    "model_file = \"../../models/RandomForest_3\"\n",
    "data_file = \"../../data/processed_data_2.csv\""
   ],
   "id": "d60bd2f5f5c80ed9",
   "outputs": [],
   "execution_count": 2
  },
  {
   "metadata": {
    "ExecuteTime": {
     "end_time": "2024-05-31T08:52:16.485415Z",
     "start_time": "2024-05-31T08:52:16.136916Z"
    }
   },
   "cell_type": "code",
   "source": [
    "data = pd.read_csv(data_file)\n",
    "\n",
    "for column in data:\n",
    "    if column in [\"bhk\",\"status\",\"house_type\",\"new\"]:\n",
    "        # Get the value counts for the column\n",
    "        value_counts = data[column].value_counts()\n",
    "        # Find the values that occur fewer than 10 times\n",
    "        to_drop = value_counts[value_counts < 10].index\n",
    "        # Drop rows where the column's value is in the to_drop list\n",
    "        data = data[~data[column].isin(to_drop)]\n",
    "for column in data:\n",
    "    if column in [\"bhk\",\"status\",\"house_type\",\"new\",\"age\"]:\n",
    "        print(\"Column Name: \", column)\n",
    "        print(data[column].unique())\n",
    "        print(data[column].value_counts())"
   ],
   "id": "526a313c6a4b1c9f",
   "outputs": [
    {
     "name": "stdout",
     "output_type": "stream",
     "text": [
      "Column Name:  bhk\n",
      "[2 1 3 4 5 6]\n",
      "bhk\n",
      "2    20154\n",
      "1    16596\n",
      "3     7278\n",
      "4     1103\n",
      "5      162\n",
      "6       39\n",
      "Name: count, dtype: int64\n",
      "Column Name:  status\n",
      "[1 0]\n",
      "status\n",
      "0    26904\n",
      "1    18428\n",
      "Name: count, dtype: int64\n",
      "Column Name:  house_type\n",
      "[0 2 1 3]\n",
      "house_type\n",
      "0    44580\n",
      "2      597\n",
      "3      110\n",
      "1       45\n",
      "Name: count, dtype: int64\n",
      "Column Name:  new\n",
      "[0 1]\n",
      "new\n",
      "1    27140\n",
      "0    18192\n",
      "Name: count, dtype: int64\n"
     ]
    }
   ],
   "execution_count": 3
  },
  {
   "metadata": {
    "ExecuteTime": {
     "end_time": "2024-05-31T08:52:16.490057Z",
     "start_time": "2024-05-31T08:52:16.485415Z"
    }
   },
   "cell_type": "code",
   "source": [
    "def preprocessing(data:pd.DataFrame) -> pd.DataFrame:\n",
    "    # data.drop([\"status\",\"new\",\"house_type\"], axis = 1, inplace = True)\n",
    "    data = data.dropna()\n",
    "    return data"
   ],
   "id": "9d3162b45feb327c",
   "outputs": [],
   "execution_count": 4
  },
  {
   "metadata": {
    "ExecuteTime": {
     "end_time": "2024-05-31T08:52:16.500076Z",
     "start_time": "2024-05-31T08:52:16.491180Z"
    }
   },
   "cell_type": "code",
   "source": [
    "processed_data = preprocessing(data)\n",
    "for column in processed_data:\n",
    "    print(column)"
   ],
   "id": "9b662e6d9124aa47",
   "outputs": [
    {
     "name": "stdout",
     "output_type": "stream",
     "text": [
      "bhk\n",
      "area\n",
      "status\n",
      "price_in_USD\n",
      "house_type\n",
      "new\n",
      "region_Agripada\n",
      "region_Airoli\n",
      "region_Ambernath East\n",
      "region_Ambernath West\n",
      "region_Andheri East\n",
      "region_Andheri West\n",
      "region_Anjurdive\n",
      "region_Badlapur East\n",
      "region_Badlapur West\n",
      "region_Bandra East\n",
      "region_Bandra Kurla Complex\n",
      "region_Bandra West\n",
      "region_Belapur\n",
      "region_Bhandup East\n",
      "region_Bhandup West\n",
      "region_Bhayandar East\n",
      "region_Bhayandar West\n",
      "region_Bhiwandi\n",
      "region_Boisar\n",
      "region_Borivali East\n",
      "region_Borivali West\n",
      "region_Byculla\n",
      "region_Chembur\n",
      "region_Colaba\n",
      "region_Dadar East\n",
      "region_Dadar West\n",
      "region_Dahisar\n",
      "region_Deonar\n",
      "region_Diva\n",
      "region_Dombivali\n",
      "region_Dronagiri\n",
      "region_Ghansoli\n",
      "region_Ghatkopar East\n",
      "region_Ghatkopar West\n",
      "region_Girgaon\n",
      "region_Goregaon East\n",
      "region_Goregaon West\n",
      "region_Jogeshwari East\n",
      "region_Jogeshwari West\n",
      "region_Juhu\n",
      "region_Juinagar\n",
      "region_Kalamboli\n",
      "region_Kalwa\n",
      "region_Kalyan East\n",
      "region_Kalyan West\n",
      "region_Kamothe\n",
      "region_Kandivali East\n",
      "region_Kandivali West\n",
      "region_Kanjurmarg\n",
      "region_Karanjade\n",
      "region_Karjat\n",
      "region_Kasheli\n",
      "region_Khar\n",
      "region_Kharghar\n",
      "region_Khopoli\n",
      "region_Koper Khairane\n",
      "region_Kurla\n",
      "region_Lower Parel\n",
      "region_Mahalaxmi\n",
      "region_Mahim\n",
      "region_Malad East\n",
      "region_Malad West\n",
      "region_Marine Lines\n",
      "region_Matunga\n",
      "region_Mazagaon\n",
      "region_Mazgaon\n",
      "region_Mira Road East\n",
      "region_Mulund East\n",
      "region_Mulund West\n",
      "region_Nahur East\n",
      "region_Naigaon East\n",
      "region_Nala Sopara\n",
      "region_Nalasopara East\n",
      "region_Napeansea Road\n",
      "region_Neral\n",
      "region_Nerul\n",
      "region_Nilje Gaon\n",
      "region_Palghar\n",
      "region_Panvel\n",
      "region_Parel\n",
      "region_Powai\n",
      "region_Prabhadevi\n",
      "region_Rasayani\n",
      "region_Sanpada\n",
      "region_Santacruz East\n",
      "region_Santacruz West\n",
      "region_Seawoods\n",
      "region_Sector 21 Kamothe\n",
      "region_Sewri\n",
      "region_Shil Phata\n",
      "region_Sion\n",
      "region_Taloja\n",
      "region_Taloje\n",
      "region_Tardeo\n",
      "region_Thane East\n",
      "region_Thane West\n",
      "region_Titwala\n",
      "region_Ulwe\n",
      "region_Umroli\n",
      "region_Vangani\n",
      "region_Vasai\n",
      "region_Vashi\n",
      "region_Vikhroli\n",
      "region_Ville Parle East\n",
      "region_Ville Parle West\n",
      "region_Virar\n",
      "region_Virar West\n",
      "region_Wadala\n",
      "region_Worli\n"
     ]
    }
   ],
   "execution_count": 5
  },
  {
   "metadata": {
    "ExecuteTime": {
     "end_time": "2024-05-31T08:52:16.518639Z",
     "start_time": "2024-05-31T08:52:16.500076Z"
    }
   },
   "cell_type": "code",
   "source": [
    "from sklearn.preprocessing import LabelEncoder\n",
    "le = LabelEncoder()\n",
    "X = processed_data.drop(labels=\"price_in_USD\",axis=1)\n",
    "for column in X:\n",
    "    if column in [\"locality\",\"region\", \"status\", \"age\",\"type\"]:\n",
    "        X[column] = le.fit_transform(X[column])\n",
    "\n",
    "Y = processed_data[\"price_in_USD\"]\n",
    "print(X.shape)\n",
    "print(Y.shape)"
   ],
   "id": "6b59e0a7cc7b628",
   "outputs": [
    {
     "name": "stdout",
     "output_type": "stream",
     "text": [
      "(45332, 114)\n",
      "(45332,)\n"
     ]
    }
   ],
   "execution_count": 6
  },
  {
   "metadata": {
    "ExecuteTime": {
     "end_time": "2024-05-31T08:52:16.541914Z",
     "start_time": "2024-05-31T08:52:16.518639Z"
    }
   },
   "cell_type": "code",
   "source": [
    "from sklearn.model_selection import train_test_split\n",
    "X_train, X_test, Y_train, Y_test = train_test_split(X,Y,test_size=0.2,random_state=0)"
   ],
   "id": "1abba800f23eda6",
   "outputs": [],
   "execution_count": 7
  },
  {
   "metadata": {
    "ExecuteTime": {
     "end_time": "2024-05-31T08:53:21.580086Z",
     "start_time": "2024-05-31T08:52:16.541914Z"
    }
   },
   "cell_type": "code",
   "source": [
    "from sklearn.model_selection import GridSearchCV\n",
    "\n",
    "param_grid = {'max_depth': np.arange(50, 110, 5),'max_features': [None, 'sqrt','log2']}\n",
    "def hypersearch(model, model_name, param_grid, X_train, Y_train, scoring='r2'):\n",
    "    # Hyperparameter tuning\n",
    "    rs = GridSearchCV(model, param_grid, cv=4,n_jobs=-1, scoring=scoring, return_train_score=True)\n",
    "    rs.fit(X_train, Y_train)\n",
    "    best_model = rs.best_estimator_\n",
    "    print(rs.best_estimator_)\n",
    "    #add the report about best hyperparameter of the model to dataframe\n",
    "    result = pd.DataFrame(rs.cv_results_)\n",
    "    result.sort_values('rank_test_score', inplace=True)\n",
    "    result = result[['params', 'mean_fit_time', 'mean_score_time', 'mean_test_score', 'mean_train_score']]\n",
    "    display(result)\n",
    "    \n",
    "    pickle.dump(best_model, open(model_name, 'wb'))\n",
    "    return best_model\n",
    "\n",
    "model = hypersearch(RandomForestRegressor(n_estimators=10,random_state=42), model_file, param_grid, X_train, Y_train)"
   ],
   "id": "93c7fe5d248d5a9c",
   "outputs": [
    {
     "name": "stdout",
     "output_type": "stream",
     "text": [
      "RandomForestRegressor(max_depth=100, max_features=None, n_estimators=10,\n",
      "                      random_state=42)\n"
     ]
    },
    {
     "data": {
      "text/plain": [
       "                                        params  mean_fit_time  \\\n",
       "30    {'max_depth': 100, 'max_features': None}      10.937736   \n",
       "33    {'max_depth': 105, 'max_features': None}       8.150676   \n",
       "21     {'max_depth': 85, 'max_features': None}      11.010118   \n",
       "24     {'max_depth': 90, 'max_features': None}      11.551210   \n",
       "18     {'max_depth': 80, 'max_features': None}      10.552808   \n",
       "9      {'max_depth': 65, 'max_features': None}       9.788603   \n",
       "12     {'max_depth': 70, 'max_features': None}       9.341526   \n",
       "6      {'max_depth': 60, 'max_features': None}       9.399761   \n",
       "3      {'max_depth': 55, 'max_features': None}       9.087929   \n",
       "27     {'max_depth': 95, 'max_features': None}      10.139168   \n",
       "15     {'max_depth': 75, 'max_features': None}       9.598096   \n",
       "0      {'max_depth': 50, 'max_features': None}       8.823564   \n",
       "34  {'max_depth': 105, 'max_features': 'sqrt'}       2.305962   \n",
       "13   {'max_depth': 70, 'max_features': 'sqrt'}       1.650617   \n",
       "16   {'max_depth': 75, 'max_features': 'sqrt'}       1.699977   \n",
       "17   {'max_depth': 75, 'max_features': 'log2'}       1.473333   \n",
       "25   {'max_depth': 90, 'max_features': 'sqrt'}       1.989610   \n",
       "22   {'max_depth': 85, 'max_features': 'sqrt'}       1.825901   \n",
       "19   {'max_depth': 80, 'max_features': 'sqrt'}       1.740185   \n",
       "32  {'max_depth': 100, 'max_features': 'log2'}       1.533511   \n",
       "29   {'max_depth': 95, 'max_features': 'log2'}       1.469806   \n",
       "26   {'max_depth': 90, 'max_features': 'log2'}       1.826029   \n",
       "28   {'max_depth': 95, 'max_features': 'sqrt'}       1.924066   \n",
       "20   {'max_depth': 80, 'max_features': 'log2'}       1.469412   \n",
       "10   {'max_depth': 65, 'max_features': 'sqrt'}       1.646591   \n",
       "14   {'max_depth': 70, 'max_features': 'log2'}       1.369270   \n",
       "31  {'max_depth': 100, 'max_features': 'sqrt'}       1.829727   \n",
       "7    {'max_depth': 60, 'max_features': 'sqrt'}       1.603165   \n",
       "5    {'max_depth': 55, 'max_features': 'log2'}       1.251683   \n",
       "35  {'max_depth': 105, 'max_features': 'log2'}       2.310476   \n",
       "23   {'max_depth': 85, 'max_features': 'log2'}       1.977007   \n",
       "11   {'max_depth': 65, 'max_features': 'log2'}       1.430910   \n",
       "4    {'max_depth': 55, 'max_features': 'sqrt'}       1.517438   \n",
       "8    {'max_depth': 60, 'max_features': 'log2'}       1.278308   \n",
       "1    {'max_depth': 50, 'max_features': 'sqrt'}       1.424199   \n",
       "2    {'max_depth': 50, 'max_features': 'log2'}       1.150266   \n",
       "\n",
       "    mean_score_time  mean_test_score  mean_train_score  \n",
       "30         0.062500         0.917118          0.983359  \n",
       "33         0.031840         0.916215          0.983619  \n",
       "21         0.093868         0.915700          0.983545  \n",
       "24         0.078129         0.914886          0.983506  \n",
       "18         0.075977         0.914728          0.983294  \n",
       "9          0.066407         0.914531          0.982130  \n",
       "12         0.070528         0.914322          0.982759  \n",
       "6          0.066415         0.914217          0.981070  \n",
       "3          0.074331         0.914020          0.979869  \n",
       "27         0.089891         0.913949          0.982985  \n",
       "15         0.081380         0.912257          0.982523  \n",
       "0          0.062703         0.911226          0.977772  \n",
       "34         0.094497         0.909759          0.983181  \n",
       "13         0.070312         0.905546          0.981706  \n",
       "16         0.074248         0.904337          0.982360  \n",
       "17         0.074211         0.904294          0.981590  \n",
       "25         0.093867         0.903504          0.984033  \n",
       "22         0.086128         0.903279          0.983404  \n",
       "19         0.070161         0.901951          0.982597  \n",
       "32         0.080306         0.901596          0.983305  \n",
       "29         0.070423         0.901589          0.983484  \n",
       "26         0.113285         0.901586          0.983800  \n",
       "28         0.069292         0.901310          0.983339  \n",
       "20         0.074219         0.900633          0.981925  \n",
       "10         0.066407         0.899146          0.981244  \n",
       "14         0.074221         0.899121          0.980381  \n",
       "31         0.074317         0.898895          0.983254  \n",
       "7          0.070430         0.898253          0.979274  \n",
       "5          0.074358         0.897282          0.973489  \n",
       "35         0.082029         0.897149          0.983641  \n",
       "23         0.103040         0.896563          0.982585  \n",
       "11         0.066497         0.896232          0.978501  \n",
       "4          0.070311         0.895879          0.977169  \n",
       "8          0.062503         0.894825          0.976348  \n",
       "1          0.074216         0.893853          0.974658  \n",
       "2          0.054758         0.893819          0.970334  "
      ],
      "text/html": [
       "<div>\n",
       "<style scoped>\n",
       "    .dataframe tbody tr th:only-of-type {\n",
       "        vertical-align: middle;\n",
       "    }\n",
       "\n",
       "    .dataframe tbody tr th {\n",
       "        vertical-align: top;\n",
       "    }\n",
       "\n",
       "    .dataframe thead th {\n",
       "        text-align: right;\n",
       "    }\n",
       "</style>\n",
       "<table border=\"1\" class=\"dataframe\">\n",
       "  <thead>\n",
       "    <tr style=\"text-align: right;\">\n",
       "      <th></th>\n",
       "      <th>params</th>\n",
       "      <th>mean_fit_time</th>\n",
       "      <th>mean_score_time</th>\n",
       "      <th>mean_test_score</th>\n",
       "      <th>mean_train_score</th>\n",
       "    </tr>\n",
       "  </thead>\n",
       "  <tbody>\n",
       "    <tr>\n",
       "      <th>30</th>\n",
       "      <td>{'max_depth': 100, 'max_features': None}</td>\n",
       "      <td>10.937736</td>\n",
       "      <td>0.062500</td>\n",
       "      <td>0.917118</td>\n",
       "      <td>0.983359</td>\n",
       "    </tr>\n",
       "    <tr>\n",
       "      <th>33</th>\n",
       "      <td>{'max_depth': 105, 'max_features': None}</td>\n",
       "      <td>8.150676</td>\n",
       "      <td>0.031840</td>\n",
       "      <td>0.916215</td>\n",
       "      <td>0.983619</td>\n",
       "    </tr>\n",
       "    <tr>\n",
       "      <th>21</th>\n",
       "      <td>{'max_depth': 85, 'max_features': None}</td>\n",
       "      <td>11.010118</td>\n",
       "      <td>0.093868</td>\n",
       "      <td>0.915700</td>\n",
       "      <td>0.983545</td>\n",
       "    </tr>\n",
       "    <tr>\n",
       "      <th>24</th>\n",
       "      <td>{'max_depth': 90, 'max_features': None}</td>\n",
       "      <td>11.551210</td>\n",
       "      <td>0.078129</td>\n",
       "      <td>0.914886</td>\n",
       "      <td>0.983506</td>\n",
       "    </tr>\n",
       "    <tr>\n",
       "      <th>18</th>\n",
       "      <td>{'max_depth': 80, 'max_features': None}</td>\n",
       "      <td>10.552808</td>\n",
       "      <td>0.075977</td>\n",
       "      <td>0.914728</td>\n",
       "      <td>0.983294</td>\n",
       "    </tr>\n",
       "    <tr>\n",
       "      <th>9</th>\n",
       "      <td>{'max_depth': 65, 'max_features': None}</td>\n",
       "      <td>9.788603</td>\n",
       "      <td>0.066407</td>\n",
       "      <td>0.914531</td>\n",
       "      <td>0.982130</td>\n",
       "    </tr>\n",
       "    <tr>\n",
       "      <th>12</th>\n",
       "      <td>{'max_depth': 70, 'max_features': None}</td>\n",
       "      <td>9.341526</td>\n",
       "      <td>0.070528</td>\n",
       "      <td>0.914322</td>\n",
       "      <td>0.982759</td>\n",
       "    </tr>\n",
       "    <tr>\n",
       "      <th>6</th>\n",
       "      <td>{'max_depth': 60, 'max_features': None}</td>\n",
       "      <td>9.399761</td>\n",
       "      <td>0.066415</td>\n",
       "      <td>0.914217</td>\n",
       "      <td>0.981070</td>\n",
       "    </tr>\n",
       "    <tr>\n",
       "      <th>3</th>\n",
       "      <td>{'max_depth': 55, 'max_features': None}</td>\n",
       "      <td>9.087929</td>\n",
       "      <td>0.074331</td>\n",
       "      <td>0.914020</td>\n",
       "      <td>0.979869</td>\n",
       "    </tr>\n",
       "    <tr>\n",
       "      <th>27</th>\n",
       "      <td>{'max_depth': 95, 'max_features': None}</td>\n",
       "      <td>10.139168</td>\n",
       "      <td>0.089891</td>\n",
       "      <td>0.913949</td>\n",
       "      <td>0.982985</td>\n",
       "    </tr>\n",
       "    <tr>\n",
       "      <th>15</th>\n",
       "      <td>{'max_depth': 75, 'max_features': None}</td>\n",
       "      <td>9.598096</td>\n",
       "      <td>0.081380</td>\n",
       "      <td>0.912257</td>\n",
       "      <td>0.982523</td>\n",
       "    </tr>\n",
       "    <tr>\n",
       "      <th>0</th>\n",
       "      <td>{'max_depth': 50, 'max_features': None}</td>\n",
       "      <td>8.823564</td>\n",
       "      <td>0.062703</td>\n",
       "      <td>0.911226</td>\n",
       "      <td>0.977772</td>\n",
       "    </tr>\n",
       "    <tr>\n",
       "      <th>34</th>\n",
       "      <td>{'max_depth': 105, 'max_features': 'sqrt'}</td>\n",
       "      <td>2.305962</td>\n",
       "      <td>0.094497</td>\n",
       "      <td>0.909759</td>\n",
       "      <td>0.983181</td>\n",
       "    </tr>\n",
       "    <tr>\n",
       "      <th>13</th>\n",
       "      <td>{'max_depth': 70, 'max_features': 'sqrt'}</td>\n",
       "      <td>1.650617</td>\n",
       "      <td>0.070312</td>\n",
       "      <td>0.905546</td>\n",
       "      <td>0.981706</td>\n",
       "    </tr>\n",
       "    <tr>\n",
       "      <th>16</th>\n",
       "      <td>{'max_depth': 75, 'max_features': 'sqrt'}</td>\n",
       "      <td>1.699977</td>\n",
       "      <td>0.074248</td>\n",
       "      <td>0.904337</td>\n",
       "      <td>0.982360</td>\n",
       "    </tr>\n",
       "    <tr>\n",
       "      <th>17</th>\n",
       "      <td>{'max_depth': 75, 'max_features': 'log2'}</td>\n",
       "      <td>1.473333</td>\n",
       "      <td>0.074211</td>\n",
       "      <td>0.904294</td>\n",
       "      <td>0.981590</td>\n",
       "    </tr>\n",
       "    <tr>\n",
       "      <th>25</th>\n",
       "      <td>{'max_depth': 90, 'max_features': 'sqrt'}</td>\n",
       "      <td>1.989610</td>\n",
       "      <td>0.093867</td>\n",
       "      <td>0.903504</td>\n",
       "      <td>0.984033</td>\n",
       "    </tr>\n",
       "    <tr>\n",
       "      <th>22</th>\n",
       "      <td>{'max_depth': 85, 'max_features': 'sqrt'}</td>\n",
       "      <td>1.825901</td>\n",
       "      <td>0.086128</td>\n",
       "      <td>0.903279</td>\n",
       "      <td>0.983404</td>\n",
       "    </tr>\n",
       "    <tr>\n",
       "      <th>19</th>\n",
       "      <td>{'max_depth': 80, 'max_features': 'sqrt'}</td>\n",
       "      <td>1.740185</td>\n",
       "      <td>0.070161</td>\n",
       "      <td>0.901951</td>\n",
       "      <td>0.982597</td>\n",
       "    </tr>\n",
       "    <tr>\n",
       "      <th>32</th>\n",
       "      <td>{'max_depth': 100, 'max_features': 'log2'}</td>\n",
       "      <td>1.533511</td>\n",
       "      <td>0.080306</td>\n",
       "      <td>0.901596</td>\n",
       "      <td>0.983305</td>\n",
       "    </tr>\n",
       "    <tr>\n",
       "      <th>29</th>\n",
       "      <td>{'max_depth': 95, 'max_features': 'log2'}</td>\n",
       "      <td>1.469806</td>\n",
       "      <td>0.070423</td>\n",
       "      <td>0.901589</td>\n",
       "      <td>0.983484</td>\n",
       "    </tr>\n",
       "    <tr>\n",
       "      <th>26</th>\n",
       "      <td>{'max_depth': 90, 'max_features': 'log2'}</td>\n",
       "      <td>1.826029</td>\n",
       "      <td>0.113285</td>\n",
       "      <td>0.901586</td>\n",
       "      <td>0.983800</td>\n",
       "    </tr>\n",
       "    <tr>\n",
       "      <th>28</th>\n",
       "      <td>{'max_depth': 95, 'max_features': 'sqrt'}</td>\n",
       "      <td>1.924066</td>\n",
       "      <td>0.069292</td>\n",
       "      <td>0.901310</td>\n",
       "      <td>0.983339</td>\n",
       "    </tr>\n",
       "    <tr>\n",
       "      <th>20</th>\n",
       "      <td>{'max_depth': 80, 'max_features': 'log2'}</td>\n",
       "      <td>1.469412</td>\n",
       "      <td>0.074219</td>\n",
       "      <td>0.900633</td>\n",
       "      <td>0.981925</td>\n",
       "    </tr>\n",
       "    <tr>\n",
       "      <th>10</th>\n",
       "      <td>{'max_depth': 65, 'max_features': 'sqrt'}</td>\n",
       "      <td>1.646591</td>\n",
       "      <td>0.066407</td>\n",
       "      <td>0.899146</td>\n",
       "      <td>0.981244</td>\n",
       "    </tr>\n",
       "    <tr>\n",
       "      <th>14</th>\n",
       "      <td>{'max_depth': 70, 'max_features': 'log2'}</td>\n",
       "      <td>1.369270</td>\n",
       "      <td>0.074221</td>\n",
       "      <td>0.899121</td>\n",
       "      <td>0.980381</td>\n",
       "    </tr>\n",
       "    <tr>\n",
       "      <th>31</th>\n",
       "      <td>{'max_depth': 100, 'max_features': 'sqrt'}</td>\n",
       "      <td>1.829727</td>\n",
       "      <td>0.074317</td>\n",
       "      <td>0.898895</td>\n",
       "      <td>0.983254</td>\n",
       "    </tr>\n",
       "    <tr>\n",
       "      <th>7</th>\n",
       "      <td>{'max_depth': 60, 'max_features': 'sqrt'}</td>\n",
       "      <td>1.603165</td>\n",
       "      <td>0.070430</td>\n",
       "      <td>0.898253</td>\n",
       "      <td>0.979274</td>\n",
       "    </tr>\n",
       "    <tr>\n",
       "      <th>5</th>\n",
       "      <td>{'max_depth': 55, 'max_features': 'log2'}</td>\n",
       "      <td>1.251683</td>\n",
       "      <td>0.074358</td>\n",
       "      <td>0.897282</td>\n",
       "      <td>0.973489</td>\n",
       "    </tr>\n",
       "    <tr>\n",
       "      <th>35</th>\n",
       "      <td>{'max_depth': 105, 'max_features': 'log2'}</td>\n",
       "      <td>2.310476</td>\n",
       "      <td>0.082029</td>\n",
       "      <td>0.897149</td>\n",
       "      <td>0.983641</td>\n",
       "    </tr>\n",
       "    <tr>\n",
       "      <th>23</th>\n",
       "      <td>{'max_depth': 85, 'max_features': 'log2'}</td>\n",
       "      <td>1.977007</td>\n",
       "      <td>0.103040</td>\n",
       "      <td>0.896563</td>\n",
       "      <td>0.982585</td>\n",
       "    </tr>\n",
       "    <tr>\n",
       "      <th>11</th>\n",
       "      <td>{'max_depth': 65, 'max_features': 'log2'}</td>\n",
       "      <td>1.430910</td>\n",
       "      <td>0.066497</td>\n",
       "      <td>0.896232</td>\n",
       "      <td>0.978501</td>\n",
       "    </tr>\n",
       "    <tr>\n",
       "      <th>4</th>\n",
       "      <td>{'max_depth': 55, 'max_features': 'sqrt'}</td>\n",
       "      <td>1.517438</td>\n",
       "      <td>0.070311</td>\n",
       "      <td>0.895879</td>\n",
       "      <td>0.977169</td>\n",
       "    </tr>\n",
       "    <tr>\n",
       "      <th>8</th>\n",
       "      <td>{'max_depth': 60, 'max_features': 'log2'}</td>\n",
       "      <td>1.278308</td>\n",
       "      <td>0.062503</td>\n",
       "      <td>0.894825</td>\n",
       "      <td>0.976348</td>\n",
       "    </tr>\n",
       "    <tr>\n",
       "      <th>1</th>\n",
       "      <td>{'max_depth': 50, 'max_features': 'sqrt'}</td>\n",
       "      <td>1.424199</td>\n",
       "      <td>0.074216</td>\n",
       "      <td>0.893853</td>\n",
       "      <td>0.974658</td>\n",
       "    </tr>\n",
       "    <tr>\n",
       "      <th>2</th>\n",
       "      <td>{'max_depth': 50, 'max_features': 'log2'}</td>\n",
       "      <td>1.150266</td>\n",
       "      <td>0.054758</td>\n",
       "      <td>0.893819</td>\n",
       "      <td>0.970334</td>\n",
       "    </tr>\n",
       "  </tbody>\n",
       "</table>\n",
       "</div>"
      ]
     },
     "metadata": {},
     "output_type": "display_data"
    }
   ],
   "execution_count": 8
  },
  {
   "metadata": {
    "ExecuteTime": {
     "end_time": "2024-05-31T08:53:40.492629Z",
     "start_time": "2024-05-31T08:53:21.580086Z"
    }
   },
   "cell_type": "code",
   "source": [
    "from sklearn.model_selection import learning_curve\n",
    "\n",
    "# Calculate accuracy on training and test set using the\n",
    "# gamma parameter with 5-fold cross validation\n",
    "train_sizes, train_score, val_score = learning_curve(RandomForestRegressor(n_estimators=10, max_depth=100,max_features=None, random_state=42), X_train, Y_train,\n",
    "                                          cv=4, train_sizes=np.linspace(0.1, 1.0, 10),n_jobs=-1,scoring=\"r2\")\n",
    "\n",
    "train_score_mean = np.mean(train_score, axis=1)\n",
    "train_score_std = np.std(train_score, axis=1)\n",
    "\n",
    "val_score_mean = np.mean(val_score, axis=1)\n",
    "val_score_std = np.std(val_score, axis=1)\n",
    "\n",
    "plt.plot(train_sizes, train_score_mean,\n",
    "         label=\"Training Score\", color='b')\n",
    "plt.plot(train_sizes, val_score_mean,\n",
    "         label=\"Cross Validation Score\", color='g')\n",
    "# Creating the plot\n",
    "plt.title(\"Learning Curve with Random Forest Regressor\")\n",
    "plt.xlabel(\"Training examples\")\n",
    "plt.ylabel(\"R2 Score\")\n",
    "plt.tight_layout()\n",
    "plt.legend(loc='best')\n",
    "plt.show()"
   ],
   "id": "71cc1f21e61c48f",
   "outputs": [
    {
     "data": {
      "text/plain": [
       "<Figure size 640x480 with 1 Axes>"
      ],
      "image/png": "[encoded data removed]"
     },
     "metadata": {},
     "output_type": "display_data"
    }
   ],
   "execution_count": 9
  },
  {
   "metadata": {
    "ExecuteTime": {
     "end_time": "2024-05-31T08:53:40.497624Z",
     "start_time": "2024-05-31T08:53:40.492629Z"
    }
   },
   "cell_type": "code",
   "source": [
    "# start = time.time()\n",
    "# # Create the model\n",
    "# model = RandomForestRegressor(n_estimators=10, max_depth=110 , random_state=42)\n",
    "# print(\"Start training...\")\n",
    "# model.fit(X_train, Y_train)\n",
    "# end = time.time()\n",
    "# print(\"Time execution : \", end - start)\n",
    "# pickle.dump(model, open(model_name, 'wb'))"
   ],
   "id": "ee94eacfc512905e",
   "outputs": [],
   "execution_count": 10
  },
  {
   "metadata": {
    "ExecuteTime": {
     "end_time": "2024-05-31T08:53:40.524574Z",
     "start_time": "2024-05-31T08:53:40.498655Z"
    }
   },
   "cell_type": "code",
   "source": "loaded_model = pickle.load(open(model_file, 'rb'))",
   "id": "c2b992b582280c7a",
   "outputs": [],
   "execution_count": 11
  },
  {
   "metadata": {
    "ExecuteTime": {
     "end_time": "2024-05-31T08:53:41.015346Z",
     "start_time": "2024-05-31T08:53:40.524574Z"
    }
   },
   "cell_type": "code",
   "source": [
    "feature_names = [f\"{column}\" for column in X_train]\n",
    "importances = loaded_model.feature_importances_\n",
    "forest_importances = pd.Series(importances, index=feature_names)\n",
    "std = np.std([tree.feature_importances_ for tree in loaded_model.estimators_], axis=0)\n",
    "sorted_importances = forest_importances.sort_values(ascending=False)[:30]\n",
    "fig, ax = plt.subplots()\n",
    "sorted_importances.plot.bar(yerr=std[:30], ax=ax)\n",
    "ax.set_title(\"Feature importances using MDI\")\n",
    "ax.set_ylabel(\"Mean decrease in impurity\")\n",
    "fig.tight_layout()"
   ],
   "id": "338c8f13cbfc5364",
   "outputs": [
    {
     "data": {
      "text/plain": [
       "<Figure size 640x480 with 1 Axes>"
      ],
      "image/png": "[encoded data removed]"
     },
     "metadata": {},
     "output_type": "display_data"
    }
   ],
   "execution_count": 12
  },
  {
   "metadata": {
    "ExecuteTime": {
     "end_time": "2024-05-31T08:53:41.101099Z",
     "start_time": "2024-05-31T08:53:41.016356Z"
    }
   },
   "cell_type": "code",
   "source": [
    "#Make the predictions \n",
    "Y_pred = loaded_model.predict(X_test)\n",
    "pred_table = pd.DataFrame(data={\"actual value\":Y_test, \"predicted\":loaded_model.predict(X_test)})\n",
    "pred_table[\"difference\"] = pred_table[\"actual value\"] - pred_table[\"predicted\"]\n",
    "pred_table"
   ],
   "id": "58a09c965b647884",
   "outputs": [
    {
     "data": {
      "text/plain": [
       "       actual value      predicted    difference\n",
       "14948       92400.0   92400.000000      0.000000\n",
       "19778      120000.0  124320.000000  -4320.000000\n",
       "27087       45600.0   46929.600000  -1329.600000\n",
       "14980      114000.0  116224.000000  -2224.000000\n",
       "32008      226800.0  211920.000000  14880.000000\n",
       "...             ...            ...           ...\n",
       "19053      165600.0  134800.000000  30800.000000\n",
       "28963      150000.0  126984.857143  23015.142857\n",
       "41577       43200.0   56216.754121 -13016.754121\n",
       "5062       132000.0  134400.000000  -2400.000000\n",
       "18843       58800.0   59954.524138  -1154.524138\n",
       "\n",
       "[9067 rows x 3 columns]"
      ],
      "text/html": [
       "<div>\n",
       "<style scoped>\n",
       "    .dataframe tbody tr th:only-of-type {\n",
       "        vertical-align: middle;\n",
       "    }\n",
       "\n",
       "    .dataframe tbody tr th {\n",
       "        vertical-align: top;\n",
       "    }\n",
       "\n",
       "    .dataframe thead th {\n",
       "        text-align: right;\n",
       "    }\n",
       "</style>\n",
       "<table border=\"1\" class=\"dataframe\">\n",
       "  <thead>\n",
       "    <tr style=\"text-align: right;\">\n",
       "      <th></th>\n",
       "      <th>actual value</th>\n",
       "      <th>predicted</th>\n",
       "      <th>difference</th>\n",
       "    </tr>\n",
       "  </thead>\n",
       "  <tbody>\n",
       "    <tr>\n",
       "      <th>14948</th>\n",
       "      <td>92400.0</td>\n",
       "      <td>92400.000000</td>\n",
       "      <td>0.000000</td>\n",
       "    </tr>\n",
       "    <tr>\n",
       "      <th>19778</th>\n",
       "      <td>120000.0</td>\n",
       "      <td>124320.000000</td>\n",
       "      <td>-4320.000000</td>\n",
       "    </tr>\n",
       "    <tr>\n",
       "      <th>27087</th>\n",
       "      <td>45600.0</td>\n",
       "      <td>46929.600000</td>\n",
       "      <td>-1329.600000</td>\n",
       "    </tr>\n",
       "    <tr>\n",
       "      <th>14980</th>\n",
       "      <td>114000.0</td>\n",
       "      <td>116224.000000</td>\n",
       "      <td>-2224.000000</td>\n",
       "    </tr>\n",
       "    <tr>\n",
       "      <th>32008</th>\n",
       "      <td>226800.0</td>\n",
       "      <td>211920.000000</td>\n",
       "      <td>14880.000000</td>\n",
       "    </tr>\n",
       "    <tr>\n",
       "      <th>...</th>\n",
       "      <td>...</td>\n",
       "      <td>...</td>\n",
       "      <td>...</td>\n",
       "    </tr>\n",
       "    <tr>\n",
       "      <th>19053</th>\n",
       "      <td>165600.0</td>\n",
       "      <td>134800.000000</td>\n",
       "      <td>30800.000000</td>\n",
       "    </tr>\n",
       "    <tr>\n",
       "      <th>28963</th>\n",
       "      <td>150000.0</td>\n",
       "      <td>126984.857143</td>\n",
       "      <td>23015.142857</td>\n",
       "    </tr>\n",
       "    <tr>\n",
       "      <th>41577</th>\n",
       "      <td>43200.0</td>\n",
       "      <td>56216.754121</td>\n",
       "      <td>-13016.754121</td>\n",
       "    </tr>\n",
       "    <tr>\n",
       "      <th>5062</th>\n",
       "      <td>132000.0</td>\n",
       "      <td>134400.000000</td>\n",
       "      <td>-2400.000000</td>\n",
       "    </tr>\n",
       "    <tr>\n",
       "      <th>18843</th>\n",
       "      <td>58800.0</td>\n",
       "      <td>59954.524138</td>\n",
       "      <td>-1154.524138</td>\n",
       "    </tr>\n",
       "  </tbody>\n",
       "</table>\n",
       "<p>9067 rows × 3 columns</p>\n",
       "</div>"
      ]
     },
     "execution_count": 13,
     "metadata": {},
     "output_type": "execute_result"
    }
   ],
   "execution_count": 13
  },
  {
   "metadata": {
    "ExecuteTime": {
     "end_time": "2024-05-31T08:53:41.495570Z",
     "start_time": "2024-05-31T08:53:41.103802Z"
    }
   },
   "cell_type": "code",
   "source": [
    "# Assuming you have obtained Y_pred and Y_test from your model\n",
    "\n",
    "# Create a scatter plot or line plot\n",
    "# Scatter plot for Y_test (green)\n",
    "plt.scatter(Y_test, Y_test, c='green', marker='o', label='True Value', alpha=0.7)\n",
    "\n",
    "# Scatter plot for Y_pred (red)\n",
    "plt.scatter(Y_test, Y_pred, c='red', marker='x', label='Predicted Value', alpha=0.7)\n",
    "plt.plot([Y_test.min(), Y_test.max()], [Y_test.min(), Y_test.max()], 'b--')  # Diagonal line for reference\n",
    "plt.xlabel('Actual Values (Y_test)')\n",
    "plt.ylabel('Predicted Values (Y_pred)')\n",
    "plt.legend(fontsize=12)\n",
    "plt.title('Actual vs. Predicted House Prices using Random Forest Regressor')\n",
    "plt.grid(alpha=0.4)\n",
    "# Show the plot\n",
    "plt.show()"
   ],
   "id": "c4323fc082e15fed",
   "outputs": [
    {
     "data": {
      "text/plain": [
       "<Figure size 640x480 with 1 Axes>"
      ],
      "image/png": "[encoded data removed]"
     },
     "metadata": {},
     "output_type": "display_data"
    }
   ],
   "execution_count": 14
  },
  {
   "metadata": {
    "ExecuteTime": {
     "end_time": "2024-05-31T08:53:41.705955Z",
     "start_time": "2024-05-31T08:53:41.497668Z"
    }
   },
   "cell_type": "code",
   "source": [
    "from sklearn.metrics import r2_score\n",
    "#Test the model\n",
    "pred_train = loaded_model.predict(X_train)\n",
    "pred_test = loaded_model.predict(X_test)\n",
    "train_accuracy = r2_score(pred_train, Y_train)\n",
    "test_accuracy = r2_score(pred_test, Y_test)\n",
    "print('Training r2 score: ',train_accuracy)\n",
    "print('Test r2 score: ',test_accuracy)"
   ],
   "id": "11b03cd07df877ca",
   "outputs": [
    {
     "name": "stdout",
     "output_type": "stream",
     "text": [
      "Training r2 score:  0.9818359832688252\n",
      "Test r2 score:  0.9374767968472946\n"
     ]
    }
   ],
   "execution_count": 15
  },
  {
   "metadata": {
    "ExecuteTime": {
     "end_time": "2024-05-31T08:53:41.712238Z",
     "start_time": "2024-05-31T08:53:41.707238Z"
    }
   },
   "cell_type": "code",
   "source": [
    "from sklearn.metrics import mean_squared_error\n",
    "mse_train = mean_squared_error(Y_train, pred_train)\n",
    "mse_test = mean_squared_error(Y_test, pred_test)\n",
    "print('Training mean squared error: ', mse_train)\n",
    "print('Test mean squared error: ', mse_test)"
   ],
   "id": "25641b90fbbfcb23",
   "outputs": [
    {
     "name": "stdout",
     "output_type": "stream",
     "text": [
      "Training mean squared error:  702982490.6260893\n",
      "Test mean squared error:  2352529117.071126\n"
     ]
    }
   ],
   "execution_count": 16
  },
  {
   "metadata": {
    "ExecuteTime": {
     "end_time": "2024-05-31T08:53:41.719542Z",
     "start_time": "2024-05-31T08:53:41.712238Z"
    }
   },
   "cell_type": "code",
   "source": [
    "from sklearn.metrics import mean_absolute_error\n",
    "mae_train = mean_absolute_error(Y_train, pred_train)\n",
    "mae_test = mean_absolute_error(Y_test, pred_test)\n",
    "print('Training mean absolute error: ', mae_train)\n",
    "print('Test mean absolute error: ', mae_test)"
   ],
   "id": "d84dec3e2610031b",
   "outputs": [
    {
     "name": "stdout",
     "output_type": "stream",
     "text": [
      "Training mean absolute error:  10285.533218152868\n",
      "Test mean absolute error:  18475.427413114194\n"
     ]
    }
   ],
   "execution_count": 17
  },
  {
   "metadata": {
    "ExecuteTime": {
     "end_time": "2024-05-31T08:53:41.723388Z",
     "start_time": "2024-05-31T08:53:41.719542Z"
    }
   },
   "cell_type": "code",
   "source": "",
   "id": "dd4a589dc5a8563c",
   "outputs": [],
   "execution_count": 17
  }
 ],
 "metadata": {
  "kernelspec": {
   "display_name": "Python 3",
   "language": "python",
   "name": "python3"
  },
  "language_info": {
   "codemirror_mode": {
    "name": "ipython",
    "version": 2
   },
   "file_extension": ".py",
   "mimetype": "text/x-python",
   "name": "python",
   "nbconvert_exporter": "python",
   "pygments_lexer": "ipython2",
   "version": "2.7.6"
  }
 },
 "nbformat": 4,
 "nbformat_minor": 5
}

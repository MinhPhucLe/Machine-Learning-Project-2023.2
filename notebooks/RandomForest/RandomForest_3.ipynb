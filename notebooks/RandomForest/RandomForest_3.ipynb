{
 "cells": [
  {
   "cell_type": "code",
   "id": "initial_id",
   "metadata": {
    "collapsed": true,
    "ExecuteTime": {
     "end_time": "2024-05-31T02:24:12.959059Z",
     "start_time": "2024-05-31T02:24:12.955563Z"
    }
   },
   "source": [
    "import pandas as pd \n",
    "import matplotlib.pyplot as plt\n",
    "from sklearn.ensemble import RandomForestRegressor\n",
    "import time\n",
    "import pickle\n",
    "import numpy as np"
   ],
   "outputs": [],
   "execution_count": 16
  },
  {
   "metadata": {
    "ExecuteTime": {
     "end_time": "2024-05-31T02:24:12.980004Z",
     "start_time": "2024-05-31T02:24:12.977139Z"
    }
   },
   "cell_type": "code",
   "source": [
    "model_file = \"../../models/RandomForest_3\"\n",
    "data_file = \"../../data/processed_data_2.csv\""
   ],
   "id": "d60bd2f5f5c80ed9",
   "outputs": [],
   "execution_count": 17
  },
  {
   "metadata": {
    "ExecuteTime": {
     "end_time": "2024-05-31T02:24:13.375414Z",
     "start_time": "2024-05-31T02:24:12.981085Z"
    }
   },
   "cell_type": "code",
   "source": [
    "data = pd.read_csv(data_file)\n",
    "\n",
    "for column in data:\n",
    "    if column in [\"bhk\",\"status\",\"house_type\",\"new\"]:\n",
    "        # Get the value counts for the column\n",
    "        value_counts = data[column].value_counts()\n",
    "        # Find the values that occur fewer than 10 times\n",
    "        to_drop = value_counts[value_counts < 10].index\n",
    "        # Drop rows where the column's value is in the to_drop list\n",
    "        data = data[~data[column].isin(to_drop)]\n",
    "for column in data:\n",
    "    if column in [\"bhk\",\"status\",\"house_type\",\"new\"]:\n",
    "        print(\"Column Name: \", column)\n",
    "        print(data[column].unique())\n",
    "        print(data[column].value_counts())"
   ],
   "id": "526a313c6a4b1c9f",
   "outputs": [
    {
     "name": "stdout",
     "output_type": "stream",
     "text": [
      "Column Name:  bhk\n",
      "[2 1 3 4 5 6]\n",
      "bhk\n",
      "2    20154\n",
      "1    16596\n",
      "3     7278\n",
      "4     1103\n",
      "5      162\n",
      "6       39\n",
      "Name: count, dtype: int64\n",
      "Column Name:  status\n",
      "[1 0]\n",
      "status\n",
      "0    26904\n",
      "1    18428\n",
      "Name: count, dtype: int64\n",
      "Column Name:  house_type\n",
      "[0 2 1 3]\n",
      "house_type\n",
      "0    44580\n",
      "2      597\n",
      "3      110\n",
      "1       45\n",
      "Name: count, dtype: int64\n",
      "Column Name:  new\n",
      "[0 1]\n",
      "new\n",
      "1    27140\n",
      "0    18192\n",
      "Name: count, dtype: int64\n"
     ]
    }
   ],
   "execution_count": 18
  },
  {
   "metadata": {
    "ExecuteTime": {
     "end_time": "2024-05-31T02:24:13.382104Z",
     "start_time": "2024-05-31T02:24:13.377528Z"
    }
   },
   "cell_type": "code",
   "source": [
    "def preprocessing(data:pd.DataFrame) -> pd.DataFrame:\n",
    "    # data.drop([\"status\",\"new\",\"house_type\"], axis = 1, inplace = True)\n",
    "    data = data.dropna()\n",
    "    return data"
   ],
   "id": "9d3162b45feb327c",
   "outputs": [],
   "execution_count": 19
  },
  {
   "metadata": {
    "ExecuteTime": {
     "end_time": "2024-05-31T02:24:13.405796Z",
     "start_time": "2024-05-31T02:24:13.384186Z"
    }
   },
   "cell_type": "code",
   "source": [
    "processed_data = preprocessing(data)\n",
    "for column in processed_data:\n",
    "    print(column)"
   ],
   "id": "9b662e6d9124aa47",
   "outputs": [
    {
     "name": "stdout",
     "output_type": "stream",
     "text": [
      "bhk\n",
      "area\n",
      "status\n",
      "price_in_USD\n",
      "house_type\n",
      "new\n",
      "region_Agripada\n",
      "region_Airoli\n",
      "region_Ambernath East\n",
      "region_Ambernath West\n",
      "region_Andheri East\n",
      "region_Andheri West\n",
      "region_Anjurdive\n",
      "region_Badlapur East\n",
      "region_Badlapur West\n",
      "region_Bandra East\n",
      "region_Bandra Kurla Complex\n",
      "region_Bandra West\n",
      "region_Belapur\n",
      "region_Bhandup East\n",
      "region_Bhandup West\n",
      "region_Bhayandar East\n",
      "region_Bhayandar West\n",
      "region_Bhiwandi\n",
      "region_Boisar\n",
      "region_Borivali East\n",
      "region_Borivali West\n",
      "region_Byculla\n",
      "region_Chembur\n",
      "region_Colaba\n",
      "region_Dadar East\n",
      "region_Dadar West\n",
      "region_Dahisar\n",
      "region_Deonar\n",
      "region_Diva\n",
      "region_Dombivali\n",
      "region_Dronagiri\n",
      "region_Ghansoli\n",
      "region_Ghatkopar East\n",
      "region_Ghatkopar West\n",
      "region_Girgaon\n",
      "region_Goregaon East\n",
      "region_Goregaon West\n",
      "region_Jogeshwari East\n",
      "region_Jogeshwari West\n",
      "region_Juhu\n",
      "region_Juinagar\n",
      "region_Kalamboli\n",
      "region_Kalwa\n",
      "region_Kalyan East\n",
      "region_Kalyan West\n",
      "region_Kamothe\n",
      "region_Kandivali East\n",
      "region_Kandivali West\n",
      "region_Kanjurmarg\n",
      "region_Karanjade\n",
      "region_Karjat\n",
      "region_Kasheli\n",
      "region_Khar\n",
      "region_Kharghar\n",
      "region_Khopoli\n",
      "region_Koper Khairane\n",
      "region_Kurla\n",
      "region_Lower Parel\n",
      "region_Mahalaxmi\n",
      "region_Mahim\n",
      "region_Malad East\n",
      "region_Malad West\n",
      "region_Marine Lines\n",
      "region_Matunga\n",
      "region_Mazagaon\n",
      "region_Mazgaon\n",
      "region_Mira Road East\n",
      "region_Mulund East\n",
      "region_Mulund West\n",
      "region_Nahur East\n",
      "region_Naigaon East\n",
      "region_Nala Sopara\n",
      "region_Nalasopara East\n",
      "region_Napeansea Road\n",
      "region_Neral\n",
      "region_Nerul\n",
      "region_Nilje Gaon\n",
      "region_Palghar\n",
      "region_Panvel\n",
      "region_Parel\n",
      "region_Powai\n",
      "region_Prabhadevi\n",
      "region_Rasayani\n",
      "region_Sanpada\n",
      "region_Santacruz East\n",
      "region_Santacruz West\n",
      "region_Seawoods\n",
      "region_Sector 21 Kamothe\n",
      "region_Sewri\n",
      "region_Shil Phata\n",
      "region_Sion\n",
      "region_Taloja\n",
      "region_Taloje\n",
      "region_Tardeo\n",
      "region_Thane East\n",
      "region_Thane West\n",
      "region_Titwala\n",
      "region_Ulwe\n",
      "region_Umroli\n",
      "region_Vangani\n",
      "region_Vasai\n",
      "region_Vashi\n",
      "region_Vikhroli\n",
      "region_Ville Parle East\n",
      "region_Ville Parle West\n",
      "region_Virar\n",
      "region_Virar West\n",
      "region_Wadala\n",
      "region_Worli\n"
     ]
    }
   ],
   "execution_count": 20
  },
  {
   "metadata": {
    "ExecuteTime": {
     "end_time": "2024-05-31T02:24:13.426358Z",
     "start_time": "2024-05-31T02:24:13.407116Z"
    }
   },
   "cell_type": "code",
   "source": [
    "from sklearn.preprocessing import LabelEncoder\n",
    "le = LabelEncoder()\n",
    "X = processed_data.drop(labels=\"price_in_USD\",axis=1)\n",
    "for column in X:\n",
    "    if column in [\"locality\",\"region\", \"status\", \"age\",\"type\"]:\n",
    "        X[column] = le.fit_transform(X[column])\n",
    "\n",
    "Y = processed_data[\"price_in_USD\"]\n",
    "print(X.shape)\n",
    "print(Y.shape)"
   ],
   "id": "6b59e0a7cc7b628",
   "outputs": [
    {
     "name": "stdout",
     "output_type": "stream",
     "text": [
      "(45332, 114)\n",
      "(45332,)\n"
     ]
    }
   ],
   "execution_count": 21
  },
  {
   "metadata": {
    "ExecuteTime": {
     "end_time": "2024-05-31T02:24:13.456853Z",
     "start_time": "2024-05-31T02:24:13.427808Z"
    }
   },
   "cell_type": "code",
   "source": [
    "from sklearn.model_selection import train_test_split\n",
    "X_train, X_test, Y_train, Y_test = train_test_split(X,Y,test_size=0.25,random_state=0)"
   ],
   "id": "1abba800f23eda6",
   "outputs": [],
   "execution_count": 22
  },
  {
   "metadata": {
    "ExecuteTime": {
     "end_time": "2024-05-31T02:30:35.111523Z",
     "start_time": "2024-05-31T02:24:13.457859Z"
    }
   },
   "cell_type": "code",
   "source": [
    "from sklearn.model_selection import GridSearchCV\n",
    "\n",
    "param_grid = {'max_depth': np.arange(50, 110, 5),'max_features': [None, 'sqrt','log2']}\n",
    "def hypersearch(model, model_name, param_grid, X_train, Y_train, scoring='r2'):\n",
    "    # Hyperparameter tuning\n",
    "    rs = GridSearchCV(model, param_grid, cv=4,n_jobs=-1, scoring=scoring, return_train_score=True)\n",
    "    rs.fit(X_train, Y_train)\n",
    "    best_model = rs.best_estimator_\n",
    "\n",
    "    #add the report about best hyperparameter of the model to dataframe\n",
    "    result = pd.DataFrame(rs.cv_results_)\n",
    "    result.sort_values('rank_test_score', inplace=True)\n",
    "    result = result[['params', 'mean_fit_time', 'mean_score_time', 'mean_test_score', 'mean_train_score']]\n",
    "    display(result)\n",
    "    \n",
    "    pickle.dump(best_model, open(model_name, 'wb'))\n",
    "    return best_model\n",
    "\n",
    "model = hypersearch(RandomForestRegressor(random_state=42), model_file, param_grid, X, Y)"
   ],
   "id": "93c7fe5d248d5a9c",
   "outputs": [
    {
     "data": {
      "text/plain": [
       "                                        params  mean_fit_time  \\\n",
       "17   {'max_depth': 75, 'max_features': 'log2'}      10.008932   \n",
       "20   {'max_depth': 80, 'max_features': 'log2'}      10.971579   \n",
       "29   {'max_depth': 95, 'max_features': 'log2'}      11.595601   \n",
       "23   {'max_depth': 85, 'max_features': 'log2'}      11.510944   \n",
       "35  {'max_depth': 105, 'max_features': 'log2'}      10.190397   \n",
       "32  {'max_depth': 100, 'max_features': 'log2'}      10.154457   \n",
       "11   {'max_depth': 65, 'max_features': 'log2'}       9.795299   \n",
       "10   {'max_depth': 65, 'max_features': 'sqrt'}      11.442310   \n",
       "0      {'max_depth': 50, 'max_features': None}      61.622981   \n",
       "25   {'max_depth': 90, 'max_features': 'sqrt'}      12.319884   \n",
       "5    {'max_depth': 55, 'max_features': 'log2'}       9.230585   \n",
       "7    {'max_depth': 60, 'max_features': 'sqrt'}      11.237554   \n",
       "27     {'max_depth': 95, 'max_features': None}      66.368907   \n",
       "28   {'max_depth': 95, 'max_features': 'sqrt'}      13.473463   \n",
       "33    {'max_depth': 105, 'max_features': None}      46.565950   \n",
       "30    {'max_depth': 100, 'max_features': None}      60.354761   \n",
       "24     {'max_depth': 90, 'max_features': None}      66.906325   \n",
       "14   {'max_depth': 70, 'max_features': 'log2'}       9.728394   \n",
       "31  {'max_depth': 100, 'max_features': 'sqrt'}      11.758298   \n",
       "9      {'max_depth': 65, 'max_features': None}      61.461235   \n",
       "4    {'max_depth': 55, 'max_features': 'sqrt'}      11.165113   \n",
       "1    {'max_depth': 50, 'max_features': 'sqrt'}      11.556939   \n",
       "3      {'max_depth': 55, 'max_features': None}      62.075690   \n",
       "15     {'max_depth': 75, 'max_features': None}      63.535573   \n",
       "34  {'max_depth': 105, 'max_features': 'sqrt'}      11.722803   \n",
       "12     {'max_depth': 70, 'max_features': None}      61.437091   \n",
       "8    {'max_depth': 60, 'max_features': 'log2'}       9.270313   \n",
       "16   {'max_depth': 75, 'max_features': 'sqrt'}      11.631361   \n",
       "21     {'max_depth': 85, 'max_features': None}      67.574520   \n",
       "22   {'max_depth': 85, 'max_features': 'sqrt'}      12.801441   \n",
       "2    {'max_depth': 50, 'max_features': 'log2'}       9.419566   \n",
       "18     {'max_depth': 80, 'max_features': None}      65.580933   \n",
       "13   {'max_depth': 70, 'max_features': 'sqrt'}      11.525390   \n",
       "26   {'max_depth': 90, 'max_features': 'log2'}      10.425215   \n",
       "6      {'max_depth': 60, 'max_features': None}      62.140843   \n",
       "19   {'max_depth': 80, 'max_features': 'sqrt'}      12.068006   \n",
       "\n",
       "    mean_score_time  mean_test_score  mean_train_score  \n",
       "17         0.434499         0.605058          0.988311  \n",
       "20         0.476620         0.601500          0.988416  \n",
       "29         0.509051         0.598900          0.988528  \n",
       "23         0.508289         0.597185          0.988418  \n",
       "35         0.484685         0.597166          0.988506  \n",
       "32         0.416707         0.597145          0.988525  \n",
       "11         0.395454         0.596897          0.987477  \n",
       "10         0.374003         0.596447          0.987923  \n",
       "0          0.342035         0.596118          0.986103  \n",
       "25         0.430727         0.596035          0.988418  \n",
       "5          0.377141         0.596003          0.984868  \n",
       "7          0.406258         0.595949          0.987356  \n",
       "27         0.448014         0.595791          0.988461  \n",
       "28         0.648179         0.595259          0.988464  \n",
       "33         0.250810         0.595242          0.988454  \n",
       "30         0.357650         0.595237          0.988455  \n",
       "24         0.445290         0.595184          0.988464  \n",
       "14         0.408101         0.594984          0.987981  \n",
       "31         0.419320         0.594926          0.988410  \n",
       "9          0.405379         0.594736          0.988070  \n",
       "4          0.375358         0.594174          0.986327  \n",
       "1          0.362869         0.593911          0.984935  \n",
       "3          0.374940         0.593832          0.987074  \n",
       "15         0.501631         0.593687          0.988362  \n",
       "34         0.438742         0.593466          0.988432  \n",
       "12         0.410584         0.592511          0.988313  \n",
       "8          0.379433         0.592440          0.986335  \n",
       "16         0.394319         0.592113          0.988316  \n",
       "21         0.481313         0.591749          0.988484  \n",
       "22         0.466571         0.591707          0.988519  \n",
       "2          0.401770         0.591418          0.982420  \n",
       "18         0.452419         0.590949          0.988428  \n",
       "13         0.409386         0.590866          0.988170  \n",
       "26         0.445562         0.589992          0.988460  \n",
       "6          0.434210         0.589816          0.987745  \n",
       "19         0.434205         0.586735          0.988262  "
      ],
      "text/html": [
       "<div>\n",
       "<style scoped>\n",
       "    .dataframe tbody tr th:only-of-type {\n",
       "        vertical-align: middle;\n",
       "    }\n",
       "\n",
       "    .dataframe tbody tr th {\n",
       "        vertical-align: top;\n",
       "    }\n",
       "\n",
       "    .dataframe thead th {\n",
       "        text-align: right;\n",
       "    }\n",
       "</style>\n",
       "<table border=\"1\" class=\"dataframe\">\n",
       "  <thead>\n",
       "    <tr style=\"text-align: right;\">\n",
       "      <th></th>\n",
       "      <th>params</th>\n",
       "      <th>mean_fit_time</th>\n",
       "      <th>mean_score_time</th>\n",
       "      <th>mean_test_score</th>\n",
       "      <th>mean_train_score</th>\n",
       "    </tr>\n",
       "  </thead>\n",
       "  <tbody>\n",
       "    <tr>\n",
       "      <th>17</th>\n",
       "      <td>{'max_depth': 75, 'max_features': 'log2'}</td>\n",
       "      <td>10.008932</td>\n",
       "      <td>0.434499</td>\n",
       "      <td>0.605058</td>\n",
       "      <td>0.988311</td>\n",
       "    </tr>\n",
       "    <tr>\n",
       "      <th>20</th>\n",
       "      <td>{'max_depth': 80, 'max_features': 'log2'}</td>\n",
       "      <td>10.971579</td>\n",
       "      <td>0.476620</td>\n",
       "      <td>0.601500</td>\n",
       "      <td>0.988416</td>\n",
       "    </tr>\n",
       "    <tr>\n",
       "      <th>29</th>\n",
       "      <td>{'max_depth': 95, 'max_features': 'log2'}</td>\n",
       "      <td>11.595601</td>\n",
       "      <td>0.509051</td>\n",
       "      <td>0.598900</td>\n",
       "      <td>0.988528</td>\n",
       "    </tr>\n",
       "    <tr>\n",
       "      <th>23</th>\n",
       "      <td>{'max_depth': 85, 'max_features': 'log2'}</td>\n",
       "      <td>11.510944</td>\n",
       "      <td>0.508289</td>\n",
       "      <td>0.597185</td>\n",
       "      <td>0.988418</td>\n",
       "    </tr>\n",
       "    <tr>\n",
       "      <th>35</th>\n",
       "      <td>{'max_depth': 105, 'max_features': 'log2'}</td>\n",
       "      <td>10.190397</td>\n",
       "      <td>0.484685</td>\n",
       "      <td>0.597166</td>\n",
       "      <td>0.988506</td>\n",
       "    </tr>\n",
       "    <tr>\n",
       "      <th>32</th>\n",
       "      <td>{'max_depth': 100, 'max_features': 'log2'}</td>\n",
       "      <td>10.154457</td>\n",
       "      <td>0.416707</td>\n",
       "      <td>0.597145</td>\n",
       "      <td>0.988525</td>\n",
       "    </tr>\n",
       "    <tr>\n",
       "      <th>11</th>\n",
       "      <td>{'max_depth': 65, 'max_features': 'log2'}</td>\n",
       "      <td>9.795299</td>\n",
       "      <td>0.395454</td>\n",
       "      <td>0.596897</td>\n",
       "      <td>0.987477</td>\n",
       "    </tr>\n",
       "    <tr>\n",
       "      <th>10</th>\n",
       "      <td>{'max_depth': 65, 'max_features': 'sqrt'}</td>\n",
       "      <td>11.442310</td>\n",
       "      <td>0.374003</td>\n",
       "      <td>0.596447</td>\n",
       "      <td>0.987923</td>\n",
       "    </tr>\n",
       "    <tr>\n",
       "      <th>0</th>\n",
       "      <td>{'max_depth': 50, 'max_features': None}</td>\n",
       "      <td>61.622981</td>\n",
       "      <td>0.342035</td>\n",
       "      <td>0.596118</td>\n",
       "      <td>0.986103</td>\n",
       "    </tr>\n",
       "    <tr>\n",
       "      <th>25</th>\n",
       "      <td>{'max_depth': 90, 'max_features': 'sqrt'}</td>\n",
       "      <td>12.319884</td>\n",
       "      <td>0.430727</td>\n",
       "      <td>0.596035</td>\n",
       "      <td>0.988418</td>\n",
       "    </tr>\n",
       "    <tr>\n",
       "      <th>5</th>\n",
       "      <td>{'max_depth': 55, 'max_features': 'log2'}</td>\n",
       "      <td>9.230585</td>\n",
       "      <td>0.377141</td>\n",
       "      <td>0.596003</td>\n",
       "      <td>0.984868</td>\n",
       "    </tr>\n",
       "    <tr>\n",
       "      <th>7</th>\n",
       "      <td>{'max_depth': 60, 'max_features': 'sqrt'}</td>\n",
       "      <td>11.237554</td>\n",
       "      <td>0.406258</td>\n",
       "      <td>0.595949</td>\n",
       "      <td>0.987356</td>\n",
       "    </tr>\n",
       "    <tr>\n",
       "      <th>27</th>\n",
       "      <td>{'max_depth': 95, 'max_features': None}</td>\n",
       "      <td>66.368907</td>\n",
       "      <td>0.448014</td>\n",
       "      <td>0.595791</td>\n",
       "      <td>0.988461</td>\n",
       "    </tr>\n",
       "    <tr>\n",
       "      <th>28</th>\n",
       "      <td>{'max_depth': 95, 'max_features': 'sqrt'}</td>\n",
       "      <td>13.473463</td>\n",
       "      <td>0.648179</td>\n",
       "      <td>0.595259</td>\n",
       "      <td>0.988464</td>\n",
       "    </tr>\n",
       "    <tr>\n",
       "      <th>33</th>\n",
       "      <td>{'max_depth': 105, 'max_features': None}</td>\n",
       "      <td>46.565950</td>\n",
       "      <td>0.250810</td>\n",
       "      <td>0.595242</td>\n",
       "      <td>0.988454</td>\n",
       "    </tr>\n",
       "    <tr>\n",
       "      <th>30</th>\n",
       "      <td>{'max_depth': 100, 'max_features': None}</td>\n",
       "      <td>60.354761</td>\n",
       "      <td>0.357650</td>\n",
       "      <td>0.595237</td>\n",
       "      <td>0.988455</td>\n",
       "    </tr>\n",
       "    <tr>\n",
       "      <th>24</th>\n",
       "      <td>{'max_depth': 90, 'max_features': None}</td>\n",
       "      <td>66.906325</td>\n",
       "      <td>0.445290</td>\n",
       "      <td>0.595184</td>\n",
       "      <td>0.988464</td>\n",
       "    </tr>\n",
       "    <tr>\n",
       "      <th>14</th>\n",
       "      <td>{'max_depth': 70, 'max_features': 'log2'}</td>\n",
       "      <td>9.728394</td>\n",
       "      <td>0.408101</td>\n",
       "      <td>0.594984</td>\n",
       "      <td>0.987981</td>\n",
       "    </tr>\n",
       "    <tr>\n",
       "      <th>31</th>\n",
       "      <td>{'max_depth': 100, 'max_features': 'sqrt'}</td>\n",
       "      <td>11.758298</td>\n",
       "      <td>0.419320</td>\n",
       "      <td>0.594926</td>\n",
       "      <td>0.988410</td>\n",
       "    </tr>\n",
       "    <tr>\n",
       "      <th>9</th>\n",
       "      <td>{'max_depth': 65, 'max_features': None}</td>\n",
       "      <td>61.461235</td>\n",
       "      <td>0.405379</td>\n",
       "      <td>0.594736</td>\n",
       "      <td>0.988070</td>\n",
       "    </tr>\n",
       "    <tr>\n",
       "      <th>4</th>\n",
       "      <td>{'max_depth': 55, 'max_features': 'sqrt'}</td>\n",
       "      <td>11.165113</td>\n",
       "      <td>0.375358</td>\n",
       "      <td>0.594174</td>\n",
       "      <td>0.986327</td>\n",
       "    </tr>\n",
       "    <tr>\n",
       "      <th>1</th>\n",
       "      <td>{'max_depth': 50, 'max_features': 'sqrt'}</td>\n",
       "      <td>11.556939</td>\n",
       "      <td>0.362869</td>\n",
       "      <td>0.593911</td>\n",
       "      <td>0.984935</td>\n",
       "    </tr>\n",
       "    <tr>\n",
       "      <th>3</th>\n",
       "      <td>{'max_depth': 55, 'max_features': None}</td>\n",
       "      <td>62.075690</td>\n",
       "      <td>0.374940</td>\n",
       "      <td>0.593832</td>\n",
       "      <td>0.987074</td>\n",
       "    </tr>\n",
       "    <tr>\n",
       "      <th>15</th>\n",
       "      <td>{'max_depth': 75, 'max_features': None}</td>\n",
       "      <td>63.535573</td>\n",
       "      <td>0.501631</td>\n",
       "      <td>0.593687</td>\n",
       "      <td>0.988362</td>\n",
       "    </tr>\n",
       "    <tr>\n",
       "      <th>34</th>\n",
       "      <td>{'max_depth': 105, 'max_features': 'sqrt'}</td>\n",
       "      <td>11.722803</td>\n",
       "      <td>0.438742</td>\n",
       "      <td>0.593466</td>\n",
       "      <td>0.988432</td>\n",
       "    </tr>\n",
       "    <tr>\n",
       "      <th>12</th>\n",
       "      <td>{'max_depth': 70, 'max_features': None}</td>\n",
       "      <td>61.437091</td>\n",
       "      <td>0.410584</td>\n",
       "      <td>0.592511</td>\n",
       "      <td>0.988313</td>\n",
       "    </tr>\n",
       "    <tr>\n",
       "      <th>8</th>\n",
       "      <td>{'max_depth': 60, 'max_features': 'log2'}</td>\n",
       "      <td>9.270313</td>\n",
       "      <td>0.379433</td>\n",
       "      <td>0.592440</td>\n",
       "      <td>0.986335</td>\n",
       "    </tr>\n",
       "    <tr>\n",
       "      <th>16</th>\n",
       "      <td>{'max_depth': 75, 'max_features': 'sqrt'}</td>\n",
       "      <td>11.631361</td>\n",
       "      <td>0.394319</td>\n",
       "      <td>0.592113</td>\n",
       "      <td>0.988316</td>\n",
       "    </tr>\n",
       "    <tr>\n",
       "      <th>21</th>\n",
       "      <td>{'max_depth': 85, 'max_features': None}</td>\n",
       "      <td>67.574520</td>\n",
       "      <td>0.481313</td>\n",
       "      <td>0.591749</td>\n",
       "      <td>0.988484</td>\n",
       "    </tr>\n",
       "    <tr>\n",
       "      <th>22</th>\n",
       "      <td>{'max_depth': 85, 'max_features': 'sqrt'}</td>\n",
       "      <td>12.801441</td>\n",
       "      <td>0.466571</td>\n",
       "      <td>0.591707</td>\n",
       "      <td>0.988519</td>\n",
       "    </tr>\n",
       "    <tr>\n",
       "      <th>2</th>\n",
       "      <td>{'max_depth': 50, 'max_features': 'log2'}</td>\n",
       "      <td>9.419566</td>\n",
       "      <td>0.401770</td>\n",
       "      <td>0.591418</td>\n",
       "      <td>0.982420</td>\n",
       "    </tr>\n",
       "    <tr>\n",
       "      <th>18</th>\n",
       "      <td>{'max_depth': 80, 'max_features': None}</td>\n",
       "      <td>65.580933</td>\n",
       "      <td>0.452419</td>\n",
       "      <td>0.590949</td>\n",
       "      <td>0.988428</td>\n",
       "    </tr>\n",
       "    <tr>\n",
       "      <th>13</th>\n",
       "      <td>{'max_depth': 70, 'max_features': 'sqrt'}</td>\n",
       "      <td>11.525390</td>\n",
       "      <td>0.409386</td>\n",
       "      <td>0.590866</td>\n",
       "      <td>0.988170</td>\n",
       "    </tr>\n",
       "    <tr>\n",
       "      <th>26</th>\n",
       "      <td>{'max_depth': 90, 'max_features': 'log2'}</td>\n",
       "      <td>10.425215</td>\n",
       "      <td>0.445562</td>\n",
       "      <td>0.589992</td>\n",
       "      <td>0.988460</td>\n",
       "    </tr>\n",
       "    <tr>\n",
       "      <th>6</th>\n",
       "      <td>{'max_depth': 60, 'max_features': None}</td>\n",
       "      <td>62.140843</td>\n",
       "      <td>0.434210</td>\n",
       "      <td>0.589816</td>\n",
       "      <td>0.987745</td>\n",
       "    </tr>\n",
       "    <tr>\n",
       "      <th>19</th>\n",
       "      <td>{'max_depth': 80, 'max_features': 'sqrt'}</td>\n",
       "      <td>12.068006</td>\n",
       "      <td>0.434205</td>\n",
       "      <td>0.586735</td>\n",
       "      <td>0.988262</td>\n",
       "    </tr>\n",
       "  </tbody>\n",
       "</table>\n",
       "</div>"
      ]
     },
     "metadata": {},
     "output_type": "display_data"
    }
   ],
   "execution_count": 23
  },
  {
   "metadata": {
    "ExecuteTime": {
     "end_time": "2024-05-31T02:30:47.432880Z",
     "start_time": "2024-05-31T02:30:35.112531Z"
    }
   },
   "cell_type": "code",
   "source": [
    "from sklearn.model_selection import learning_curve\n",
    "\n",
    "# Calculate accuracy on training and test set using the\n",
    "# gamma parameter with 5-fold cross validation\n",
    "train_sizes, train_score, val_score = learning_curve(RandomForestRegressor(n_estimators=10,max_depth=75,max_features='log2', random_state=42), X_train, Y_train,\n",
    "                                          cv=4, train_sizes=np.linspace(0.1, 1.0, 10),scoring=\"r2\")\n",
    "\n",
    "train_score_mean = np.mean(train_score, axis=1)\n",
    "train_score_std = np.std(train_score, axis=1)\n",
    "\n",
    "val_score_mean = np.mean(val_score, axis=1)\n",
    "val_score_std = np.std(val_score, axis=1)\n",
    "\n",
    "plt.plot(train_sizes, train_score_mean,\n",
    "         label=\"Training Score\", color='b')\n",
    "plt.plot(train_sizes, val_score_mean,\n",
    "         label=\"Cross Validation Score\", color='g')\n",
    "# Creating the plot\n",
    "plt.title(\"Learning Curve with Random Forest Regressor\")\n",
    "plt.xlabel(\"Training examples\")\n",
    "plt.ylabel(\"R2 Score\")\n",
    "plt.tight_layout()\n",
    "plt.legend(loc='best')\n",
    "plt.show()"
   ],
   "id": "71cc1f21e61c48f",
   "outputs": [
    {
     "data": {
      "text/plain": [
       "<Figure size 640x480 with 1 Axes>"
      ],
      "image/png": "[encoded data removed]"
     },
     "metadata": {},
     "output_type": "display_data"
    }
   ],
   "execution_count": 24
  },
  {
   "metadata": {
    "ExecuteTime": {
     "end_time": "2024-05-31T02:30:47.437846Z",
     "start_time": "2024-05-31T02:30:47.433891Z"
    }
   },
   "cell_type": "code",
   "source": [
    "# start = time.time()\n",
    "# # Create the model\n",
    "# model = RandomForestRegressor(n_estimators=10, max_depth=110 , random_state=42)\n",
    "# print(\"Start training...\")\n",
    "# model.fit(X_train, Y_train)\n",
    "# end = time.time()\n",
    "# print(\"Time execution : \", end - start)\n",
    "# pickle.dump(model, open(model_name, 'wb'))"
   ],
   "id": "ee94eacfc512905e",
   "outputs": [],
   "execution_count": 25
  },
  {
   "metadata": {
    "ExecuteTime": {
     "end_time": "2024-05-31T02:30:47.553425Z",
     "start_time": "2024-05-31T02:30:47.440088Z"
    }
   },
   "cell_type": "code",
   "source": "loaded_model = pickle.load(open(model_file, 'rb'))",
   "id": "c2b992b582280c7a",
   "outputs": [],
   "execution_count": 26
  },
  {
   "metadata": {
    "ExecuteTime": {
     "end_time": "2024-05-31T02:30:48.043666Z",
     "start_time": "2024-05-31T02:30:47.553425Z"
    }
   },
   "cell_type": "code",
   "source": [
    "feature_names = [f\"{column}\" for column in X_train]\n",
    "importances = loaded_model.feature_importances_\n",
    "forest_importances = pd.Series(importances, index=feature_names)\n",
    "std = np.std([tree.feature_importances_ for tree in loaded_model.estimators_], axis=0)\n",
    "sorted_importances = forest_importances.sort_values(ascending=False)[:30]\n",
    "fig, ax = plt.subplots()\n",
    "sorted_importances.plot.bar(yerr=std[:30], ax=ax)\n",
    "ax.set_title(\"Feature importances using MDI\")\n",
    "ax.set_ylabel(\"Mean decrease in impurity\")\n",
    "fig.tight_layout()"
   ],
   "id": "338c8f13cbfc5364",
   "outputs": [
    {
     "data": {
      "text/plain": [
       "<Figure size 640x480 with 1 Axes>"
      ],
      "image/png": "[encoded data removed]"
     },
     "metadata": {},
     "output_type": "display_data"
    }
   ],
   "execution_count": 27
  },
  {
   "metadata": {
    "ExecuteTime": {
     "end_time": "2024-05-31T02:30:48.703409Z",
     "start_time": "2024-05-31T02:30:48.044679Z"
    }
   },
   "cell_type": "code",
   "source": [
    "#Make the predictions \n",
    "Y_pred = loaded_model.predict(X_test)\n",
    "pred_table = pd.DataFrame(data={\"actual value\":Y_test, \"predicted\":loaded_model.predict(X_test)})\n",
    "pred_table[\"difference\"] = pred_table[\"actual value\"] - pred_table[\"predicted\"]\n",
    "pred_table"
   ],
   "id": "58a09c965b647884",
   "outputs": [
    {
     "data": {
      "text/plain": [
       "       actual value      predicted    difference\n",
       "14948       92400.0   92259.928608    140.071392\n",
       "19778      120000.0  119805.324619    194.675381\n",
       "27087       45600.0   45973.208047   -373.208047\n",
       "14980      114000.0  115450.299226  -1450.299226\n",
       "32008      226800.0  222984.000000   3816.000000\n",
       "...             ...            ...           ...\n",
       "16471      145200.0  146036.310597   -836.310597\n",
       "28095       78000.0   73080.844635   4919.155365\n",
       "44684       49140.0   57566.277826  -8426.277826\n",
       "11293      186000.0  159070.813396  26929.186604\n",
       "499         36000.0   34162.711993   1837.288007\n",
       "\n",
       "[11333 rows x 3 columns]"
      ],
      "text/html": [
       "<div>\n",
       "<style scoped>\n",
       "    .dataframe tbody tr th:only-of-type {\n",
       "        vertical-align: middle;\n",
       "    }\n",
       "\n",
       "    .dataframe tbody tr th {\n",
       "        vertical-align: top;\n",
       "    }\n",
       "\n",
       "    .dataframe thead th {\n",
       "        text-align: right;\n",
       "    }\n",
       "</style>\n",
       "<table border=\"1\" class=\"dataframe\">\n",
       "  <thead>\n",
       "    <tr style=\"text-align: right;\">\n",
       "      <th></th>\n",
       "      <th>actual value</th>\n",
       "      <th>predicted</th>\n",
       "      <th>difference</th>\n",
       "    </tr>\n",
       "  </thead>\n",
       "  <tbody>\n",
       "    <tr>\n",
       "      <th>14948</th>\n",
       "      <td>92400.0</td>\n",
       "      <td>92259.928608</td>\n",
       "      <td>140.071392</td>\n",
       "    </tr>\n",
       "    <tr>\n",
       "      <th>19778</th>\n",
       "      <td>120000.0</td>\n",
       "      <td>119805.324619</td>\n",
       "      <td>194.675381</td>\n",
       "    </tr>\n",
       "    <tr>\n",
       "      <th>27087</th>\n",
       "      <td>45600.0</td>\n",
       "      <td>45973.208047</td>\n",
       "      <td>-373.208047</td>\n",
       "    </tr>\n",
       "    <tr>\n",
       "      <th>14980</th>\n",
       "      <td>114000.0</td>\n",
       "      <td>115450.299226</td>\n",
       "      <td>-1450.299226</td>\n",
       "    </tr>\n",
       "    <tr>\n",
       "      <th>32008</th>\n",
       "      <td>226800.0</td>\n",
       "      <td>222984.000000</td>\n",
       "      <td>3816.000000</td>\n",
       "    </tr>\n",
       "    <tr>\n",
       "      <th>...</th>\n",
       "      <td>...</td>\n",
       "      <td>...</td>\n",
       "      <td>...</td>\n",
       "    </tr>\n",
       "    <tr>\n",
       "      <th>16471</th>\n",
       "      <td>145200.0</td>\n",
       "      <td>146036.310597</td>\n",
       "      <td>-836.310597</td>\n",
       "    </tr>\n",
       "    <tr>\n",
       "      <th>28095</th>\n",
       "      <td>78000.0</td>\n",
       "      <td>73080.844635</td>\n",
       "      <td>4919.155365</td>\n",
       "    </tr>\n",
       "    <tr>\n",
       "      <th>44684</th>\n",
       "      <td>49140.0</td>\n",
       "      <td>57566.277826</td>\n",
       "      <td>-8426.277826</td>\n",
       "    </tr>\n",
       "    <tr>\n",
       "      <th>11293</th>\n",
       "      <td>186000.0</td>\n",
       "      <td>159070.813396</td>\n",
       "      <td>26929.186604</td>\n",
       "    </tr>\n",
       "    <tr>\n",
       "      <th>499</th>\n",
       "      <td>36000.0</td>\n",
       "      <td>34162.711993</td>\n",
       "      <td>1837.288007</td>\n",
       "    </tr>\n",
       "  </tbody>\n",
       "</table>\n",
       "<p>11333 rows × 3 columns</p>\n",
       "</div>"
      ]
     },
     "execution_count": 28,
     "metadata": {},
     "output_type": "execute_result"
    }
   ],
   "execution_count": 28
  },
  {
   "metadata": {
    "ExecuteTime": {
     "end_time": "2024-05-31T02:30:49.064711Z",
     "start_time": "2024-05-31T02:30:48.703409Z"
    }
   },
   "cell_type": "code",
   "source": [
    "# Assuming you have obtained Y_pred and Y_test from your model\n",
    "\n",
    "# Create a scatter plot or line plot\n",
    "# Scatter plot for Y_test (green)\n",
    "plt.scatter(Y_test, Y_test, c='green', marker='o', label='True Value', alpha=0.7)\n",
    "\n",
    "# Scatter plot for Y_pred (red)\n",
    "plt.scatter(Y_test, Y_pred, c='red', marker='x', label='Predicted Value', alpha=0.7)\n",
    "plt.plot([Y_test.min(), Y_test.max()], [Y_test.min(), Y_test.max()], 'b--')  # Diagonal line for reference\n",
    "plt.xlabel('Actual Values (Y_test)')\n",
    "plt.ylabel('Predicted Values (Y_pred)')\n",
    "plt.legend(fontsize=12)\n",
    "plt.title('Actual vs. Predicted House Prices using Random Forest Regressor')\n",
    "plt.grid(alpha=0.4)\n",
    "# Show the plot\n",
    "plt.show()"
   ],
   "id": "c4323fc082e15fed",
   "outputs": [
    {
     "data": {
      "text/plain": [
       "<Figure size 640x480 with 1 Axes>"
      ],
      "image/png": "[encoded data removed]"
     },
     "metadata": {},
     "output_type": "display_data"
    }
   ],
   "execution_count": 29
  },
  {
   "metadata": {
    "ExecuteTime": {
     "end_time": "2024-05-31T02:30:50.593891Z",
     "start_time": "2024-05-31T02:30:49.066173Z"
    }
   },
   "cell_type": "code",
   "source": [
    "from sklearn.metrics import r2_score\n",
    "#Test the model\n",
    "pred_train = loaded_model.predict(X_train)\n",
    "pred_test = loaded_model.predict(X_test)\n",
    "train_accuracy = r2_score(pred_train, Y_train)\n",
    "test_accuracy = r2_score(pred_test, Y_test)\n",
    "print('Training r2 score: ',train_accuracy)\n",
    "print('Test r2 score: ',test_accuracy)"
   ],
   "id": "11b03cd07df877ca",
   "outputs": [
    {
     "name": "stdout",
     "output_type": "stream",
     "text": [
      "Training r2 score:  0.9849068510855055\n",
      "Test r2 score:  0.9875522377674417\n"
     ]
    }
   ],
   "execution_count": 30
  },
  {
   "metadata": {
    "ExecuteTime": {
     "end_time": "2024-05-31T02:30:50.600260Z",
     "start_time": "2024-05-31T02:30:50.594902Z"
    }
   },
   "cell_type": "code",
   "source": [
    "from sklearn.metrics import mean_squared_error\n",
    "mse_train = mean_squared_error(Y_train, pred_train)\n",
    "mse_test = mean_squared_error(Y_test, pred_test)\n",
    "print('Training mean squared error: ', mse_train)\n",
    "print('Test mean squared error: ', mse_test)"
   ],
   "id": "25641b90fbbfcb23",
   "outputs": [
    {
     "name": "stdout",
     "output_type": "stream",
     "text": [
      "Training mean squared error:  557854416.787656\n",
      "Test mean squared error:  488981513.091867\n"
     ]
    }
   ],
   "execution_count": 31
  },
  {
   "metadata": {
    "ExecuteTime": {
     "end_time": "2024-05-31T02:30:50.613776Z",
     "start_time": "2024-05-31T02:30:50.601266Z"
    }
   },
   "cell_type": "code",
   "source": [
    "from sklearn.metrics import mean_absolute_error\n",
    "mae_train = mean_absolute_error(Y_train, pred_train)\n",
    "mae_test = mean_absolute_error(Y_test, pred_test)\n",
    "print('Training mean absolute error: ', mae_train)\n",
    "print('Test mean absolute error: ', mae_test)"
   ],
   "id": "d84dec3e2610031b",
   "outputs": [
    {
     "name": "stdout",
     "output_type": "stream",
     "text": [
      "Training mean absolute error:  11757.174478819283\n",
      "Test mean absolute error:  11783.234055762365\n"
     ]
    }
   ],
   "execution_count": 32
  },
  {
   "metadata": {
    "ExecuteTime": {
     "end_time": "2024-05-31T02:30:50.617383Z",
     "start_time": "2024-05-31T02:30:50.615294Z"
    }
   },
   "cell_type": "code",
   "source": "",
   "id": "dd4a589dc5a8563c",
   "outputs": [],
   "execution_count": 32
  }
 ],
 "metadata": {
  "kernelspec": {
   "display_name": "Python 3",
   "language": "python",
   "name": "python3"
  },
  "language_info": {
   "codemirror_mode": {
    "name": "ipython",
    "version": 2
   },
   "file_extension": ".py",
   "mimetype": "text/x-python",
   "name": "python",
   "nbconvert_exporter": "python",
   "pygments_lexer": "ipython2",
   "version": "2.7.6"
  }
 },
 "nbformat": 4,
 "nbformat_minor": 5
}

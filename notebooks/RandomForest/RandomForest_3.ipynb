{
 "cells": [
  {
   "cell_type": "code",
   "id": "initial_id",
   "metadata": {
    "collapsed": true,
    "ExecuteTime": {
     "end_time": "2024-05-31T02:44:40.229610Z",
     "start_time": "2024-05-31T02:44:39.917777Z"
    }
   },
   "source": [
    "import pandas as pd \n",
    "import matplotlib.pyplot as plt\n",
    "from sklearn.ensemble import RandomForestRegressor\n",
    "import time\n",
    "import pickle\n",
    "import numpy as np"
   ],
   "outputs": [],
   "execution_count": 1
  },
  {
   "metadata": {
    "ExecuteTime": {
     "end_time": "2024-05-31T02:44:40.234133Z",
     "start_time": "2024-05-31T02:44:40.230615Z"
    }
   },
   "cell_type": "code",
   "source": [
    "model_file = \"../../models/RandomForest_3\"\n",
    "data_file = \"../../data/processed_data_2.csv\""
   ],
   "id": "d60bd2f5f5c80ed9",
   "outputs": [],
   "execution_count": 2
  },
  {
   "metadata": {
    "ExecuteTime": {
     "end_time": "2024-05-31T02:55:01.136935Z",
     "start_time": "2024-05-31T02:55:00.806265Z"
    }
   },
   "cell_type": "code",
   "source": [
    "data = pd.read_csv(data_file)\n",
    "\n",
    "for column in data:\n",
    "    if column in [\"bhk\",\"status\",\"house_type\",\"new\"]:\n",
    "        # Get the value counts for the column\n",
    "        value_counts = data[column].value_counts()\n",
    "        # Find the values that occur fewer than 10 times\n",
    "        to_drop = value_counts[value_counts < 10].index\n",
    "        # Drop rows where the column's value is in the to_drop list\n",
    "        data = data[~data[column].isin(to_drop)]\n",
    "for column in data:\n",
    "    if column in [\"bhk\",\"status\",\"house_type\",\"new\",\"age\"]:\n",
    "        print(\"Column Name: \", column)\n",
    "        print(data[column].unique())\n",
    "        print(data[column].value_counts())"
   ],
   "id": "526a313c6a4b1c9f",
   "outputs": [
    {
     "name": "stdout",
     "output_type": "stream",
     "text": [
      "Column Name:  bhk\n",
      "[2 1 3 4 5 6]\n",
      "bhk\n",
      "2    20154\n",
      "1    16596\n",
      "3     7278\n",
      "4     1103\n",
      "5      162\n",
      "6       39\n",
      "Name: count, dtype: int64\n",
      "Column Name:  status\n",
      "[1 0]\n",
      "status\n",
      "0    26904\n",
      "1    18428\n",
      "Name: count, dtype: int64\n",
      "Column Name:  house_type\n",
      "[0 2 1 3]\n",
      "house_type\n",
      "0    44580\n",
      "2      597\n",
      "3      110\n",
      "1       45\n",
      "Name: count, dtype: int64\n",
      "Column Name:  new\n",
      "[0 1]\n",
      "new\n",
      "1    27140\n",
      "0    18192\n",
      "Name: count, dtype: int64\n"
     ]
    }
   ],
   "execution_count": 19
  },
  {
   "metadata": {
    "ExecuteTime": {
     "end_time": "2024-05-31T02:44:40.549592Z",
     "start_time": "2024-05-31T02:44:40.546354Z"
    }
   },
   "cell_type": "code",
   "source": [
    "def preprocessing(data:pd.DataFrame) -> pd.DataFrame:\n",
    "    # data.drop([\"status\",\"new\",\"house_type\"], axis = 1, inplace = True)\n",
    "    data = data.dropna()\n",
    "    return data"
   ],
   "id": "9d3162b45feb327c",
   "outputs": [],
   "execution_count": 4
  },
  {
   "metadata": {
    "ExecuteTime": {
     "end_time": "2024-05-31T02:44:40.560396Z",
     "start_time": "2024-05-31T02:44:40.550599Z"
    }
   },
   "cell_type": "code",
   "source": [
    "processed_data = preprocessing(data)\n",
    "for column in processed_data:\n",
    "    print(column)"
   ],
   "id": "9b662e6d9124aa47",
   "outputs": [
    {
     "name": "stdout",
     "output_type": "stream",
     "text": [
      "bhk\n",
      "area\n",
      "status\n",
      "price_in_USD\n",
      "house_type\n",
      "new\n",
      "region_Agripada\n",
      "region_Airoli\n",
      "region_Ambernath East\n",
      "region_Ambernath West\n",
      "region_Andheri East\n",
      "region_Andheri West\n",
      "region_Anjurdive\n",
      "region_Badlapur East\n",
      "region_Badlapur West\n",
      "region_Bandra East\n",
      "region_Bandra Kurla Complex\n",
      "region_Bandra West\n",
      "region_Belapur\n",
      "region_Bhandup East\n",
      "region_Bhandup West\n",
      "region_Bhayandar East\n",
      "region_Bhayandar West\n",
      "region_Bhiwandi\n",
      "region_Boisar\n",
      "region_Borivali East\n",
      "region_Borivali West\n",
      "region_Byculla\n",
      "region_Chembur\n",
      "region_Colaba\n",
      "region_Dadar East\n",
      "region_Dadar West\n",
      "region_Dahisar\n",
      "region_Deonar\n",
      "region_Diva\n",
      "region_Dombivali\n",
      "region_Dronagiri\n",
      "region_Ghansoli\n",
      "region_Ghatkopar East\n",
      "region_Ghatkopar West\n",
      "region_Girgaon\n",
      "region_Goregaon East\n",
      "region_Goregaon West\n",
      "region_Jogeshwari East\n",
      "region_Jogeshwari West\n",
      "region_Juhu\n",
      "region_Juinagar\n",
      "region_Kalamboli\n",
      "region_Kalwa\n",
      "region_Kalyan East\n",
      "region_Kalyan West\n",
      "region_Kamothe\n",
      "region_Kandivali East\n",
      "region_Kandivali West\n",
      "region_Kanjurmarg\n",
      "region_Karanjade\n",
      "region_Karjat\n",
      "region_Kasheli\n",
      "region_Khar\n",
      "region_Kharghar\n",
      "region_Khopoli\n",
      "region_Koper Khairane\n",
      "region_Kurla\n",
      "region_Lower Parel\n",
      "region_Mahalaxmi\n",
      "region_Mahim\n",
      "region_Malad East\n",
      "region_Malad West\n",
      "region_Marine Lines\n",
      "region_Matunga\n",
      "region_Mazagaon\n",
      "region_Mazgaon\n",
      "region_Mira Road East\n",
      "region_Mulund East\n",
      "region_Mulund West\n",
      "region_Nahur East\n",
      "region_Naigaon East\n",
      "region_Nala Sopara\n",
      "region_Nalasopara East\n",
      "region_Napeansea Road\n",
      "region_Neral\n",
      "region_Nerul\n",
      "region_Nilje Gaon\n",
      "region_Palghar\n",
      "region_Panvel\n",
      "region_Parel\n",
      "region_Powai\n",
      "region_Prabhadevi\n",
      "region_Rasayani\n",
      "region_Sanpada\n",
      "region_Santacruz East\n",
      "region_Santacruz West\n",
      "region_Seawoods\n",
      "region_Sector 21 Kamothe\n",
      "region_Sewri\n",
      "region_Shil Phata\n",
      "region_Sion\n",
      "region_Taloja\n",
      "region_Taloje\n",
      "region_Tardeo\n",
      "region_Thane East\n",
      "region_Thane West\n",
      "region_Titwala\n",
      "region_Ulwe\n",
      "region_Umroli\n",
      "region_Vangani\n",
      "region_Vasai\n",
      "region_Vashi\n",
      "region_Vikhroli\n",
      "region_Ville Parle East\n",
      "region_Ville Parle West\n",
      "region_Virar\n",
      "region_Virar West\n",
      "region_Wadala\n",
      "region_Worli\n"
     ]
    }
   ],
   "execution_count": 5
  },
  {
   "metadata": {
    "ExecuteTime": {
     "end_time": "2024-05-31T02:44:40.577166Z",
     "start_time": "2024-05-31T02:44:40.560396Z"
    }
   },
   "cell_type": "code",
   "source": [
    "from sklearn.preprocessing import LabelEncoder\n",
    "le = LabelEncoder()\n",
    "X = processed_data.drop(labels=\"price_in_USD\",axis=1)\n",
    "for column in X:\n",
    "    if column in [\"locality\",\"region\", \"status\", \"age\",\"type\"]:\n",
    "        X[column] = le.fit_transform(X[column])\n",
    "\n",
    "Y = processed_data[\"price_in_USD\"]\n",
    "print(X.shape)\n",
    "print(Y.shape)"
   ],
   "id": "6b59e0a7cc7b628",
   "outputs": [
    {
     "name": "stdout",
     "output_type": "stream",
     "text": [
      "(45332, 114)\n",
      "(45332,)\n"
     ]
    }
   ],
   "execution_count": 6
  },
  {
   "metadata": {
    "ExecuteTime": {
     "end_time": "2024-05-31T02:44:40.599090Z",
     "start_time": "2024-05-31T02:44:40.578175Z"
    }
   },
   "cell_type": "code",
   "source": [
    "from sklearn.model_selection import train_test_split\n",
    "X_train, X_test, Y_train, Y_test = train_test_split(X,Y,test_size=0.25,random_state=0)"
   ],
   "id": "1abba800f23eda6",
   "outputs": [],
   "execution_count": 7
  },
  {
   "metadata": {
    "ExecuteTime": {
     "end_time": "2024-05-31T02:53:10.613046Z",
     "start_time": "2024-05-31T02:44:40.600103Z"
    }
   },
   "cell_type": "code",
   "source": [
    "from sklearn.model_selection import GridSearchCV\n",
    "\n",
    "param_grid = {'max_depth': np.arange(50, 110, 5),'max_features': [None, 'sqrt','log2']}\n",
    "def hypersearch(model, model_name, param_grid, X_train, Y_train, scoring='r2'):\n",
    "    # Hyperparameter tuning\n",
    "    rs = GridSearchCV(model, param_grid, cv=4,n_jobs=-1, scoring=scoring, return_train_score=True)\n",
    "    rs.fit(X_train, Y_train)\n",
    "    best_model = rs.best_estimator_\n",
    "\n",
    "    #add the report about best hyperparameter of the model to dataframe\n",
    "    result = pd.DataFrame(rs.cv_results_)\n",
    "    result.sort_values('rank_test_score', inplace=True)\n",
    "    result = result[['params', 'mean_fit_time', 'mean_score_time', 'mean_test_score', 'mean_train_score']]\n",
    "    display(result)\n",
    "    \n",
    "    pickle.dump(best_model, open(model_name, 'wb'))\n",
    "    return best_model\n",
    "\n",
    "model = hypersearch(RandomForestRegressor(random_state=42), model_file, param_grid, X_train, Y_train)"
   ],
   "id": "93c7fe5d248d5a9c",
   "outputs": [
    {
     "data": {
      "text/plain": [
       "                                        params  mean_fit_time  \\\n",
       "30    {'max_depth': 100, 'max_features': None}      86.005695   \n",
       "21     {'max_depth': 85, 'max_features': None}      84.424442   \n",
       "33    {'max_depth': 105, 'max_features': None}      60.666216   \n",
       "15     {'max_depth': 75, 'max_features': None}      83.318959   \n",
       "9      {'max_depth': 65, 'max_features': None}      85.613965   \n",
       "24     {'max_depth': 90, 'max_features': None}      82.461983   \n",
       "12     {'max_depth': 70, 'max_features': None}      83.388313   \n",
       "18     {'max_depth': 80, 'max_features': None}      82.086501   \n",
       "27     {'max_depth': 95, 'max_features': None}      87.060813   \n",
       "6      {'max_depth': 60, 'max_features': None}      82.146016   \n",
       "28   {'max_depth': 95, 'max_features': 'sqrt'}      15.895236   \n",
       "16   {'max_depth': 75, 'max_features': 'sqrt'}      14.852023   \n",
       "25   {'max_depth': 90, 'max_features': 'sqrt'}      16.338245   \n",
       "3      {'max_depth': 55, 'max_features': None}      81.549018   \n",
       "31  {'max_depth': 100, 'max_features': 'sqrt'}      15.682300   \n",
       "10   {'max_depth': 65, 'max_features': 'sqrt'}      15.066634   \n",
       "13   {'max_depth': 70, 'max_features': 'sqrt'}      16.377859   \n",
       "19   {'max_depth': 80, 'max_features': 'sqrt'}      15.313443   \n",
       "0      {'max_depth': 50, 'max_features': None}      79.439681   \n",
       "22   {'max_depth': 85, 'max_features': 'sqrt'}      15.428559   \n",
       "17   {'max_depth': 75, 'max_features': 'log2'}      12.261495   \n",
       "14   {'max_depth': 70, 'max_features': 'log2'}      12.640161   \n",
       "35  {'max_depth': 105, 'max_features': 'log2'}      13.488404   \n",
       "26   {'max_depth': 90, 'max_features': 'log2'}      13.293540   \n",
       "32  {'max_depth': 100, 'max_features': 'log2'}      14.511923   \n",
       "29   {'max_depth': 95, 'max_features': 'log2'}      13.236352   \n",
       "34  {'max_depth': 105, 'max_features': 'sqrt'}      15.909340   \n",
       "7    {'max_depth': 60, 'max_features': 'sqrt'}      14.848634   \n",
       "23   {'max_depth': 85, 'max_features': 'log2'}      12.928160   \n",
       "20   {'max_depth': 80, 'max_features': 'log2'}      12.622993   \n",
       "11   {'max_depth': 65, 'max_features': 'log2'}      12.912654   \n",
       "4    {'max_depth': 55, 'max_features': 'sqrt'}      13.523868   \n",
       "8    {'max_depth': 60, 'max_features': 'log2'}      11.580769   \n",
       "1    {'max_depth': 50, 'max_features': 'sqrt'}      13.563738   \n",
       "5    {'max_depth': 55, 'max_features': 'log2'}      10.754889   \n",
       "2    {'max_depth': 50, 'max_features': 'log2'}      10.590422   \n",
       "\n",
       "    mean_score_time  mean_test_score  mean_train_score  \n",
       "30         0.414184         0.925536          0.985222  \n",
       "21         0.554589         0.925485          0.985188  \n",
       "33         0.252366         0.925161          0.985230  \n",
       "15         0.503646         0.925109          0.984832  \n",
       "9          0.481401         0.925087          0.983749  \n",
       "24         0.502514         0.924920          0.985195  \n",
       "12         0.471108         0.924852          0.984506  \n",
       "18         0.512417         0.924797          0.985096  \n",
       "27         0.521348         0.924792          0.985265  \n",
       "6          0.503300         0.924048          0.982843  \n",
       "28         0.560865         0.924045          0.985331  \n",
       "16         0.503670         0.923558          0.984446  \n",
       "25         0.545307         0.922753          0.985139  \n",
       "3          0.494764         0.922710          0.981498  \n",
       "31         0.593199         0.922466          0.985398  \n",
       "10         0.514157         0.922209          0.983167  \n",
       "13         0.567444         0.922038          0.984111  \n",
       "19         0.521617         0.921698          0.984657  \n",
       "0          0.456407         0.921593          0.979628  \n",
       "22         0.533671         0.921579          0.985057  \n",
       "17         0.496588         0.921371          0.984188  \n",
       "14         0.547044         0.920895          0.983106  \n",
       "35         0.521841         0.920837          0.985215  \n",
       "26         0.539635         0.920815          0.985115  \n",
       "32         0.538317         0.920464          0.985195  \n",
       "29         0.540563         0.920416          0.985065  \n",
       "34         0.537519         0.920365          0.985445  \n",
       "7          0.566928         0.920321          0.982001  \n",
       "23         0.526838         0.919490          0.984729  \n",
       "20         0.524851         0.919471          0.984545  \n",
       "11         0.640303         0.919268          0.981672  \n",
       "4          0.455634         0.918462          0.979990  \n",
       "8          0.482903         0.917997          0.979721  \n",
       "1          0.444676         0.916818          0.977643  \n",
       "5          0.437249         0.915189          0.977081  \n",
       "2          0.421544         0.912981          0.973395  "
      ],
      "text/html": [
       "<div>\n",
       "<style scoped>\n",
       "    .dataframe tbody tr th:only-of-type {\n",
       "        vertical-align: middle;\n",
       "    }\n",
       "\n",
       "    .dataframe tbody tr th {\n",
       "        vertical-align: top;\n",
       "    }\n",
       "\n",
       "    .dataframe thead th {\n",
       "        text-align: right;\n",
       "    }\n",
       "</style>\n",
       "<table border=\"1\" class=\"dataframe\">\n",
       "  <thead>\n",
       "    <tr style=\"text-align: right;\">\n",
       "      <th></th>\n",
       "      <th>params</th>\n",
       "      <th>mean_fit_time</th>\n",
       "      <th>mean_score_time</th>\n",
       "      <th>mean_test_score</th>\n",
       "      <th>mean_train_score</th>\n",
       "    </tr>\n",
       "  </thead>\n",
       "  <tbody>\n",
       "    <tr>\n",
       "      <th>30</th>\n",
       "      <td>{'max_depth': 100, 'max_features': None}</td>\n",
       "      <td>86.005695</td>\n",
       "      <td>0.414184</td>\n",
       "      <td>0.925536</td>\n",
       "      <td>0.985222</td>\n",
       "    </tr>\n",
       "    <tr>\n",
       "      <th>21</th>\n",
       "      <td>{'max_depth': 85, 'max_features': None}</td>\n",
       "      <td>84.424442</td>\n",
       "      <td>0.554589</td>\n",
       "      <td>0.925485</td>\n",
       "      <td>0.985188</td>\n",
       "    </tr>\n",
       "    <tr>\n",
       "      <th>33</th>\n",
       "      <td>{'max_depth': 105, 'max_features': None}</td>\n",
       "      <td>60.666216</td>\n",
       "      <td>0.252366</td>\n",
       "      <td>0.925161</td>\n",
       "      <td>0.985230</td>\n",
       "    </tr>\n",
       "    <tr>\n",
       "      <th>15</th>\n",
       "      <td>{'max_depth': 75, 'max_features': None}</td>\n",
       "      <td>83.318959</td>\n",
       "      <td>0.503646</td>\n",
       "      <td>0.925109</td>\n",
       "      <td>0.984832</td>\n",
       "    </tr>\n",
       "    <tr>\n",
       "      <th>9</th>\n",
       "      <td>{'max_depth': 65, 'max_features': None}</td>\n",
       "      <td>85.613965</td>\n",
       "      <td>0.481401</td>\n",
       "      <td>0.925087</td>\n",
       "      <td>0.983749</td>\n",
       "    </tr>\n",
       "    <tr>\n",
       "      <th>24</th>\n",
       "      <td>{'max_depth': 90, 'max_features': None}</td>\n",
       "      <td>82.461983</td>\n",
       "      <td>0.502514</td>\n",
       "      <td>0.924920</td>\n",
       "      <td>0.985195</td>\n",
       "    </tr>\n",
       "    <tr>\n",
       "      <th>12</th>\n",
       "      <td>{'max_depth': 70, 'max_features': None}</td>\n",
       "      <td>83.388313</td>\n",
       "      <td>0.471108</td>\n",
       "      <td>0.924852</td>\n",
       "      <td>0.984506</td>\n",
       "    </tr>\n",
       "    <tr>\n",
       "      <th>18</th>\n",
       "      <td>{'max_depth': 80, 'max_features': None}</td>\n",
       "      <td>82.086501</td>\n",
       "      <td>0.512417</td>\n",
       "      <td>0.924797</td>\n",
       "      <td>0.985096</td>\n",
       "    </tr>\n",
       "    <tr>\n",
       "      <th>27</th>\n",
       "      <td>{'max_depth': 95, 'max_features': None}</td>\n",
       "      <td>87.060813</td>\n",
       "      <td>0.521348</td>\n",
       "      <td>0.924792</td>\n",
       "      <td>0.985265</td>\n",
       "    </tr>\n",
       "    <tr>\n",
       "      <th>6</th>\n",
       "      <td>{'max_depth': 60, 'max_features': None}</td>\n",
       "      <td>82.146016</td>\n",
       "      <td>0.503300</td>\n",
       "      <td>0.924048</td>\n",
       "      <td>0.982843</td>\n",
       "    </tr>\n",
       "    <tr>\n",
       "      <th>28</th>\n",
       "      <td>{'max_depth': 95, 'max_features': 'sqrt'}</td>\n",
       "      <td>15.895236</td>\n",
       "      <td>0.560865</td>\n",
       "      <td>0.924045</td>\n",
       "      <td>0.985331</td>\n",
       "    </tr>\n",
       "    <tr>\n",
       "      <th>16</th>\n",
       "      <td>{'max_depth': 75, 'max_features': 'sqrt'}</td>\n",
       "      <td>14.852023</td>\n",
       "      <td>0.503670</td>\n",
       "      <td>0.923558</td>\n",
       "      <td>0.984446</td>\n",
       "    </tr>\n",
       "    <tr>\n",
       "      <th>25</th>\n",
       "      <td>{'max_depth': 90, 'max_features': 'sqrt'}</td>\n",
       "      <td>16.338245</td>\n",
       "      <td>0.545307</td>\n",
       "      <td>0.922753</td>\n",
       "      <td>0.985139</td>\n",
       "    </tr>\n",
       "    <tr>\n",
       "      <th>3</th>\n",
       "      <td>{'max_depth': 55, 'max_features': None}</td>\n",
       "      <td>81.549018</td>\n",
       "      <td>0.494764</td>\n",
       "      <td>0.922710</td>\n",
       "      <td>0.981498</td>\n",
       "    </tr>\n",
       "    <tr>\n",
       "      <th>31</th>\n",
       "      <td>{'max_depth': 100, 'max_features': 'sqrt'}</td>\n",
       "      <td>15.682300</td>\n",
       "      <td>0.593199</td>\n",
       "      <td>0.922466</td>\n",
       "      <td>0.985398</td>\n",
       "    </tr>\n",
       "    <tr>\n",
       "      <th>10</th>\n",
       "      <td>{'max_depth': 65, 'max_features': 'sqrt'}</td>\n",
       "      <td>15.066634</td>\n",
       "      <td>0.514157</td>\n",
       "      <td>0.922209</td>\n",
       "      <td>0.983167</td>\n",
       "    </tr>\n",
       "    <tr>\n",
       "      <th>13</th>\n",
       "      <td>{'max_depth': 70, 'max_features': 'sqrt'}</td>\n",
       "      <td>16.377859</td>\n",
       "      <td>0.567444</td>\n",
       "      <td>0.922038</td>\n",
       "      <td>0.984111</td>\n",
       "    </tr>\n",
       "    <tr>\n",
       "      <th>19</th>\n",
       "      <td>{'max_depth': 80, 'max_features': 'sqrt'}</td>\n",
       "      <td>15.313443</td>\n",
       "      <td>0.521617</td>\n",
       "      <td>0.921698</td>\n",
       "      <td>0.984657</td>\n",
       "    </tr>\n",
       "    <tr>\n",
       "      <th>0</th>\n",
       "      <td>{'max_depth': 50, 'max_features': None}</td>\n",
       "      <td>79.439681</td>\n",
       "      <td>0.456407</td>\n",
       "      <td>0.921593</td>\n",
       "      <td>0.979628</td>\n",
       "    </tr>\n",
       "    <tr>\n",
       "      <th>22</th>\n",
       "      <td>{'max_depth': 85, 'max_features': 'sqrt'}</td>\n",
       "      <td>15.428559</td>\n",
       "      <td>0.533671</td>\n",
       "      <td>0.921579</td>\n",
       "      <td>0.985057</td>\n",
       "    </tr>\n",
       "    <tr>\n",
       "      <th>17</th>\n",
       "      <td>{'max_depth': 75, 'max_features': 'log2'}</td>\n",
       "      <td>12.261495</td>\n",
       "      <td>0.496588</td>\n",
       "      <td>0.921371</td>\n",
       "      <td>0.984188</td>\n",
       "    </tr>\n",
       "    <tr>\n",
       "      <th>14</th>\n",
       "      <td>{'max_depth': 70, 'max_features': 'log2'}</td>\n",
       "      <td>12.640161</td>\n",
       "      <td>0.547044</td>\n",
       "      <td>0.920895</td>\n",
       "      <td>0.983106</td>\n",
       "    </tr>\n",
       "    <tr>\n",
       "      <th>35</th>\n",
       "      <td>{'max_depth': 105, 'max_features': 'log2'}</td>\n",
       "      <td>13.488404</td>\n",
       "      <td>0.521841</td>\n",
       "      <td>0.920837</td>\n",
       "      <td>0.985215</td>\n",
       "    </tr>\n",
       "    <tr>\n",
       "      <th>26</th>\n",
       "      <td>{'max_depth': 90, 'max_features': 'log2'}</td>\n",
       "      <td>13.293540</td>\n",
       "      <td>0.539635</td>\n",
       "      <td>0.920815</td>\n",
       "      <td>0.985115</td>\n",
       "    </tr>\n",
       "    <tr>\n",
       "      <th>32</th>\n",
       "      <td>{'max_depth': 100, 'max_features': 'log2'}</td>\n",
       "      <td>14.511923</td>\n",
       "      <td>0.538317</td>\n",
       "      <td>0.920464</td>\n",
       "      <td>0.985195</td>\n",
       "    </tr>\n",
       "    <tr>\n",
       "      <th>29</th>\n",
       "      <td>{'max_depth': 95, 'max_features': 'log2'}</td>\n",
       "      <td>13.236352</td>\n",
       "      <td>0.540563</td>\n",
       "      <td>0.920416</td>\n",
       "      <td>0.985065</td>\n",
       "    </tr>\n",
       "    <tr>\n",
       "      <th>34</th>\n",
       "      <td>{'max_depth': 105, 'max_features': 'sqrt'}</td>\n",
       "      <td>15.909340</td>\n",
       "      <td>0.537519</td>\n",
       "      <td>0.920365</td>\n",
       "      <td>0.985445</td>\n",
       "    </tr>\n",
       "    <tr>\n",
       "      <th>7</th>\n",
       "      <td>{'max_depth': 60, 'max_features': 'sqrt'}</td>\n",
       "      <td>14.848634</td>\n",
       "      <td>0.566928</td>\n",
       "      <td>0.920321</td>\n",
       "      <td>0.982001</td>\n",
       "    </tr>\n",
       "    <tr>\n",
       "      <th>23</th>\n",
       "      <td>{'max_depth': 85, 'max_features': 'log2'}</td>\n",
       "      <td>12.928160</td>\n",
       "      <td>0.526838</td>\n",
       "      <td>0.919490</td>\n",
       "      <td>0.984729</td>\n",
       "    </tr>\n",
       "    <tr>\n",
       "      <th>20</th>\n",
       "      <td>{'max_depth': 80, 'max_features': 'log2'}</td>\n",
       "      <td>12.622993</td>\n",
       "      <td>0.524851</td>\n",
       "      <td>0.919471</td>\n",
       "      <td>0.984545</td>\n",
       "    </tr>\n",
       "    <tr>\n",
       "      <th>11</th>\n",
       "      <td>{'max_depth': 65, 'max_features': 'log2'}</td>\n",
       "      <td>12.912654</td>\n",
       "      <td>0.640303</td>\n",
       "      <td>0.919268</td>\n",
       "      <td>0.981672</td>\n",
       "    </tr>\n",
       "    <tr>\n",
       "      <th>4</th>\n",
       "      <td>{'max_depth': 55, 'max_features': 'sqrt'}</td>\n",
       "      <td>13.523868</td>\n",
       "      <td>0.455634</td>\n",
       "      <td>0.918462</td>\n",
       "      <td>0.979990</td>\n",
       "    </tr>\n",
       "    <tr>\n",
       "      <th>8</th>\n",
       "      <td>{'max_depth': 60, 'max_features': 'log2'}</td>\n",
       "      <td>11.580769</td>\n",
       "      <td>0.482903</td>\n",
       "      <td>0.917997</td>\n",
       "      <td>0.979721</td>\n",
       "    </tr>\n",
       "    <tr>\n",
       "      <th>1</th>\n",
       "      <td>{'max_depth': 50, 'max_features': 'sqrt'}</td>\n",
       "      <td>13.563738</td>\n",
       "      <td>0.444676</td>\n",
       "      <td>0.916818</td>\n",
       "      <td>0.977643</td>\n",
       "    </tr>\n",
       "    <tr>\n",
       "      <th>5</th>\n",
       "      <td>{'max_depth': 55, 'max_features': 'log2'}</td>\n",
       "      <td>10.754889</td>\n",
       "      <td>0.437249</td>\n",
       "      <td>0.915189</td>\n",
       "      <td>0.977081</td>\n",
       "    </tr>\n",
       "    <tr>\n",
       "      <th>2</th>\n",
       "      <td>{'max_depth': 50, 'max_features': 'log2'}</td>\n",
       "      <td>10.590422</td>\n",
       "      <td>0.421544</td>\n",
       "      <td>0.912981</td>\n",
       "      <td>0.973395</td>\n",
       "    </tr>\n",
       "  </tbody>\n",
       "</table>\n",
       "</div>"
      ]
     },
     "metadata": {},
     "output_type": "display_data"
    }
   ],
   "execution_count": 8
  },
  {
   "metadata": {
    "ExecuteTime": {
     "end_time": "2024-05-31T02:54:49.381923Z",
     "start_time": "2024-05-31T02:54:00.293823Z"
    }
   },
   "cell_type": "code",
   "source": [
    "from sklearn.model_selection import learning_curve\n",
    "\n",
    "# Calculate accuracy on training and test set using the\n",
    "# gamma parameter with 5-fold cross validation\n",
    "train_sizes, train_score, val_score = learning_curve(RandomForestRegressor(n_estimators=10,max_depth=100,max_features=None, random_state=42), X_train, Y_train,\n",
    "                                          cv=4, train_sizes=np.linspace(0.1, 1.0, 10),scoring=\"r2\")\n",
    "\n",
    "train_score_mean = np.mean(train_score, axis=1)\n",
    "train_score_std = np.std(train_score, axis=1)\n",
    "\n",
    "val_score_mean = np.mean(val_score, axis=1)\n",
    "val_score_std = np.std(val_score, axis=1)\n",
    "\n",
    "plt.plot(train_sizes, train_score_mean,\n",
    "         label=\"Training Score\", color='b')\n",
    "plt.plot(train_sizes, val_score_mean,\n",
    "         label=\"Cross Validation Score\", color='g')\n",
    "# Creating the plot\n",
    "plt.title(\"Learning Curve with Random Forest Regressor\")\n",
    "plt.xlabel(\"Training examples\")\n",
    "plt.ylabel(\"R2 Score\")\n",
    "plt.tight_layout()\n",
    "plt.legend(loc='best')\n",
    "plt.show()"
   ],
   "id": "71cc1f21e61c48f",
   "outputs": [
    {
     "data": {
      "text/plain": [
       "<Figure size 640x480 with 1 Axes>"
      ],
      "image/png": "[encoded data removed]"
     },
     "metadata": {},
     "output_type": "display_data"
    }
   ],
   "execution_count": 18
  },
  {
   "metadata": {
    "ExecuteTime": {
     "end_time": "2024-05-31T02:53:22.160837Z",
     "start_time": "2024-05-31T02:53:22.157891Z"
    }
   },
   "cell_type": "code",
   "source": [
    "# start = time.time()\n",
    "# # Create the model\n",
    "# model = RandomForestRegressor(n_estimators=10, max_depth=110 , random_state=42)\n",
    "# print(\"Start training...\")\n",
    "# model.fit(X_train, Y_train)\n",
    "# end = time.time()\n",
    "# print(\"Time execution : \", end - start)\n",
    "# pickle.dump(model, open(model_name, 'wb'))"
   ],
   "id": "ee94eacfc512905e",
   "outputs": [],
   "execution_count": 10
  },
  {
   "metadata": {
    "ExecuteTime": {
     "end_time": "2024-05-31T02:53:22.257748Z",
     "start_time": "2024-05-31T02:53:22.161849Z"
    }
   },
   "cell_type": "code",
   "source": "loaded_model = pickle.load(open(model_file, 'rb'))",
   "id": "c2b992b582280c7a",
   "outputs": [],
   "execution_count": 11
  },
  {
   "metadata": {
    "ExecuteTime": {
     "end_time": "2024-05-31T02:53:22.748069Z",
     "start_time": "2024-05-31T02:53:22.261302Z"
    }
   },
   "cell_type": "code",
   "source": [
    "feature_names = [f\"{column}\" for column in X_train]\n",
    "importances = loaded_model.feature_importances_\n",
    "forest_importances = pd.Series(importances, index=feature_names)\n",
    "std = np.std([tree.feature_importances_ for tree in loaded_model.estimators_], axis=0)\n",
    "sorted_importances = forest_importances.sort_values(ascending=False)[:30]\n",
    "fig, ax = plt.subplots()\n",
    "sorted_importances.plot.bar(yerr=std[:30], ax=ax)\n",
    "ax.set_title(\"Feature importances using MDI\")\n",
    "ax.set_ylabel(\"Mean decrease in impurity\")\n",
    "fig.tight_layout()"
   ],
   "id": "338c8f13cbfc5364",
   "outputs": [
    {
     "data": {
      "text/plain": [
       "<Figure size 640x480 with 1 Axes>"
      ],
      "image/png": "[encoded data removed]"
     },
     "metadata": {},
     "output_type": "display_data"
    }
   ],
   "execution_count": 12
  },
  {
   "metadata": {
    "ExecuteTime": {
     "end_time": "2024-05-31T02:53:23.334776Z",
     "start_time": "2024-05-31T02:53:22.749075Z"
    }
   },
   "cell_type": "code",
   "source": [
    "#Make the predictions \n",
    "Y_pred = loaded_model.predict(X_test)\n",
    "pred_table = pd.DataFrame(data={\"actual value\":Y_test, \"predicted\":loaded_model.predict(X_test)})\n",
    "pred_table[\"difference\"] = pred_table[\"actual value\"] - pred_table[\"predicted\"]\n",
    "pred_table"
   ],
   "id": "58a09c965b647884",
   "outputs": [
    {
     "data": {
      "text/plain": [
       "       actual value      predicted    difference\n",
       "14948       92400.0   91956.000000    444.000000\n",
       "19778      120000.0  132740.843137 -12740.843137\n",
       "27087       45600.0   46728.256000  -1128.256000\n",
       "14980      114000.0  116912.129870  -2912.129870\n",
       "32008      226800.0  220764.000000   6036.000000\n",
       "...             ...            ...           ...\n",
       "16471      145200.0  150650.214286  -5450.214286\n",
       "28095       78000.0   73001.972403   4998.027597\n",
       "44684       49140.0   53975.299624  -4835.299624\n",
       "11293      186000.0  135655.094545  50344.905455\n",
       "499         36000.0   29947.457143   6052.542857\n",
       "\n",
       "[11333 rows x 3 columns]"
      ],
      "text/html": [
       "<div>\n",
       "<style scoped>\n",
       "    .dataframe tbody tr th:only-of-type {\n",
       "        vertical-align: middle;\n",
       "    }\n",
       "\n",
       "    .dataframe tbody tr th {\n",
       "        vertical-align: top;\n",
       "    }\n",
       "\n",
       "    .dataframe thead th {\n",
       "        text-align: right;\n",
       "    }\n",
       "</style>\n",
       "<table border=\"1\" class=\"dataframe\">\n",
       "  <thead>\n",
       "    <tr style=\"text-align: right;\">\n",
       "      <th></th>\n",
       "      <th>actual value</th>\n",
       "      <th>predicted</th>\n",
       "      <th>difference</th>\n",
       "    </tr>\n",
       "  </thead>\n",
       "  <tbody>\n",
       "    <tr>\n",
       "      <th>14948</th>\n",
       "      <td>92400.0</td>\n",
       "      <td>91956.000000</td>\n",
       "      <td>444.000000</td>\n",
       "    </tr>\n",
       "    <tr>\n",
       "      <th>19778</th>\n",
       "      <td>120000.0</td>\n",
       "      <td>132740.843137</td>\n",
       "      <td>-12740.843137</td>\n",
       "    </tr>\n",
       "    <tr>\n",
       "      <th>27087</th>\n",
       "      <td>45600.0</td>\n",
       "      <td>46728.256000</td>\n",
       "      <td>-1128.256000</td>\n",
       "    </tr>\n",
       "    <tr>\n",
       "      <th>14980</th>\n",
       "      <td>114000.0</td>\n",
       "      <td>116912.129870</td>\n",
       "      <td>-2912.129870</td>\n",
       "    </tr>\n",
       "    <tr>\n",
       "      <th>32008</th>\n",
       "      <td>226800.0</td>\n",
       "      <td>220764.000000</td>\n",
       "      <td>6036.000000</td>\n",
       "    </tr>\n",
       "    <tr>\n",
       "      <th>...</th>\n",
       "      <td>...</td>\n",
       "      <td>...</td>\n",
       "      <td>...</td>\n",
       "    </tr>\n",
       "    <tr>\n",
       "      <th>16471</th>\n",
       "      <td>145200.0</td>\n",
       "      <td>150650.214286</td>\n",
       "      <td>-5450.214286</td>\n",
       "    </tr>\n",
       "    <tr>\n",
       "      <th>28095</th>\n",
       "      <td>78000.0</td>\n",
       "      <td>73001.972403</td>\n",
       "      <td>4998.027597</td>\n",
       "    </tr>\n",
       "    <tr>\n",
       "      <th>44684</th>\n",
       "      <td>49140.0</td>\n",
       "      <td>53975.299624</td>\n",
       "      <td>-4835.299624</td>\n",
       "    </tr>\n",
       "    <tr>\n",
       "      <th>11293</th>\n",
       "      <td>186000.0</td>\n",
       "      <td>135655.094545</td>\n",
       "      <td>50344.905455</td>\n",
       "    </tr>\n",
       "    <tr>\n",
       "      <th>499</th>\n",
       "      <td>36000.0</td>\n",
       "      <td>29947.457143</td>\n",
       "      <td>6052.542857</td>\n",
       "    </tr>\n",
       "  </tbody>\n",
       "</table>\n",
       "<p>11333 rows × 3 columns</p>\n",
       "</div>"
      ]
     },
     "execution_count": 13,
     "metadata": {},
     "output_type": "execute_result"
    }
   ],
   "execution_count": 13
  },
  {
   "metadata": {
    "ExecuteTime": {
     "end_time": "2024-05-31T02:53:23.686536Z",
     "start_time": "2024-05-31T02:53:23.336170Z"
    }
   },
   "cell_type": "code",
   "source": [
    "# Assuming you have obtained Y_pred and Y_test from your model\n",
    "\n",
    "# Create a scatter plot or line plot\n",
    "# Scatter plot for Y_test (green)\n",
    "plt.scatter(Y_test, Y_test, c='green', marker='o', label='True Value', alpha=0.7)\n",
    "\n",
    "# Scatter plot for Y_pred (red)\n",
    "plt.scatter(Y_test, Y_pred, c='red', marker='x', label='Predicted Value', alpha=0.7)\n",
    "plt.plot([Y_test.min(), Y_test.max()], [Y_test.min(), Y_test.max()], 'b--')  # Diagonal line for reference\n",
    "plt.xlabel('Actual Values (Y_test)')\n",
    "plt.ylabel('Predicted Values (Y_pred)')\n",
    "plt.legend(fontsize=12)\n",
    "plt.title('Actual vs. Predicted House Prices using Random Forest Regressor')\n",
    "plt.grid(alpha=0.4)\n",
    "# Show the plot\n",
    "plt.show()"
   ],
   "id": "c4323fc082e15fed",
   "outputs": [
    {
     "data": {
      "text/plain": [
       "<Figure size 640x480 with 1 Axes>"
      ],
      "image/png": "[encoded data removed]"
     },
     "metadata": {},
     "output_type": "display_data"
    }
   ],
   "execution_count": 14
  },
  {
   "metadata": {
    "ExecuteTime": {
     "end_time": "2024-05-31T02:53:25.097893Z",
     "start_time": "2024-05-31T02:53:23.687542Z"
    }
   },
   "cell_type": "code",
   "source": [
    "from sklearn.metrics import r2_score\n",
    "#Test the model\n",
    "pred_train = loaded_model.predict(X_train)\n",
    "pred_test = loaded_model.predict(X_test)\n",
    "train_accuracy = r2_score(pred_train, Y_train)\n",
    "test_accuracy = r2_score(pred_test, Y_test)\n",
    "print('Training r2 score: ',train_accuracy)\n",
    "print('Test r2 score: ',test_accuracy)"
   ],
   "id": "11b03cd07df877ca",
   "outputs": [
    {
     "name": "stdout",
     "output_type": "stream",
     "text": [
      "Training r2 score:  0.9845324989664689\n",
      "Test r2 score:  0.9314420128931771\n"
     ]
    }
   ],
   "execution_count": 15
  },
  {
   "metadata": {
    "ExecuteTime": {
     "end_time": "2024-05-31T02:53:25.104301Z",
     "start_time": "2024-05-31T02:53:25.099347Z"
    }
   },
   "cell_type": "code",
   "source": [
    "from sklearn.metrics import mean_squared_error\n",
    "mse_train = mean_squared_error(Y_train, pred_train)\n",
    "mse_test = mean_squared_error(Y_test, pred_test)\n",
    "print('Training mean squared error: ', mse_train)\n",
    "print('Test mean squared error: ', mse_test)"
   ],
   "id": "25641b90fbbfcb23",
   "outputs": [
    {
     "name": "stdout",
     "output_type": "stream",
     "text": [
      "Training mean squared error:  583971188.3937196\n",
      "Test mean squared error:  2593726748.956851\n"
     ]
    }
   ],
   "execution_count": 16
  },
  {
   "metadata": {
    "ExecuteTime": {
     "end_time": "2024-05-31T02:53:25.117410Z",
     "start_time": "2024-05-31T02:53:25.104808Z"
    }
   },
   "cell_type": "code",
   "source": [
    "from sklearn.metrics import mean_absolute_error\n",
    "mae_train = mean_absolute_error(Y_train, pred_train)\n",
    "mae_test = mean_absolute_error(Y_test, pred_test)\n",
    "print('Training mean absolute error: ', mae_train)\n",
    "print('Test mean absolute error: ', mae_test)"
   ],
   "id": "d84dec3e2610031b",
   "outputs": [
    {
     "name": "stdout",
     "output_type": "stream",
     "text": [
      "Training mean absolute error:  10026.714434194526\n",
      "Test mean absolute error:  18634.118635863488\n"
     ]
    }
   ],
   "execution_count": 17
  },
  {
   "metadata": {
    "ExecuteTime": {
     "end_time": "2024-05-31T02:53:25.120888Z",
     "start_time": "2024-05-31T02:53:25.117410Z"
    }
   },
   "cell_type": "code",
   "source": "",
   "id": "dd4a589dc5a8563c",
   "outputs": [],
   "execution_count": 17
  }
 ],
 "metadata": {
  "kernelspec": {
   "display_name": "Python 3",
   "language": "python",
   "name": "python3"
  },
  "language_info": {
   "codemirror_mode": {
    "name": "ipython",
    "version": 2
   },
   "file_extension": ".py",
   "mimetype": "text/x-python",
   "name": "python",
   "nbconvert_exporter": "python",
   "pygments_lexer": "ipython2",
   "version": "2.7.6"
  }
 },
 "nbformat": 4,
 "nbformat_minor": 5
}

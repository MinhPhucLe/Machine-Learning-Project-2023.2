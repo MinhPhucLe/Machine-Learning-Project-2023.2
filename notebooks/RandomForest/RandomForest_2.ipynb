{
 "cells": [
  {
   "cell_type": "code",
   "id": "initial_id",
   "metadata": {
    "collapsed": true,
    "ExecuteTime": {
     "end_time": "2024-05-31T02:38:45.711218Z",
     "start_time": "2024-05-31T02:38:45.380684Z"
    }
   },
   "source": [
    "import pandas as pd \n",
    "import matplotlib.pyplot as plt\n",
    "from sklearn.ensemble import RandomForestRegressor\n",
    "import time\n",
    "import seaborn as sns\n",
    "import pickle\n",
    "import numpy as np"
   ],
   "outputs": [],
   "execution_count": 1
  },
  {
   "metadata": {
    "ExecuteTime": {
     "end_time": "2024-05-31T02:38:45.715545Z",
     "start_time": "2024-05-31T02:38:45.712664Z"
    }
   },
   "cell_type": "code",
   "source": [
    "model_file = \"../../models/RandomForest_2\"\n",
    "data_file = \"../../data/processed_data_1.csv\""
   ],
   "id": "d60bd2f5f5c80ed9",
   "outputs": [],
   "execution_count": 2
  },
  {
   "metadata": {
    "ExecuteTime": {
     "end_time": "2024-05-31T02:38:45.765493Z",
     "start_time": "2024-05-31T02:38:45.716552Z"
    }
   },
   "cell_type": "code",
   "source": [
    "data = pd.read_csv(data_file)\n",
    "# Process type  ( Apartment: 0, Independent House: 1, Studio Apartment: 2, villa: 3 )\n",
    "# Process status ( Ready to move: 0, under Construction: 1 )\n",
    "data = data[data['age'] != 2]\n",
    "# for column in data:\n",
    "#     if column in [\"bhk\",\"status\",\"house_type\",\"new\"]:\n",
    "#         # Get the value counts for the column\n",
    "#         value_counts = data[column].value_counts()\n",
    "#         # Find the values that occur fewer than 10 times\n",
    "#         to_drop = value_counts[value_counts < 10].index\n",
    "#         # Drop rows where the column's value is in the to_drop list\n",
    "#         data = data[~data[column].isin(to_drop)]\n",
    "for column in data:\n",
    "    if column in [\"bhk\",\"status\",\"house_type\",\"new\",\"age\"]:\n",
    "        print(\"Column Name: \", column)\n",
    "        print(data[column].unique())\n",
    "        print(data[column].value_counts())"
   ],
   "id": "526a313c6a4b1c9f",
   "outputs": [
    {
     "name": "stdout",
     "output_type": "stream",
     "text": [
      "Column Name:  bhk\n",
      "[ 3  2  5  1  4  6  9  8 10  7]\n",
      "bhk\n",
      "2     26563\n",
      "1     22136\n",
      "3     10426\n",
      "4      1890\n",
      "5       316\n",
      "6        72\n",
      "7        14\n",
      "8         5\n",
      "9         4\n",
      "10        3\n",
      "Name: count, dtype: int64\n",
      "Column Name:  status\n",
      "[0 1]\n",
      "status\n",
      "0    34648\n",
      "1    26781\n",
      "Name: count, dtype: int64\n",
      "Column Name:  age\n",
      "[0 1]\n",
      "age\n",
      "0    38072\n",
      "1    23357\n",
      "Name: count, dtype: int64\n"
     ]
    }
   ],
   "execution_count": 3
  },
  {
   "metadata": {
    "ExecuteTime": {
     "end_time": "2024-05-31T02:38:45.769674Z",
     "start_time": "2024-05-31T02:38:45.766298Z"
    }
   },
   "cell_type": "code",
   "source": [
    "def preprocessing(data:pd.DataFrame) -> pd.DataFrame:\n",
    "    # data.drop([\"status\",\"new\",\"house_type\"], axis = 1, inplace = True)\n",
    "    data = data.dropna()\n",
    "    return data"
   ],
   "id": "9d3162b45feb327c",
   "outputs": [],
   "execution_count": 4
  },
  {
   "metadata": {
    "ExecuteTime": {
     "end_time": "2024-05-31T02:38:45.777002Z",
     "start_time": "2024-05-31T02:38:45.770952Z"
    }
   },
   "cell_type": "code",
   "source": [
    "processed_data = preprocessing(data)\n",
    "for column in processed_data:\n",
    "    print(column)"
   ],
   "id": "9b662e6d9124aa47",
   "outputs": [
    {
     "name": "stdout",
     "output_type": "stream",
     "text": [
      "bhk\n",
      "type\n",
      "locality\n",
      "area\n",
      "region\n",
      "status\n",
      "age\n",
      "price_in_USD\n"
     ]
    }
   ],
   "execution_count": 5
  },
  {
   "metadata": {
    "ExecuteTime": {
     "end_time": "2024-05-31T02:38:45.785131Z",
     "start_time": "2024-05-31T02:38:45.778016Z"
    }
   },
   "cell_type": "code",
   "source": [
    "X = processed_data.drop(labels=\"price_in_USD\",axis=1)\n",
    "Y = processed_data[\"price_in_USD\"]\n",
    "\n",
    "# scaler = StandardScaler()\n",
    "# X = scaler.fit_transform(X)\n",
    "\n",
    "print(X.shape)\n",
    "print(Y.shape)"
   ],
   "id": "6b59e0a7cc7b628",
   "outputs": [
    {
     "name": "stdout",
     "output_type": "stream",
     "text": [
      "(61429, 7)\n",
      "(61429,)\n"
     ]
    }
   ],
   "execution_count": 6
  },
  {
   "metadata": {
    "ExecuteTime": {
     "end_time": "2024-05-31T02:38:45.798487Z",
     "start_time": "2024-05-31T02:38:45.786650Z"
    }
   },
   "cell_type": "code",
   "source": [
    "from sklearn.model_selection import train_test_split\n",
    "X_train, X_test, Y_train, Y_test = train_test_split(X,Y,test_size=0.25,random_state=0)"
   ],
   "id": "1abba800f23eda6",
   "outputs": [],
   "execution_count": 7
  },
  {
   "metadata": {
    "ExecuteTime": {
     "end_time": "2024-05-31T02:41:29.246737Z",
     "start_time": "2024-05-31T02:38:45.799495Z"
    }
   },
   "cell_type": "code",
   "source": [
    "from sklearn.model_selection import GridSearchCV\n",
    "\n",
    "param_grid = {'max_depth': np.arange(15, 30, 1),'max_features': [None, 'sqrt','log2']}\n",
    "def hypersearch(model, model_name, param_grid, X_train, Y_train, scoring='r2'):\n",
    "    # Hyperparameter tuning\n",
    "    rs = GridSearchCV(model, param_grid, cv=4,n_jobs=-1, scoring=scoring, return_train_score=True)\n",
    "    rs.fit(X_train, Y_train)\n",
    "    best_model = rs.best_estimator_\n",
    "\n",
    "    #add the report about best hyperparameter of the model to dataframe\n",
    "    result = pd.DataFrame(rs.cv_results_)\n",
    "    result.sort_values('rank_test_score', inplace=True)\n",
    "    result = result[['params', 'mean_fit_time', 'mean_score_time', 'mean_test_score', 'mean_train_score']]\n",
    "    display(result)\n",
    "    \n",
    "    pickle.dump(best_model, open(model_name, 'wb'))\n",
    "    return best_model\n",
    "\n",
    "model = hypersearch(RandomForestRegressor(random_state=42), model_file, param_grid, X_train, Y_train)"
   ],
   "id": "3762530256028aba",
   "outputs": [
    {
     "data": {
      "text/plain": [
       "                                       params  mean_fit_time  mean_score_time  \\\n",
       "39    {'max_depth': 28, 'max_features': None}      17.472577         0.427288   \n",
       "42    {'max_depth': 29, 'max_features': None}      15.512008         0.291449   \n",
       "36    {'max_depth': 27, 'max_features': None}      15.696656         0.486838   \n",
       "30    {'max_depth': 25, 'max_features': None}      14.757288         0.347629   \n",
       "21    {'max_depth': 22, 'max_features': None}      13.443480         0.326616   \n",
       "27    {'max_depth': 24, 'max_features': None}      15.353306         0.348707   \n",
       "33    {'max_depth': 26, 'max_features': None}      14.611974         0.349962   \n",
       "24    {'max_depth': 23, 'max_features': None}      13.946050         0.328287   \n",
       "15    {'max_depth': 20, 'max_features': None}      12.451563         0.270232   \n",
       "18    {'max_depth': 21, 'max_features': None}      12.917742         0.295461   \n",
       "12    {'max_depth': 19, 'max_features': None}      11.903970         0.243996   \n",
       "9     {'max_depth': 18, 'max_features': None}      11.601178         0.223615   \n",
       "6     {'max_depth': 17, 'max_features': None}      11.082177         0.199966   \n",
       "3     {'max_depth': 16, 'max_features': None}      10.629194         0.183961   \n",
       "0     {'max_depth': 15, 'max_features': None}      11.384426         0.168938   \n",
       "40  {'max_depth': 28, 'max_features': 'sqrt'}       8.395865         0.472638   \n",
       "41  {'max_depth': 28, 'max_features': 'log2'}       8.619798         0.464177   \n",
       "32  {'max_depth': 25, 'max_features': 'log2'}       6.821278         0.362358   \n",
       "31  {'max_depth': 25, 'max_features': 'sqrt'}       7.103593         0.363860   \n",
       "37  {'max_depth': 27, 'max_features': 'sqrt'}       6.971175         0.391344   \n",
       "38  {'max_depth': 27, 'max_features': 'log2'}       7.361598         0.429364   \n",
       "29  {'max_depth': 24, 'max_features': 'log2'}       7.756174         0.417531   \n",
       "28  {'max_depth': 24, 'max_features': 'sqrt'}       7.282477         0.471920   \n",
       "25  {'max_depth': 23, 'max_features': 'sqrt'}       6.265755         0.329535   \n",
       "26  {'max_depth': 23, 'max_features': 'log2'}       6.318844         0.336655   \n",
       "44  {'max_depth': 29, 'max_features': 'log2'}       7.629000         0.388906   \n",
       "43  {'max_depth': 29, 'max_features': 'sqrt'}       7.630338         0.438189   \n",
       "34  {'max_depth': 26, 'max_features': 'sqrt'}       6.862202         0.373918   \n",
       "35  {'max_depth': 26, 'max_features': 'log2'}       6.836487         0.363978   \n",
       "23  {'max_depth': 22, 'max_features': 'log2'}       6.042378         0.315931   \n",
       "22  {'max_depth': 22, 'max_features': 'sqrt'}       6.123065         0.312641   \n",
       "20  {'max_depth': 21, 'max_features': 'log2'}       5.816256         0.293566   \n",
       "19  {'max_depth': 21, 'max_features': 'sqrt'}       5.773863         0.295981   \n",
       "14  {'max_depth': 19, 'max_features': 'log2'}       5.085177         0.239728   \n",
       "13  {'max_depth': 19, 'max_features': 'sqrt'}       5.144654         0.247235   \n",
       "17  {'max_depth': 20, 'max_features': 'log2'}       5.546750         0.272694   \n",
       "16  {'max_depth': 20, 'max_features': 'sqrt'}       5.492883         0.277471   \n",
       "11  {'max_depth': 18, 'max_features': 'log2'}       5.049559         0.226803   \n",
       "10  {'max_depth': 18, 'max_features': 'sqrt'}       4.889462         0.248195   \n",
       "8   {'max_depth': 17, 'max_features': 'log2'}       4.682877         0.201948   \n",
       "7   {'max_depth': 17, 'max_features': 'sqrt'}       4.646734         0.207505   \n",
       "5   {'max_depth': 16, 'max_features': 'log2'}       4.221601         0.182319   \n",
       "4   {'max_depth': 16, 'max_features': 'sqrt'}       4.229286         0.188167   \n",
       "2   {'max_depth': 15, 'max_features': 'log2'}       4.964831         0.194030   \n",
       "1   {'max_depth': 15, 'max_features': 'sqrt'}       5.249458         0.183009   \n",
       "\n",
       "    mean_test_score  mean_train_score  \n",
       "39         0.859977          0.981125  \n",
       "42         0.859677          0.981112  \n",
       "36         0.859539          0.980950  \n",
       "30         0.859018          0.980866  \n",
       "21         0.858989          0.979891  \n",
       "27         0.858800          0.980657  \n",
       "33         0.858481          0.980975  \n",
       "24         0.858470          0.980211  \n",
       "15         0.858445          0.978389  \n",
       "18         0.857748          0.979284  \n",
       "12         0.857209          0.977453  \n",
       "9          0.856636          0.975906  \n",
       "6          0.855712          0.973887  \n",
       "3          0.853645          0.971146  \n",
       "0          0.850734          0.967250  \n",
       "40         0.846435          0.978352  \n",
       "41         0.846435          0.978352  \n",
       "32         0.845378          0.977373  \n",
       "31         0.845378          0.977373  \n",
       "37         0.845268          0.978249  \n",
       "38         0.845268          0.978249  \n",
       "29         0.844918          0.976579  \n",
       "28         0.844918          0.976579  \n",
       "25         0.844904          0.976015  \n",
       "26         0.844904          0.976015  \n",
       "44         0.844642          0.978630  \n",
       "43         0.844642          0.978630  \n",
       "34         0.844608          0.977793  \n",
       "35         0.844608          0.977793  \n",
       "23         0.843090          0.974605  \n",
       "22         0.843090          0.974605  \n",
       "20         0.842081          0.972896  \n",
       "19         0.842081          0.972896  \n",
       "14         0.840916          0.966251  \n",
       "13         0.840916          0.966251  \n",
       "17         0.838916          0.969817  \n",
       "16         0.838916          0.969817  \n",
       "11         0.832117          0.961242  \n",
       "10         0.832117          0.961242  \n",
       "8          0.829296          0.955285  \n",
       "7          0.829296          0.955285  \n",
       "5          0.821585          0.946426  \n",
       "4          0.821585          0.946426  \n",
       "2          0.816012          0.935756  \n",
       "1          0.816012          0.935756  "
      ],
      "text/html": [
       "<div>\n",
       "<style scoped>\n",
       "    .dataframe tbody tr th:only-of-type {\n",
       "        vertical-align: middle;\n",
       "    }\n",
       "\n",
       "    .dataframe tbody tr th {\n",
       "        vertical-align: top;\n",
       "    }\n",
       "\n",
       "    .dataframe thead th {\n",
       "        text-align: right;\n",
       "    }\n",
       "</style>\n",
       "<table border=\"1\" class=\"dataframe\">\n",
       "  <thead>\n",
       "    <tr style=\"text-align: right;\">\n",
       "      <th></th>\n",
       "      <th>params</th>\n",
       "      <th>mean_fit_time</th>\n",
       "      <th>mean_score_time</th>\n",
       "      <th>mean_test_score</th>\n",
       "      <th>mean_train_score</th>\n",
       "    </tr>\n",
       "  </thead>\n",
       "  <tbody>\n",
       "    <tr>\n",
       "      <th>39</th>\n",
       "      <td>{'max_depth': 28, 'max_features': None}</td>\n",
       "      <td>17.472577</td>\n",
       "      <td>0.427288</td>\n",
       "      <td>0.859977</td>\n",
       "      <td>0.981125</td>\n",
       "    </tr>\n",
       "    <tr>\n",
       "      <th>42</th>\n",
       "      <td>{'max_depth': 29, 'max_features': None}</td>\n",
       "      <td>15.512008</td>\n",
       "      <td>0.291449</td>\n",
       "      <td>0.859677</td>\n",
       "      <td>0.981112</td>\n",
       "    </tr>\n",
       "    <tr>\n",
       "      <th>36</th>\n",
       "      <td>{'max_depth': 27, 'max_features': None}</td>\n",
       "      <td>15.696656</td>\n",
       "      <td>0.486838</td>\n",
       "      <td>0.859539</td>\n",
       "      <td>0.980950</td>\n",
       "    </tr>\n",
       "    <tr>\n",
       "      <th>30</th>\n",
       "      <td>{'max_depth': 25, 'max_features': None}</td>\n",
       "      <td>14.757288</td>\n",
       "      <td>0.347629</td>\n",
       "      <td>0.859018</td>\n",
       "      <td>0.980866</td>\n",
       "    </tr>\n",
       "    <tr>\n",
       "      <th>21</th>\n",
       "      <td>{'max_depth': 22, 'max_features': None}</td>\n",
       "      <td>13.443480</td>\n",
       "      <td>0.326616</td>\n",
       "      <td>0.858989</td>\n",
       "      <td>0.979891</td>\n",
       "    </tr>\n",
       "    <tr>\n",
       "      <th>27</th>\n",
       "      <td>{'max_depth': 24, 'max_features': None}</td>\n",
       "      <td>15.353306</td>\n",
       "      <td>0.348707</td>\n",
       "      <td>0.858800</td>\n",
       "      <td>0.980657</td>\n",
       "    </tr>\n",
       "    <tr>\n",
       "      <th>33</th>\n",
       "      <td>{'max_depth': 26, 'max_features': None}</td>\n",
       "      <td>14.611974</td>\n",
       "      <td>0.349962</td>\n",
       "      <td>0.858481</td>\n",
       "      <td>0.980975</td>\n",
       "    </tr>\n",
       "    <tr>\n",
       "      <th>24</th>\n",
       "      <td>{'max_depth': 23, 'max_features': None}</td>\n",
       "      <td>13.946050</td>\n",
       "      <td>0.328287</td>\n",
       "      <td>0.858470</td>\n",
       "      <td>0.980211</td>\n",
       "    </tr>\n",
       "    <tr>\n",
       "      <th>15</th>\n",
       "      <td>{'max_depth': 20, 'max_features': None}</td>\n",
       "      <td>12.451563</td>\n",
       "      <td>0.270232</td>\n",
       "      <td>0.858445</td>\n",
       "      <td>0.978389</td>\n",
       "    </tr>\n",
       "    <tr>\n",
       "      <th>18</th>\n",
       "      <td>{'max_depth': 21, 'max_features': None}</td>\n",
       "      <td>12.917742</td>\n",
       "      <td>0.295461</td>\n",
       "      <td>0.857748</td>\n",
       "      <td>0.979284</td>\n",
       "    </tr>\n",
       "    <tr>\n",
       "      <th>12</th>\n",
       "      <td>{'max_depth': 19, 'max_features': None}</td>\n",
       "      <td>11.903970</td>\n",
       "      <td>0.243996</td>\n",
       "      <td>0.857209</td>\n",
       "      <td>0.977453</td>\n",
       "    </tr>\n",
       "    <tr>\n",
       "      <th>9</th>\n",
       "      <td>{'max_depth': 18, 'max_features': None}</td>\n",
       "      <td>11.601178</td>\n",
       "      <td>0.223615</td>\n",
       "      <td>0.856636</td>\n",
       "      <td>0.975906</td>\n",
       "    </tr>\n",
       "    <tr>\n",
       "      <th>6</th>\n",
       "      <td>{'max_depth': 17, 'max_features': None}</td>\n",
       "      <td>11.082177</td>\n",
       "      <td>0.199966</td>\n",
       "      <td>0.855712</td>\n",
       "      <td>0.973887</td>\n",
       "    </tr>\n",
       "    <tr>\n",
       "      <th>3</th>\n",
       "      <td>{'max_depth': 16, 'max_features': None}</td>\n",
       "      <td>10.629194</td>\n",
       "      <td>0.183961</td>\n",
       "      <td>0.853645</td>\n",
       "      <td>0.971146</td>\n",
       "    </tr>\n",
       "    <tr>\n",
       "      <th>0</th>\n",
       "      <td>{'max_depth': 15, 'max_features': None}</td>\n",
       "      <td>11.384426</td>\n",
       "      <td>0.168938</td>\n",
       "      <td>0.850734</td>\n",
       "      <td>0.967250</td>\n",
       "    </tr>\n",
       "    <tr>\n",
       "      <th>40</th>\n",
       "      <td>{'max_depth': 28, 'max_features': 'sqrt'}</td>\n",
       "      <td>8.395865</td>\n",
       "      <td>0.472638</td>\n",
       "      <td>0.846435</td>\n",
       "      <td>0.978352</td>\n",
       "    </tr>\n",
       "    <tr>\n",
       "      <th>41</th>\n",
       "      <td>{'max_depth': 28, 'max_features': 'log2'}</td>\n",
       "      <td>8.619798</td>\n",
       "      <td>0.464177</td>\n",
       "      <td>0.846435</td>\n",
       "      <td>0.978352</td>\n",
       "    </tr>\n",
       "    <tr>\n",
       "      <th>32</th>\n",
       "      <td>{'max_depth': 25, 'max_features': 'log2'}</td>\n",
       "      <td>6.821278</td>\n",
       "      <td>0.362358</td>\n",
       "      <td>0.845378</td>\n",
       "      <td>0.977373</td>\n",
       "    </tr>\n",
       "    <tr>\n",
       "      <th>31</th>\n",
       "      <td>{'max_depth': 25, 'max_features': 'sqrt'}</td>\n",
       "      <td>7.103593</td>\n",
       "      <td>0.363860</td>\n",
       "      <td>0.845378</td>\n",
       "      <td>0.977373</td>\n",
       "    </tr>\n",
       "    <tr>\n",
       "      <th>37</th>\n",
       "      <td>{'max_depth': 27, 'max_features': 'sqrt'}</td>\n",
       "      <td>6.971175</td>\n",
       "      <td>0.391344</td>\n",
       "      <td>0.845268</td>\n",
       "      <td>0.978249</td>\n",
       "    </tr>\n",
       "    <tr>\n",
       "      <th>38</th>\n",
       "      <td>{'max_depth': 27, 'max_features': 'log2'}</td>\n",
       "      <td>7.361598</td>\n",
       "      <td>0.429364</td>\n",
       "      <td>0.845268</td>\n",
       "      <td>0.978249</td>\n",
       "    </tr>\n",
       "    <tr>\n",
       "      <th>29</th>\n",
       "      <td>{'max_depth': 24, 'max_features': 'log2'}</td>\n",
       "      <td>7.756174</td>\n",
       "      <td>0.417531</td>\n",
       "      <td>0.844918</td>\n",
       "      <td>0.976579</td>\n",
       "    </tr>\n",
       "    <tr>\n",
       "      <th>28</th>\n",
       "      <td>{'max_depth': 24, 'max_features': 'sqrt'}</td>\n",
       "      <td>7.282477</td>\n",
       "      <td>0.471920</td>\n",
       "      <td>0.844918</td>\n",
       "      <td>0.976579</td>\n",
       "    </tr>\n",
       "    <tr>\n",
       "      <th>25</th>\n",
       "      <td>{'max_depth': 23, 'max_features': 'sqrt'}</td>\n",
       "      <td>6.265755</td>\n",
       "      <td>0.329535</td>\n",
       "      <td>0.844904</td>\n",
       "      <td>0.976015</td>\n",
       "    </tr>\n",
       "    <tr>\n",
       "      <th>26</th>\n",
       "      <td>{'max_depth': 23, 'max_features': 'log2'}</td>\n",
       "      <td>6.318844</td>\n",
       "      <td>0.336655</td>\n",
       "      <td>0.844904</td>\n",
       "      <td>0.976015</td>\n",
       "    </tr>\n",
       "    <tr>\n",
       "      <th>44</th>\n",
       "      <td>{'max_depth': 29, 'max_features': 'log2'}</td>\n",
       "      <td>7.629000</td>\n",
       "      <td>0.388906</td>\n",
       "      <td>0.844642</td>\n",
       "      <td>0.978630</td>\n",
       "    </tr>\n",
       "    <tr>\n",
       "      <th>43</th>\n",
       "      <td>{'max_depth': 29, 'max_features': 'sqrt'}</td>\n",
       "      <td>7.630338</td>\n",
       "      <td>0.438189</td>\n",
       "      <td>0.844642</td>\n",
       "      <td>0.978630</td>\n",
       "    </tr>\n",
       "    <tr>\n",
       "      <th>34</th>\n",
       "      <td>{'max_depth': 26, 'max_features': 'sqrt'}</td>\n",
       "      <td>6.862202</td>\n",
       "      <td>0.373918</td>\n",
       "      <td>0.844608</td>\n",
       "      <td>0.977793</td>\n",
       "    </tr>\n",
       "    <tr>\n",
       "      <th>35</th>\n",
       "      <td>{'max_depth': 26, 'max_features': 'log2'}</td>\n",
       "      <td>6.836487</td>\n",
       "      <td>0.363978</td>\n",
       "      <td>0.844608</td>\n",
       "      <td>0.977793</td>\n",
       "    </tr>\n",
       "    <tr>\n",
       "      <th>23</th>\n",
       "      <td>{'max_depth': 22, 'max_features': 'log2'}</td>\n",
       "      <td>6.042378</td>\n",
       "      <td>0.315931</td>\n",
       "      <td>0.843090</td>\n",
       "      <td>0.974605</td>\n",
       "    </tr>\n",
       "    <tr>\n",
       "      <th>22</th>\n",
       "      <td>{'max_depth': 22, 'max_features': 'sqrt'}</td>\n",
       "      <td>6.123065</td>\n",
       "      <td>0.312641</td>\n",
       "      <td>0.843090</td>\n",
       "      <td>0.974605</td>\n",
       "    </tr>\n",
       "    <tr>\n",
       "      <th>20</th>\n",
       "      <td>{'max_depth': 21, 'max_features': 'log2'}</td>\n",
       "      <td>5.816256</td>\n",
       "      <td>0.293566</td>\n",
       "      <td>0.842081</td>\n",
       "      <td>0.972896</td>\n",
       "    </tr>\n",
       "    <tr>\n",
       "      <th>19</th>\n",
       "      <td>{'max_depth': 21, 'max_features': 'sqrt'}</td>\n",
       "      <td>5.773863</td>\n",
       "      <td>0.295981</td>\n",
       "      <td>0.842081</td>\n",
       "      <td>0.972896</td>\n",
       "    </tr>\n",
       "    <tr>\n",
       "      <th>14</th>\n",
       "      <td>{'max_depth': 19, 'max_features': 'log2'}</td>\n",
       "      <td>5.085177</td>\n",
       "      <td>0.239728</td>\n",
       "      <td>0.840916</td>\n",
       "      <td>0.966251</td>\n",
       "    </tr>\n",
       "    <tr>\n",
       "      <th>13</th>\n",
       "      <td>{'max_depth': 19, 'max_features': 'sqrt'}</td>\n",
       "      <td>5.144654</td>\n",
       "      <td>0.247235</td>\n",
       "      <td>0.840916</td>\n",
       "      <td>0.966251</td>\n",
       "    </tr>\n",
       "    <tr>\n",
       "      <th>17</th>\n",
       "      <td>{'max_depth': 20, 'max_features': 'log2'}</td>\n",
       "      <td>5.546750</td>\n",
       "      <td>0.272694</td>\n",
       "      <td>0.838916</td>\n",
       "      <td>0.969817</td>\n",
       "    </tr>\n",
       "    <tr>\n",
       "      <th>16</th>\n",
       "      <td>{'max_depth': 20, 'max_features': 'sqrt'}</td>\n",
       "      <td>5.492883</td>\n",
       "      <td>0.277471</td>\n",
       "      <td>0.838916</td>\n",
       "      <td>0.969817</td>\n",
       "    </tr>\n",
       "    <tr>\n",
       "      <th>11</th>\n",
       "      <td>{'max_depth': 18, 'max_features': 'log2'}</td>\n",
       "      <td>5.049559</td>\n",
       "      <td>0.226803</td>\n",
       "      <td>0.832117</td>\n",
       "      <td>0.961242</td>\n",
       "    </tr>\n",
       "    <tr>\n",
       "      <th>10</th>\n",
       "      <td>{'max_depth': 18, 'max_features': 'sqrt'}</td>\n",
       "      <td>4.889462</td>\n",
       "      <td>0.248195</td>\n",
       "      <td>0.832117</td>\n",
       "      <td>0.961242</td>\n",
       "    </tr>\n",
       "    <tr>\n",
       "      <th>8</th>\n",
       "      <td>{'max_depth': 17, 'max_features': 'log2'}</td>\n",
       "      <td>4.682877</td>\n",
       "      <td>0.201948</td>\n",
       "      <td>0.829296</td>\n",
       "      <td>0.955285</td>\n",
       "    </tr>\n",
       "    <tr>\n",
       "      <th>7</th>\n",
       "      <td>{'max_depth': 17, 'max_features': 'sqrt'}</td>\n",
       "      <td>4.646734</td>\n",
       "      <td>0.207505</td>\n",
       "      <td>0.829296</td>\n",
       "      <td>0.955285</td>\n",
       "    </tr>\n",
       "    <tr>\n",
       "      <th>5</th>\n",
       "      <td>{'max_depth': 16, 'max_features': 'log2'}</td>\n",
       "      <td>4.221601</td>\n",
       "      <td>0.182319</td>\n",
       "      <td>0.821585</td>\n",
       "      <td>0.946426</td>\n",
       "    </tr>\n",
       "    <tr>\n",
       "      <th>4</th>\n",
       "      <td>{'max_depth': 16, 'max_features': 'sqrt'}</td>\n",
       "      <td>4.229286</td>\n",
       "      <td>0.188167</td>\n",
       "      <td>0.821585</td>\n",
       "      <td>0.946426</td>\n",
       "    </tr>\n",
       "    <tr>\n",
       "      <th>2</th>\n",
       "      <td>{'max_depth': 15, 'max_features': 'log2'}</td>\n",
       "      <td>4.964831</td>\n",
       "      <td>0.194030</td>\n",
       "      <td>0.816012</td>\n",
       "      <td>0.935756</td>\n",
       "    </tr>\n",
       "    <tr>\n",
       "      <th>1</th>\n",
       "      <td>{'max_depth': 15, 'max_features': 'sqrt'}</td>\n",
       "      <td>5.249458</td>\n",
       "      <td>0.183009</td>\n",
       "      <td>0.816012</td>\n",
       "      <td>0.935756</td>\n",
       "    </tr>\n",
       "  </tbody>\n",
       "</table>\n",
       "</div>"
      ]
     },
     "metadata": {},
     "output_type": "display_data"
    }
   ],
   "execution_count": 8
  },
  {
   "metadata": {
    "ExecuteTime": {
     "end_time": "2024-05-31T02:44:15.739437Z",
     "start_time": "2024-05-31T02:43:53.548552Z"
    }
   },
   "cell_type": "code",
   "source": [
    "from sklearn.model_selection import learning_curve\n",
    "\n",
    "# Calculate accuracy on training and test set using the\n",
    "# gamma parameter with 4-fold cross validation\n",
    "train_sizes, train_score, val_score = learning_curve(RandomForestRegressor(n_estimators=10,max_depth=28,max_features=None, random_state=42), X_train, Y_train,\n",
    "                                          cv=4, train_sizes=np.linspace(0.1, 1.0, 10),scoring=\"r2\")\n",
    "\n",
    "train_score_mean = np.mean(train_score, axis=1)\n",
    "train_score_std = np.std(train_score, axis=1)\n",
    "\n",
    "val_score_mean = np.mean(val_score, axis=1)\n",
    "val_score_std = np.std(val_score, axis=1)\n",
    "\n",
    "plt.plot(train_sizes, train_score_mean,\n",
    "         label=\"Training Score\", color='b')\n",
    "plt.plot(train_sizes, val_score_mean,\n",
    "         label=\"Cross Validation Score\", color='g')\n",
    "# Creating the plot\n",
    "plt.title(\"Learning Curve with Random Forest Regressor\")\n",
    "plt.xlabel(\"Training examples\")\n",
    "plt.ylabel(\"R2 Score\")\n",
    "plt.tight_layout()\n",
    "plt.legend(loc='best')\n",
    "plt.show()"
   ],
   "id": "71cc1f21e61c48f",
   "outputs": [
    {
     "data": {
      "text/plain": [
       "<Figure size 640x480 with 1 Axes>"
      ],
      "image/png": "[encoded data removed]"
     },
     "metadata": {},
     "output_type": "display_data"
    }
   ],
   "execution_count": 19
  },
  {
   "metadata": {
    "ExecuteTime": {
     "end_time": "2024-05-31T02:41:49.726587Z",
     "start_time": "2024-05-31T02:41:49.723060Z"
    }
   },
   "cell_type": "code",
   "source": [
    "# start = time.time()\n",
    "# # Create the model\n",
    "# model = RandomForestRegressor(n_estimators=10, max_depth=20 , random_state=42)\n",
    "# print(\"Start training...\")\n",
    "# model.fit(X_train, Y_train)\n",
    "# end = time.time()\n",
    "# print(\"Time execution : \", end - start)\n",
    "# pickle.dump(model, open(model_file, 'wb'))"
   ],
   "id": "ee94eacfc512905e",
   "outputs": [],
   "execution_count": 10
  },
  {
   "metadata": {
    "ExecuteTime": {
     "end_time": "2024-05-31T02:41:49.876209Z",
     "start_time": "2024-05-31T02:41:49.727672Z"
    }
   },
   "cell_type": "code",
   "source": "loaded_model = pickle.load(open(model_file, 'rb'))",
   "id": "c2b992b582280c7a",
   "outputs": [],
   "execution_count": 11
  },
  {
   "metadata": {
    "ExecuteTime": {
     "end_time": "2024-05-31T02:41:50.160278Z",
     "start_time": "2024-05-31T02:41:49.878519Z"
    }
   },
   "cell_type": "code",
   "source": [
    "feature_names = [f\"{column}\" for column in X_train]\n",
    "importances = loaded_model.feature_importances_\n",
    "forest_importances = pd.Series(importances, index=feature_names)\n",
    "std = np.std([tree.feature_importances_ for tree in loaded_model.estimators_], axis=0)\n",
    "sorted_importances = forest_importances.sort_values(ascending=False)\n",
    "fig, ax = plt.subplots()\n",
    "sorted_importances.plot.bar(yerr=std, ax=ax)\n",
    "ax.set_title(\"Feature importances using MDI\")\n",
    "ax.set_ylabel(\"Mean decrease in impurity\")\n",
    "fig.tight_layout()"
   ],
   "id": "338c8f13cbfc5364",
   "outputs": [
    {
     "data": {
      "text/plain": [
       "<Figure size 640x480 with 1 Axes>"
      ],
      "image/png": "[encoded data removed]"
     },
     "metadata": {},
     "output_type": "display_data"
    }
   ],
   "execution_count": 12
  },
  {
   "metadata": {
    "ExecuteTime": {
     "end_time": "2024-05-31T02:41:50.837607Z",
     "start_time": "2024-05-31T02:41:50.161856Z"
    }
   },
   "cell_type": "code",
   "source": [
    "#Make the predictions \n",
    "Y_pred = loaded_model.predict(X_test)\n",
    "pred_table = pd.DataFrame(data={\"actual value\":Y_test, \"predicted\":loaded_model.predict(X_test)})\n",
    "pred_table[\"difference\"] = pred_table[\"actual value\"] - pred_table[\"predicted\"]\n",
    "pred_table"
   ],
   "id": "58a09c965b647884",
   "outputs": [
    {
     "data": {
      "text/plain": [
       "       actual value      predicted    difference\n",
       "11237       36000.0   36763.343648   -763.343648\n",
       "71941       19812.0   19700.310000    111.690000\n",
       "49651       83640.0   80543.430747   3096.569253\n",
       "54393       77988.0   85355.357714  -7367.357714\n",
       "55831      538800.0  538800.000000      0.000000\n",
       "...             ...            ...           ...\n",
       "6107       115380.0  111968.179026   3411.820974\n",
       "10345      198000.0  202168.997665  -4168.997665\n",
       "32202      236400.0  210075.200000  26324.800000\n",
       "22542      132000.0  172456.820112 -40456.820112\n",
       "31371      204000.0  203428.876095    571.123905\n",
       "\n",
       "[15358 rows x 3 columns]"
      ],
      "text/html": [
       "<div>\n",
       "<style scoped>\n",
       "    .dataframe tbody tr th:only-of-type {\n",
       "        vertical-align: middle;\n",
       "    }\n",
       "\n",
       "    .dataframe tbody tr th {\n",
       "        vertical-align: top;\n",
       "    }\n",
       "\n",
       "    .dataframe thead th {\n",
       "        text-align: right;\n",
       "    }\n",
       "</style>\n",
       "<table border=\"1\" class=\"dataframe\">\n",
       "  <thead>\n",
       "    <tr style=\"text-align: right;\">\n",
       "      <th></th>\n",
       "      <th>actual value</th>\n",
       "      <th>predicted</th>\n",
       "      <th>difference</th>\n",
       "    </tr>\n",
       "  </thead>\n",
       "  <tbody>\n",
       "    <tr>\n",
       "      <th>11237</th>\n",
       "      <td>36000.0</td>\n",
       "      <td>36763.343648</td>\n",
       "      <td>-763.343648</td>\n",
       "    </tr>\n",
       "    <tr>\n",
       "      <th>71941</th>\n",
       "      <td>19812.0</td>\n",
       "      <td>19700.310000</td>\n",
       "      <td>111.690000</td>\n",
       "    </tr>\n",
       "    <tr>\n",
       "      <th>49651</th>\n",
       "      <td>83640.0</td>\n",
       "      <td>80543.430747</td>\n",
       "      <td>3096.569253</td>\n",
       "    </tr>\n",
       "    <tr>\n",
       "      <th>54393</th>\n",
       "      <td>77988.0</td>\n",
       "      <td>85355.357714</td>\n",
       "      <td>-7367.357714</td>\n",
       "    </tr>\n",
       "    <tr>\n",
       "      <th>55831</th>\n",
       "      <td>538800.0</td>\n",
       "      <td>538800.000000</td>\n",
       "      <td>0.000000</td>\n",
       "    </tr>\n",
       "    <tr>\n",
       "      <th>...</th>\n",
       "      <td>...</td>\n",
       "      <td>...</td>\n",
       "      <td>...</td>\n",
       "    </tr>\n",
       "    <tr>\n",
       "      <th>6107</th>\n",
       "      <td>115380.0</td>\n",
       "      <td>111968.179026</td>\n",
       "      <td>3411.820974</td>\n",
       "    </tr>\n",
       "    <tr>\n",
       "      <th>10345</th>\n",
       "      <td>198000.0</td>\n",
       "      <td>202168.997665</td>\n",
       "      <td>-4168.997665</td>\n",
       "    </tr>\n",
       "    <tr>\n",
       "      <th>32202</th>\n",
       "      <td>236400.0</td>\n",
       "      <td>210075.200000</td>\n",
       "      <td>26324.800000</td>\n",
       "    </tr>\n",
       "    <tr>\n",
       "      <th>22542</th>\n",
       "      <td>132000.0</td>\n",
       "      <td>172456.820112</td>\n",
       "      <td>-40456.820112</td>\n",
       "    </tr>\n",
       "    <tr>\n",
       "      <th>31371</th>\n",
       "      <td>204000.0</td>\n",
       "      <td>203428.876095</td>\n",
       "      <td>571.123905</td>\n",
       "    </tr>\n",
       "  </tbody>\n",
       "</table>\n",
       "<p>15358 rows × 3 columns</p>\n",
       "</div>"
      ]
     },
     "execution_count": 13,
     "metadata": {},
     "output_type": "execute_result"
    }
   ],
   "execution_count": 13
  },
  {
   "metadata": {
    "ExecuteTime": {
     "end_time": "2024-05-31T02:41:51.516239Z",
     "start_time": "2024-05-31T02:41:50.838919Z"
    }
   },
   "cell_type": "code",
   "source": [
    "# Assuming you have obtained Y_pred and Y_test from your model\n",
    "\n",
    "# Create a scatter plot or line plot\n",
    "# Scatter plot for Y_test (green)\n",
    "plt.scatter(Y_test, Y_test, c='green', marker='o', label='True Value', alpha=0.7)\n",
    "\n",
    "# Scatter plot for Y_pred (red)\n",
    "plt.scatter(Y_test, Y_pred, c='red', marker='x', label='Predicted Value', alpha=0.7)\n",
    "plt.plot([Y_test.min(), Y_test.max()], [Y_test.min(), Y_test.max()], 'b--')  # Diagonal line for reference\n",
    "plt.xlabel('Actual Values (Y_test)')\n",
    "plt.ylabel('Predicted Values (Y_pred)')\n",
    "plt.legend(fontsize=12)\n",
    "plt.title('Actual vs. Predicted House Prices using Random Forest Regressor')\n",
    "plt.grid(alpha=0.4)\n",
    "# Show the plot\n",
    "plt.show()"
   ],
   "id": "2e67c755e27f0cf4",
   "outputs": [
    {
     "data": {
      "text/plain": [
       "<Figure size 640x480 with 1 Axes>"
      ],
      "image/png": "[encoded data removed]"
     },
     "metadata": {},
     "output_type": "display_data"
    }
   ],
   "execution_count": 14
  },
  {
   "metadata": {
    "ExecuteTime": {
     "end_time": "2024-05-31T02:41:52.951484Z",
     "start_time": "2024-05-31T02:41:51.517521Z"
    }
   },
   "cell_type": "code",
   "source": [
    "from sklearn.metrics import r2_score\n",
    "#Test the model\n",
    "pred_train = loaded_model.predict(X_train)\n",
    "pred_test = loaded_model.predict(X_test)\n",
    "train_accuracy = r2_score(pred_train, Y_train)\n",
    "test_accuracy = r2_score(pred_test, Y_test)\n",
    "print('Training r2 score: ',train_accuracy)\n",
    "print('Test r2 score: ',test_accuracy)"
   ],
   "id": "25641b90fbbfcb23",
   "outputs": [
    {
     "name": "stdout",
     "output_type": "stream",
     "text": [
      "Training r2 score:  0.9822948788545613\n",
      "Test r2 score:  0.8876947640638573\n"
     ]
    }
   ],
   "execution_count": 15
  },
  {
   "metadata": {
    "ExecuteTime": {
     "end_time": "2024-05-31T02:41:52.957774Z",
     "start_time": "2024-05-31T02:41:52.952496Z"
    }
   },
   "cell_type": "code",
   "source": [
    "from sklearn.metrics import mean_squared_error\n",
    "mse_train = mean_squared_error(Y_train, pred_train)\n",
    "mse_test = mean_squared_error(Y_test, pred_test)\n",
    "print('Training mean squared error: ', mse_train)\n",
    "print('Test mean squared error: ', mse_test)"
   ],
   "id": "d84dec3e2610031b",
   "outputs": [
    {
     "name": "stdout",
     "output_type": "stream",
     "text": [
      "Training mean squared error:  1123867942.5883765\n",
      "Test mean squared error:  6098443125.3184805\n"
     ]
    }
   ],
   "execution_count": 16
  },
  {
   "metadata": {
    "ExecuteTime": {
     "end_time": "2024-05-31T02:41:52.971577Z",
     "start_time": "2024-05-31T02:41:52.958828Z"
    }
   },
   "cell_type": "code",
   "source": [
    "from sklearn.metrics import mean_absolute_error\n",
    "mae_train = mean_absolute_error(Y_train, pred_train)\n",
    "mae_test = mean_absolute_error(Y_test, pred_test)\n",
    "print('Training mean absolute error: ', mae_train)\n",
    "print('Test mean absolute error: ', mae_test)"
   ],
   "id": "2a6ce0e7e7c49d63",
   "outputs": [
    {
     "name": "stdout",
     "output_type": "stream",
     "text": [
      "Training mean absolute error:  10085.078167100291\n",
      "Test mean absolute error:  23528.12757076099\n"
     ]
    }
   ],
   "execution_count": 17
  },
  {
   "metadata": {
    "ExecuteTime": {
     "end_time": "2024-05-31T02:41:52.975009Z",
     "start_time": "2024-05-31T02:41:52.972908Z"
    }
   },
   "cell_type": "code",
   "source": "",
   "id": "5b070bdfb3e7dae5",
   "outputs": [],
   "execution_count": 17
  }
 ],
 "metadata": {
  "kernelspec": {
   "display_name": "Python 3",
   "language": "python",
   "name": "python3"
  },
  "language_info": {
   "codemirror_mode": {
    "name": "ipython",
    "version": 2
   },
   "file_extension": ".py",
   "mimetype": "text/x-python",
   "name": "python",
   "nbconvert_exporter": "python",
   "pygments_lexer": "ipython2",
   "version": "2.7.6"
  }
 },
 "nbformat": 4,
 "nbformat_minor": 5
}

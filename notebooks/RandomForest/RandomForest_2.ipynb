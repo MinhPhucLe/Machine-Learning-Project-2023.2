{
 "cells": [
  {
   "cell_type": "code",
   "id": "initial_id",
   "metadata": {
    "collapsed": true,
    "ExecuteTime": {
     "end_time": "2024-05-31T08:47:28.127382Z",
     "start_time": "2024-05-31T08:47:27.827728Z"
    }
   },
   "source": [
    "import pandas as pd \n",
    "import matplotlib.pyplot as plt\n",
    "from sklearn.ensemble import RandomForestRegressor\n",
    "import time\n",
    "import seaborn as sns\n",
    "import pickle\n",
    "import numpy as np"
   ],
   "outputs": [],
   "execution_count": 1
  },
  {
   "metadata": {
    "ExecuteTime": {
     "end_time": "2024-05-31T08:47:28.132863Z",
     "start_time": "2024-05-31T08:47:28.128782Z"
    }
   },
   "cell_type": "code",
   "source": [
    "model_file = \"../../models/RandomForest_2\"\n",
    "data_file = \"../../data/processed_data_1.csv\""
   ],
   "id": "d60bd2f5f5c80ed9",
   "outputs": [],
   "execution_count": 2
  },
  {
   "metadata": {
    "ExecuteTime": {
     "end_time": "2024-05-31T08:47:28.190216Z",
     "start_time": "2024-05-31T08:47:28.132863Z"
    }
   },
   "cell_type": "code",
   "source": [
    "data = pd.read_csv(data_file)\n",
    "# Process type  ( Apartment: 0, Independent House: 1, Studio Apartment: 2, villa: 3 )\n",
    "# Process status ( Ready to move: 0, under Construction: 1 )\n",
    "data = data[data['age'] != 2]\n",
    "# for column in data:\n",
    "#     if column in [\"bhk\",\"status\",\"house_type\",\"new\"]:\n",
    "#         # Get the value counts for the column\n",
    "#         value_counts = data[column].value_counts()\n",
    "#         # Find the values that occur fewer than 10 times\n",
    "#         to_drop = value_counts[value_counts < 10].index\n",
    "#         # Drop rows where the column's value is in the to_drop list\n",
    "#         data = data[~data[column].isin(to_drop)]\n",
    "for column in data:\n",
    "    if column in [\"bhk\",\"status\",\"house_type\",\"new\",\"age\"]:\n",
    "        print(\"Column Name: \", column)\n",
    "        print(data[column].unique())\n",
    "        print(data[column].value_counts())"
   ],
   "id": "526a313c6a4b1c9f",
   "outputs": [
    {
     "name": "stdout",
     "output_type": "stream",
     "text": [
      "Column Name:  bhk\n",
      "[ 3  2  5  1  4  6  9  8 10  7]\n",
      "bhk\n",
      "2     26563\n",
      "1     22136\n",
      "3     10426\n",
      "4      1890\n",
      "5       316\n",
      "6        72\n",
      "7        14\n",
      "8         5\n",
      "9         4\n",
      "10        3\n",
      "Name: count, dtype: int64\n",
      "Column Name:  status\n",
      "[0 1]\n",
      "status\n",
      "0    34648\n",
      "1    26781\n",
      "Name: count, dtype: int64\n",
      "Column Name:  age\n",
      "[0 1]\n",
      "age\n",
      "0    38072\n",
      "1    23357\n",
      "Name: count, dtype: int64\n"
     ]
    }
   ],
   "execution_count": 3
  },
  {
   "metadata": {
    "ExecuteTime": {
     "end_time": "2024-05-31T08:47:28.194839Z",
     "start_time": "2024-05-31T08:47:28.190216Z"
    }
   },
   "cell_type": "code",
   "source": [
    "def preprocessing(data:pd.DataFrame) -> pd.DataFrame:\n",
    "    # data.drop([\"status\",\"new\",\"house_type\"], axis = 1, inplace = True)\n",
    "    data = data.dropna()\n",
    "    return data"
   ],
   "id": "9d3162b45feb327c",
   "outputs": [],
   "execution_count": 4
  },
  {
   "metadata": {
    "ExecuteTime": {
     "end_time": "2024-05-31T08:47:28.202454Z",
     "start_time": "2024-05-31T08:47:28.195350Z"
    }
   },
   "cell_type": "code",
   "source": [
    "processed_data = preprocessing(data)\n",
    "for column in processed_data:\n",
    "    print(column)"
   ],
   "id": "9b662e6d9124aa47",
   "outputs": [
    {
     "name": "stdout",
     "output_type": "stream",
     "text": [
      "bhk\n",
      "type\n",
      "locality\n",
      "area\n",
      "region\n",
      "status\n",
      "age\n",
      "price_in_USD\n"
     ]
    }
   ],
   "execution_count": 5
  },
  {
   "metadata": {
    "ExecuteTime": {
     "end_time": "2024-05-31T08:47:28.209852Z",
     "start_time": "2024-05-31T08:47:28.203796Z"
    }
   },
   "cell_type": "code",
   "source": [
    "X = processed_data.drop(labels=\"price_in_USD\",axis=1)\n",
    "Y = processed_data[\"price_in_USD\"]\n",
    "\n",
    "# scaler = StandardScaler()\n",
    "# X = scaler.fit_transform(X)\n",
    "\n",
    "print(X.shape)\n",
    "print(Y.shape)"
   ],
   "id": "6b59e0a7cc7b628",
   "outputs": [
    {
     "name": "stdout",
     "output_type": "stream",
     "text": [
      "(61429, 7)\n",
      "(61429,)\n"
     ]
    }
   ],
   "execution_count": 6
  },
  {
   "metadata": {
    "ExecuteTime": {
     "end_time": "2024-05-31T08:47:28.224841Z",
     "start_time": "2024-05-31T08:47:28.211342Z"
    }
   },
   "cell_type": "code",
   "source": [
    "from sklearn.model_selection import train_test_split\n",
    "X_train, X_test, Y_train, Y_test = train_test_split(X,Y,test_size=0.2,random_state=0)"
   ],
   "id": "1abba800f23eda6",
   "outputs": [],
   "execution_count": 7
  },
  {
   "metadata": {
    "ExecuteTime": {
     "end_time": "2024-05-31T08:50:14.008178Z",
     "start_time": "2024-05-31T08:47:28.224841Z"
    }
   },
   "cell_type": "code",
   "source": [
    "from sklearn.model_selection import GridSearchCV\n",
    "\n",
    "param_grid = {'max_depth': np.arange(15, 30, 1),'max_features': [None, 'sqrt','log2']}\n",
    "def hypersearch(model, model_name, param_grid, X_train, Y_train, scoring='r2'):\n",
    "    # Hyperparameter tuning\n",
    "    rs = GridSearchCV(model, param_grid, cv=4,n_jobs=-1, scoring=scoring, return_train_score=True)\n",
    "    rs.fit(X_train, Y_train)\n",
    "    best_model = rs.best_estimator_\n",
    "    print(rs.best_estimator_)\n",
    "    #add the report about best hyperparameter of the model to dataframe\n",
    "    result = pd.DataFrame(rs.cv_results_)\n",
    "    result.sort_values('rank_test_score', inplace=True)\n",
    "    result = result[['params', 'mean_fit_time', 'mean_score_time', 'mean_test_score', 'mean_train_score']]\n",
    "    display(result)\n",
    "    \n",
    "    pickle.dump(best_model, open(model_name, 'wb'))\n",
    "    return best_model\n",
    "\n",
    "model = hypersearch(RandomForestRegressor(random_state=42), model_file, param_grid, X_train, Y_train)"
   ],
   "id": "3762530256028aba",
   "outputs": [
    {
     "data": {
      "text/plain": [
       "                                       params  mean_fit_time  mean_score_time  \\\n",
       "39    {'max_depth': 28, 'max_features': None}      16.155950         0.390911   \n",
       "27    {'max_depth': 24, 'max_features': None}      16.162097         0.391769   \n",
       "33    {'max_depth': 26, 'max_features': None}      16.519088         0.453361   \n",
       "24    {'max_depth': 23, 'max_features': None}      14.759889         0.332937   \n",
       "36    {'max_depth': 27, 'max_features': None}      16.411111         0.480827   \n",
       "42    {'max_depth': 29, 'max_features': None}      15.211150         0.321532   \n",
       "21    {'max_depth': 22, 'max_features': None}      14.301805         0.320439   \n",
       "15    {'max_depth': 20, 'max_features': None}      12.657502         0.285456   \n",
       "30    {'max_depth': 25, 'max_features': None}      16.227885         0.392911   \n",
       "18    {'max_depth': 21, 'max_features': None}      13.387714         0.289189   \n",
       "12    {'max_depth': 19, 'max_features': None}      12.261512         0.262285   \n",
       "9     {'max_depth': 18, 'max_features': None}      11.725906         0.222658   \n",
       "6     {'max_depth': 17, 'max_features': None}      11.193042         0.207300   \n",
       "3     {'max_depth': 16, 'max_features': None}      10.507128         0.187604   \n",
       "0     {'max_depth': 15, 'max_features': None}      10.932272         0.164433   \n",
       "28  {'max_depth': 24, 'max_features': 'sqrt'}       7.433498         0.410622   \n",
       "29  {'max_depth': 24, 'max_features': 'log2'}       7.776115         0.440847   \n",
       "37  {'max_depth': 27, 'max_features': 'sqrt'}       7.447159         0.453671   \n",
       "38  {'max_depth': 27, 'max_features': 'log2'}       7.365705         0.418179   \n",
       "26  {'max_depth': 23, 'max_features': 'log2'}       6.664069         0.354927   \n",
       "25  {'max_depth': 23, 'max_features': 'sqrt'}       6.626991         0.381918   \n",
       "34  {'max_depth': 26, 'max_features': 'sqrt'}       8.245895         0.452728   \n",
       "35  {'max_depth': 26, 'max_features': 'log2'}       8.010273         0.417396   \n",
       "44  {'max_depth': 29, 'max_features': 'log2'}       7.350216         0.395428   \n",
       "43  {'max_depth': 29, 'max_features': 'sqrt'}       7.365622         0.398871   \n",
       "41  {'max_depth': 28, 'max_features': 'log2'}       7.681390         0.387156   \n",
       "40  {'max_depth': 28, 'max_features': 'sqrt'}       7.837901         0.428942   \n",
       "32  {'max_depth': 25, 'max_features': 'log2'}       7.259758         0.398939   \n",
       "31  {'max_depth': 25, 'max_features': 'sqrt'}       7.639657         0.422079   \n",
       "20  {'max_depth': 21, 'max_features': 'log2'}       5.828344         0.296939   \n",
       "19  {'max_depth': 21, 'max_features': 'sqrt'}       5.856401         0.292973   \n",
       "23  {'max_depth': 22, 'max_features': 'log2'}       6.934502         0.326590   \n",
       "22  {'max_depth': 22, 'max_features': 'sqrt'}       6.158929         0.390741   \n",
       "16  {'max_depth': 20, 'max_features': 'sqrt'}       5.513889         0.258035   \n",
       "17  {'max_depth': 20, 'max_features': 'log2'}       5.620610         0.265674   \n",
       "14  {'max_depth': 19, 'max_features': 'log2'}       5.206459         0.242705   \n",
       "13  {'max_depth': 19, 'max_features': 'sqrt'}       5.174765         0.250325   \n",
       "11  {'max_depth': 18, 'max_features': 'log2'}       4.900447         0.226564   \n",
       "10  {'max_depth': 18, 'max_features': 'sqrt'}       4.960610         0.226568   \n",
       "8   {'max_depth': 17, 'max_features': 'log2'}       4.619632         0.212566   \n",
       "7   {'max_depth': 17, 'max_features': 'sqrt'}       4.607500         0.230535   \n",
       "5   {'max_depth': 16, 'max_features': 'log2'}       4.322464         0.179983   \n",
       "4   {'max_depth': 16, 'max_features': 'sqrt'}       4.198868         0.191419   \n",
       "2   {'max_depth': 15, 'max_features': 'log2'}       4.622344         0.168311   \n",
       "1   {'max_depth': 15, 'max_features': 'sqrt'}       4.798122         0.171985   \n",
       "\n",
       "    mean_test_score  mean_train_score  \n",
       "39         0.864517          0.981201  \n",
       "27         0.864418          0.980723  \n",
       "33         0.863984          0.980959  \n",
       "24         0.863930          0.980402  \n",
       "36         0.863761          0.981225  \n",
       "42         0.863300          0.981299  \n",
       "21         0.863154          0.980017  \n",
       "15         0.863019          0.978550  \n",
       "30         0.862810          0.980881  \n",
       "18         0.862770          0.979263  \n",
       "12         0.862111          0.977336  \n",
       "9          0.861532          0.975945  \n",
       "6          0.859559          0.973853  \n",
       "3          0.858190          0.970965  \n",
       "0          0.856638          0.966848  \n",
       "28         0.852862          0.977387  \n",
       "29         0.852862          0.977387  \n",
       "37         0.852354          0.978820  \n",
       "38         0.852354          0.978820  \n",
       "26         0.851458          0.976320  \n",
       "25         0.851458          0.976320  \n",
       "34         0.851053          0.978794  \n",
       "35         0.851053          0.978794  \n",
       "44         0.851044          0.979012  \n",
       "43         0.851044          0.979012  \n",
       "41         0.850922          0.978932  \n",
       "40         0.850922          0.978932  \n",
       "32         0.850150          0.978056  \n",
       "31         0.850150          0.978056  \n",
       "20         0.848561          0.972940  \n",
       "19         0.848561          0.972940  \n",
       "23         0.847247          0.974988  \n",
       "22         0.847247          0.974988  \n",
       "16         0.846408          0.970349  \n",
       "17         0.846408          0.970349  \n",
       "14         0.844882          0.966797  \n",
       "13         0.844882          0.966797  \n",
       "11         0.839033          0.961236  \n",
       "10         0.839033          0.961236  \n",
       "8          0.836548          0.954733  \n",
       "7          0.836548          0.954733  \n",
       "5          0.830624          0.946014  \n",
       "4          0.830624          0.946014  \n",
       "2          0.822666          0.934787  \n",
       "1          0.822666          0.934787  "
      ],
      "text/html": [
       "<div>\n",
       "<style scoped>\n",
       "    .dataframe tbody tr th:only-of-type {\n",
       "        vertical-align: middle;\n",
       "    }\n",
       "\n",
       "    .dataframe tbody tr th {\n",
       "        vertical-align: top;\n",
       "    }\n",
       "\n",
       "    .dataframe thead th {\n",
       "        text-align: right;\n",
       "    }\n",
       "</style>\n",
       "<table border=\"1\" class=\"dataframe\">\n",
       "  <thead>\n",
       "    <tr style=\"text-align: right;\">\n",
       "      <th></th>\n",
       "      <th>params</th>\n",
       "      <th>mean_fit_time</th>\n",
       "      <th>mean_score_time</th>\n",
       "      <th>mean_test_score</th>\n",
       "      <th>mean_train_score</th>\n",
       "    </tr>\n",
       "  </thead>\n",
       "  <tbody>\n",
       "    <tr>\n",
       "      <th>39</th>\n",
       "      <td>{'max_depth': 28, 'max_features': None}</td>\n",
       "      <td>16.155950</td>\n",
       "      <td>0.390911</td>\n",
       "      <td>0.864517</td>\n",
       "      <td>0.981201</td>\n",
       "    </tr>\n",
       "    <tr>\n",
       "      <th>27</th>\n",
       "      <td>{'max_depth': 24, 'max_features': None}</td>\n",
       "      <td>16.162097</td>\n",
       "      <td>0.391769</td>\n",
       "      <td>0.864418</td>\n",
       "      <td>0.980723</td>\n",
       "    </tr>\n",
       "    <tr>\n",
       "      <th>33</th>\n",
       "      <td>{'max_depth': 26, 'max_features': None}</td>\n",
       "      <td>16.519088</td>\n",
       "      <td>0.453361</td>\n",
       "      <td>0.863984</td>\n",
       "      <td>0.980959</td>\n",
       "    </tr>\n",
       "    <tr>\n",
       "      <th>24</th>\n",
       "      <td>{'max_depth': 23, 'max_features': None}</td>\n",
       "      <td>14.759889</td>\n",
       "      <td>0.332937</td>\n",
       "      <td>0.863930</td>\n",
       "      <td>0.980402</td>\n",
       "    </tr>\n",
       "    <tr>\n",
       "      <th>36</th>\n",
       "      <td>{'max_depth': 27, 'max_features': None}</td>\n",
       "      <td>16.411111</td>\n",
       "      <td>0.480827</td>\n",
       "      <td>0.863761</td>\n",
       "      <td>0.981225</td>\n",
       "    </tr>\n",
       "    <tr>\n",
       "      <th>42</th>\n",
       "      <td>{'max_depth': 29, 'max_features': None}</td>\n",
       "      <td>15.211150</td>\n",
       "      <td>0.321532</td>\n",
       "      <td>0.863300</td>\n",
       "      <td>0.981299</td>\n",
       "    </tr>\n",
       "    <tr>\n",
       "      <th>21</th>\n",
       "      <td>{'max_depth': 22, 'max_features': None}</td>\n",
       "      <td>14.301805</td>\n",
       "      <td>0.320439</td>\n",
       "      <td>0.863154</td>\n",
       "      <td>0.980017</td>\n",
       "    </tr>\n",
       "    <tr>\n",
       "      <th>15</th>\n",
       "      <td>{'max_depth': 20, 'max_features': None}</td>\n",
       "      <td>12.657502</td>\n",
       "      <td>0.285456</td>\n",
       "      <td>0.863019</td>\n",
       "      <td>0.978550</td>\n",
       "    </tr>\n",
       "    <tr>\n",
       "      <th>30</th>\n",
       "      <td>{'max_depth': 25, 'max_features': None}</td>\n",
       "      <td>16.227885</td>\n",
       "      <td>0.392911</td>\n",
       "      <td>0.862810</td>\n",
       "      <td>0.980881</td>\n",
       "    </tr>\n",
       "    <tr>\n",
       "      <th>18</th>\n",
       "      <td>{'max_depth': 21, 'max_features': None}</td>\n",
       "      <td>13.387714</td>\n",
       "      <td>0.289189</td>\n",
       "      <td>0.862770</td>\n",
       "      <td>0.979263</td>\n",
       "    </tr>\n",
       "    <tr>\n",
       "      <th>12</th>\n",
       "      <td>{'max_depth': 19, 'max_features': None}</td>\n",
       "      <td>12.261512</td>\n",
       "      <td>0.262285</td>\n",
       "      <td>0.862111</td>\n",
       "      <td>0.977336</td>\n",
       "    </tr>\n",
       "    <tr>\n",
       "      <th>9</th>\n",
       "      <td>{'max_depth': 18, 'max_features': None}</td>\n",
       "      <td>11.725906</td>\n",
       "      <td>0.222658</td>\n",
       "      <td>0.861532</td>\n",
       "      <td>0.975945</td>\n",
       "    </tr>\n",
       "    <tr>\n",
       "      <th>6</th>\n",
       "      <td>{'max_depth': 17, 'max_features': None}</td>\n",
       "      <td>11.193042</td>\n",
       "      <td>0.207300</td>\n",
       "      <td>0.859559</td>\n",
       "      <td>0.973853</td>\n",
       "    </tr>\n",
       "    <tr>\n",
       "      <th>3</th>\n",
       "      <td>{'max_depth': 16, 'max_features': None}</td>\n",
       "      <td>10.507128</td>\n",
       "      <td>0.187604</td>\n",
       "      <td>0.858190</td>\n",
       "      <td>0.970965</td>\n",
       "    </tr>\n",
       "    <tr>\n",
       "      <th>0</th>\n",
       "      <td>{'max_depth': 15, 'max_features': None}</td>\n",
       "      <td>10.932272</td>\n",
       "      <td>0.164433</td>\n",
       "      <td>0.856638</td>\n",
       "      <td>0.966848</td>\n",
       "    </tr>\n",
       "    <tr>\n",
       "      <th>28</th>\n",
       "      <td>{'max_depth': 24, 'max_features': 'sqrt'}</td>\n",
       "      <td>7.433498</td>\n",
       "      <td>0.410622</td>\n",
       "      <td>0.852862</td>\n",
       "      <td>0.977387</td>\n",
       "    </tr>\n",
       "    <tr>\n",
       "      <th>29</th>\n",
       "      <td>{'max_depth': 24, 'max_features': 'log2'}</td>\n",
       "      <td>7.776115</td>\n",
       "      <td>0.440847</td>\n",
       "      <td>0.852862</td>\n",
       "      <td>0.977387</td>\n",
       "    </tr>\n",
       "    <tr>\n",
       "      <th>37</th>\n",
       "      <td>{'max_depth': 27, 'max_features': 'sqrt'}</td>\n",
       "      <td>7.447159</td>\n",
       "      <td>0.453671</td>\n",
       "      <td>0.852354</td>\n",
       "      <td>0.978820</td>\n",
       "    </tr>\n",
       "    <tr>\n",
       "      <th>38</th>\n",
       "      <td>{'max_depth': 27, 'max_features': 'log2'}</td>\n",
       "      <td>7.365705</td>\n",
       "      <td>0.418179</td>\n",
       "      <td>0.852354</td>\n",
       "      <td>0.978820</td>\n",
       "    </tr>\n",
       "    <tr>\n",
       "      <th>26</th>\n",
       "      <td>{'max_depth': 23, 'max_features': 'log2'}</td>\n",
       "      <td>6.664069</td>\n",
       "      <td>0.354927</td>\n",
       "      <td>0.851458</td>\n",
       "      <td>0.976320</td>\n",
       "    </tr>\n",
       "    <tr>\n",
       "      <th>25</th>\n",
       "      <td>{'max_depth': 23, 'max_features': 'sqrt'}</td>\n",
       "      <td>6.626991</td>\n",
       "      <td>0.381918</td>\n",
       "      <td>0.851458</td>\n",
       "      <td>0.976320</td>\n",
       "    </tr>\n",
       "    <tr>\n",
       "      <th>34</th>\n",
       "      <td>{'max_depth': 26, 'max_features': 'sqrt'}</td>\n",
       "      <td>8.245895</td>\n",
       "      <td>0.452728</td>\n",
       "      <td>0.851053</td>\n",
       "      <td>0.978794</td>\n",
       "    </tr>\n",
       "    <tr>\n",
       "      <th>35</th>\n",
       "      <td>{'max_depth': 26, 'max_features': 'log2'}</td>\n",
       "      <td>8.010273</td>\n",
       "      <td>0.417396</td>\n",
       "      <td>0.851053</td>\n",
       "      <td>0.978794</td>\n",
       "    </tr>\n",
       "    <tr>\n",
       "      <th>44</th>\n",
       "      <td>{'max_depth': 29, 'max_features': 'log2'}</td>\n",
       "      <td>7.350216</td>\n",
       "      <td>0.395428</td>\n",
       "      <td>0.851044</td>\n",
       "      <td>0.979012</td>\n",
       "    </tr>\n",
       "    <tr>\n",
       "      <th>43</th>\n",
       "      <td>{'max_depth': 29, 'max_features': 'sqrt'}</td>\n",
       "      <td>7.365622</td>\n",
       "      <td>0.398871</td>\n",
       "      <td>0.851044</td>\n",
       "      <td>0.979012</td>\n",
       "    </tr>\n",
       "    <tr>\n",
       "      <th>41</th>\n",
       "      <td>{'max_depth': 28, 'max_features': 'log2'}</td>\n",
       "      <td>7.681390</td>\n",
       "      <td>0.387156</td>\n",
       "      <td>0.850922</td>\n",
       "      <td>0.978932</td>\n",
       "    </tr>\n",
       "    <tr>\n",
       "      <th>40</th>\n",
       "      <td>{'max_depth': 28, 'max_features': 'sqrt'}</td>\n",
       "      <td>7.837901</td>\n",
       "      <td>0.428942</td>\n",
       "      <td>0.850922</td>\n",
       "      <td>0.978932</td>\n",
       "    </tr>\n",
       "    <tr>\n",
       "      <th>32</th>\n",
       "      <td>{'max_depth': 25, 'max_features': 'log2'}</td>\n",
       "      <td>7.259758</td>\n",
       "      <td>0.398939</td>\n",
       "      <td>0.850150</td>\n",
       "      <td>0.978056</td>\n",
       "    </tr>\n",
       "    <tr>\n",
       "      <th>31</th>\n",
       "      <td>{'max_depth': 25, 'max_features': 'sqrt'}</td>\n",
       "      <td>7.639657</td>\n",
       "      <td>0.422079</td>\n",
       "      <td>0.850150</td>\n",
       "      <td>0.978056</td>\n",
       "    </tr>\n",
       "    <tr>\n",
       "      <th>20</th>\n",
       "      <td>{'max_depth': 21, 'max_features': 'log2'}</td>\n",
       "      <td>5.828344</td>\n",
       "      <td>0.296939</td>\n",
       "      <td>0.848561</td>\n",
       "      <td>0.972940</td>\n",
       "    </tr>\n",
       "    <tr>\n",
       "      <th>19</th>\n",
       "      <td>{'max_depth': 21, 'max_features': 'sqrt'}</td>\n",
       "      <td>5.856401</td>\n",
       "      <td>0.292973</td>\n",
       "      <td>0.848561</td>\n",
       "      <td>0.972940</td>\n",
       "    </tr>\n",
       "    <tr>\n",
       "      <th>23</th>\n",
       "      <td>{'max_depth': 22, 'max_features': 'log2'}</td>\n",
       "      <td>6.934502</td>\n",
       "      <td>0.326590</td>\n",
       "      <td>0.847247</td>\n",
       "      <td>0.974988</td>\n",
       "    </tr>\n",
       "    <tr>\n",
       "      <th>22</th>\n",
       "      <td>{'max_depth': 22, 'max_features': 'sqrt'}</td>\n",
       "      <td>6.158929</td>\n",
       "      <td>0.390741</td>\n",
       "      <td>0.847247</td>\n",
       "      <td>0.974988</td>\n",
       "    </tr>\n",
       "    <tr>\n",
       "      <th>16</th>\n",
       "      <td>{'max_depth': 20, 'max_features': 'sqrt'}</td>\n",
       "      <td>5.513889</td>\n",
       "      <td>0.258035</td>\n",
       "      <td>0.846408</td>\n",
       "      <td>0.970349</td>\n",
       "    </tr>\n",
       "    <tr>\n",
       "      <th>17</th>\n",
       "      <td>{'max_depth': 20, 'max_features': 'log2'}</td>\n",
       "      <td>5.620610</td>\n",
       "      <td>0.265674</td>\n",
       "      <td>0.846408</td>\n",
       "      <td>0.970349</td>\n",
       "    </tr>\n",
       "    <tr>\n",
       "      <th>14</th>\n",
       "      <td>{'max_depth': 19, 'max_features': 'log2'}</td>\n",
       "      <td>5.206459</td>\n",
       "      <td>0.242705</td>\n",
       "      <td>0.844882</td>\n",
       "      <td>0.966797</td>\n",
       "    </tr>\n",
       "    <tr>\n",
       "      <th>13</th>\n",
       "      <td>{'max_depth': 19, 'max_features': 'sqrt'}</td>\n",
       "      <td>5.174765</td>\n",
       "      <td>0.250325</td>\n",
       "      <td>0.844882</td>\n",
       "      <td>0.966797</td>\n",
       "    </tr>\n",
       "    <tr>\n",
       "      <th>11</th>\n",
       "      <td>{'max_depth': 18, 'max_features': 'log2'}</td>\n",
       "      <td>4.900447</td>\n",
       "      <td>0.226564</td>\n",
       "      <td>0.839033</td>\n",
       "      <td>0.961236</td>\n",
       "    </tr>\n",
       "    <tr>\n",
       "      <th>10</th>\n",
       "      <td>{'max_depth': 18, 'max_features': 'sqrt'}</td>\n",
       "      <td>4.960610</td>\n",
       "      <td>0.226568</td>\n",
       "      <td>0.839033</td>\n",
       "      <td>0.961236</td>\n",
       "    </tr>\n",
       "    <tr>\n",
       "      <th>8</th>\n",
       "      <td>{'max_depth': 17, 'max_features': 'log2'}</td>\n",
       "      <td>4.619632</td>\n",
       "      <td>0.212566</td>\n",
       "      <td>0.836548</td>\n",
       "      <td>0.954733</td>\n",
       "    </tr>\n",
       "    <tr>\n",
       "      <th>7</th>\n",
       "      <td>{'max_depth': 17, 'max_features': 'sqrt'}</td>\n",
       "      <td>4.607500</td>\n",
       "      <td>0.230535</td>\n",
       "      <td>0.836548</td>\n",
       "      <td>0.954733</td>\n",
       "    </tr>\n",
       "    <tr>\n",
       "      <th>5</th>\n",
       "      <td>{'max_depth': 16, 'max_features': 'log2'}</td>\n",
       "      <td>4.322464</td>\n",
       "      <td>0.179983</td>\n",
       "      <td>0.830624</td>\n",
       "      <td>0.946014</td>\n",
       "    </tr>\n",
       "    <tr>\n",
       "      <th>4</th>\n",
       "      <td>{'max_depth': 16, 'max_features': 'sqrt'}</td>\n",
       "      <td>4.198868</td>\n",
       "      <td>0.191419</td>\n",
       "      <td>0.830624</td>\n",
       "      <td>0.946014</td>\n",
       "    </tr>\n",
       "    <tr>\n",
       "      <th>2</th>\n",
       "      <td>{'max_depth': 15, 'max_features': 'log2'}</td>\n",
       "      <td>4.622344</td>\n",
       "      <td>0.168311</td>\n",
       "      <td>0.822666</td>\n",
       "      <td>0.934787</td>\n",
       "    </tr>\n",
       "    <tr>\n",
       "      <th>1</th>\n",
       "      <td>{'max_depth': 15, 'max_features': 'sqrt'}</td>\n",
       "      <td>4.798122</td>\n",
       "      <td>0.171985</td>\n",
       "      <td>0.822666</td>\n",
       "      <td>0.934787</td>\n",
       "    </tr>\n",
       "  </tbody>\n",
       "</table>\n",
       "</div>"
      ]
     },
     "metadata": {},
     "output_type": "display_data"
    }
   ],
   "execution_count": 8
  },
  {
   "metadata": {
    "ExecuteTime": {
     "end_time": "2024-05-31T08:50:36.183821Z",
     "start_time": "2024-05-31T08:50:14.008178Z"
    }
   },
   "cell_type": "code",
   "source": [
    "from sklearn.model_selection import learning_curve\n",
    "\n",
    "# Calculate accuracy on training and test set using the\n",
    "# gamma parameter with 4-fold cross validation\n",
    "train_sizes, train_score, val_score = learning_curve(RandomForestRegressor(n_estimators=10,max_depth=28,max_features=None, random_state=42), X_train, Y_train,\n",
    "                                          cv=4, train_sizes=np.linspace(0.1, 1.0, 10),scoring=\"r2\")\n",
    "\n",
    "train_score_mean = np.mean(train_score, axis=1)\n",
    "train_score_std = np.std(train_score, axis=1)\n",
    "\n",
    "val_score_mean = np.mean(val_score, axis=1)\n",
    "val_score_std = np.std(val_score, axis=1)\n",
    "\n",
    "plt.plot(train_sizes, train_score_mean,\n",
    "         label=\"Training Score\", color='b')\n",
    "plt.plot(train_sizes, val_score_mean,\n",
    "         label=\"Cross Validation Score\", color='g')\n",
    "# Creating the plot\n",
    "plt.title(\"Learning Curve with Random Forest Regressor\")\n",
    "plt.xlabel(\"Training examples\")\n",
    "plt.ylabel(\"R2 Score\")\n",
    "plt.tight_layout()\n",
    "plt.legend(loc='best')\n",
    "plt.show()"
   ],
   "id": "71cc1f21e61c48f",
   "outputs": [
    {
     "data": {
      "text/plain": [
       "<Figure size 640x480 with 1 Axes>"
      ],
      "image/png": "[encoded data removed]"
     },
     "metadata": {},
     "output_type": "display_data"
    }
   ],
   "execution_count": 9
  },
  {
   "metadata": {
    "ExecuteTime": {
     "end_time": "2024-05-31T08:50:36.187875Z",
     "start_time": "2024-05-31T08:50:36.184845Z"
    }
   },
   "cell_type": "code",
   "source": [
    "# start = time.time()\n",
    "# # Create the model\n",
    "# model = RandomForestRegressor(n_estimators=10, max_depth=20 , random_state=42)\n",
    "# print(\"Start training...\")\n",
    "# model.fit(X_train, Y_train)\n",
    "# end = time.time()\n",
    "# print(\"Time execution : \", end - start)\n",
    "# pickle.dump(model, open(model_file, 'wb'))"
   ],
   "id": "ee94eacfc512905e",
   "outputs": [],
   "execution_count": 10
  },
  {
   "metadata": {
    "ExecuteTime": {
     "end_time": "2024-05-31T08:50:36.322243Z",
     "start_time": "2024-05-31T08:50:36.188881Z"
    }
   },
   "cell_type": "code",
   "source": "loaded_model = pickle.load(open(model_file, 'rb'))",
   "id": "c2b992b582280c7a",
   "outputs": [],
   "execution_count": 11
  },
  {
   "metadata": {
    "ExecuteTime": {
     "end_time": "2024-05-31T08:50:36.573797Z",
     "start_time": "2024-05-31T08:50:36.322243Z"
    }
   },
   "cell_type": "code",
   "source": [
    "feature_names = [f\"{column}\" for column in X_train]\n",
    "importances = loaded_model.feature_importances_\n",
    "forest_importances = pd.Series(importances, index=feature_names)\n",
    "std = np.std([tree.feature_importances_ for tree in loaded_model.estimators_], axis=0)\n",
    "sorted_importances = forest_importances.sort_values(ascending=False)\n",
    "fig, ax = plt.subplots()\n",
    "sorted_importances.plot.bar(yerr=std, ax=ax)\n",
    "ax.set_title(\"Feature importances using MDI\")\n",
    "ax.set_ylabel(\"Mean decrease in impurity\")\n",
    "fig.tight_layout()"
   ],
   "id": "338c8f13cbfc5364",
   "outputs": [
    {
     "data": {
      "text/plain": [
       "<Figure size 640x480 with 1 Axes>"
      ],
      "image/png": "[encoded data removed]"
     },
     "metadata": {},
     "output_type": "display_data"
    }
   ],
   "execution_count": 12
  },
  {
   "metadata": {
    "ExecuteTime": {
     "end_time": "2024-05-31T08:50:37.118503Z",
     "start_time": "2024-05-31T08:50:36.574938Z"
    }
   },
   "cell_type": "code",
   "source": [
    "#Make the predictions \n",
    "Y_pred = loaded_model.predict(X_test)\n",
    "pred_table = pd.DataFrame(data={\"actual value\":Y_test, \"predicted\":loaded_model.predict(X_test)})\n",
    "pred_table[\"difference\"] = pred_table[\"actual value\"] - pred_table[\"predicted\"]\n",
    "pred_table"
   ],
   "id": "58a09c965b647884",
   "outputs": [
    {
     "data": {
      "text/plain": [
       "       actual value      predicted   difference\n",
       "11237       36000.0   36678.665067  -678.665067\n",
       "71941       19812.0   19738.880000    73.120000\n",
       "49651       83640.0   81229.991994  2410.008006\n",
       "54393       77988.0   87466.832000 -9478.832000\n",
       "55831      538800.0  538800.000000     0.000000\n",
       "...             ...            ...          ...\n",
       "66535       67200.0   68083.573410  -883.573410\n",
       "72102      270000.0  269928.000000    72.000000\n",
       "47319      180000.0  175242.285714  4757.714286\n",
       "46152      222000.0  230451.000000 -8451.000000\n",
       "49602       81600.0   78694.924757  2905.075243\n",
       "\n",
       "[12286 rows x 3 columns]"
      ],
      "text/html": [
       "<div>\n",
       "<style scoped>\n",
       "    .dataframe tbody tr th:only-of-type {\n",
       "        vertical-align: middle;\n",
       "    }\n",
       "\n",
       "    .dataframe tbody tr th {\n",
       "        vertical-align: top;\n",
       "    }\n",
       "\n",
       "    .dataframe thead th {\n",
       "        text-align: right;\n",
       "    }\n",
       "</style>\n",
       "<table border=\"1\" class=\"dataframe\">\n",
       "  <thead>\n",
       "    <tr style=\"text-align: right;\">\n",
       "      <th></th>\n",
       "      <th>actual value</th>\n",
       "      <th>predicted</th>\n",
       "      <th>difference</th>\n",
       "    </tr>\n",
       "  </thead>\n",
       "  <tbody>\n",
       "    <tr>\n",
       "      <th>11237</th>\n",
       "      <td>36000.0</td>\n",
       "      <td>36678.665067</td>\n",
       "      <td>-678.665067</td>\n",
       "    </tr>\n",
       "    <tr>\n",
       "      <th>71941</th>\n",
       "      <td>19812.0</td>\n",
       "      <td>19738.880000</td>\n",
       "      <td>73.120000</td>\n",
       "    </tr>\n",
       "    <tr>\n",
       "      <th>49651</th>\n",
       "      <td>83640.0</td>\n",
       "      <td>81229.991994</td>\n",
       "      <td>2410.008006</td>\n",
       "    </tr>\n",
       "    <tr>\n",
       "      <th>54393</th>\n",
       "      <td>77988.0</td>\n",
       "      <td>87466.832000</td>\n",
       "      <td>-9478.832000</td>\n",
       "    </tr>\n",
       "    <tr>\n",
       "      <th>55831</th>\n",
       "      <td>538800.0</td>\n",
       "      <td>538800.000000</td>\n",
       "      <td>0.000000</td>\n",
       "    </tr>\n",
       "    <tr>\n",
       "      <th>...</th>\n",
       "      <td>...</td>\n",
       "      <td>...</td>\n",
       "      <td>...</td>\n",
       "    </tr>\n",
       "    <tr>\n",
       "      <th>66535</th>\n",
       "      <td>67200.0</td>\n",
       "      <td>68083.573410</td>\n",
       "      <td>-883.573410</td>\n",
       "    </tr>\n",
       "    <tr>\n",
       "      <th>72102</th>\n",
       "      <td>270000.0</td>\n",
       "      <td>269928.000000</td>\n",
       "      <td>72.000000</td>\n",
       "    </tr>\n",
       "    <tr>\n",
       "      <th>47319</th>\n",
       "      <td>180000.0</td>\n",
       "      <td>175242.285714</td>\n",
       "      <td>4757.714286</td>\n",
       "    </tr>\n",
       "    <tr>\n",
       "      <th>46152</th>\n",
       "      <td>222000.0</td>\n",
       "      <td>230451.000000</td>\n",
       "      <td>-8451.000000</td>\n",
       "    </tr>\n",
       "    <tr>\n",
       "      <th>49602</th>\n",
       "      <td>81600.0</td>\n",
       "      <td>78694.924757</td>\n",
       "      <td>2905.075243</td>\n",
       "    </tr>\n",
       "  </tbody>\n",
       "</table>\n",
       "<p>12286 rows × 3 columns</p>\n",
       "</div>"
      ]
     },
     "execution_count": 13,
     "metadata": {},
     "output_type": "execute_result"
    }
   ],
   "execution_count": 13
  },
  {
   "metadata": {
    "ExecuteTime": {
     "end_time": "2024-05-31T08:50:37.475301Z",
     "start_time": "2024-05-31T08:50:37.121138Z"
    }
   },
   "cell_type": "code",
   "source": [
    "# Assuming you have obtained Y_pred and Y_test from your model\n",
    "\n",
    "# Create a scatter plot or line plot\n",
    "# Scatter plot for Y_test (green)\n",
    "plt.scatter(Y_test, Y_test, c='green', marker='o', label='True Value', alpha=0.7)\n",
    "\n",
    "# Scatter plot for Y_pred (red)\n",
    "plt.scatter(Y_test, Y_pred, c='red', marker='x', label='Predicted Value', alpha=0.7)\n",
    "plt.plot([Y_test.min(), Y_test.max()], [Y_test.min(), Y_test.max()], 'b--')  # Diagonal line for reference\n",
    "plt.xlabel('Actual Values (Y_test)')\n",
    "plt.ylabel('Predicted Values (Y_pred)')\n",
    "plt.legend(fontsize=12)\n",
    "plt.title('Actual vs. Predicted House Prices using Random Forest Regressor')\n",
    "plt.grid(alpha=0.4)\n",
    "# Show the plot\n",
    "plt.show()\n"
   ],
   "id": "2e67c755e27f0cf4",
   "outputs": [
    {
     "data": {
      "text/plain": [
       "<Figure size 640x480 with 1 Axes>"
      ],
      "image/png": "[encoded data removed]"
     },
     "metadata": {},
     "output_type": "display_data"
    }
   ],
   "execution_count": 14
  },
  {
   "metadata": {
    "ExecuteTime": {
     "end_time": "2024-05-31T08:50:38.687039Z",
     "start_time": "2024-05-31T08:50:37.476305Z"
    }
   },
   "cell_type": "code",
   "source": [
    "from sklearn.metrics import r2_score\n",
    "#Test the model\n",
    "pred_train = loaded_model.predict(X_train)\n",
    "pred_test = loaded_model.predict(X_test)\n",
    "train_accuracy = r2_score(pred_train, Y_train)\n",
    "test_accuracy = r2_score(pred_test, Y_test)\n",
    "print('Training r2 score: ',train_accuracy)\n",
    "print('Test r2 score: ',test_accuracy)"
   ],
   "id": "25641b90fbbfcb23",
   "outputs": [
    {
     "name": "stdout",
     "output_type": "stream",
     "text": [
      "Training r2 score:  0.9822204749803394\n",
      "Test r2 score:  0.8989615152091313\n"
     ]
    }
   ],
   "execution_count": 15
  },
  {
   "metadata": {
    "ExecuteTime": {
     "end_time": "2024-05-31T08:50:38.693656Z",
     "start_time": "2024-05-31T08:50:38.687039Z"
    }
   },
   "cell_type": "code",
   "source": [
    "from sklearn.metrics import mean_squared_error\n",
    "mse_train = mean_squared_error(Y_train, pred_train)\n",
    "mse_test = mean_squared_error(Y_test, pred_test)\n",
    "print('Training mean squared error: ', mse_train)\n",
    "print('Test mean squared error: ', mse_test)"
   ],
   "id": "d84dec3e2610031b",
   "outputs": [
    {
     "name": "stdout",
     "output_type": "stream",
     "text": [
      "Training mean squared error:  1127358898.6670885\n",
      "Test mean squared error:  5213087181.090296\n"
     ]
    }
   ],
   "execution_count": 16
  },
  {
   "metadata": {
    "ExecuteTime": {
     "end_time": "2024-05-31T08:50:38.708163Z",
     "start_time": "2024-05-31T08:50:38.694168Z"
    }
   },
   "cell_type": "code",
   "source": [
    "from sklearn.metrics import mean_absolute_error\n",
    "mae_train = mean_absolute_error(Y_train, pred_train)\n",
    "mae_test = mean_absolute_error(Y_test, pred_test)\n",
    "print('Training mean absolute error: ', mae_train)\n",
    "print('Test mean absolute error: ', mae_test)"
   ],
   "id": "2a6ce0e7e7c49d63",
   "outputs": [
    {
     "name": "stdout",
     "output_type": "stream",
     "text": [
      "Training mean absolute error:  9995.974947499426\n",
      "Test mean absolute error:  22617.670115981742\n"
     ]
    }
   ],
   "execution_count": 17
  },
  {
   "metadata": {
    "ExecuteTime": {
     "end_time": "2024-05-31T08:50:38.711343Z",
     "start_time": "2024-05-31T08:50:38.708163Z"
    }
   },
   "cell_type": "code",
   "source": "",
   "id": "5b070bdfb3e7dae5",
   "outputs": [],
   "execution_count": 17
  }
 ],
 "metadata": {
  "kernelspec": {
   "display_name": "Python 3",
   "language": "python",
   "name": "python3"
  },
  "language_info": {
   "codemirror_mode": {
    "name": "ipython",
    "version": 2
   },
   "file_extension": ".py",
   "mimetype": "text/x-python",
   "name": "python",
   "nbconvert_exporter": "python",
   "pygments_lexer": "ipython2",
   "version": "2.7.6"
  }
 },
 "nbformat": 4,
 "nbformat_minor": 5
}

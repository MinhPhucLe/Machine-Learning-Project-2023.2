{
 "cells": [
  {
   "cell_type": "code",
   "id": "initial_id",
   "metadata": {
    "collapsed": true,
    "ExecuteTime": {
     "end_time": "2024-05-31T02:13:00.750121Z",
     "start_time": "2024-05-31T02:13:00.400088Z"
    }
   },
   "source": [
    "import pandas as pd \n",
    "import matplotlib.pyplot as plt\n",
    "from sklearn.ensemble import RandomForestRegressor\n",
    "import time\n",
    "import seaborn as sns\n",
    "import pickle\n",
    "import numpy as np"
   ],
   "outputs": [],
   "execution_count": 1
  },
  {
   "metadata": {
    "ExecuteTime": {
     "end_time": "2024-05-31T02:13:00.755859Z",
     "start_time": "2024-05-31T02:13:00.751132Z"
    }
   },
   "cell_type": "code",
   "source": [
    "model_file = \"../../models/RandomForest_2\"\n",
    "data_file = \"../../data/processed_data_1.csv\""
   ],
   "id": "d60bd2f5f5c80ed9",
   "outputs": [],
   "execution_count": 2
  },
  {
   "metadata": {
    "ExecuteTime": {
     "end_time": "2024-05-31T02:13:00.817687Z",
     "start_time": "2024-05-31T02:13:00.756871Z"
    }
   },
   "cell_type": "code",
   "source": [
    "data = pd.read_csv(data_file)\n",
    "# Process type  ( Apartment: 0, Independent House: 1, Studio Apartment: 2, villa: 3 )\n",
    "# Process status ( Ready to move: 0, under Construction: 1 )\n",
    "data = data[data['age'] != 2]\n",
    "# for column in data:\n",
    "#     if column in [\"bhk\",\"status\",\"house_type\",\"new\"]:\n",
    "#         # Get the value counts for the column\n",
    "#         value_counts = data[column].value_counts()\n",
    "#         # Find the values that occur fewer than 10 times\n",
    "#         to_drop = value_counts[value_counts < 10].index\n",
    "#         # Drop rows where the column's value is in the to_drop list\n",
    "#         data = data[~data[column].isin(to_drop)]\n",
    "for column in data:\n",
    "    if column in [\"bhk\",\"status\",\"house_type\",\"new\",\"age\"]:\n",
    "        print(\"Column Name: \", column)\n",
    "        print(data[column].unique())\n",
    "        print(data[column].value_counts())"
   ],
   "id": "526a313c6a4b1c9f",
   "outputs": [
    {
     "name": "stdout",
     "output_type": "stream",
     "text": [
      "Column Name:  bhk\n",
      "[ 3  2  5  1  4  6  9  8 10  7]\n",
      "bhk\n",
      "2     26563\n",
      "1     22136\n",
      "3     10426\n",
      "4      1890\n",
      "5       316\n",
      "6        72\n",
      "7        14\n",
      "8         5\n",
      "9         4\n",
      "10        3\n",
      "Name: count, dtype: int64\n",
      "Column Name:  status\n",
      "[0 1]\n",
      "status\n",
      "0    34648\n",
      "1    26781\n",
      "Name: count, dtype: int64\n",
      "Column Name:  age\n",
      "[0 1]\n",
      "age\n",
      "0    38072\n",
      "1    23357\n",
      "Name: count, dtype: int64\n"
     ]
    }
   ],
   "execution_count": 3
  },
  {
   "metadata": {
    "ExecuteTime": {
     "end_time": "2024-05-31T02:13:00.822731Z",
     "start_time": "2024-05-31T02:13:00.819099Z"
    }
   },
   "cell_type": "code",
   "source": [
    "def preprocessing(data:pd.DataFrame) -> pd.DataFrame:\n",
    "    # data.drop([\"status\",\"new\",\"house_type\"], axis = 1, inplace = True)\n",
    "    data = data.dropna()\n",
    "    return data"
   ],
   "id": "9d3162b45feb327c",
   "outputs": [],
   "execution_count": 4
  },
  {
   "metadata": {
    "ExecuteTime": {
     "end_time": "2024-05-31T02:13:00.830816Z",
     "start_time": "2024-05-31T02:13:00.823742Z"
    }
   },
   "cell_type": "code",
   "source": [
    "processed_data = preprocessing(data)\n",
    "for column in processed_data:\n",
    "    print(column)"
   ],
   "id": "9b662e6d9124aa47",
   "outputs": [
    {
     "name": "stdout",
     "output_type": "stream",
     "text": [
      "bhk\n",
      "type\n",
      "locality\n",
      "area\n",
      "region\n",
      "status\n",
      "age\n",
      "price_in_USD\n"
     ]
    }
   ],
   "execution_count": 5
  },
  {
   "metadata": {
    "ExecuteTime": {
     "end_time": "2024-05-31T02:13:00.839226Z",
     "start_time": "2024-05-31T02:13:00.831826Z"
    }
   },
   "cell_type": "code",
   "source": [
    "X = processed_data.drop(labels=\"price_in_USD\",axis=1)\n",
    "Y = processed_data[\"price_in_USD\"]\n",
    "\n",
    "# scaler = StandardScaler()\n",
    "# X = scaler.fit_transform(X)\n",
    "\n",
    "print(X.shape)\n",
    "print(Y.shape)"
   ],
   "id": "6b59e0a7cc7b628",
   "outputs": [
    {
     "name": "stdout",
     "output_type": "stream",
     "text": [
      "(61429, 7)\n",
      "(61429,)\n"
     ]
    }
   ],
   "execution_count": 6
  },
  {
   "metadata": {
    "ExecuteTime": {
     "end_time": "2024-05-31T02:13:00.854886Z",
     "start_time": "2024-05-31T02:13:00.840581Z"
    }
   },
   "cell_type": "code",
   "source": [
    "from sklearn.model_selection import train_test_split\n",
    "X_train, X_test, Y_train, Y_test = train_test_split(X,Y,test_size=0.25,random_state=0)"
   ],
   "id": "1abba800f23eda6",
   "outputs": [],
   "execution_count": 7
  },
  {
   "metadata": {
    "ExecuteTime": {
     "end_time": "2024-05-31T02:16:14.258182Z",
     "start_time": "2024-05-31T02:13:00.855698Z"
    }
   },
   "cell_type": "code",
   "source": [
    "from sklearn.model_selection import GridSearchCV\n",
    "\n",
    "param_grid = {'max_depth': np.arange(15, 30, 1),'max_features': [None, 'sqrt','log2']}\n",
    "def hypersearch(model, model_name, param_grid, X_train, Y_train, scoring='r2'):\n",
    "    # Hyperparameter tuning\n",
    "    rs = GridSearchCV(model, param_grid, cv=4,n_jobs=-1, scoring=scoring, return_train_score=True)\n",
    "    rs.fit(X_train, Y_train)\n",
    "    best_model = rs.best_estimator_\n",
    "\n",
    "    #add the report about best hyperparameter of the model to dataframe\n",
    "    result = pd.DataFrame(rs.cv_results_)\n",
    "    result.sort_values('rank_test_score', inplace=True)\n",
    "    result = result[['params', 'mean_fit_time', 'mean_score_time', 'mean_test_score', 'mean_train_score']]\n",
    "    display(result)\n",
    "    \n",
    "    pickle.dump(best_model, open(model_name, 'wb'))\n",
    "    return best_model\n",
    "\n",
    "model = hypersearch(RandomForestRegressor(random_state=42), model_file, param_grid, X, Y)"
   ],
   "id": "3762530256028aba",
   "outputs": [
    {
     "data": {
      "text/plain": [
       "                                       params  mean_fit_time  mean_score_time  \\\n",
       "21    {'max_depth': 22, 'max_features': None}      17.000652         0.314838   \n",
       "39    {'max_depth': 28, 'max_features': None}      19.079775         0.408688   \n",
       "27    {'max_depth': 24, 'max_features': None}      17.458646         0.347721   \n",
       "42    {'max_depth': 29, 'max_features': None}      18.649502         0.310522   \n",
       "24    {'max_depth': 23, 'max_features': None}      17.340705         0.339027   \n",
       "36    {'max_depth': 27, 'max_features': None}      18.746190         0.398252   \n",
       "30    {'max_depth': 25, 'max_features': None}      18.264376         0.373206   \n",
       "18    {'max_depth': 21, 'max_features': None}      16.648425         0.304613   \n",
       "33    {'max_depth': 26, 'max_features': None}      18.561863         0.394833   \n",
       "12    {'max_depth': 19, 'max_features': None}      15.288870         0.266622   \n",
       "15    {'max_depth': 20, 'max_features': None}      15.753646         0.286570   \n",
       "6     {'max_depth': 17, 'max_features': None}      14.437767         0.226622   \n",
       "9     {'max_depth': 18, 'max_features': None}      14.768765         0.253361   \n",
       "3     {'max_depth': 16, 'max_features': None}      14.377435         0.201247   \n",
       "0     {'max_depth': 15, 'max_features': None}      13.037918         0.194290   \n",
       "43  {'max_depth': 29, 'max_features': 'sqrt'}       9.152187         0.441932   \n",
       "44  {'max_depth': 29, 'max_features': 'log2'}       8.892148         0.349955   \n",
       "32  {'max_depth': 25, 'max_features': 'log2'}       8.107876         0.381287   \n",
       "31  {'max_depth': 25, 'max_features': 'sqrt'}       8.322835         0.387412   \n",
       "38  {'max_depth': 27, 'max_features': 'log2'}       8.767325         0.423109   \n",
       "37  {'max_depth': 27, 'max_features': 'sqrt'}       8.718025         0.429509   \n",
       "25  {'max_depth': 23, 'max_features': 'sqrt'}       7.779588         0.360780   \n",
       "26  {'max_depth': 23, 'max_features': 'log2'}       7.825604         0.346577   \n",
       "29  {'max_depth': 24, 'max_features': 'log2'}       8.067267         0.371266   \n",
       "28  {'max_depth': 24, 'max_features': 'sqrt'}       8.070218         0.379532   \n",
       "41  {'max_depth': 28, 'max_features': 'log2'}       9.118135         0.404744   \n",
       "40  {'max_depth': 28, 'max_features': 'sqrt'}       9.160808         0.425359   \n",
       "17  {'max_depth': 20, 'max_features': 'log2'}       6.763869         0.296490   \n",
       "16  {'max_depth': 20, 'max_features': 'sqrt'}       6.788636         0.296334   \n",
       "22  {'max_depth': 22, 'max_features': 'sqrt'}       7.453030         0.348336   \n",
       "23  {'max_depth': 22, 'max_features': 'log2'}       7.461080         0.332830   \n",
       "34  {'max_depth': 26, 'max_features': 'sqrt'}       8.620862         0.409527   \n",
       "35  {'max_depth': 26, 'max_features': 'log2'}       8.808327         0.403707   \n",
       "20  {'max_depth': 21, 'max_features': 'log2'}       7.208835         0.348832   \n",
       "19  {'max_depth': 21, 'max_features': 'sqrt'}       7.205426         0.368665   \n",
       "13  {'max_depth': 19, 'max_features': 'sqrt'}       6.446214         0.274954   \n",
       "14  {'max_depth': 19, 'max_features': 'log2'}       6.467489         0.275272   \n",
       "10  {'max_depth': 18, 'max_features': 'sqrt'}       6.187060         0.270044   \n",
       "11  {'max_depth': 18, 'max_features': 'log2'}       6.188222         0.254309   \n",
       "8   {'max_depth': 17, 'max_features': 'log2'}       5.791899         0.218391   \n",
       "7   {'max_depth': 17, 'max_features': 'sqrt'}       5.764996         0.226440   \n",
       "5   {'max_depth': 16, 'max_features': 'log2'}       5.511913         0.259266   \n",
       "4   {'max_depth': 16, 'max_features': 'sqrt'}       5.456453         0.199799   \n",
       "2   {'max_depth': 15, 'max_features': 'log2'}       5.109702         0.195233   \n",
       "1   {'max_depth': 15, 'max_features': 'sqrt'}       5.167611         0.192996   \n",
       "\n",
       "    mean_test_score  mean_train_score  \n",
       "21         0.831374          0.982282  \n",
       "39         0.831250          0.983809  \n",
       "27         0.831206          0.983117  \n",
       "42         0.830333          0.983865  \n",
       "24         0.830209          0.982674  \n",
       "36         0.829725          0.983643  \n",
       "30         0.829601          0.983372  \n",
       "18         0.829164          0.981505  \n",
       "33         0.828919          0.983557  \n",
       "12         0.828627          0.979304  \n",
       "15         0.828578          0.980632  \n",
       "6          0.827633          0.975377  \n",
       "9          0.826837          0.977678  \n",
       "3          0.826837          0.972327  \n",
       "0          0.823637          0.967895  \n",
       "43         0.794192          0.981848  \n",
       "44         0.794192          0.981848  \n",
       "32         0.793818          0.980570  \n",
       "31         0.793818          0.980570  \n",
       "38         0.792326          0.981400  \n",
       "37         0.792326          0.981400  \n",
       "25         0.791109          0.978877  \n",
       "26         0.791109          0.978877  \n",
       "29         0.790071          0.980096  \n",
       "28         0.790071          0.980096  \n",
       "41         0.789955          0.981444  \n",
       "40         0.789955          0.981444  \n",
       "17         0.789396          0.972728  \n",
       "16         0.789396          0.972728  \n",
       "22         0.788867          0.977385  \n",
       "23         0.788867          0.977385  \n",
       "34         0.788789          0.981122  \n",
       "35         0.788789          0.981122  \n",
       "20         0.785990          0.975202  \n",
       "19         0.785990          0.975202  \n",
       "13         0.783559          0.968297  \n",
       "14         0.783559          0.968297  \n",
       "10         0.782108          0.963238  \n",
       "11         0.782108          0.963238  \n",
       "8          0.779763          0.956183  \n",
       "7          0.779763          0.956183  \n",
       "5          0.771709          0.946363  \n",
       "4          0.771709          0.946363  \n",
       "2          0.769080          0.935567  \n",
       "1          0.769080          0.935567  "
      ],
      "text/html": [
       "<div>\n",
       "<style scoped>\n",
       "    .dataframe tbody tr th:only-of-type {\n",
       "        vertical-align: middle;\n",
       "    }\n",
       "\n",
       "    .dataframe tbody tr th {\n",
       "        vertical-align: top;\n",
       "    }\n",
       "\n",
       "    .dataframe thead th {\n",
       "        text-align: right;\n",
       "    }\n",
       "</style>\n",
       "<table border=\"1\" class=\"dataframe\">\n",
       "  <thead>\n",
       "    <tr style=\"text-align: right;\">\n",
       "      <th></th>\n",
       "      <th>params</th>\n",
       "      <th>mean_fit_time</th>\n",
       "      <th>mean_score_time</th>\n",
       "      <th>mean_test_score</th>\n",
       "      <th>mean_train_score</th>\n",
       "    </tr>\n",
       "  </thead>\n",
       "  <tbody>\n",
       "    <tr>\n",
       "      <th>21</th>\n",
       "      <td>{'max_depth': 22, 'max_features': None}</td>\n",
       "      <td>17.000652</td>\n",
       "      <td>0.314838</td>\n",
       "      <td>0.831374</td>\n",
       "      <td>0.982282</td>\n",
       "    </tr>\n",
       "    <tr>\n",
       "      <th>39</th>\n",
       "      <td>{'max_depth': 28, 'max_features': None}</td>\n",
       "      <td>19.079775</td>\n",
       "      <td>0.408688</td>\n",
       "      <td>0.831250</td>\n",
       "      <td>0.983809</td>\n",
       "    </tr>\n",
       "    <tr>\n",
       "      <th>27</th>\n",
       "      <td>{'max_depth': 24, 'max_features': None}</td>\n",
       "      <td>17.458646</td>\n",
       "      <td>0.347721</td>\n",
       "      <td>0.831206</td>\n",
       "      <td>0.983117</td>\n",
       "    </tr>\n",
       "    <tr>\n",
       "      <th>42</th>\n",
       "      <td>{'max_depth': 29, 'max_features': None}</td>\n",
       "      <td>18.649502</td>\n",
       "      <td>0.310522</td>\n",
       "      <td>0.830333</td>\n",
       "      <td>0.983865</td>\n",
       "    </tr>\n",
       "    <tr>\n",
       "      <th>24</th>\n",
       "      <td>{'max_depth': 23, 'max_features': None}</td>\n",
       "      <td>17.340705</td>\n",
       "      <td>0.339027</td>\n",
       "      <td>0.830209</td>\n",
       "      <td>0.982674</td>\n",
       "    </tr>\n",
       "    <tr>\n",
       "      <th>36</th>\n",
       "      <td>{'max_depth': 27, 'max_features': None}</td>\n",
       "      <td>18.746190</td>\n",
       "      <td>0.398252</td>\n",
       "      <td>0.829725</td>\n",
       "      <td>0.983643</td>\n",
       "    </tr>\n",
       "    <tr>\n",
       "      <th>30</th>\n",
       "      <td>{'max_depth': 25, 'max_features': None}</td>\n",
       "      <td>18.264376</td>\n",
       "      <td>0.373206</td>\n",
       "      <td>0.829601</td>\n",
       "      <td>0.983372</td>\n",
       "    </tr>\n",
       "    <tr>\n",
       "      <th>18</th>\n",
       "      <td>{'max_depth': 21, 'max_features': None}</td>\n",
       "      <td>16.648425</td>\n",
       "      <td>0.304613</td>\n",
       "      <td>0.829164</td>\n",
       "      <td>0.981505</td>\n",
       "    </tr>\n",
       "    <tr>\n",
       "      <th>33</th>\n",
       "      <td>{'max_depth': 26, 'max_features': None}</td>\n",
       "      <td>18.561863</td>\n",
       "      <td>0.394833</td>\n",
       "      <td>0.828919</td>\n",
       "      <td>0.983557</td>\n",
       "    </tr>\n",
       "    <tr>\n",
       "      <th>12</th>\n",
       "      <td>{'max_depth': 19, 'max_features': None}</td>\n",
       "      <td>15.288870</td>\n",
       "      <td>0.266622</td>\n",
       "      <td>0.828627</td>\n",
       "      <td>0.979304</td>\n",
       "    </tr>\n",
       "    <tr>\n",
       "      <th>15</th>\n",
       "      <td>{'max_depth': 20, 'max_features': None}</td>\n",
       "      <td>15.753646</td>\n",
       "      <td>0.286570</td>\n",
       "      <td>0.828578</td>\n",
       "      <td>0.980632</td>\n",
       "    </tr>\n",
       "    <tr>\n",
       "      <th>6</th>\n",
       "      <td>{'max_depth': 17, 'max_features': None}</td>\n",
       "      <td>14.437767</td>\n",
       "      <td>0.226622</td>\n",
       "      <td>0.827633</td>\n",
       "      <td>0.975377</td>\n",
       "    </tr>\n",
       "    <tr>\n",
       "      <th>9</th>\n",
       "      <td>{'max_depth': 18, 'max_features': None}</td>\n",
       "      <td>14.768765</td>\n",
       "      <td>0.253361</td>\n",
       "      <td>0.826837</td>\n",
       "      <td>0.977678</td>\n",
       "    </tr>\n",
       "    <tr>\n",
       "      <th>3</th>\n",
       "      <td>{'max_depth': 16, 'max_features': None}</td>\n",
       "      <td>14.377435</td>\n",
       "      <td>0.201247</td>\n",
       "      <td>0.826837</td>\n",
       "      <td>0.972327</td>\n",
       "    </tr>\n",
       "    <tr>\n",
       "      <th>0</th>\n",
       "      <td>{'max_depth': 15, 'max_features': None}</td>\n",
       "      <td>13.037918</td>\n",
       "      <td>0.194290</td>\n",
       "      <td>0.823637</td>\n",
       "      <td>0.967895</td>\n",
       "    </tr>\n",
       "    <tr>\n",
       "      <th>43</th>\n",
       "      <td>{'max_depth': 29, 'max_features': 'sqrt'}</td>\n",
       "      <td>9.152187</td>\n",
       "      <td>0.441932</td>\n",
       "      <td>0.794192</td>\n",
       "      <td>0.981848</td>\n",
       "    </tr>\n",
       "    <tr>\n",
       "      <th>44</th>\n",
       "      <td>{'max_depth': 29, 'max_features': 'log2'}</td>\n",
       "      <td>8.892148</td>\n",
       "      <td>0.349955</td>\n",
       "      <td>0.794192</td>\n",
       "      <td>0.981848</td>\n",
       "    </tr>\n",
       "    <tr>\n",
       "      <th>32</th>\n",
       "      <td>{'max_depth': 25, 'max_features': 'log2'}</td>\n",
       "      <td>8.107876</td>\n",
       "      <td>0.381287</td>\n",
       "      <td>0.793818</td>\n",
       "      <td>0.980570</td>\n",
       "    </tr>\n",
       "    <tr>\n",
       "      <th>31</th>\n",
       "      <td>{'max_depth': 25, 'max_features': 'sqrt'}</td>\n",
       "      <td>8.322835</td>\n",
       "      <td>0.387412</td>\n",
       "      <td>0.793818</td>\n",
       "      <td>0.980570</td>\n",
       "    </tr>\n",
       "    <tr>\n",
       "      <th>38</th>\n",
       "      <td>{'max_depth': 27, 'max_features': 'log2'}</td>\n",
       "      <td>8.767325</td>\n",
       "      <td>0.423109</td>\n",
       "      <td>0.792326</td>\n",
       "      <td>0.981400</td>\n",
       "    </tr>\n",
       "    <tr>\n",
       "      <th>37</th>\n",
       "      <td>{'max_depth': 27, 'max_features': 'sqrt'}</td>\n",
       "      <td>8.718025</td>\n",
       "      <td>0.429509</td>\n",
       "      <td>0.792326</td>\n",
       "      <td>0.981400</td>\n",
       "    </tr>\n",
       "    <tr>\n",
       "      <th>25</th>\n",
       "      <td>{'max_depth': 23, 'max_features': 'sqrt'}</td>\n",
       "      <td>7.779588</td>\n",
       "      <td>0.360780</td>\n",
       "      <td>0.791109</td>\n",
       "      <td>0.978877</td>\n",
       "    </tr>\n",
       "    <tr>\n",
       "      <th>26</th>\n",
       "      <td>{'max_depth': 23, 'max_features': 'log2'}</td>\n",
       "      <td>7.825604</td>\n",
       "      <td>0.346577</td>\n",
       "      <td>0.791109</td>\n",
       "      <td>0.978877</td>\n",
       "    </tr>\n",
       "    <tr>\n",
       "      <th>29</th>\n",
       "      <td>{'max_depth': 24, 'max_features': 'log2'}</td>\n",
       "      <td>8.067267</td>\n",
       "      <td>0.371266</td>\n",
       "      <td>0.790071</td>\n",
       "      <td>0.980096</td>\n",
       "    </tr>\n",
       "    <tr>\n",
       "      <th>28</th>\n",
       "      <td>{'max_depth': 24, 'max_features': 'sqrt'}</td>\n",
       "      <td>8.070218</td>\n",
       "      <td>0.379532</td>\n",
       "      <td>0.790071</td>\n",
       "      <td>0.980096</td>\n",
       "    </tr>\n",
       "    <tr>\n",
       "      <th>41</th>\n",
       "      <td>{'max_depth': 28, 'max_features': 'log2'}</td>\n",
       "      <td>9.118135</td>\n",
       "      <td>0.404744</td>\n",
       "      <td>0.789955</td>\n",
       "      <td>0.981444</td>\n",
       "    </tr>\n",
       "    <tr>\n",
       "      <th>40</th>\n",
       "      <td>{'max_depth': 28, 'max_features': 'sqrt'}</td>\n",
       "      <td>9.160808</td>\n",
       "      <td>0.425359</td>\n",
       "      <td>0.789955</td>\n",
       "      <td>0.981444</td>\n",
       "    </tr>\n",
       "    <tr>\n",
       "      <th>17</th>\n",
       "      <td>{'max_depth': 20, 'max_features': 'log2'}</td>\n",
       "      <td>6.763869</td>\n",
       "      <td>0.296490</td>\n",
       "      <td>0.789396</td>\n",
       "      <td>0.972728</td>\n",
       "    </tr>\n",
       "    <tr>\n",
       "      <th>16</th>\n",
       "      <td>{'max_depth': 20, 'max_features': 'sqrt'}</td>\n",
       "      <td>6.788636</td>\n",
       "      <td>0.296334</td>\n",
       "      <td>0.789396</td>\n",
       "      <td>0.972728</td>\n",
       "    </tr>\n",
       "    <tr>\n",
       "      <th>22</th>\n",
       "      <td>{'max_depth': 22, 'max_features': 'sqrt'}</td>\n",
       "      <td>7.453030</td>\n",
       "      <td>0.348336</td>\n",
       "      <td>0.788867</td>\n",
       "      <td>0.977385</td>\n",
       "    </tr>\n",
       "    <tr>\n",
       "      <th>23</th>\n",
       "      <td>{'max_depth': 22, 'max_features': 'log2'}</td>\n",
       "      <td>7.461080</td>\n",
       "      <td>0.332830</td>\n",
       "      <td>0.788867</td>\n",
       "      <td>0.977385</td>\n",
       "    </tr>\n",
       "    <tr>\n",
       "      <th>34</th>\n",
       "      <td>{'max_depth': 26, 'max_features': 'sqrt'}</td>\n",
       "      <td>8.620862</td>\n",
       "      <td>0.409527</td>\n",
       "      <td>0.788789</td>\n",
       "      <td>0.981122</td>\n",
       "    </tr>\n",
       "    <tr>\n",
       "      <th>35</th>\n",
       "      <td>{'max_depth': 26, 'max_features': 'log2'}</td>\n",
       "      <td>8.808327</td>\n",
       "      <td>0.403707</td>\n",
       "      <td>0.788789</td>\n",
       "      <td>0.981122</td>\n",
       "    </tr>\n",
       "    <tr>\n",
       "      <th>20</th>\n",
       "      <td>{'max_depth': 21, 'max_features': 'log2'}</td>\n",
       "      <td>7.208835</td>\n",
       "      <td>0.348832</td>\n",
       "      <td>0.785990</td>\n",
       "      <td>0.975202</td>\n",
       "    </tr>\n",
       "    <tr>\n",
       "      <th>19</th>\n",
       "      <td>{'max_depth': 21, 'max_features': 'sqrt'}</td>\n",
       "      <td>7.205426</td>\n",
       "      <td>0.368665</td>\n",
       "      <td>0.785990</td>\n",
       "      <td>0.975202</td>\n",
       "    </tr>\n",
       "    <tr>\n",
       "      <th>13</th>\n",
       "      <td>{'max_depth': 19, 'max_features': 'sqrt'}</td>\n",
       "      <td>6.446214</td>\n",
       "      <td>0.274954</td>\n",
       "      <td>0.783559</td>\n",
       "      <td>0.968297</td>\n",
       "    </tr>\n",
       "    <tr>\n",
       "      <th>14</th>\n",
       "      <td>{'max_depth': 19, 'max_features': 'log2'}</td>\n",
       "      <td>6.467489</td>\n",
       "      <td>0.275272</td>\n",
       "      <td>0.783559</td>\n",
       "      <td>0.968297</td>\n",
       "    </tr>\n",
       "    <tr>\n",
       "      <th>10</th>\n",
       "      <td>{'max_depth': 18, 'max_features': 'sqrt'}</td>\n",
       "      <td>6.187060</td>\n",
       "      <td>0.270044</td>\n",
       "      <td>0.782108</td>\n",
       "      <td>0.963238</td>\n",
       "    </tr>\n",
       "    <tr>\n",
       "      <th>11</th>\n",
       "      <td>{'max_depth': 18, 'max_features': 'log2'}</td>\n",
       "      <td>6.188222</td>\n",
       "      <td>0.254309</td>\n",
       "      <td>0.782108</td>\n",
       "      <td>0.963238</td>\n",
       "    </tr>\n",
       "    <tr>\n",
       "      <th>8</th>\n",
       "      <td>{'max_depth': 17, 'max_features': 'log2'}</td>\n",
       "      <td>5.791899</td>\n",
       "      <td>0.218391</td>\n",
       "      <td>0.779763</td>\n",
       "      <td>0.956183</td>\n",
       "    </tr>\n",
       "    <tr>\n",
       "      <th>7</th>\n",
       "      <td>{'max_depth': 17, 'max_features': 'sqrt'}</td>\n",
       "      <td>5.764996</td>\n",
       "      <td>0.226440</td>\n",
       "      <td>0.779763</td>\n",
       "      <td>0.956183</td>\n",
       "    </tr>\n",
       "    <tr>\n",
       "      <th>5</th>\n",
       "      <td>{'max_depth': 16, 'max_features': 'log2'}</td>\n",
       "      <td>5.511913</td>\n",
       "      <td>0.259266</td>\n",
       "      <td>0.771709</td>\n",
       "      <td>0.946363</td>\n",
       "    </tr>\n",
       "    <tr>\n",
       "      <th>4</th>\n",
       "      <td>{'max_depth': 16, 'max_features': 'sqrt'}</td>\n",
       "      <td>5.456453</td>\n",
       "      <td>0.199799</td>\n",
       "      <td>0.771709</td>\n",
       "      <td>0.946363</td>\n",
       "    </tr>\n",
       "    <tr>\n",
       "      <th>2</th>\n",
       "      <td>{'max_depth': 15, 'max_features': 'log2'}</td>\n",
       "      <td>5.109702</td>\n",
       "      <td>0.195233</td>\n",
       "      <td>0.769080</td>\n",
       "      <td>0.935567</td>\n",
       "    </tr>\n",
       "    <tr>\n",
       "      <th>1</th>\n",
       "      <td>{'max_depth': 15, 'max_features': 'sqrt'}</td>\n",
       "      <td>5.167611</td>\n",
       "      <td>0.192996</td>\n",
       "      <td>0.769080</td>\n",
       "      <td>0.935567</td>\n",
       "    </tr>\n",
       "  </tbody>\n",
       "</table>\n",
       "</div>"
      ]
     },
     "metadata": {},
     "output_type": "display_data"
    }
   ],
   "execution_count": 8
  },
  {
   "metadata": {
    "ExecuteTime": {
     "end_time": "2024-05-31T02:16:34.379314Z",
     "start_time": "2024-05-31T02:16:14.259191Z"
    }
   },
   "cell_type": "code",
   "source": [
    "from sklearn.model_selection import learning_curve\n",
    "\n",
    "# Calculate accuracy on training and test set using the\n",
    "# gamma parameter with 4-fold cross validation\n",
    "train_sizes, train_score, val_score = learning_curve(RandomForestRegressor(n_estimators=10,max_depth=22,max_features=1.0, random_state=42), X_train, Y_train,\n",
    "                                          cv=4, train_sizes=np.linspace(0.1, 1.0, 10),scoring=\"r2\")\n",
    "\n",
    "train_score_mean = np.mean(train_score, axis=1)\n",
    "train_score_std = np.std(train_score, axis=1)\n",
    "\n",
    "val_score_mean = np.mean(val_score, axis=1)\n",
    "val_score_std = np.std(val_score, axis=1)\n",
    "\n",
    "plt.plot(train_sizes, train_score_mean,\n",
    "         label=\"Training Score\", color='b')\n",
    "plt.plot(train_sizes, val_score_mean,\n",
    "         label=\"Cross Validation Score\", color='g')\n",
    "# Creating the plot\n",
    "plt.title(\"Learning Curve with Random Forest Regressor\")\n",
    "plt.xlabel(\"Training examples\")\n",
    "plt.ylabel(\"R2 Score\")\n",
    "plt.tight_layout()\n",
    "plt.legend(loc='best')\n",
    "plt.show()"
   ],
   "id": "71cc1f21e61c48f",
   "outputs": [
    {
     "data": {
      "text/plain": [
       "<Figure size 640x480 with 1 Axes>"
      ],
      "image/png": "[encoded data removed]"
     },
     "metadata": {},
     "output_type": "display_data"
    }
   ],
   "execution_count": 9
  },
  {
   "metadata": {
    "ExecuteTime": {
     "end_time": "2024-05-31T02:16:34.383521Z",
     "start_time": "2024-05-31T02:16:34.380635Z"
    }
   },
   "cell_type": "code",
   "source": [
    "# start = time.time()\n",
    "# # Create the model\n",
    "# model = RandomForestRegressor(n_estimators=10, max_depth=20 , random_state=42)\n",
    "# print(\"Start training...\")\n",
    "# model.fit(X_train, Y_train)\n",
    "# end = time.time()\n",
    "# print(\"Time execution : \", end - start)\n",
    "# pickle.dump(model, open(model_file, 'wb'))"
   ],
   "id": "ee94eacfc512905e",
   "outputs": [],
   "execution_count": 10
  },
  {
   "metadata": {
    "ExecuteTime": {
     "end_time": "2024-05-31T02:16:34.510045Z",
     "start_time": "2024-05-31T02:16:34.384545Z"
    }
   },
   "cell_type": "code",
   "source": "loaded_model = pickle.load(open(model_file, 'rb'))",
   "id": "c2b992b582280c7a",
   "outputs": [],
   "execution_count": 11
  },
  {
   "metadata": {
    "ExecuteTime": {
     "end_time": "2024-05-31T02:16:34.768632Z",
     "start_time": "2024-05-31T02:16:34.512054Z"
    }
   },
   "cell_type": "code",
   "source": [
    "feature_names = [f\"{column}\" for column in X_train]\n",
    "importances = loaded_model.feature_importances_\n",
    "forest_importances = pd.Series(importances, index=feature_names)\n",
    "std = np.std([tree.feature_importances_ for tree in loaded_model.estimators_], axis=0)\n",
    "sorted_importances = forest_importances.sort_values(ascending=False)\n",
    "fig, ax = plt.subplots()\n",
    "sorted_importances.plot.bar(yerr=std, ax=ax)\n",
    "ax.set_title(\"Feature importances using MDI\")\n",
    "ax.set_ylabel(\"Mean decrease in impurity\")\n",
    "fig.tight_layout()"
   ],
   "id": "338c8f13cbfc5364",
   "outputs": [
    {
     "data": {
      "text/plain": [
       "<Figure size 640x480 with 1 Axes>"
      ],
      "image/png": "[encoded data removed]"
     },
     "metadata": {},
     "output_type": "display_data"
    }
   ],
   "execution_count": 12
  },
  {
   "metadata": {
    "ExecuteTime": {
     "end_time": "2024-05-31T02:16:35.340521Z",
     "start_time": "2024-05-31T02:16:34.768632Z"
    }
   },
   "cell_type": "code",
   "source": [
    "#Make the predictions \n",
    "Y_pred = loaded_model.predict(X_test)\n",
    "pred_table = pd.DataFrame(data={\"actual value\":Y_test, \"predicted\":loaded_model.predict(X_test)})\n",
    "pred_table[\"difference\"] = pred_table[\"actual value\"] - pred_table[\"predicted\"]\n",
    "pred_table"
   ],
   "id": "58a09c965b647884",
   "outputs": [
    {
     "data": {
      "text/plain": [
       "       actual value      predicted    difference\n",
       "11237       36000.0   36179.085025   -179.085025\n",
       "71941       19812.0   19784.280000     27.720000\n",
       "49651       83640.0   79854.061481   3785.938519\n",
       "54393       77988.0   80543.992096  -2555.992096\n",
       "55831      538800.0  538800.000000      0.000000\n",
       "...             ...            ...           ...\n",
       "6107       115380.0  113112.720222   2267.279778\n",
       "10345      198000.0  207000.195594  -9000.195594\n",
       "32202      236400.0  231287.773608   5112.226392\n",
       "22542      132000.0  175154.599101 -43154.599101\n",
       "31371      204000.0  204247.572212   -247.572212\n",
       "\n",
       "[15358 rows x 3 columns]"
      ],
      "text/html": [
       "<div>\n",
       "<style scoped>\n",
       "    .dataframe tbody tr th:only-of-type {\n",
       "        vertical-align: middle;\n",
       "    }\n",
       "\n",
       "    .dataframe tbody tr th {\n",
       "        vertical-align: top;\n",
       "    }\n",
       "\n",
       "    .dataframe thead th {\n",
       "        text-align: right;\n",
       "    }\n",
       "</style>\n",
       "<table border=\"1\" class=\"dataframe\">\n",
       "  <thead>\n",
       "    <tr style=\"text-align: right;\">\n",
       "      <th></th>\n",
       "      <th>actual value</th>\n",
       "      <th>predicted</th>\n",
       "      <th>difference</th>\n",
       "    </tr>\n",
       "  </thead>\n",
       "  <tbody>\n",
       "    <tr>\n",
       "      <th>11237</th>\n",
       "      <td>36000.0</td>\n",
       "      <td>36179.085025</td>\n",
       "      <td>-179.085025</td>\n",
       "    </tr>\n",
       "    <tr>\n",
       "      <th>71941</th>\n",
       "      <td>19812.0</td>\n",
       "      <td>19784.280000</td>\n",
       "      <td>27.720000</td>\n",
       "    </tr>\n",
       "    <tr>\n",
       "      <th>49651</th>\n",
       "      <td>83640.0</td>\n",
       "      <td>79854.061481</td>\n",
       "      <td>3785.938519</td>\n",
       "    </tr>\n",
       "    <tr>\n",
       "      <th>54393</th>\n",
       "      <td>77988.0</td>\n",
       "      <td>80543.992096</td>\n",
       "      <td>-2555.992096</td>\n",
       "    </tr>\n",
       "    <tr>\n",
       "      <th>55831</th>\n",
       "      <td>538800.0</td>\n",
       "      <td>538800.000000</td>\n",
       "      <td>0.000000</td>\n",
       "    </tr>\n",
       "    <tr>\n",
       "      <th>...</th>\n",
       "      <td>...</td>\n",
       "      <td>...</td>\n",
       "      <td>...</td>\n",
       "    </tr>\n",
       "    <tr>\n",
       "      <th>6107</th>\n",
       "      <td>115380.0</td>\n",
       "      <td>113112.720222</td>\n",
       "      <td>2267.279778</td>\n",
       "    </tr>\n",
       "    <tr>\n",
       "      <th>10345</th>\n",
       "      <td>198000.0</td>\n",
       "      <td>207000.195594</td>\n",
       "      <td>-9000.195594</td>\n",
       "    </tr>\n",
       "    <tr>\n",
       "      <th>32202</th>\n",
       "      <td>236400.0</td>\n",
       "      <td>231287.773608</td>\n",
       "      <td>5112.226392</td>\n",
       "    </tr>\n",
       "    <tr>\n",
       "      <th>22542</th>\n",
       "      <td>132000.0</td>\n",
       "      <td>175154.599101</td>\n",
       "      <td>-43154.599101</td>\n",
       "    </tr>\n",
       "    <tr>\n",
       "      <th>31371</th>\n",
       "      <td>204000.0</td>\n",
       "      <td>204247.572212</td>\n",
       "      <td>-247.572212</td>\n",
       "    </tr>\n",
       "  </tbody>\n",
       "</table>\n",
       "<p>15358 rows × 3 columns</p>\n",
       "</div>"
      ]
     },
     "execution_count": 13,
     "metadata": {},
     "output_type": "execute_result"
    }
   ],
   "execution_count": 13
  },
  {
   "metadata": {
    "ExecuteTime": {
     "end_time": "2024-05-31T02:16:35.745470Z",
     "start_time": "2024-05-31T02:16:35.341981Z"
    }
   },
   "cell_type": "code",
   "source": [
    "# Assuming you have obtained Y_pred and Y_test from your model\n",
    "\n",
    "# Create a scatter plot or line plot\n",
    "# Scatter plot for Y_test (green)\n",
    "plt.scatter(Y_test, Y_test, c='green', marker='o', label='True Value', alpha=0.7)\n",
    "\n",
    "# Scatter plot for Y_pred (red)\n",
    "plt.scatter(Y_test, Y_pred, c='red', marker='x', label='Predicted Value', alpha=0.7)\n",
    "plt.plot([Y_test.min(), Y_test.max()], [Y_test.min(), Y_test.max()], 'b--')  # Diagonal line for reference\n",
    "plt.xlabel('Actual Values (Y_test)')\n",
    "plt.ylabel('Predicted Values (Y_pred)')\n",
    "plt.legend(fontsize=12)\n",
    "plt.title('Actual vs. Predicted House Prices using Random Forest Regressor')\n",
    "plt.grid(alpha=0.4)\n",
    "# Show the plot\n",
    "plt.show()"
   ],
   "id": "2e67c755e27f0cf4",
   "outputs": [
    {
     "data": {
      "text/plain": [
       "<Figure size 640x480 with 1 Axes>"
      ],
      "image/png": "[encoded data removed]"
     },
     "metadata": {},
     "output_type": "display_data"
    }
   ],
   "execution_count": 14
  },
  {
   "metadata": {
    "ExecuteTime": {
     "end_time": "2024-05-31T02:16:36.945642Z",
     "start_time": "2024-05-31T02:16:35.746668Z"
    }
   },
   "cell_type": "code",
   "source": [
    "from sklearn.metrics import r2_score\n",
    "#Test the model\n",
    "pred_train = loaded_model.predict(X_train)\n",
    "pred_test = loaded_model.predict(X_test)\n",
    "train_accuracy = r2_score(pred_train, Y_train)\n",
    "test_accuracy = r2_score(pred_test, Y_test)\n",
    "print('Training r2 score: ',train_accuracy)\n",
    "print('Test r2 score: ',test_accuracy)"
   ],
   "id": "25641b90fbbfcb23",
   "outputs": [
    {
     "name": "stdout",
     "output_type": "stream",
     "text": [
      "Training r2 score:  0.9813690789131717\n",
      "Test r2 score:  0.9821089078436187\n"
     ]
    }
   ],
   "execution_count": 15
  },
  {
   "metadata": {
    "ExecuteTime": {
     "end_time": "2024-05-31T02:16:36.951929Z",
     "start_time": "2024-05-31T02:16:36.946971Z"
    }
   },
   "cell_type": "code",
   "source": [
    "from sklearn.metrics import mean_squared_error\n",
    "mse_train = mean_squared_error(Y_train, pred_train)\n",
    "mse_test = mean_squared_error(Y_test, pred_test)\n",
    "print('Training mean squared error: ', mse_train)\n",
    "print('Test mean squared error: ', mse_test)"
   ],
   "id": "d84dec3e2610031b",
   "outputs": [
    {
     "name": "stdout",
     "output_type": "stream",
     "text": [
      "Training mean squared error:  1193047041.6146297\n",
      "Test mean squared error:  969968635.9576098\n"
     ]
    }
   ],
   "execution_count": 16
  },
  {
   "metadata": {
    "ExecuteTime": {
     "end_time": "2024-05-31T02:16:36.965182Z",
     "start_time": "2024-05-31T02:16:36.952441Z"
    }
   },
   "cell_type": "code",
   "source": [
    "from sklearn.metrics import mean_absolute_error\n",
    "mae_train = mean_absolute_error(Y_train, pred_train)\n",
    "mae_test = mean_absolute_error(Y_test, pred_test)\n",
    "print('Training mean absolute error: ', mae_train)\n",
    "print('Test mean absolute error: ', mae_test)"
   ],
   "id": "2a6ce0e7e7c49d63",
   "outputs": [
    {
     "name": "stdout",
     "output_type": "stream",
     "text": [
      "Training mean absolute error:  12377.144135391962\n",
      "Test mean absolute error:  12115.059481499453\n"
     ]
    }
   ],
   "execution_count": 17
  },
  {
   "metadata": {
    "ExecuteTime": {
     "end_time": "2024-05-31T02:16:36.968907Z",
     "start_time": "2024-05-31T02:16:36.965696Z"
    }
   },
   "cell_type": "code",
   "source": "",
   "id": "5b070bdfb3e7dae5",
   "outputs": [],
   "execution_count": 17
  }
 ],
 "metadata": {
  "kernelspec": {
   "display_name": "Python 3",
   "language": "python",
   "name": "python3"
  },
  "language_info": {
   "codemirror_mode": {
    "name": "ipython",
    "version": 2
   },
   "file_extension": ".py",
   "mimetype": "text/x-python",
   "name": "python",
   "nbconvert_exporter": "python",
   "pygments_lexer": "ipython2",
   "version": "2.7.6"
  }
 },
 "nbformat": 4,
 "nbformat_minor": 5
}

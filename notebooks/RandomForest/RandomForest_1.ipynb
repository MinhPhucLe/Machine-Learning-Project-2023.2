{
 "cells": [
  {
   "cell_type": "code",
   "id": "initial_id",
   "metadata": {
    "collapsed": true,
    "ExecuteTime": {
     "end_time": "2024-05-30T05:26:59.377945Z",
     "start_time": "2024-05-30T05:26:59.370381Z"
    }
   },
   "source": [
    "import pandas as pd \n",
    "import seaborn as sns\n",
    "import matplotlib.pyplot as plt\n",
    "from sklearn.ensemble import RandomForestRegressor\n",
    "import time\n",
    "import pickle\n",
    "import numpy as np"
   ],
   "outputs": [],
   "execution_count": 11
  },
  {
   "metadata": {
    "ExecuteTime": {
     "end_time": "2024-05-30T05:26:59.414421Z",
     "start_time": "2024-05-30T05:26:59.403760Z"
    }
   },
   "cell_type": "code",
   "source": [
    "data_file = '../../data/Mumbai_House_Price.csv'\n",
    "model_file = '../../models/RandomForest_1'"
   ],
   "id": "213a9a980ed4470a",
   "outputs": [],
   "execution_count": 12
  },
  {
   "metadata": {
    "ExecuteTime": {
     "end_time": "2024-05-30T05:26:59.534963Z",
     "start_time": "2024-05-30T05:26:59.431172Z"
    }
   },
   "cell_type": "code",
   "source": [
    "data = pd.read_csv(data_file)\n",
    "# Process type  ( Apartment: 0, Independent House: 1, Studio Apartment: 2, villa: 3 )\n",
    "# Process status ( Ready to move: 0, under Construction: 1 )\n",
    "for column in data:\n",
    "    if column in [\"bhk\",\"status\",\"type\",\"age\"]:\n",
    "        print(\"Column Name: \", column)\n",
    "        print(data[column].unique())\n",
    "        print(data[column].value_counts())"
   ],
   "id": "526a313c6a4b1c9f",
   "outputs": [
    {
     "name": "stdout",
     "output_type": "stream",
     "text": [
      "Column Name:  bhk\n",
      "[ 3  2  5  1  4  6  9  8 10  7]\n",
      "bhk\n",
      "2     31429\n",
      "1     24613\n",
      "3     15273\n",
      "4      3934\n",
      "5       606\n",
      "6       148\n",
      "7        16\n",
      "8         8\n",
      "10        6\n",
      "9         5\n",
      "Name: count, dtype: int64\n",
      "Column Name:  type\n",
      "['Apartment' 'Villa' 'Studio Apartment' 'Independent House' 'Penthouse']\n",
      "type\n",
      "Apartment            74854\n",
      "Studio Apartment       882\n",
      "Villa                  226\n",
      "Independent House       73\n",
      "Penthouse                3\n",
      "Name: count, dtype: int64\n",
      "Column Name:  status\n",
      "['Ready to move' 'Under Construction']\n",
      "status\n",
      "Ready to move         44982\n",
      "Under Construction    31056\n",
      "Name: count, dtype: int64\n",
      "Column Name:  age\n",
      "['New' 'Resale' 'Unknown']\n",
      "age\n",
      "New        38072\n",
      "Resale     23357\n",
      "Unknown    14609\n",
      "Name: count, dtype: int64\n"
     ]
    }
   ],
   "execution_count": 13
  },
  {
   "metadata": {
    "ExecuteTime": {
     "end_time": "2024-05-30T05:26:59.540969Z",
     "start_time": "2024-05-30T05:26:59.534963Z"
    }
   },
   "cell_type": "code",
   "source": [
    "def preprocessing(data: pd.DataFrame) -> pd.DataFrame:\n",
    "    for index in data.index:\n",
    "        price = data.loc[index, 'price']\n",
    "        price_unit = data.loc[index, 'price_unit']\n",
    "        # Process price\n",
    "        if price_unit == 'Cr':\n",
    "            data.loc[index, 'price_in_USD'] = (price * 10000000 * 0.012)\n",
    "        elif price_unit == 'L':\n",
    "            data.loc[index, 'price_in_USD'] = (price * 100000 * 0.012)\n",
    "    data.drop(['price_unit',\"price\"], axis = 1, inplace = True)\n",
    "    data = data.dropna()\n",
    "    return data\n"
   ],
   "id": "732ace87a890c2c5",
   "outputs": [],
   "execution_count": 14
  },
  {
   "metadata": {
    "ExecuteTime": {
     "end_time": "2024-05-30T05:27:07.810139Z",
     "start_time": "2024-05-30T05:26:59.540969Z"
    }
   },
   "cell_type": "code",
   "source": [
    "processed_data = preprocessing(data)\n",
    "for column in processed_data:\n",
    "    print(\"Column Name: \", column)\n",
    "    print(processed_data[column].unique())\n",
    "    print(processed_data[column].value_counts())"
   ],
   "id": "9b662e6d9124aa47",
   "outputs": [
    {
     "name": "stdout",
     "output_type": "stream",
     "text": [
      "Column Name:  bhk\n",
      "[ 3  2  5  1  4  6  9  8 10  7]\n",
      "bhk\n",
      "2     31429\n",
      "1     24613\n",
      "3     15273\n",
      "4      3934\n",
      "5       606\n",
      "6       148\n",
      "7        16\n",
      "8         8\n",
      "10        6\n",
      "9         5\n",
      "Name: count, dtype: int64\n",
      "Column Name:  type\n",
      "['Apartment' 'Villa' 'Studio Apartment' 'Independent House' 'Penthouse']\n",
      "type\n",
      "Apartment            74854\n",
      "Studio Apartment       882\n",
      "Villa                  226\n",
      "Independent House       73\n",
      "Penthouse                3\n",
      "Name: count, dtype: int64\n",
      "Column Name:  locality\n",
      "['Lak And Hanware The Residency Tower' 'Radheya Sai Enclave Building No 2'\n",
      " 'Romell Serene' ... 'Ahuja Prasadam Phase III' 'HBS Marineview'\n",
      " 'Hubtown Serene']\n",
      "locality\n",
      "Hiranandani Meadows                    861\n",
      "Sheth Avalon                           516\n",
      "T Bhimjyani The Verraton               499\n",
      "ACME Ozone Phase 2                     467\n",
      "Runwal Gardens                         389\n",
      "                                      ... \n",
      "HP Anton CHSL Rishab Anton               1\n",
      "Reputed Builder Shankar Heritage         1\n",
      "Reputed Builder Aishwarya Apartment      1\n",
      "Reputed Builder Vinit Tower              1\n",
      "Hubtown Serene                           1\n",
      "Name: count, Length: 9782, dtype: int64\n",
      "Column Name:  area\n",
      "[ 685  640  610 ... 1974 1634 3049]\n",
      "area\n",
      "650     1662\n",
      "1050    1381\n",
      "1100    1151\n",
      "1650    1041\n",
      "750      950\n",
      "        ... \n",
      "2369       1\n",
      "1945       1\n",
      "1442       1\n",
      "2672       1\n",
      "3049       1\n",
      "Name: count, Length: 2331, dtype: int64\n",
      "Column Name:  region\n",
      "['Andheri West' 'Naigaon East' 'Borivali West' 'Panvel' 'Mira Road East'\n",
      " 'Parel' 'Boisar' 'Santacruz East' 'Badlapur East' 'Fort' 'Badlapur West'\n",
      " 'Khopoli' 'Chembur' 'Jogeshwari West' 'Vasai' 'Kalamboli' 'Powai'\n",
      " 'Ghansoli' 'Thane West' 'Vikhroli' 'Bhiwandi' 'Airoli' 'Ambernath West'\n",
      " 'Borivali East' 'Virar' 'Kharghar' 'Ulwe' 'Kamothe' 'Jogeshwari East'\n",
      " 'Mulund West' 'Palghar' 'Goregaon West' 'Taloja' 'Rasayani'\n",
      " 'Ghatkopar East' 'Ulhasnagar' 'Dombivali' 'Kewale' 'Nala Sopara'\n",
      " 'Goregaon East' 'Kandivali East' 'Kurla' 'Andheri East' 'Dahisar'\n",
      " 'Karanjade' 'Mahim' 'Vashi' 'Malad West' 'Girgaon' 'Dadar West'\n",
      " 'Bandra West' 'Kandivali West' 'Kalyan West' 'Neral' 'Kalyan East'\n",
      " 'Karjat' 'Ghatkopar West' 'Dronagiri' 'Mulund East' 'Navade' 'Ambivali'\n",
      " 'Agripada' 'Owale' 'Ville Parle East' 'Kalwa' 'Khar' 'Santacruz West'\n",
      " 'Nerul' 'Kanjurmarg' 'Vangani' 'Bhayandar East' 'Seawoods' 'Sewri'\n",
      " 'Ambernath East' 'Nilje Gaon' 'Prabhadevi' 'Matunga' 'Lower Parel'\n",
      " 'Titwala' 'Shil Phata' 'Koper Khairane' 'Napeansea Road' 'Bhandup West'\n",
      " 'Koproli' 'Anjurdive' 'Wadala' 'Sion' 'Taloje' 'Cuffe Parade'\n",
      " 'Bhandup East' 'Byculla' 'Tardeo' 'Vasai West' 'Vasai east' 'Malad East'\n",
      " 'Colaba' 'Thane East' 'Nalasopara East' 'Deonar' 'Nahur East' 'Sanpada'\n",
      " 'Sector 21 Kamothe' 'Saphale' 'Kasheli' 'Juinagar' 'Worli' 'Panch Pakhdi'\n",
      " 'Mazagaon' 'Hiranandani Estates' 'Belapur' 'Vichumbe' 'Bandra East'\n",
      " 'Sector 17 Ulwe' 'Sector 23 Ulwe' 'Nalasopara West' 'Mahalaxmi'\n",
      " 'Sector 20 Kamothe' 'Dadar East' 'Sector 19 Kamothe' 'Shahapur'\n",
      " 'Sector 30 Kharghar' 'Asangaon' 'Vikroli East' 'Mira Road'\n",
      " 'Kanjurmarg East' 'Rambaug' 'Sector-12 Kamothe' 'Juhu' 'Ville Parle West'\n",
      " 'Mazgaon' 'Virar East' 'Khar West' 'Sector 8 New panvel' 'Rabale'\n",
      " 'Bhayandar West' 'Sector 20 Ulwe' 'Sector 22 Kamothe' 'Sector 21 Nerul'\n",
      " 'Bandra Kurla Complex' 'Sector 14 Vashi' 'Mumbai Central' 'Virar West'\n",
      " 'Sector 11 Koparkhairane' 'Unnat Nagar' 'Diva' 'Palava' 'Dombivali East'\n",
      " 'Sector-14 Koparkhairane' 'Greater Khanda' 'Sector-35D Kharghar' 'Umroli'\n",
      " 'Sector-9 Ulwe' 'Govandi' 'vile parle west' 'MATUNGA WEST'\n",
      " 'Sector-3 Ulwe' 'kasaradavali thane west' 'Kurla East'\n",
      " 'Pestom Sagar Colony' 'Sector 12 Kharghar' 'Police Colony' 'Dahisar West'\n",
      " 'Marine Lines' 'Sector 19 Kharghar' 'Kalher' 'Hindu Colony'\n",
      " 'Dahisar East' 'Sector 9 Vashi' 'Khardi' 'Babulnath Road'\n",
      " 'Sector 21 Kharghar' 'Dharavi' 'Vasind' 'Tilak Nagar' 'Ashok nagar'\n",
      " 'Antop Hill' 'Peddar Road' 'Kamathipura' 'Usarghar Gaon' 'Ambarnath'\n",
      " 'Patlipada' 'Vevoor' 'Shelu' 'Kurla West' 'Goregaon' 'Naupada' 'Bhoiwada'\n",
      " 'Sector 7 Kharghar' 'Roadpali' 'Sector-9 Kamothe' 'Borivali' 'Badlapur'\n",
      " 'Khanda Colony' 'Dombivli (West)' 'GTB Nagar' 'Bandra' 'kandivali'\n",
      " 'Mahavir Nagar' 'Churchgate' 'Pali Hill' 'Manpada' 'Sector-50 Seawoods'\n",
      " 'Uttan' 'Gauripada' 'Gandhar Nagar' 'Mahim West' 'Warai' 'mumbai'\n",
      " 'Khatiwali' 'Chandivali' 'Mumbra' 'Chembur East' 'Malabar Hill' 'sector'\n",
      " 'Uran' 'Manjarli' 'Ghodbunder Road' 'Mulund' 'Sector 18 Kharghar'\n",
      " 'Palidevad' 'Juhu Scheme' 'Adaigaon' 'Versova' 'Sector-4 New Panvel'\n",
      " 'Pen' 'Sector 6 Kamothe' 'Maneklal Estate' 'L I C Colony']\n",
      "region\n",
      "Thane West         14868\n",
      "Mira Road East      9902\n",
      "Dombivali           3041\n",
      "Kandivali East      2568\n",
      "Kharghar            2362\n",
      "                   ...  \n",
      "Police Colony          1\n",
      "GTB Nagar              1\n",
      "Bandra                 1\n",
      "Sector 14 Vashi        1\n",
      "Goregaon               1\n",
      "Name: count, Length: 228, dtype: int64\n",
      "Column Name:  status\n",
      "['Ready to move' 'Under Construction']\n",
      "status\n",
      "Ready to move         44982\n",
      "Under Construction    31056\n",
      "Name: count, dtype: int64\n",
      "Column Name:  age\n",
      "['New' 'Resale' 'Unknown']\n",
      "age\n",
      "New        38072\n",
      "Resale     23357\n",
      "Unknown    14609\n",
      "Name: count, dtype: int64\n",
      "Column Name:  price_in_USD\n",
      "[300000.  63012. 207600. ... 525600.   5388.   7800.]\n",
      "price_in_USD\n",
      "210000.0    972\n",
      "150000.0    948\n",
      "162000.0    854\n",
      "138000.0    846\n",
      "132000.0    839\n",
      "           ... \n",
      "79932.0       1\n",
      "46176.0       1\n",
      "119712.0      1\n",
      "80904.0       1\n",
      "7800.0        1\n",
      "Name: count, Length: 4839, dtype: int64\n"
     ]
    }
   ],
   "execution_count": 15
  },
  {
   "metadata": {
    "ExecuteTime": {
     "end_time": "2024-05-30T05:27:07.874571Z",
     "start_time": "2024-05-30T05:27:07.810139Z"
    }
   },
   "cell_type": "code",
   "source": [
    "from sklearn.preprocessing import LabelEncoder\n",
    "le = LabelEncoder()\n",
    "X = processed_data.drop(labels=\"price_in_USD\",axis=1)\n",
    "for column in X:\n",
    "    if column in [\"locality\",\"region\", \"status\", \"age\",\"type\"]:\n",
    "        X[column] = le.fit_transform(X[column])\n",
    "Y = processed_data[\"price_in_USD\"]\n",
    "print(X.shape)\n",
    "print(Y.shape)"
   ],
   "id": "6b59e0a7cc7b628",
   "outputs": [
    {
     "name": "stdout",
     "output_type": "stream",
     "text": [
      "(76038, 7)\n",
      "(76038,)\n"
     ]
    }
   ],
   "execution_count": 16
  },
  {
   "metadata": {
    "ExecuteTime": {
     "end_time": "2024-05-30T05:27:07.894488Z",
     "start_time": "2024-05-30T05:27:07.876023Z"
    }
   },
   "cell_type": "code",
   "source": [
    "from sklearn.model_selection import train_test_split\n",
    "X_hold, X_test, Y_hold, Y_test = train_test_split(X,Y,test_size=0.25,random_state=0)\n",
    "X_train, X_val, Y_train,Y_val = train_test_split(X_hold,Y_hold,test_size=0.25,random_state=0)"
   ],
   "id": "1abba800f23eda6",
   "outputs": [],
   "execution_count": 17
  },
  {
   "metadata": {
    "ExecuteTime": {
     "end_time": "2024-05-30T05:27:07.899210Z",
     "start_time": "2024-05-30T05:27:07.895492Z"
    }
   },
   "cell_type": "code",
   "source": [
    "# from sklearn.model_selection import validation_curve\n",
    "# \n",
    "# parameter_range = np.arange(1, 25, 1)\n",
    "# \n",
    "# # Calculate accuracy on training and test set using the\n",
    "# # gamma parameter with 4-fold cross validation\n",
    "# train_score, val_score = validation_curve(RandomForestRegressor(n_estimators=10, random_state=42), X_hold, Y_hold,\n",
    "#                                           param_name=\"max_depth\",\n",
    "#                                           param_range=parameter_range,\n",
    "#                                           cv=4, scoring=\"r2\")\n",
    "# \n",
    "# mean_train_score = np.mean(train_score, axis=1)\n",
    "# std_train_score = np.std(train_score, axis=1)\n",
    "# \n",
    "# mean_val_score = np.mean(val_score, axis=1)\n",
    "# std_val_score = np.std(val_score, axis=1)\n",
    "# \n",
    "# plt.plot(parameter_range, mean_train_score,\n",
    "#          label=\"Training Score\", color='b')\n",
    "# plt.plot(parameter_range, mean_val_score,\n",
    "#          label=\"Cross Validation Score\", color='g')\n",
    "# # Creating the plot\n",
    "# plt.title(\"Validation Curve with Random Forest Regressor\")\n",
    "# plt.xlabel(\"Max depth\")\n",
    "# plt.ylabel(\"R2 Score\")\n",
    "# plt.tight_layout()\n",
    "# plt.legend(loc='best')\n",
    "# plt.show()"
   ],
   "id": "3c5011ca7d4dd0b3",
   "outputs": [],
   "execution_count": 18
  },
  {
   "metadata": {
    "ExecuteTime": {
     "end_time": "2024-05-30T05:27:07.903491Z",
     "start_time": "2024-05-30T05:27:07.899717Z"
    }
   },
   "cell_type": "code",
   "source": [
    "# from sklearn.model_selection import validation_curve\n",
    "# \n",
    "# parameter_range = [\"squared_error\",\"absolute_error\",\"friedman_mse\", \"poisson\"]\n",
    "# \n",
    "# # Calculate accuracy on training and test set using the\n",
    "# # gamma parameter with 4-fold cross validation\n",
    "# train_score, val_score = validation_curve(RandomForestRegressor(n_estimators=10, max_depth=20, random_state=42), X_hold, Y_hold,\n",
    "#                                           param_name=\"criterion\",\n",
    "#                                           param_range=parameter_range,\n",
    "#                                           cv=4, scoring=\"r2\")\n",
    "# mean_train_score = np.mean(train_score, axis=1)\n",
    "# std_train_score = np.std(train_score, axis=1)\n",
    "# \n",
    "# mean_val_score = np.mean(val_score, axis=1)\n",
    "# std_val_score = np.std(val_score, axis=1)\n",
    "# \n",
    "# plt.plot(parameter_range, mean_train_score,\n",
    "#          label=\"Training Score\", color='b')\n",
    "# plt.plot(parameter_range, mean_val_score,\n",
    "#          label=\"Cross Validation Score\", color='g')\n",
    "# # Creating the plot\n",
    "# plt.title(\"Validation Curve with Random Forest Regressor\")\n",
    "# plt.xlabel(\"Criterion\")\n",
    "# plt.ylabel(\"R2 Score\")\n",
    "# plt.tight_layout()\n",
    "# plt.legend(loc='best')\n",
    "# plt.show()"
   ],
   "id": "df3143ac4bafdc0b",
   "outputs": [],
   "execution_count": 19
  },
  {
   "metadata": {
    "ExecuteTime": {
     "end_time": "2024-05-30T05:38:40.290259Z",
     "start_time": "2024-05-30T05:27:07.904872Z"
    }
   },
   "cell_type": "code",
   "source": [
    "from sklearn.model_selection import GridSearchCV\n",
    "\n",
    "param_grid = {'n_estimators': [100,200],'max_depth': np.arange(15, 30, 1),'max_features': ['auto', 'sqrt','log2']}\n",
    "def hypersearch(model, model_name, param_grid, X_train, Y_train, scoring='r2'):\n",
    "    # Hyperparameter tuning\n",
    "    rs = GridSearchCV(model, param_grid, cv=4, scoring=scoring, return_train_score=True)\n",
    "    rs.fit(X_train, Y_train)\n",
    "    best_model = rs.best_estimator_\n",
    "\n",
    "    #add the report about best hyperparameter of the model to dataframe\n",
    "    result = pd.DataFrame(rs.cv_results_)\n",
    "    result.sort_values('rank_test_score', inplace=True)\n",
    "    result = result[['params', 'mean_fit_time', 'mean_score_time', 'mean_test_score', 'mean_train_score']]\n",
    "    display(result)\n",
    "    \n",
    "    pickle.dump(best_model, open(model_name, 'wb'))\n",
    "    return best_model\n",
    "\n",
    "model = hypersearch(RandomForestRegressor(random_state=42), model_file, param_grid, X, Y)"
   ],
   "id": "893313f4bb7bf519",
   "outputs": [
    {
     "name": "stderr",
     "output_type": "stream",
     "text": [
      "D:\\Anaconda\\Lib\\site-packages\\sklearn\\ensemble\\_forest.py:413: FutureWarning: `max_features='auto'` has been deprecated in 1.1 and will be removed in 1.3. To keep the past behaviour, explicitly set `max_features=1.0` or remove this parameter as it is also the default value for RandomForestRegressors and ExtraTreesRegressors.\n",
      "  warn(\n"
     ]
    },
    {
     "data": {
      "text/plain": [
       "                                               params  mean_fit_time  \\\n",
       "73  {'criterion': 'squared_error', 'max_depth': 27...      47.992285   \n",
       "49  {'criterion': 'squared_error', 'max_depth': 23...      43.716674   \n",
       "79  {'criterion': 'squared_error', 'max_depth': 28...      47.811108   \n",
       "61  {'criterion': 'squared_error', 'max_depth': 25...      45.173832   \n",
       "55  {'criterion': 'squared_error', 'max_depth': 24...      45.146755   \n",
       "..                                                ...            ...   \n",
       "8   {'criterion': 'squared_error', 'max_depth': 16...       7.118382   \n",
       "5   {'criterion': 'squared_error', 'max_depth': 15...      12.713591   \n",
       "3   {'criterion': 'squared_error', 'max_depth': 15...      12.034420   \n",
       "4   {'criterion': 'squared_error', 'max_depth': 15...       6.507814   \n",
       "2   {'criterion': 'squared_error', 'max_depth': 15...       5.750759   \n",
       "\n",
       "    mean_score_time  mean_test_score  mean_train_score  \n",
       "73         0.973404         0.829248          0.981202  \n",
       "49         0.809380         0.828808          0.980197  \n",
       "79         0.992694         0.828584          0.981273  \n",
       "61         0.902795         0.828509          0.980847  \n",
       "55         0.880646         0.828222          0.980532  \n",
       "..              ...              ...               ...  \n",
       "8          0.260580         0.765543          0.941081  \n",
       "5          0.434082         0.760058          0.929660  \n",
       "3          0.477269         0.760058          0.929660  \n",
       "4          0.219064         0.758819          0.928550  \n",
       "2          0.207146         0.758819          0.928550  \n",
       "\n",
       "[90 rows x 5 columns]"
      ],
      "text/html": [
       "<div>\n",
       "<style scoped>\n",
       "    .dataframe tbody tr th:only-of-type {\n",
       "        vertical-align: middle;\n",
       "    }\n",
       "\n",
       "    .dataframe tbody tr th {\n",
       "        vertical-align: top;\n",
       "    }\n",
       "\n",
       "    .dataframe thead th {\n",
       "        text-align: right;\n",
       "    }\n",
       "</style>\n",
       "<table border=\"1\" class=\"dataframe\">\n",
       "  <thead>\n",
       "    <tr style=\"text-align: right;\">\n",
       "      <th></th>\n",
       "      <th>params</th>\n",
       "      <th>mean_fit_time</th>\n",
       "      <th>mean_score_time</th>\n",
       "      <th>mean_test_score</th>\n",
       "      <th>mean_train_score</th>\n",
       "    </tr>\n",
       "  </thead>\n",
       "  <tbody>\n",
       "    <tr>\n",
       "      <th>73</th>\n",
       "      <td>{'criterion': 'squared_error', 'max_depth': 27...</td>\n",
       "      <td>47.992285</td>\n",
       "      <td>0.973404</td>\n",
       "      <td>0.829248</td>\n",
       "      <td>0.981202</td>\n",
       "    </tr>\n",
       "    <tr>\n",
       "      <th>49</th>\n",
       "      <td>{'criterion': 'squared_error', 'max_depth': 23...</td>\n",
       "      <td>43.716674</td>\n",
       "      <td>0.809380</td>\n",
       "      <td>0.828808</td>\n",
       "      <td>0.980197</td>\n",
       "    </tr>\n",
       "    <tr>\n",
       "      <th>79</th>\n",
       "      <td>{'criterion': 'squared_error', 'max_depth': 28...</td>\n",
       "      <td>47.811108</td>\n",
       "      <td>0.992694</td>\n",
       "      <td>0.828584</td>\n",
       "      <td>0.981273</td>\n",
       "    </tr>\n",
       "    <tr>\n",
       "      <th>61</th>\n",
       "      <td>{'criterion': 'squared_error', 'max_depth': 25...</td>\n",
       "      <td>45.173832</td>\n",
       "      <td>0.902795</td>\n",
       "      <td>0.828509</td>\n",
       "      <td>0.980847</td>\n",
       "    </tr>\n",
       "    <tr>\n",
       "      <th>55</th>\n",
       "      <td>{'criterion': 'squared_error', 'max_depth': 24...</td>\n",
       "      <td>45.146755</td>\n",
       "      <td>0.880646</td>\n",
       "      <td>0.828222</td>\n",
       "      <td>0.980532</td>\n",
       "    </tr>\n",
       "    <tr>\n",
       "      <th>...</th>\n",
       "      <td>...</td>\n",
       "      <td>...</td>\n",
       "      <td>...</td>\n",
       "      <td>...</td>\n",
       "      <td>...</td>\n",
       "    </tr>\n",
       "    <tr>\n",
       "      <th>8</th>\n",
       "      <td>{'criterion': 'squared_error', 'max_depth': 16...</td>\n",
       "      <td>7.118382</td>\n",
       "      <td>0.260580</td>\n",
       "      <td>0.765543</td>\n",
       "      <td>0.941081</td>\n",
       "    </tr>\n",
       "    <tr>\n",
       "      <th>5</th>\n",
       "      <td>{'criterion': 'squared_error', 'max_depth': 15...</td>\n",
       "      <td>12.713591</td>\n",
       "      <td>0.434082</td>\n",
       "      <td>0.760058</td>\n",
       "      <td>0.929660</td>\n",
       "    </tr>\n",
       "    <tr>\n",
       "      <th>3</th>\n",
       "      <td>{'criterion': 'squared_error', 'max_depth': 15...</td>\n",
       "      <td>12.034420</td>\n",
       "      <td>0.477269</td>\n",
       "      <td>0.760058</td>\n",
       "      <td>0.929660</td>\n",
       "    </tr>\n",
       "    <tr>\n",
       "      <th>4</th>\n",
       "      <td>{'criterion': 'squared_error', 'max_depth': 15...</td>\n",
       "      <td>6.507814</td>\n",
       "      <td>0.219064</td>\n",
       "      <td>0.758819</td>\n",
       "      <td>0.928550</td>\n",
       "    </tr>\n",
       "    <tr>\n",
       "      <th>2</th>\n",
       "      <td>{'criterion': 'squared_error', 'max_depth': 15...</td>\n",
       "      <td>5.750759</td>\n",
       "      <td>0.207146</td>\n",
       "      <td>0.758819</td>\n",
       "      <td>0.928550</td>\n",
       "    </tr>\n",
       "  </tbody>\n",
       "</table>\n",
       "<p>90 rows × 5 columns</p>\n",
       "</div>"
      ]
     },
     "metadata": {},
     "output_type": "display_data"
    }
   ],
   "execution_count": 20
  },
  {
   "metadata": {
    "ExecuteTime": {
     "end_time": "2024-05-30T05:38:40.307352Z",
     "start_time": "2024-05-30T05:38:40.303016Z"
    }
   },
   "cell_type": "code",
   "source": [
    "# from sklearn.model_selection import learning_curve\n",
    "# \n",
    "# # Calculate accuracy on training and test set using the\n",
    "# # gamma parameter with 4-fold cross validation\n",
    "# train_sizes, train_score, val_score = learning_curve(RandomForestRegressor(n_estimators=10, random_state=42), X_hold, Y_hold,\n",
    "#                                           cv=4, train_sizes=np.linspace(0.1, 1.0, 10),scoring=\"r2\")\n",
    "# \n",
    "# train_score_mean = np.mean(train_score, axis=1)\n",
    "# train_score_std = np.std(train_score, axis=1)\n",
    "# \n",
    "# val_score_mean = np.mean(val_score, axis=1)\n",
    "# val_score_std = np.std(val_score, axis=1)\n",
    "# \n",
    "# plt.plot(train_sizes, train_score_mean,\n",
    "#          label=\"Training Score\", color='b')\n",
    "# plt.plot(train_sizes, val_score_mean,\n",
    "#          label=\"Cross Validation Score\", color='g')\n",
    "# # Creating the plot\n",
    "# plt.title(\"Learning Curve with Random Forest Regressor\")\n",
    "# plt.xlabel(\"Training examples\")\n",
    "# plt.ylabel(\"R2 Score\")\n",
    "# plt.tight_layout()\n",
    "# plt.legend(loc='best')\n",
    "# plt.show()"
   ],
   "id": "71cc1f21e61c48f",
   "outputs": [],
   "execution_count": 23
  },
  {
   "metadata": {
    "ExecuteTime": {
     "end_time": "2024-05-30T05:38:40.311945Z",
     "start_time": "2024-05-30T05:38:40.308716Z"
    }
   },
   "cell_type": "code",
   "source": [
    "# start = time.time()\n",
    "# # Create the model\n",
    "# model = RandomForestRegressor(n_estimators=10, random_state=42)\n",
    "# print(\"Start training...\")\n",
    "# model.fit(X_train, Y_train)\n",
    "# end = time.time()\n",
    "# print(\"Time execution : \", end - start)\n",
    "# pickle.dump(model, open(model_file, 'wb'))"
   ],
   "id": "ee94eacfc512905e",
   "outputs": [],
   "execution_count": 24
  },
  {
   "metadata": {
    "ExecuteTime": {
     "end_time": "2024-05-30T05:38:40.639159Z",
     "start_time": "2024-05-30T05:38:40.312964Z"
    }
   },
   "cell_type": "code",
   "source": "loaded_model = pickle.load(open(model_file, 'rb'))",
   "id": "c2b992b582280c7a",
   "outputs": [],
   "execution_count": 25
  },
  {
   "metadata": {
    "ExecuteTime": {
     "end_time": "2024-05-30T05:38:41.018381Z",
     "start_time": "2024-05-30T05:38:40.641111Z"
    }
   },
   "cell_type": "code",
   "source": [
    "feature_names = [f\"{column}\" for column in X_train]\n",
    "importances = loaded_model.feature_importances_\n",
    "forest_importances = pd.Series(importances, index=feature_names)\n",
    "std = np.std([tree.feature_importances_ for tree in loaded_model.estimators_], axis=0)\n",
    "sorted_importances = forest_importances.sort_values(ascending=False)\n",
    "fig, ax = plt.subplots()\n",
    "sorted_importances.plot.bar(yerr=std, ax=ax)\n",
    "ax.set_title(\"Feature importances using MDI\")\n",
    "ax.set_ylabel(\"Mean decrease in impurity\")\n",
    "fig.tight_layout()"
   ],
   "id": "338c8f13cbfc5364",
   "outputs": [
    {
     "data": {
      "text/plain": [
       "<Figure size 640x480 with 1 Axes>"
      ],
      "image/png": "[encoded data removed]"
     },
     "metadata": {},
     "output_type": "display_data"
    }
   ],
   "execution_count": 26
  },
  {
   "metadata": {
    "ExecuteTime": {
     "end_time": "2024-05-30T05:38:42.645535Z",
     "start_time": "2024-05-30T05:38:41.019747Z"
    }
   },
   "cell_type": "code",
   "source": [
    "#Make the predictions \n",
    "Y_pred = loaded_model.predict(X_test)\n",
    "pred_table = pd.DataFrame(data={\"actual value\":Y_test, \"predicted\":loaded_model.predict(X_test)})\n",
    "pred_table[\"difference\"] = pred_table[\"actual value\"] - pred_table[\"predicted\"]\n",
    "pred_table"
   ],
   "id": "58a09c965b647884",
   "outputs": [
    {
     "data": {
      "text/plain": [
       "       actual value      predicted    difference\n",
       "30699       99600.0   98878.058359    721.941641\n",
       "36534      186000.0  204766.833879 -18766.833879\n",
       "23586       39000.0   39796.740000   -796.740000\n",
       "11125      116400.0  123154.945714  -6754.945714\n",
       "54910      432000.0  472428.000000 -40428.000000\n",
       "...             ...            ...           ...\n",
       "64796      252000.0  229198.566761  22801.433239\n",
       "65343      390000.0  390000.000000      0.000000\n",
       "4066       360000.0  325250.182129  34749.817871\n",
       "25584      243600.0  259428.000000 -15828.000000\n",
       "11742      132000.0  128404.458163   3595.541837\n",
       "\n",
       "[19010 rows x 3 columns]"
      ],
      "text/html": [
       "<div>\n",
       "<style scoped>\n",
       "    .dataframe tbody tr th:only-of-type {\n",
       "        vertical-align: middle;\n",
       "    }\n",
       "\n",
       "    .dataframe tbody tr th {\n",
       "        vertical-align: top;\n",
       "    }\n",
       "\n",
       "    .dataframe thead th {\n",
       "        text-align: right;\n",
       "    }\n",
       "</style>\n",
       "<table border=\"1\" class=\"dataframe\">\n",
       "  <thead>\n",
       "    <tr style=\"text-align: right;\">\n",
       "      <th></th>\n",
       "      <th>actual value</th>\n",
       "      <th>predicted</th>\n",
       "      <th>difference</th>\n",
       "    </tr>\n",
       "  </thead>\n",
       "  <tbody>\n",
       "    <tr>\n",
       "      <th>30699</th>\n",
       "      <td>99600.0</td>\n",
       "      <td>98878.058359</td>\n",
       "      <td>721.941641</td>\n",
       "    </tr>\n",
       "    <tr>\n",
       "      <th>36534</th>\n",
       "      <td>186000.0</td>\n",
       "      <td>204766.833879</td>\n",
       "      <td>-18766.833879</td>\n",
       "    </tr>\n",
       "    <tr>\n",
       "      <th>23586</th>\n",
       "      <td>39000.0</td>\n",
       "      <td>39796.740000</td>\n",
       "      <td>-796.740000</td>\n",
       "    </tr>\n",
       "    <tr>\n",
       "      <th>11125</th>\n",
       "      <td>116400.0</td>\n",
       "      <td>123154.945714</td>\n",
       "      <td>-6754.945714</td>\n",
       "    </tr>\n",
       "    <tr>\n",
       "      <th>54910</th>\n",
       "      <td>432000.0</td>\n",
       "      <td>472428.000000</td>\n",
       "      <td>-40428.000000</td>\n",
       "    </tr>\n",
       "    <tr>\n",
       "      <th>...</th>\n",
       "      <td>...</td>\n",
       "      <td>...</td>\n",
       "      <td>...</td>\n",
       "    </tr>\n",
       "    <tr>\n",
       "      <th>64796</th>\n",
       "      <td>252000.0</td>\n",
       "      <td>229198.566761</td>\n",
       "      <td>22801.433239</td>\n",
       "    </tr>\n",
       "    <tr>\n",
       "      <th>65343</th>\n",
       "      <td>390000.0</td>\n",
       "      <td>390000.000000</td>\n",
       "      <td>0.000000</td>\n",
       "    </tr>\n",
       "    <tr>\n",
       "      <th>4066</th>\n",
       "      <td>360000.0</td>\n",
       "      <td>325250.182129</td>\n",
       "      <td>34749.817871</td>\n",
       "    </tr>\n",
       "    <tr>\n",
       "      <th>25584</th>\n",
       "      <td>243600.0</td>\n",
       "      <td>259428.000000</td>\n",
       "      <td>-15828.000000</td>\n",
       "    </tr>\n",
       "    <tr>\n",
       "      <th>11742</th>\n",
       "      <td>132000.0</td>\n",
       "      <td>128404.458163</td>\n",
       "      <td>3595.541837</td>\n",
       "    </tr>\n",
       "  </tbody>\n",
       "</table>\n",
       "<p>19010 rows × 3 columns</p>\n",
       "</div>"
      ]
     },
     "execution_count": 27,
     "metadata": {},
     "output_type": "execute_result"
    }
   ],
   "execution_count": 27
  },
  {
   "metadata": {
    "ExecuteTime": {
     "end_time": "2024-05-30T05:38:43.227770Z",
     "start_time": "2024-05-30T05:38:42.645535Z"
    }
   },
   "cell_type": "code",
   "source": [
    "# Assuming you have obtained Y_pred and Y_test from your model\n",
    "\n",
    "# Create a scatter plot or line plot\n",
    "# Scatter plot for Y_test (green)\n",
    "plt.scatter(Y_test, Y_test, c='green', marker='o', label='True Value', alpha=0.7)\n",
    "\n",
    "# Scatter plot for Y_pred (red)\n",
    "plt.scatter(Y_test, Y_pred, c='red', marker='x', label='Predicted Value', alpha=0.7)\n",
    "plt.plot([Y_test.min(), Y_test.max()], [Y_test.min(), Y_test.max()], 'r--')  # Diagonal line for reference\n",
    "plt.xlabel('Actual Values (Y_test)')\n",
    "plt.ylabel('Predicted Values (Y_pred)')\n",
    "plt.legend(fontsize=12)\n",
    "plt.title('Actual vs. Predicted House Prices using Random Forest Regressor')\n",
    "plt.grid(alpha=0.4)\n",
    "# Show the plot\n",
    "plt.show()"
   ],
   "id": "cfec037b4a161493",
   "outputs": [
    {
     "data": {
      "text/plain": [
       "<Figure size 640x480 with 1 Axes>"
      ],
      "image/png": "[encoded data removed]"
     },
     "metadata": {},
     "output_type": "display_data"
    }
   ],
   "execution_count": 28
  },
  {
   "metadata": {
    "ExecuteTime": {
     "end_time": "2024-05-30T05:38:46.422911Z",
     "start_time": "2024-05-30T05:38:43.227770Z"
    }
   },
   "cell_type": "code",
   "source": [
    "from sklearn.metrics import r2_score\n",
    "#Test the model\n",
    "pred_train = loaded_model.predict(X_train)\n",
    "pred_val = loaded_model.predict(X_val)\n",
    "pred_test = loaded_model.predict(X_test)\n",
    "train_accuracy = r2_score(pred_train, Y_train)\n",
    "val_accuracy = r2_score(pred_val, Y_val)\n",
    "test_accuracy = r2_score(pred_test, Y_test)\n",
    "print('Training accuracy: ',train_accuracy)\n",
    "print('Validation accuracy: ', val_accuracy)\n",
    "print('Test accuracy: ',test_accuracy)"
   ],
   "id": "25641b90fbbfcb23",
   "outputs": [
    {
     "name": "stdout",
     "output_type": "stream",
     "text": [
      "Training accuracy:  0.9816796798819434\n",
      "Validation accuracy:  0.9786242859655275\n",
      "Test accuracy:  0.9788384860230276\n"
     ]
    }
   ],
   "execution_count": 29
  },
  {
   "metadata": {
    "ExecuteTime": {
     "end_time": "2024-05-30T05:38:46.431098Z",
     "start_time": "2024-05-30T05:38:46.423915Z"
    }
   },
   "cell_type": "code",
   "source": [
    "from sklearn.metrics import mean_squared_error\n",
    "mse_train = mean_squared_error(Y_train, pred_train)\n",
    "mse_val = mean_squared_error(Y_val, pred_val)\n",
    "mse_test = mean_squared_error(Y_test, pred_test)\n",
    "print('Training mean squared error: ', mse_train)\n",
    "print('Validation mean squared error: ', mse_val)\n",
    "print('Test mean squared error: ', mse_test)"
   ],
   "id": "d84dec3e2610031b",
   "outputs": [
    {
     "name": "stdout",
     "output_type": "stream",
     "text": [
      "Training mean squared error:  1218630787.3887997\n",
      "Validation mean squared error:  1278108473.6955678\n",
      "Test mean squared error:  1303008854.9436853\n"
     ]
    }
   ],
   "execution_count": 30
  },
  {
   "metadata": {
    "ExecuteTime": {
     "end_time": "2024-05-30T05:38:46.445721Z",
     "start_time": "2024-05-30T05:38:46.432636Z"
    }
   },
   "cell_type": "code",
   "source": [
    "from sklearn.metrics import mean_absolute_error\n",
    "mae_train = mean_absolute_error(Y_train, pred_train)\n",
    "mae_val = mean_absolute_error(Y_val, pred_val)\n",
    "mae_test = mean_absolute_error(Y_test, pred_test)\n",
    "print('Training mean absolute error: ', mae_train)\n",
    "print('Validation mean absolute error: ', mae_val)\n",
    "print('Test mean absolute error: ', mae_test)"
   ],
   "id": "2a6ce0e7e7c49d63",
   "outputs": [
    {
     "name": "stdout",
     "output_type": "stream",
     "text": [
      "Training mean absolute error:  10781.39840512653\n",
      "Validation mean absolute error:  11048.369528392022\n",
      "Test mean absolute error:  11031.003905049241\n"
     ]
    }
   ],
   "execution_count": 31
  },
  {
   "metadata": {
    "ExecuteTime": {
     "end_time": "2024-05-30T05:38:46.450141Z",
     "start_time": "2024-05-30T05:38:46.447308Z"
    }
   },
   "cell_type": "code",
   "source": "",
   "id": "98bb89d4f4aa0983",
   "outputs": [],
   "execution_count": 31
  }
 ],
 "metadata": {
  "kernelspec": {
   "display_name": "Python 3",
   "language": "python",
   "name": "python3"
  },
  "language_info": {
   "codemirror_mode": {
    "name": "ipython",
    "version": 2
   },
   "file_extension": ".py",
   "mimetype": "text/x-python",
   "name": "python",
   "nbconvert_exporter": "python",
   "pygments_lexer": "ipython2",
   "version": "2.7.6"
  }
 },
 "nbformat": 4,
 "nbformat_minor": 5
}
